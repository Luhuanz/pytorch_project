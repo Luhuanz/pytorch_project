{
 "cells": [
  {
   "cell_type": "code",
   "execution_count": 2,
   "id": "1de5c27c",
   "metadata": {},
   "outputs": [],
   "source": [
    "import pandas as pd\n",
    "import numpy as np\n",
    "import matplotlib.pyplot as plt\n",
    "%matplotlib inline \n",
    "pd.options.display.max_rows = 400  # 设置pandas可以显示的行数和列数\n",
    "pd.options.display.max_columns = None \n",
    "import warnings\n",
    "warnings.filterwarnings(\"ignore\")"
   ]
  },
  {
   "cell_type": "markdown",
   "id": "d8f2cc78",
   "metadata": {},
   "source": [
    "# 1.读数据"
   ]
  },
  {
   "cell_type": "code",
   "execution_count": 5,
   "id": "389c3017",
   "metadata": {},
   "outputs": [
    {
     "data": {
      "text/html": [
       "<div>\n",
       "<style scoped>\n",
       "    .dataframe tbody tr th:only-of-type {\n",
       "        vertical-align: middle;\n",
       "    }\n",
       "\n",
       "    .dataframe tbody tr th {\n",
       "        vertical-align: top;\n",
       "    }\n",
       "\n",
       "    .dataframe thead th {\n",
       "        text-align: right;\n",
       "    }\n",
       "</style>\n",
       "<table border=\"1\" class=\"dataframe\">\n",
       "  <thead>\n",
       "    <tr style=\"text-align: right;\">\n",
       "      <th></th>\n",
       "      <th>date</th>\n",
       "      <th>company</th>\n",
       "      <th>price</th>\n",
       "    </tr>\n",
       "  </thead>\n",
       "  <tbody>\n",
       "    <tr>\n",
       "      <th>0</th>\n",
       "      <td>2012-05-18</td>\n",
       "      <td>FB</td>\n",
       "      <td>38.230000</td>\n",
       "    </tr>\n",
       "    <tr>\n",
       "      <th>1</th>\n",
       "      <td>2012-05-21</td>\n",
       "      <td>FB</td>\n",
       "      <td>34.029999</td>\n",
       "    </tr>\n",
       "  </tbody>\n",
       "</table>\n",
       "</div>"
      ],
      "text/plain": [
       "        date company      price\n",
       "0 2012-05-18      FB  38.230000\n",
       "1 2012-05-21      FB  34.029999"
      ]
     },
     "execution_count": 5,
     "metadata": {},
     "output_type": "execute_result"
    }
   ],
   "source": [
    "# date: 日期\n",
    "# company: 公司代码\n",
    "# price: 股价\n",
    "df_stock = pd.read_csv('stock_price.csv', parse_dates=['date'])  # date数据变成时间\n",
    "df_stock.head(2)"
   ]
  },
  {
   "cell_type": "code",
   "execution_count": 6,
   "id": "8fef4329",
   "metadata": {},
   "outputs": [
    {
     "name": "stdout",
     "output_type": "stream",
     "text": [
      "<class 'pandas.core.frame.DataFrame'>\n",
      "RangeIndex: 8398 entries, 0 to 8397\n",
      "Data columns (total 3 columns):\n",
      " #   Column   Non-Null Count  Dtype         \n",
      "---  ------   --------------  -----         \n",
      " 0   date     8398 non-null   datetime64[ns]\n",
      " 1   company  8398 non-null   object        \n",
      " 2   price    8398 non-null   float64       \n",
      "dtypes: datetime64[ns](1), float64(1), object(1)\n",
      "memory usage: 197.0+ KB\n"
     ]
    }
   ],
   "source": [
    "df_stock.info()"
   ]
  },
  {
   "cell_type": "code",
   "execution_count": 12,
   "id": "c0aa4ccb",
   "metadata": {},
   "outputs": [
    {
     "data": {
      "text/plain": [
       "date        company  price     \n",
       "2012-05-18  FB       38.230000     1\n",
       "2020-01-22  FB       221.320007    1\n",
       "2020-01-21  TWTR     34.090000     1\n",
       "            SNAP     19.000000     1\n",
       "            PINS     22.299999     1\n",
       "                                  ..\n",
       "2017-06-13  FB       150.679993    1\n",
       "            ETSY     13.640000     1\n",
       "2017-06-12  TWTR     17.040001     1\n",
       "            SNAP     18.200001     1\n",
       "2022-04-06  TWTR     50.770000     1\n",
       "Length: 8398, dtype: int64"
      ]
     },
     "execution_count": 12,
     "metadata": {},
     "output_type": "execute_result"
    }
   ],
   "source": [
    "df_stock.value_counts(\n",
    ")"
   ]
  },
  {
   "cell_type": "markdown",
   "id": "da90c4f9",
   "metadata": {},
   "source": [
    "# 2.  时间序列可视化"
   ]
  },
  {
   "cell_type": "markdown",
   "id": "fb2c4f31",
   "metadata": {},
   "source": [
    "## 1. 全时序图"
   ]
  },
  {
   "cell_type": "code",
   "execution_count": 13,
   "id": "a46c4abc",
   "metadata": {},
   "outputs": [],
   "source": [
    "df = df_stock[ df_stock['company']=='FB' ].sort_values('date')\n"
   ]
  },
  {
   "cell_type": "code",
   "execution_count": 14,
   "id": "7246037d",
   "metadata": {},
   "outputs": [
    {
     "data": {
      "text/html": [
       "<div>\n",
       "<style scoped>\n",
       "    .dataframe tbody tr th:only-of-type {\n",
       "        vertical-align: middle;\n",
       "    }\n",
       "\n",
       "    .dataframe tbody tr th {\n",
       "        vertical-align: top;\n",
       "    }\n",
       "\n",
       "    .dataframe thead th {\n",
       "        text-align: right;\n",
       "    }\n",
       "</style>\n",
       "<table border=\"1\" class=\"dataframe\">\n",
       "  <thead>\n",
       "    <tr style=\"text-align: right;\">\n",
       "      <th></th>\n",
       "      <th>date</th>\n",
       "      <th>company</th>\n",
       "      <th>price</th>\n",
       "    </tr>\n",
       "  </thead>\n",
       "  <tbody>\n",
       "    <tr>\n",
       "      <th>0</th>\n",
       "      <td>2012-05-18</td>\n",
       "      <td>FB</td>\n",
       "      <td>38.230000</td>\n",
       "    </tr>\n",
       "    <tr>\n",
       "      <th>1</th>\n",
       "      <td>2012-05-21</td>\n",
       "      <td>FB</td>\n",
       "      <td>34.029999</td>\n",
       "    </tr>\n",
       "    <tr>\n",
       "      <th>2</th>\n",
       "      <td>2012-05-22</td>\n",
       "      <td>FB</td>\n",
       "      <td>31.000000</td>\n",
       "    </tr>\n",
       "    <tr>\n",
       "      <th>3</th>\n",
       "      <td>2012-05-23</td>\n",
       "      <td>FB</td>\n",
       "      <td>32.000000</td>\n",
       "    </tr>\n",
       "    <tr>\n",
       "      <th>4</th>\n",
       "      <td>2012-05-24</td>\n",
       "      <td>FB</td>\n",
       "      <td>33.029999</td>\n",
       "    </tr>\n",
       "    <tr>\n",
       "      <th>...</th>\n",
       "      <td>...</td>\n",
       "      <td>...</td>\n",
       "      <td>...</td>\n",
       "    </tr>\n",
       "    <tr>\n",
       "      <th>8373</th>\n",
       "      <td>2022-03-31</td>\n",
       "      <td>FB</td>\n",
       "      <td>222.360001</td>\n",
       "    </tr>\n",
       "    <tr>\n",
       "      <th>8378</th>\n",
       "      <td>2022-04-01</td>\n",
       "      <td>FB</td>\n",
       "      <td>224.850006</td>\n",
       "    </tr>\n",
       "    <tr>\n",
       "      <th>8383</th>\n",
       "      <td>2022-04-04</td>\n",
       "      <td>FB</td>\n",
       "      <td>233.889999</td>\n",
       "    </tr>\n",
       "    <tr>\n",
       "      <th>8388</th>\n",
       "      <td>2022-04-05</td>\n",
       "      <td>FB</td>\n",
       "      <td>231.839996</td>\n",
       "    </tr>\n",
       "    <tr>\n",
       "      <th>8393</th>\n",
       "      <td>2022-04-06</td>\n",
       "      <td>FB</td>\n",
       "      <td>223.300003</td>\n",
       "    </tr>\n",
       "  </tbody>\n",
       "</table>\n",
       "<p>2488 rows × 3 columns</p>\n",
       "</div>"
      ],
      "text/plain": [
       "           date company       price\n",
       "0    2012-05-18      FB   38.230000\n",
       "1    2012-05-21      FB   34.029999\n",
       "2    2012-05-22      FB   31.000000\n",
       "3    2012-05-23      FB   32.000000\n",
       "4    2012-05-24      FB   33.029999\n",
       "...         ...     ...         ...\n",
       "8373 2022-03-31      FB  222.360001\n",
       "8378 2022-04-01      FB  224.850006\n",
       "8383 2022-04-04      FB  233.889999\n",
       "8388 2022-04-05      FB  231.839996\n",
       "8393 2022-04-06      FB  223.300003\n",
       "\n",
       "[2488 rows x 3 columns]"
      ]
     },
     "execution_count": 14,
     "metadata": {},
     "output_type": "execute_result"
    }
   ],
   "source": [
    "df"
   ]
  },
  {
   "cell_type": "code",
   "execution_count": 18,
   "id": "c8478631",
   "metadata": {},
   "outputs": [
    {
     "data": {
      "text/plain": [
       "(array([14975., 15340., 15706., 16071., 16436., 16801., 17167., 17532.,\n",
       "        17897., 18262., 18628., 18993.]),\n",
       " [Text(0, 0, ''),\n",
       "  Text(0, 0, ''),\n",
       "  Text(0, 0, ''),\n",
       "  Text(0, 0, ''),\n",
       "  Text(0, 0, ''),\n",
       "  Text(0, 0, ''),\n",
       "  Text(0, 0, ''),\n",
       "  Text(0, 0, ''),\n",
       "  Text(0, 0, ''),\n",
       "  Text(0, 0, ''),\n",
       "  Text(0, 0, ''),\n",
       "  Text(0, 0, '')])"
      ]
     },
     "execution_count": 18,
     "metadata": {},
     "output_type": "execute_result"
    },
    {
     "data": {
      "image/png": "[encoded data removed]",
      "text/plain": [
       "<Figure size 432x288 with 1 Axes>"
      ]
     },
     "metadata": {
      "needs_background": "light"
     },
     "output_type": "display_data"
    }
   ],
   "source": [
    "plt.plot( df['date'], df['price'],'.-' )\n",
    "plt.xticks(rotation=90)"
   ]
  },
  {
   "cell_type": "code",
   "execution_count": 17,
   "id": "e83c9f0e",
   "metadata": {},
   "outputs": [
    {
     "data": {
      "text/plain": [
       "0      2012-05-18\n",
       "1      2012-05-21\n",
       "2      2012-05-22\n",
       "3      2012-05-23\n",
       "4      2012-05-24\n",
       "          ...    \n",
       "8373   2022-03-31\n",
       "8378   2022-04-01\n",
       "8383   2022-04-04\n",
       "8388   2022-04-05\n",
       "8393   2022-04-06\n",
       "Name: date, Length: 2488, dtype: datetime64[ns]"
      ]
     },
     "execution_count": 17,
     "metadata": {},
     "output_type": "execute_result"
    }
   ],
   "source": [
    "df['date']"
   ]
  },
  {
   "cell_type": "markdown",
   "id": "9c209789",
   "metadata": {},
   "source": [
    "### 2.1局部时序图"
   ]
  },
  {
   "cell_type": "code",
   "execution_count": 19,
   "id": "a9c8c259",
   "metadata": {},
   "outputs": [
    {
     "data": {
      "image/png": "[encoded data removed]",
      "text/plain": [
       "<Figure size 432x288 with 1 Axes>"
      ]
     },
     "metadata": {
      "needs_background": "light"
     },
     "output_type": "display_data"
    }
   ],
   "source": [
    "df = df_stock[ (df_stock['company']=='FB') &(df_stock['date']>='2020-01-01') & (df_stock['date']<='2021-12-31')].sort_values('date')\n",
    "plt.plot( df['date'], df['price'],'.-' )\n",
    "plt.xticks(rotation=90)\n",
    "plt.show()"
   ]
  },
  {
   "cell_type": "markdown",
   "id": "7ffcbd7f",
   "metadata": {},
   "source": [
    "结论：FB的股价总体呈现上市的趋势，局部有波动"
   ]
  },
  {
   "cell_type": "markdown",
   "id": "044c2c62",
   "metadata": {},
   "source": [
    "#### 例1"
   ]
  },
  {
   "cell_type": "code",
   "execution_count": 21,
   "id": "e31849cc",
   "metadata": {},
   "outputs": [
    {
     "data": {
      "text/html": [
       "<div>\n",
       "<style scoped>\n",
       "    .dataframe tbody tr th:only-of-type {\n",
       "        vertical-align: middle;\n",
       "    }\n",
       "\n",
       "    .dataframe tbody tr th {\n",
       "        vertical-align: top;\n",
       "    }\n",
       "\n",
       "    .dataframe thead th {\n",
       "        text-align: right;\n",
       "    }\n",
       "</style>\n",
       "<table border=\"1\" class=\"dataframe\">\n",
       "  <thead>\n",
       "    <tr style=\"text-align: right;\">\n",
       "      <th></th>\n",
       "      <th>store</th>\n",
       "      <th>dept</th>\n",
       "      <th>week</th>\n",
       "      <th>sales</th>\n",
       "    </tr>\n",
       "  </thead>\n",
       "  <tbody>\n",
       "    <tr>\n",
       "      <th>0</th>\n",
       "      <td>1</td>\n",
       "      <td>1</td>\n",
       "      <td>2010-02-01</td>\n",
       "      <td>24924.50</td>\n",
       "    </tr>\n",
       "    <tr>\n",
       "      <th>1</th>\n",
       "      <td>1</td>\n",
       "      <td>1</td>\n",
       "      <td>2010-02-08</td>\n",
       "      <td>46039.49</td>\n",
       "    </tr>\n",
       "  </tbody>\n",
       "</table>\n",
       "</div>"
      ],
      "text/plain": [
       "   store  dept       week     sales\n",
       "0      1     1 2010-02-01  24924.50\n",
       "1      1     1 2010-02-08  46039.49"
      ]
     },
     "execution_count": 21,
     "metadata": {},
     "output_type": "execute_result"
    }
   ],
   "source": [
    "# store:门店编号\n",
    "# dept: 商品部门编号\n",
    "# week: 每周周一的日期 \n",
    "# sales: 销售金额\n",
    "df_sales = pd.read_csv('store_sales.csv', parse_dates=['week']) # week列变成时间\n",
    "df_sales.head(2)"
   ]
  },
  {
   "cell_type": "code",
   "execution_count": 22,
   "id": "9a4f348b",
   "metadata": {},
   "outputs": [
    {
     "name": "stdout",
     "output_type": "stream",
     "text": [
      "<class 'pandas.core.frame.DataFrame'>\n",
      "RangeIndex: 421570 entries, 0 to 421569\n",
      "Data columns (total 4 columns):\n",
      " #   Column  Non-Null Count   Dtype         \n",
      "---  ------  --------------   -----         \n",
      " 0   store   421570 non-null  int64         \n",
      " 1   dept    421570 non-null  int64         \n",
      " 2   week    421570 non-null  datetime64[ns]\n",
      " 3   sales   421570 non-null  float64       \n",
      "dtypes: datetime64[ns](1), float64(1), int64(2)\n",
      "memory usage: 12.9 MB\n"
     ]
    }
   ],
   "source": [
    "df_sales.info()\n"
   ]
  },
  {
   "cell_type": "code",
   "execution_count": 23,
   "id": "c03f7c1b",
   "metadata": {},
   "outputs": [],
   "source": [
    "### 销售数据， 以1号店的1号部门为例\n",
    "# 全时序图\n",
    "df_ = df_sales[ (df_sales['store']==1) & (df_sales['dept']==1)].sort_values('week')   #sort_values按照'week'列 排序从小到大"
   ]
  },
  {
   "cell_type": "code",
   "execution_count": 27,
   "id": "9bc0ad82",
   "metadata": {},
   "outputs": [
    {
     "data": {
      "image/png": "[encoded data removed]",
      "text/plain": [
       "<Figure size 432x288 with 1 Axes>"
      ]
     },
     "metadata": {
      "needs_background": "light"
     },
     "output_type": "display_data"
    }
   ],
   "source": [
    "df_\n",
    "plt.plot( df_['week'], df_['sales'],'.-' )\n",
    "plt.xticks(rotation=90)\n",
    "plt.show()"
   ]
  },
  {
   "cell_type": "code",
   "execution_count": 26,
   "id": "1847a987",
   "metadata": {},
   "outputs": [
    {
     "data": {
      "text/html": [
       "<div>\n",
       "<style scoped>\n",
       "    .dataframe tbody tr th:only-of-type {\n",
       "        vertical-align: middle;\n",
       "    }\n",
       "\n",
       "    .dataframe tbody tr th {\n",
       "        vertical-align: top;\n",
       "    }\n",
       "\n",
       "    .dataframe thead th {\n",
       "        text-align: right;\n",
       "    }\n",
       "</style>\n",
       "<table border=\"1\" class=\"dataframe\">\n",
       "  <thead>\n",
       "    <tr style=\"text-align: right;\">\n",
       "      <th></th>\n",
       "      <th>store</th>\n",
       "      <th>dept</th>\n",
       "      <th>week</th>\n",
       "      <th>sales</th>\n",
       "    </tr>\n",
       "  </thead>\n",
       "  <tbody>\n",
       "    <tr>\n",
       "      <th>9</th>\n",
       "      <td>1</td>\n",
       "      <td>1</td>\n",
       "      <td>2010-04-05</td>\n",
       "      <td>42960.91</td>\n",
       "    </tr>\n",
       "    <tr>\n",
       "      <th>10</th>\n",
       "      <td>1</td>\n",
       "      <td>1</td>\n",
       "      <td>2010-04-12</td>\n",
       "      <td>17596.96</td>\n",
       "    </tr>\n",
       "  </tbody>\n",
       "</table>\n",
       "</div>"
      ],
      "text/plain": [
       "    store  dept       week     sales\n",
       "9       1     1 2010-04-05  42960.91\n",
       "10      1     1 2010-04-12  17596.96"
      ]
     },
     "execution_count": 26,
     "metadata": {},
     "output_type": "execute_result"
    }
   ],
   "source": [
    "# 部分时序图\n",
    "df__=df_sales[(df_sales['store']==1)&(df_sales['dept']==1)&(df_sales['week']>='2010-04-05')&(df_sales['week']<='2010-04-12')].sort_values('week')\n",
    "df__\n",
    "# plt.plot(df__[week])"
   ]
  },
  {
   "cell_type": "markdown",
   "id": "3c1dde1a",
   "metadata": {},
   "source": [
    "## 2.3 季节性时序图 (周期性时序图)"
   ]
  },
  {
   "cell_type": "code",
   "execution_count": 28,
   "id": "adf65a18",
   "metadata": {},
   "outputs": [],
   "source": [
    "# 以1号店1号部门的销售数据为例\n",
    "df = df_sales[ (df_sales['store']==1) &(df_sales['dept']==1)].sort_values('week')\n",
    "#计算每周属于哪一年\n",
    "df['year'] = df['week'].dt.year\n",
    "#计算每周为一年当中的第几周\n",
    "df['week_of_year'] = df['week'].dt.weekofyear"
   ]
  },
  {
   "cell_type": "code",
   "execution_count": 30,
   "id": "01f57968",
   "metadata": {},
   "outputs": [
    {
     "data": {
      "text/html": [
       "<div>\n",
       "<style scoped>\n",
       "    .dataframe tbody tr th:only-of-type {\n",
       "        vertical-align: middle;\n",
       "    }\n",
       "\n",
       "    .dataframe tbody tr th {\n",
       "        vertical-align: top;\n",
       "    }\n",
       "\n",
       "    .dataframe thead th {\n",
       "        text-align: right;\n",
       "    }\n",
       "</style>\n",
       "<table border=\"1\" class=\"dataframe\">\n",
       "  <thead>\n",
       "    <tr style=\"text-align: right;\">\n",
       "      <th></th>\n",
       "      <th>store</th>\n",
       "      <th>dept</th>\n",
       "      <th>week</th>\n",
       "      <th>sales</th>\n",
       "      <th>year</th>\n",
       "      <th>week_of_year</th>\n",
       "    </tr>\n",
       "  </thead>\n",
       "  <tbody>\n",
       "    <tr>\n",
       "      <th>0</th>\n",
       "      <td>1</td>\n",
       "      <td>1</td>\n",
       "      <td>2010-02-01</td>\n",
       "      <td>24924.50</td>\n",
       "      <td>2010</td>\n",
       "      <td>5</td>\n",
       "    </tr>\n",
       "    <tr>\n",
       "      <th>1</th>\n",
       "      <td>1</td>\n",
       "      <td>1</td>\n",
       "      <td>2010-02-08</td>\n",
       "      <td>46039.49</td>\n",
       "      <td>2010</td>\n",
       "      <td>6</td>\n",
       "    </tr>\n",
       "    <tr>\n",
       "      <th>2</th>\n",
       "      <td>1</td>\n",
       "      <td>1</td>\n",
       "      <td>2010-02-15</td>\n",
       "      <td>41595.55</td>\n",
       "      <td>2010</td>\n",
       "      <td>7</td>\n",
       "    </tr>\n",
       "    <tr>\n",
       "      <th>3</th>\n",
       "      <td>1</td>\n",
       "      <td>1</td>\n",
       "      <td>2010-02-22</td>\n",
       "      <td>19403.54</td>\n",
       "      <td>2010</td>\n",
       "      <td>8</td>\n",
       "    </tr>\n",
       "    <tr>\n",
       "      <th>4</th>\n",
       "      <td>1</td>\n",
       "      <td>1</td>\n",
       "      <td>2010-03-01</td>\n",
       "      <td>21827.90</td>\n",
       "      <td>2010</td>\n",
       "      <td>9</td>\n",
       "    </tr>\n",
       "  </tbody>\n",
       "</table>\n",
       "</div>"
      ],
      "text/plain": [
       "   store  dept       week     sales  year  week_of_year\n",
       "0      1     1 2010-02-01  24924.50  2010             5\n",
       "1      1     1 2010-02-08  46039.49  2010             6\n",
       "2      1     1 2010-02-15  41595.55  2010             7\n",
       "3      1     1 2010-02-22  19403.54  2010             8\n",
       "4      1     1 2010-03-01  21827.90  2010             9"
      ]
     },
     "execution_count": 30,
     "metadata": {},
     "output_type": "execute_result"
    }
   ],
   "source": [
    "df.head()"
   ]
  },
  {
   "cell_type": "code",
   "execution_count": 33,
   "id": "0921e4b6",
   "metadata": {},
   "outputs": [
    {
     "data": {
      "text/plain": [
       "array([2010, 2011, 2012], dtype=int64)"
      ]
     },
     "execution_count": 33,
     "metadata": {},
     "output_type": "execute_result"
    }
   ],
   "source": [
    "df['year'].unique()"
   ]
  },
  {
   "cell_type": "code",
   "execution_count": 32,
   "id": "0d918522",
   "metadata": {},
   "outputs": [
    {
     "data": {
      "image/png": "[encoded data removed]",
      "text/plain": [
       "<Figure size 432x288 with 1 Axes>"
      ]
     },
     "metadata": {
      "needs_background": "light"
     },
     "output_type": "display_data"
    }
   ],
   "source": [
    "for year in df['year'].unique():\n",
    "    tmp_df = df[ df['year']==year ]\n",
    "    plt.plot( tmp_df['week_of_year'], tmp_df['sales'],'.-', label=str(year) )\n",
    "plt.legend()\n",
    "plt.show()"
   ]
  },
  {
   "cell_type": "markdown",
   "id": "c5019da4",
   "metadata": {},
   "source": [
    "结论： \n",
    "1. 每年19周-43周（4-10月）是销售的低估\n",
    "2. 每年44周-次年18周（10-4月）疑似有促销活动\n",
    "3. 趋势上11年略低于10和12年"
   ]
  },
  {
   "cell_type": "markdown",
   "id": "73e920f1",
   "metadata": {},
   "source": [
    "### 2.4季节性箱线图(周期性箱线图)"
   ]
  },
  {
   "cell_type": "code",
   "execution_count": 34,
   "id": "c2ca6a3a",
   "metadata": {},
   "outputs": [
    {
     "data": {
      "text/html": [
       "<div>\n",
       "<style scoped>\n",
       "    .dataframe tbody tr th:only-of-type {\n",
       "        vertical-align: middle;\n",
       "    }\n",
       "\n",
       "    .dataframe tbody tr th {\n",
       "        vertical-align: top;\n",
       "    }\n",
       "\n",
       "    .dataframe thead th {\n",
       "        text-align: right;\n",
       "    }\n",
       "</style>\n",
       "<table border=\"1\" class=\"dataframe\">\n",
       "  <thead>\n",
       "    <tr style=\"text-align: right;\">\n",
       "      <th></th>\n",
       "      <th>store</th>\n",
       "      <th>dept</th>\n",
       "      <th>week</th>\n",
       "      <th>sales</th>\n",
       "      <th>year</th>\n",
       "      <th>week_of_year</th>\n",
       "    </tr>\n",
       "  </thead>\n",
       "  <tbody>\n",
       "    <tr>\n",
       "      <th>0</th>\n",
       "      <td>1</td>\n",
       "      <td>1</td>\n",
       "      <td>2010-02-01</td>\n",
       "      <td>24924.50</td>\n",
       "      <td>2010</td>\n",
       "      <td>5</td>\n",
       "    </tr>\n",
       "    <tr>\n",
       "      <th>1</th>\n",
       "      <td>1</td>\n",
       "      <td>1</td>\n",
       "      <td>2010-02-08</td>\n",
       "      <td>46039.49</td>\n",
       "      <td>2010</td>\n",
       "      <td>6</td>\n",
       "    </tr>\n",
       "    <tr>\n",
       "      <th>2</th>\n",
       "      <td>1</td>\n",
       "      <td>1</td>\n",
       "      <td>2010-02-15</td>\n",
       "      <td>41595.55</td>\n",
       "      <td>2010</td>\n",
       "      <td>7</td>\n",
       "    </tr>\n",
       "    <tr>\n",
       "      <th>3</th>\n",
       "      <td>1</td>\n",
       "      <td>1</td>\n",
       "      <td>2010-02-22</td>\n",
       "      <td>19403.54</td>\n",
       "      <td>2010</td>\n",
       "      <td>8</td>\n",
       "    </tr>\n",
       "    <tr>\n",
       "      <th>4</th>\n",
       "      <td>1</td>\n",
       "      <td>1</td>\n",
       "      <td>2010-03-01</td>\n",
       "      <td>21827.90</td>\n",
       "      <td>2010</td>\n",
       "      <td>9</td>\n",
       "    </tr>\n",
       "  </tbody>\n",
       "</table>\n",
       "</div>"
      ],
      "text/plain": [
       "   store  dept       week     sales  year  week_of_year\n",
       "0      1     1 2010-02-01  24924.50  2010             5\n",
       "1      1     1 2010-02-08  46039.49  2010             6\n",
       "2      1     1 2010-02-15  41595.55  2010             7\n",
       "3      1     1 2010-02-22  19403.54  2010             8\n",
       "4      1     1 2010-03-01  21827.90  2010             9"
      ]
     },
     "execution_count": 34,
     "metadata": {},
     "output_type": "execute_result"
    }
   ],
   "source": [
    "df.head()"
   ]
  },
  {
   "cell_type": "code",
   "execution_count": 37,
   "id": "faa73e98",
   "metadata": {},
   "outputs": [],
   "source": [
    "#将一年当中同一周的数据汇集到一个list\n",
    "df_boxplot = df.groupby(['week_of_year'])['sales'].agg(list).reset_index()"
   ]
  },
  {
   "cell_type": "code",
   "execution_count": 39,
   "id": "2462344e",
   "metadata": {},
   "outputs": [
    {
     "data": {
      "text/html": [
       "<div>\n",
       "<style scoped>\n",
       "    .dataframe tbody tr th:only-of-type {\n",
       "        vertical-align: middle;\n",
       "    }\n",
       "\n",
       "    .dataframe tbody tr th {\n",
       "        vertical-align: top;\n",
       "    }\n",
       "\n",
       "    .dataframe thead th {\n",
       "        text-align: right;\n",
       "    }\n",
       "</style>\n",
       "<table border=\"1\" class=\"dataframe\">\n",
       "  <thead>\n",
       "    <tr style=\"text-align: right;\">\n",
       "      <th></th>\n",
       "      <th>week_of_year</th>\n",
       "      <th>sales</th>\n",
       "    </tr>\n",
       "  </thead>\n",
       "  <tbody>\n",
       "    <tr>\n",
       "      <th>0</th>\n",
       "      <td>1</td>\n",
       "      <td>[15984.24, 16567.69]</td>\n",
       "    </tr>\n",
       "    <tr>\n",
       "      <th>1</th>\n",
       "      <td>2</td>\n",
       "      <td>[17359.7, 16894.4]</td>\n",
       "    </tr>\n",
       "    <tr>\n",
       "      <th>2</th>\n",
       "      <td>3</td>\n",
       "      <td>[17341.47, 18365.1]</td>\n",
       "    </tr>\n",
       "    <tr>\n",
       "      <th>3</th>\n",
       "      <td>4</td>\n",
       "      <td>[18461.18, 18378.16]</td>\n",
       "    </tr>\n",
       "    <tr>\n",
       "      <th>4</th>\n",
       "      <td>5</td>\n",
       "      <td>[24924.5, 21665.76, 23510.49]</td>\n",
       "    </tr>\n",
       "  </tbody>\n",
       "</table>\n",
       "</div>"
      ],
      "text/plain": [
       "   week_of_year                          sales\n",
       "0             1           [15984.24, 16567.69]\n",
       "1             2             [17359.7, 16894.4]\n",
       "2             3            [17341.47, 18365.1]\n",
       "3             4           [18461.18, 18378.16]\n",
       "4             5  [24924.5, 21665.76, 23510.49]"
      ]
     },
     "execution_count": 39,
     "metadata": {},
     "output_type": "execute_result"
    }
   ],
   "source": [
    "df_boxplot.head()"
   ]
  },
  {
   "cell_type": "code",
   "execution_count": 40,
   "id": "03ee483e",
   "metadata": {},
   "outputs": [
    {
     "data": {
      "image/png": "[encoded data removed]",
      "text/plain": [
       "<Figure size 432x288 with 1 Axes>"
      ]
     },
     "metadata": {
      "needs_background": "light"
     },
     "output_type": "display_data"
    }
   ],
   "source": [
    "plt.boxplot( df_boxplot['sales'].values, labels=df_boxplot['week_of_year'].values )\n",
    "plt.xticks(rotation=90)\n",
    "plt.show()"
   ]
  },
  {
   "cell_type": "code",
   "execution_count": 41,
   "id": "a0c7def0",
   "metadata": {},
   "outputs": [
    {
     "data": {
      "text/html": [
       "<div>\n",
       "<style scoped>\n",
       "    .dataframe tbody tr th:only-of-type {\n",
       "        vertical-align: middle;\n",
       "    }\n",
       "\n",
       "    .dataframe tbody tr th {\n",
       "        vertical-align: top;\n",
       "    }\n",
       "\n",
       "    .dataframe thead th {\n",
       "        text-align: right;\n",
       "    }\n",
       "</style>\n",
       "<table border=\"1\" class=\"dataframe\">\n",
       "  <thead>\n",
       "    <tr style=\"text-align: right;\">\n",
       "      <th></th>\n",
       "      <th>store</th>\n",
       "      <th>dept</th>\n",
       "      <th>week</th>\n",
       "      <th>sales</th>\n",
       "      <th>year</th>\n",
       "      <th>week_of_year</th>\n",
       "    </tr>\n",
       "  </thead>\n",
       "  <tbody>\n",
       "    <tr>\n",
       "      <th>0</th>\n",
       "      <td>1</td>\n",
       "      <td>1</td>\n",
       "      <td>2010-02-01</td>\n",
       "      <td>24924.50</td>\n",
       "      <td>2010</td>\n",
       "      <td>5</td>\n",
       "    </tr>\n",
       "    <tr>\n",
       "      <th>1</th>\n",
       "      <td>1</td>\n",
       "      <td>1</td>\n",
       "      <td>2010-02-08</td>\n",
       "      <td>46039.49</td>\n",
       "      <td>2010</td>\n",
       "      <td>6</td>\n",
       "    </tr>\n",
       "    <tr>\n",
       "      <th>2</th>\n",
       "      <td>1</td>\n",
       "      <td>1</td>\n",
       "      <td>2010-02-15</td>\n",
       "      <td>41595.55</td>\n",
       "      <td>2010</td>\n",
       "      <td>7</td>\n",
       "    </tr>\n",
       "    <tr>\n",
       "      <th>3</th>\n",
       "      <td>1</td>\n",
       "      <td>1</td>\n",
       "      <td>2010-02-22</td>\n",
       "      <td>19403.54</td>\n",
       "      <td>2010</td>\n",
       "      <td>8</td>\n",
       "    </tr>\n",
       "    <tr>\n",
       "      <th>4</th>\n",
       "      <td>1</td>\n",
       "      <td>1</td>\n",
       "      <td>2010-03-01</td>\n",
       "      <td>21827.90</td>\n",
       "      <td>2010</td>\n",
       "      <td>9</td>\n",
       "    </tr>\n",
       "  </tbody>\n",
       "</table>\n",
       "</div>"
      ],
      "text/plain": [
       "   store  dept       week     sales  year  week_of_year\n",
       "0      1     1 2010-02-01  24924.50  2010             5\n",
       "1      1     1 2010-02-08  46039.49  2010             6\n",
       "2      1     1 2010-02-15  41595.55  2010             7\n",
       "3      1     1 2010-02-22  19403.54  2010             8\n",
       "4      1     1 2010-03-01  21827.90  2010             9"
      ]
     },
     "execution_count": 41,
     "metadata": {},
     "output_type": "execute_result"
    }
   ],
   "source": [
    "df.head()"
   ]
  },
  {
   "cell_type": "code",
   "execution_count": 42,
   "id": "66f194c5",
   "metadata": {},
   "outputs": [],
   "source": [
    "# df = df[ (df['week_of_year']>=19) & (df['week_of_year']<=43)]\n",
    "#将同一年数据汇集到一个list\n",
    "df_boxplot = df.groupby(['year'])['sales'].agg(list).reset_index()"
   ]
  },
  {
   "cell_type": "code",
   "execution_count": 45,
   "id": "ed86d157",
   "metadata": {},
   "outputs": [
    {
     "data": {
      "image/png": "[encoded data removed]",
      "text/plain": [
       "<Figure size 432x288 with 1 Axes>"
      ]
     },
     "metadata": {
      "needs_background": "light"
     },
     "output_type": "display_data"
    }
   ],
   "source": [
    "plt.boxplot( df_boxplot['sales'].values, labels=df_boxplot['year'].values )\n",
    "plt.xticks(rotation=90)\n",
    "plt.show()"
   ]
  },
  {
   "cell_type": "markdown",
   "id": "dc3e5cfe",
   "metadata": {},
   "source": [
    "计算周期性"
   ]
  },
  {
   "cell_type": "markdown",
   "id": "03940361",
   "metadata": {},
   "source": [
    "#### ACF"
   ]
  },
  {
   "cell_type": "markdown",
   "id": "942fb6af",
   "metadata": {},
   "source": [
    "ACF检验 (Auto-Correlation Function, 自相关系数检验） \n",
    "$$ r_h = Cor( X_t, X_{t+h} ) , \\forall t$$\n",
    "如果每隔h个单位，ACF值有一个局部高峰，则数据存在以h为单位的周期性"
   ]
  },
  {
   "cell_type": "code",
   "execution_count": 46,
   "id": "80cd70ec",
   "metadata": {},
   "outputs": [],
   "source": [
    "from  statsmodels.graphics.tsaplots import plot_acf"
   ]
  },
  {
   "cell_type": "code",
   "execution_count": 47,
   "id": "843b2657",
   "metadata": {},
   "outputs": [
    {
     "data": {
      "image/png": "[encoded data removed]",
      "text/plain": [
       "<Figure size 432x288 with 1 Axes>"
      ]
     },
     "metadata": {
      "needs_background": "light"
     },
     "output_type": "display_data"
    }
   ],
   "source": [
    "plot_acf(df['sales'], lags=140).show()"
   ]
  },
  {
   "cell_type": "markdown",
   "id": "44817ead",
   "metadata": {},
   "source": [
    "结论：数据存在以52周（1年）为单位的周期性"
   ]
  },
  {
   "cell_type": "markdown",
   "id": "9ab128dd",
   "metadata": {},
   "source": [
    "#### STL"
   ]
  },
  {
   "cell_type": "code",
   "execution_count": 49,
   "id": "bbe52377",
   "metadata": {},
   "outputs": [],
   "source": [
    "from statsmodels.tsa.seasonal import STL"
   ]
  },
  {
   "cell_type": "code",
   "execution_count": 50,
   "id": "17658e66",
   "metadata": {},
   "outputs": [],
   "source": [
    "stl = STL(df['sales'].values, period=52) #period: 时间序列的周期\n",
    "res = stl.fit()\n"
   ]
  },
  {
   "cell_type": "code",
   "execution_count": 51,
   "id": "195d6643",
   "metadata": {},
   "outputs": [
    {
     "data": {
      "image/png": "[encoded data removed]",
      "text/plain": [
       "<Figure size 432x288 with 4 Axes>"
      ]
     },
     "metadata": {
      "needs_background": "light"
     },
     "output_type": "display_data"
    }
   ],
   "source": [
    "## 分解结果可视化\n",
    "fig = res.plot()"
   ]
  },
  {
   "cell_type": "code",
   "execution_count": 52,
   "id": "4ab06aa8",
   "metadata": {},
   "outputs": [],
   "source": [
    "## 获取结果数字\n",
    "df['trend'] = res.trend\n",
    "df['seasonal'] = res.seasonal\n",
    "df['residule'] = res.resid"
   ]
  },
  {
   "cell_type": "markdown",
   "id": "0c40a7c1",
   "metadata": {},
   "source": [
    "# 3.传统统计学算法"
   ]
  },
  {
   "cell_type": "markdown",
   "id": "bfc61057",
   "metadata": {},
   "source": [
    "## 3.1ETS\n"
   ]
  },
  {
   "cell_type": "code",
   "execution_count": 53,
   "id": "a74e97a5",
   "metadata": {},
   "outputs": [],
   "source": [
    "from statsmodels.tsa.exponential_smoothing.ets import ETSModel"
   ]
  },
  {
   "cell_type": "markdown",
   "id": "427e8874",
   "metadata": {},
   "source": [
    "以FB的股票数据为例，站在2022-01-01，预测接下来h天的股价"
   ]
  },
  {
   "cell_type": "code",
   "execution_count": 58,
   "id": "40271dd8",
   "metadata": {},
   "outputs": [],
   "source": [
    "df_stock = pd.read_csv('stock_price.csv', parse_dates=['date'])\n",
    "df_stock.head(2)\n",
    "# 构建训练集\n",
    "# his_date_end = pd.to_datetime('2022-01-01')\n",
    "data_train = df_stock[ (df_stock['company']=='FB') & (df_stock['date']<='2022-01-01')]\n",
    "\n",
    "# 把日期变成训练集的index\n",
    "data_train = data_train[['date','price']].set_index('date')"
   ]
  },
  {
   "cell_type": "code",
   "execution_count": 59,
   "id": "bda75675",
   "metadata": {},
   "outputs": [
    {
     "data": {
      "text/html": [
       "<div>\n",
       "<style scoped>\n",
       "    .dataframe tbody tr th:only-of-type {\n",
       "        vertical-align: middle;\n",
       "    }\n",
       "\n",
       "    .dataframe tbody tr th {\n",
       "        vertical-align: top;\n",
       "    }\n",
       "\n",
       "    .dataframe thead th {\n",
       "        text-align: right;\n",
       "    }\n",
       "</style>\n",
       "<table border=\"1\" class=\"dataframe\">\n",
       "  <thead>\n",
       "    <tr style=\"text-align: right;\">\n",
       "      <th></th>\n",
       "      <th>price</th>\n",
       "    </tr>\n",
       "    <tr>\n",
       "      <th>date</th>\n",
       "      <th></th>\n",
       "    </tr>\n",
       "  </thead>\n",
       "  <tbody>\n",
       "    <tr>\n",
       "      <th>2012-05-18</th>\n",
       "      <td>38.230000</td>\n",
       "    </tr>\n",
       "    <tr>\n",
       "      <th>2012-05-21</th>\n",
       "      <td>34.029999</td>\n",
       "    </tr>\n",
       "    <tr>\n",
       "      <th>2012-05-22</th>\n",
       "      <td>31.000000</td>\n",
       "    </tr>\n",
       "    <tr>\n",
       "      <th>2012-05-23</th>\n",
       "      <td>32.000000</td>\n",
       "    </tr>\n",
       "    <tr>\n",
       "      <th>2012-05-24</th>\n",
       "      <td>33.029999</td>\n",
       "    </tr>\n",
       "    <tr>\n",
       "      <th>...</th>\n",
       "      <td>...</td>\n",
       "    </tr>\n",
       "    <tr>\n",
       "      <th>2021-12-27</th>\n",
       "      <td>346.179993</td>\n",
       "    </tr>\n",
       "    <tr>\n",
       "      <th>2021-12-28</th>\n",
       "      <td>346.220001</td>\n",
       "    </tr>\n",
       "    <tr>\n",
       "      <th>2021-12-29</th>\n",
       "      <td>342.940002</td>\n",
       "    </tr>\n",
       "    <tr>\n",
       "      <th>2021-12-30</th>\n",
       "      <td>344.359985</td>\n",
       "    </tr>\n",
       "    <tr>\n",
       "      <th>2021-12-31</th>\n",
       "      <td>336.350006</td>\n",
       "    </tr>\n",
       "  </tbody>\n",
       "</table>\n",
       "<p>2422 rows × 1 columns</p>\n",
       "</div>"
      ],
      "text/plain": [
       "                 price\n",
       "date                  \n",
       "2012-05-18   38.230000\n",
       "2012-05-21   34.029999\n",
       "2012-05-22   31.000000\n",
       "2012-05-23   32.000000\n",
       "2012-05-24   33.029999\n",
       "...                ...\n",
       "2021-12-27  346.179993\n",
       "2021-12-28  346.220001\n",
       "2021-12-29  342.940002\n",
       "2021-12-30  344.359985\n",
       "2021-12-31  336.350006\n",
       "\n",
       "[2422 rows x 1 columns]"
      ]
     },
     "execution_count": 59,
     "metadata": {},
     "output_type": "execute_result"
    }
   ],
   "source": [
    "data_train"
   ]
  },
  {
   "cell_type": "code",
   "execution_count": 60,
   "id": "e8615bec",
   "metadata": {},
   "outputs": [
    {
     "name": "stderr",
     "output_type": "stream",
     "text": [
      "D:\\Anaconda\\envs\\pytorch1.0_gpu\\lib\\site-packages\\statsmodels\\tsa\\base\\tsa_model.py:471: ValueWarning: A date index has been provided, but it has no associated frequency information and so will be ignored when e.g. forecasting.\n",
      "  self._init_dates(dates, freq)\n"
     ]
    }
   ],
   "source": [
    "# 构建模型\n",
    "model = ETSModel( data_train['price'] )\n",
    "fit = model.fit( )"
   ]
  },
  {
   "cell_type": "code",
   "execution_count": 61,
   "id": "66b884f2",
   "metadata": {},
   "outputs": [],
   "source": [
    "# 模型拟合结果可视化\n",
    "data_train['fit_price'] = fit.fittedvalues\n"
   ]
  },
  {
   "cell_type": "code",
   "execution_count": 62,
   "id": "d88fd58b",
   "metadata": {},
   "outputs": [
    {
     "data": {
      "text/html": [
       "<div>\n",
       "<style scoped>\n",
       "    .dataframe tbody tr th:only-of-type {\n",
       "        vertical-align: middle;\n",
       "    }\n",
       "\n",
       "    .dataframe tbody tr th {\n",
       "        vertical-align: top;\n",
       "    }\n",
       "\n",
       "    .dataframe thead th {\n",
       "        text-align: right;\n",
       "    }\n",
       "</style>\n",
       "<table border=\"1\" class=\"dataframe\">\n",
       "  <thead>\n",
       "    <tr style=\"text-align: right;\">\n",
       "      <th></th>\n",
       "      <th>price</th>\n",
       "      <th>fit_price</th>\n",
       "    </tr>\n",
       "    <tr>\n",
       "      <th>date</th>\n",
       "      <th></th>\n",
       "      <th></th>\n",
       "    </tr>\n",
       "  </thead>\n",
       "  <tbody>\n",
       "    <tr>\n",
       "      <th>2012-05-18</th>\n",
       "      <td>38.230000</td>\n",
       "      <td>38.004892</td>\n",
       "    </tr>\n",
       "    <tr>\n",
       "      <th>2012-05-21</th>\n",
       "      <td>34.029999</td>\n",
       "      <td>38.218297</td>\n",
       "    </tr>\n",
       "    <tr>\n",
       "      <th>2012-05-22</th>\n",
       "      <td>31.000000</td>\n",
       "      <td>34.247740</td>\n",
       "    </tr>\n",
       "    <tr>\n",
       "      <th>2012-05-23</th>\n",
       "      <td>32.000000</td>\n",
       "      <td>31.168843</td>\n",
       "    </tr>\n",
       "    <tr>\n",
       "      <th>2012-05-24</th>\n",
       "      <td>33.029999</td>\n",
       "      <td>31.956790</td>\n",
       "    </tr>\n",
       "  </tbody>\n",
       "</table>\n",
       "</div>"
      ],
      "text/plain": [
       "                price  fit_price\n",
       "date                            \n",
       "2012-05-18  38.230000  38.004892\n",
       "2012-05-21  34.029999  38.218297\n",
       "2012-05-22  31.000000  34.247740\n",
       "2012-05-23  32.000000  31.168843\n",
       "2012-05-24  33.029999  31.956790"
      ]
     },
     "execution_count": 62,
     "metadata": {},
     "output_type": "execute_result"
    }
   ],
   "source": [
    "data_train.head()"
   ]
  },
  {
   "cell_type": "code",
   "execution_count": 63,
   "id": "f7b732f9",
   "metadata": {},
   "outputs": [
    {
     "data": {
      "text/plain": [
       "(array([18635., 18642., 18649., 18659., 18666., 18673., 18680., 18687.]),\n",
       " [Text(0, 0, ''),\n",
       "  Text(0, 0, ''),\n",
       "  Text(0, 0, ''),\n",
       "  Text(0, 0, ''),\n",
       "  Text(0, 0, ''),\n",
       "  Text(0, 0, ''),\n",
       "  Text(0, 0, ''),\n",
       "  Text(0, 0, '')])"
      ]
     },
     "execution_count": 63,
     "metadata": {},
     "output_type": "execute_result"
    },
    {
     "data": {
      "image/png": "[encoded data removed]",
      "text/plain": [
       "<Figure size 432x288 with 1 Axes>"
      ]
     },
     "metadata": {
      "needs_background": "light"
     },
     "output_type": "display_data"
    }
   ],
   "source": [
    "data_plot = data_train[ (data_train.index>='2021-01-01')&(data_train.index<='2021-03-01')]\n",
    "plt.plot( data_plot['price'], '.-',label='actual' )\n",
    "plt.plot( data_plot['fit_price'],'.-', label='fit' )\n",
    "plt.legend()\n",
    "plt.xticks(rotation=90)"
   ]
  },
  {
   "cell_type": "code",
   "execution_count": 64,
   "id": "da15934c",
   "metadata": {},
   "outputs": [
    {
     "data": {
      "text/plain": [
       "2422"
      ]
     },
     "execution_count": 64,
     "metadata": {},
     "output_type": "execute_result"
    }
   ],
   "source": [
    "data_train.shape[0]"
   ]
  },
  {
   "cell_type": "code",
   "execution_count": 65,
   "id": "d7f76854",
   "metadata": {},
   "outputs": [
    {
     "name": "stderr",
     "output_type": "stream",
     "text": [
      "D:\\Anaconda\\envs\\pytorch1.0_gpu\\lib\\site-packages\\statsmodels\\tsa\\base\\tsa_model.py:843: ValueWarning: No supported index is available. Prediction results will be given with an integer index beginning at `start`.\n",
      "  data=self.data,\n",
      "D:\\Anaconda\\envs\\pytorch1.0_gpu\\lib\\site-packages\\statsmodels\\tsa\\base\\tsa_model.py:843: ValueWarning: No supported index is available. Prediction results will be given with an integer index beginning at `start`.\n",
      "  data=self.data,\n",
      "D:\\Anaconda\\envs\\pytorch1.0_gpu\\lib\\site-packages\\statsmodels\\tsa\\base\\tsa_model.py:843: ValueWarning: No supported index is available. Prediction results will be given with an integer index beginning at `start`.\n",
      "  data=self.data,\n",
      "D:\\Anaconda\\envs\\pytorch1.0_gpu\\lib\\site-packages\\statsmodels\\tsa\\base\\tsa_model.py:843: ValueWarning: No supported index is available. Prediction results will be given with an integer index beginning at `start`.\n",
      "  data=self.data,\n"
     ]
    }
   ],
   "source": [
    "# 预测未来h天\n",
    "h = 10\n",
    "pred_price = fit.get_prediction(start=data_train.shape[0]+1,end = data_train.shape[0]+h)"
   ]
  },
  {
   "cell_type": "code",
   "execution_count": 66,
   "id": "1a9ab58c",
   "metadata": {},
   "outputs": [
    {
     "data": {
      "text/plain": [
       "<statsmodels.tsa.exponential_smoothing.ets.PredictionResultsWrapper at 0x1c5f1439888>"
      ]
     },
     "execution_count": 66,
     "metadata": {},
     "output_type": "execute_result"
    }
   ],
   "source": [
    "pred_price"
   ]
  },
  {
   "cell_type": "code",
   "execution_count": 67,
   "id": "c0416772",
   "metadata": {},
   "outputs": [
    {
     "data": {
      "text/html": [
       "<div>\n",
       "<style scoped>\n",
       "    .dataframe tbody tr th:only-of-type {\n",
       "        vertical-align: middle;\n",
       "    }\n",
       "\n",
       "    .dataframe tbody tr th {\n",
       "        vertical-align: top;\n",
       "    }\n",
       "\n",
       "    .dataframe thead th {\n",
       "        text-align: right;\n",
       "    }\n",
       "</style>\n",
       "<table border=\"1\" class=\"dataframe\">\n",
       "  <thead>\n",
       "    <tr style=\"text-align: right;\">\n",
       "      <th></th>\n",
       "      <th>mean</th>\n",
       "      <th>pi_lower</th>\n",
       "      <th>pi_upper</th>\n",
       "    </tr>\n",
       "  </thead>\n",
       "  <tbody>\n",
       "    <tr>\n",
       "      <th>2423</th>\n",
       "      <td>336.763047</td>\n",
       "      <td>327.461559</td>\n",
       "      <td>346.064535</td>\n",
       "    </tr>\n",
       "    <tr>\n",
       "      <th>2424</th>\n",
       "      <td>336.763047</td>\n",
       "      <td>325.472821</td>\n",
       "      <td>348.053273</td>\n",
       "    </tr>\n",
       "    <tr>\n",
       "      <th>2425</th>\n",
       "      <td>336.763047</td>\n",
       "      <td>323.785346</td>\n",
       "      <td>349.740748</td>\n",
       "    </tr>\n",
       "    <tr>\n",
       "      <th>2426</th>\n",
       "      <td>336.763047</td>\n",
       "      <td>322.293346</td>\n",
       "      <td>351.232748</td>\n",
       "    </tr>\n",
       "    <tr>\n",
       "      <th>2427</th>\n",
       "      <td>336.763047</td>\n",
       "      <td>320.941423</td>\n",
       "      <td>352.584670</td>\n",
       "    </tr>\n",
       "    <tr>\n",
       "      <th>2428</th>\n",
       "      <td>336.763047</td>\n",
       "      <td>319.696257</td>\n",
       "      <td>353.829836</td>\n",
       "    </tr>\n",
       "    <tr>\n",
       "      <th>2429</th>\n",
       "      <td>336.763047</td>\n",
       "      <td>318.535956</td>\n",
       "      <td>354.990137</td>\n",
       "    </tr>\n",
       "    <tr>\n",
       "      <th>2430</th>\n",
       "      <td>336.763047</td>\n",
       "      <td>317.445222</td>\n",
       "      <td>356.080871</td>\n",
       "    </tr>\n",
       "    <tr>\n",
       "      <th>2431</th>\n",
       "      <td>336.763047</td>\n",
       "      <td>316.412866</td>\n",
       "      <td>357.113228</td>\n",
       "    </tr>\n",
       "    <tr>\n",
       "      <th>2432</th>\n",
       "      <td>336.763047</td>\n",
       "      <td>315.430410</td>\n",
       "      <td>358.095684</td>\n",
       "    </tr>\n",
       "  </tbody>\n",
       "</table>\n",
       "</div>"
      ],
      "text/plain": [
       "            mean    pi_lower    pi_upper\n",
       "2423  336.763047  327.461559  346.064535\n",
       "2424  336.763047  325.472821  348.053273\n",
       "2425  336.763047  323.785346  349.740748\n",
       "2426  336.763047  322.293346  351.232748\n",
       "2427  336.763047  320.941423  352.584670\n",
       "2428  336.763047  319.696257  353.829836\n",
       "2429  336.763047  318.535956  354.990137\n",
       "2430  336.763047  317.445222  356.080871\n",
       "2431  336.763047  316.412866  357.113228\n",
       "2432  336.763047  315.430410  358.095684"
      ]
     },
     "execution_count": 67,
     "metadata": {},
     "output_type": "execute_result"
    }
   ],
   "source": [
    "pred_price.summary_frame() "
   ]
  },
  {
   "cell_type": "code",
   "execution_count": 69,
   "id": "9d9ddb92",
   "metadata": {},
   "outputs": [],
   "source": [
    "from  statsmodels.graphics.tsaplots import plot_acf, plot_pacf\n",
    "df = df_stock[ (df_stock['company']=='FB')].sort_values('date')"
   ]
  },
  {
   "cell_type": "code",
   "execution_count": 70,
   "id": "8926b93f",
   "metadata": {},
   "outputs": [
    {
     "data": {
      "text/plain": [
       "[<matplotlib.lines.Line2D at 0x1c5f1497a48>]"
      ]
     },
     "execution_count": 70,
     "metadata": {},
     "output_type": "execute_result"
    },
    {
     "data": {
      "image/png": "[encoded data removed]",
      "text/plain": [
       "<Figure size 432x288 with 1 Axes>"
      ]
     },
     "metadata": {
      "needs_background": "light"
     },
     "output_type": "display_data"
    }
   ],
   "source": [
    "plt.plot( df['date'], df['price'] )"
   ]
  },
  {
   "cell_type": "code",
   "execution_count": 71,
   "id": "35f50fdf",
   "metadata": {},
   "outputs": [
    {
     "data": {
      "image/png": "[encoded data removed]",
      "text/plain": [
       "<Figure size 432x288 with 1 Axes>"
      ]
     },
     "metadata": {
      "needs_background": "light"
     },
     "output_type": "display_data"
    }
   ],
   "source": [
    "plot_acf(df['price']).show()"
   ]
  },
  {
   "cell_type": "markdown",
   "id": "6834b0c1",
   "metadata": {},
   "source": [
    "自相关性系数大，说明时间序列不平稳"
   ]
  },
  {
   "cell_type": "markdown",
   "id": "393429ce",
   "metadata": {},
   "source": [
    "## 3.2 Arima"
   ]
  },
  {
   "cell_type": "markdown",
   "id": "53fdeaf9",
   "metadata": {},
   "source": [
    "以FB的股票数据为例，站在2022-01-01，预测接下来h天的股价"
   ]
  },
  {
   "cell_type": "code",
   "execution_count": 72,
   "id": "efdc5fa9",
   "metadata": {},
   "outputs": [],
   "source": [
    "data_train = df_stock[ (df_stock['company']=='FB') & (df_stock['date']<='2022-01-01')].sort_values('date')"
   ]
  },
  {
   "cell_type": "code",
   "execution_count": 73,
   "id": "84fdc52d",
   "metadata": {},
   "outputs": [
    {
     "data": {
      "text/html": [
       "<div>\n",
       "<style scoped>\n",
       "    .dataframe tbody tr th:only-of-type {\n",
       "        vertical-align: middle;\n",
       "    }\n",
       "\n",
       "    .dataframe tbody tr th {\n",
       "        vertical-align: top;\n",
       "    }\n",
       "\n",
       "    .dataframe thead th {\n",
       "        text-align: right;\n",
       "    }\n",
       "</style>\n",
       "<table border=\"1\" class=\"dataframe\">\n",
       "  <thead>\n",
       "    <tr style=\"text-align: right;\">\n",
       "      <th></th>\n",
       "      <th>date</th>\n",
       "      <th>company</th>\n",
       "      <th>price</th>\n",
       "    </tr>\n",
       "  </thead>\n",
       "  <tbody>\n",
       "    <tr>\n",
       "      <th>0</th>\n",
       "      <td>2012-05-18</td>\n",
       "      <td>FB</td>\n",
       "      <td>38.230000</td>\n",
       "    </tr>\n",
       "    <tr>\n",
       "      <th>1</th>\n",
       "      <td>2012-05-21</td>\n",
       "      <td>FB</td>\n",
       "      <td>34.029999</td>\n",
       "    </tr>\n",
       "    <tr>\n",
       "      <th>2</th>\n",
       "      <td>2012-05-22</td>\n",
       "      <td>FB</td>\n",
       "      <td>31.000000</td>\n",
       "    </tr>\n",
       "    <tr>\n",
       "      <th>3</th>\n",
       "      <td>2012-05-23</td>\n",
       "      <td>FB</td>\n",
       "      <td>32.000000</td>\n",
       "    </tr>\n",
       "    <tr>\n",
       "      <th>4</th>\n",
       "      <td>2012-05-24</td>\n",
       "      <td>FB</td>\n",
       "      <td>33.029999</td>\n",
       "    </tr>\n",
       "  </tbody>\n",
       "</table>\n",
       "</div>"
      ],
      "text/plain": [
       "        date company      price\n",
       "0 2012-05-18      FB  38.230000\n",
       "1 2012-05-21      FB  34.029999\n",
       "2 2012-05-22      FB  31.000000\n",
       "3 2012-05-23      FB  32.000000\n",
       "4 2012-05-24      FB  33.029999"
      ]
     },
     "execution_count": 73,
     "metadata": {},
     "output_type": "execute_result"
    }
   ],
   "source": [
    "data_train.head()"
   ]
  },
  {
   "cell_type": "code",
   "execution_count": 74,
   "id": "5dfda6be",
   "metadata": {},
   "outputs": [
    {
     "data": {
      "image/png": "[encoded data removed]",
      "text/plain": [
       "<Figure size 432x288 with 1 Axes>"
      ]
     },
     "metadata": {
      "needs_background": "light"
     },
     "output_type": "display_data"
    }
   ],
   "source": [
    "# 通过ACF判断确定I阶数d， 要求是d阶差分是平稳的\n",
    "d = 1\n",
    "# AR的阶数p可以通过pacf （偏相关性系数） 图来设定，因为AR各项的系数就代表每两个时间间隔的相关性\n",
    "# 要求p以后的偏相关性系数比较小\n",
    "from  statsmodels.graphics.tsaplots import plot_pacf\n",
    "plot_pacf( data_train['price'] ).show()"
   ]
  },
  {
   "cell_type": "code",
   "execution_count": 75,
   "id": "288c84cf",
   "metadata": {},
   "outputs": [],
   "source": [
    "p = 1\n",
    "# 通过差分的ACF判断确定MA阶数q， 要求是q以后的自相关性系数比较小\n",
    "q = 0 "
   ]
  },
  {
   "cell_type": "code",
   "execution_count": 80,
   "id": "c46796c0",
   "metadata": {},
   "outputs": [],
   "source": [
    "# 构建Arima模型\n",
    "from statsmodels.tsa.arima_model import ARIMA  "
   ]
  },
  {
   "cell_type": "code",
   "execution_count": null,
   "id": "109326aa",
   "metadata": {},
   "outputs": [],
   "source": [
    "## 换一组参数可以让模型的结果更复杂\n",
    "\n",
    "model = ARIMA(data_train['price'].values, order=(2,2,0))\n",
    "fit = model.fit()\n",
    "\n",
    "# 模型拟合结果可视化\n",
    "fit.plot_predict(start=1000, end = 1100, dynamic=False).show()"
   ]
  },
  {
   "cell_type": "markdown",
   "id": "cb4392a6",
   "metadata": {},
   "source": [
    "# 4.机器学习算法"
   ]
  },
  {
   "cell_type": "markdown",
   "id": "a1424512",
   "metadata": {},
   "source": [
    "有外部变量用 X矩阵"
   ]
  },
  {
   "cell_type": "code",
   "execution_count": 3,
   "id": "5e381574",
   "metadata": {},
   "outputs": [
    {
     "data": {
      "text/html": [
       "<div>\n",
       "<style scoped>\n",
       "    .dataframe tbody tr th:only-of-type {\n",
       "        vertical-align: middle;\n",
       "    }\n",
       "\n",
       "    .dataframe tbody tr th {\n",
       "        vertical-align: top;\n",
       "    }\n",
       "\n",
       "    .dataframe thead th {\n",
       "        text-align: right;\n",
       "    }\n",
       "</style>\n",
       "<table border=\"1\" class=\"dataframe\">\n",
       "  <thead>\n",
       "    <tr style=\"text-align: right;\">\n",
       "      <th></th>\n",
       "      <th>store</th>\n",
       "      <th>dept</th>\n",
       "      <th>week</th>\n",
       "      <th>sales</th>\n",
       "    </tr>\n",
       "  </thead>\n",
       "  <tbody>\n",
       "    <tr>\n",
       "      <th>0</th>\n",
       "      <td>1</td>\n",
       "      <td>1</td>\n",
       "      <td>2010-02-01</td>\n",
       "      <td>24924.50</td>\n",
       "    </tr>\n",
       "    <tr>\n",
       "      <th>1</th>\n",
       "      <td>1</td>\n",
       "      <td>1</td>\n",
       "      <td>2010-02-08</td>\n",
       "      <td>46039.49</td>\n",
       "    </tr>\n",
       "  </tbody>\n",
       "</table>\n",
       "</div>"
      ],
      "text/plain": [
       "   store  dept       week     sales\n",
       "0      1     1 2010-02-01  24924.50\n",
       "1      1     1 2010-02-08  46039.49"
      ]
     },
     "execution_count": 3,
     "metadata": {},
     "output_type": "execute_result"
    }
   ],
   "source": [
    "df_sales = pd.read_csv('store_sales.csv', parse_dates=['week'])\n",
    "df_sales.head(2)"
   ]
  },
  {
   "cell_type": "code",
   "execution_count": 4,
   "id": "3ffceafb",
   "metadata": {},
   "outputs": [
    {
     "data": {
      "text/html": [
       "<div>\n",
       "<style scoped>\n",
       "    .dataframe tbody tr th:only-of-type {\n",
       "        vertical-align: middle;\n",
       "    }\n",
       "\n",
       "    .dataframe tbody tr th {\n",
       "        vertical-align: top;\n",
       "    }\n",
       "\n",
       "    .dataframe thead th {\n",
       "        text-align: right;\n",
       "    }\n",
       "</style>\n",
       "<table border=\"1\" class=\"dataframe\">\n",
       "  <thead>\n",
       "    <tr style=\"text-align: right;\">\n",
       "      <th></th>\n",
       "      <th>store</th>\n",
       "      <th>dept</th>\n",
       "      <th>week</th>\n",
       "      <th>promotion_sales</th>\n",
       "    </tr>\n",
       "  </thead>\n",
       "  <tbody>\n",
       "    <tr>\n",
       "      <th>0</th>\n",
       "      <td>1</td>\n",
       "      <td>1</td>\n",
       "      <td>2010-02-08</td>\n",
       "      <td>22538.074165</td>\n",
       "    </tr>\n",
       "    <tr>\n",
       "      <th>1</th>\n",
       "      <td>1</td>\n",
       "      <td>1</td>\n",
       "      <td>2010-02-15</td>\n",
       "      <td>18381.721909</td>\n",
       "    </tr>\n",
       "  </tbody>\n",
       "</table>\n",
       "</div>"
      ],
      "text/plain": [
       "   store  dept       week  promotion_sales\n",
       "0      1     1 2010-02-08     22538.074165\n",
       "1      1     1 2010-02-15     18381.721909"
      ]
     },
     "execution_count": 4,
     "metadata": {},
     "output_type": "execute_result"
    }
   ],
   "source": [
    "# store:门店编号\n",
    "# dept: 商品部门编号\n",
    "# week: 每周周一的日期 \n",
    "# promotion_sales: 促销活动带来的销售金额\n",
    "df_promotion = pd.read_csv('promotion_data.csv', parse_dates=['week'])\n",
    "df_promotion.head(2)"
   ]
  },
  {
   "cell_type": "code",
   "execution_count": 5,
   "id": "7f8ed294",
   "metadata": {},
   "outputs": [],
   "source": [
    "df_all = pd.merge( df_sales, df_promotion, how='left' )\n",
    "df_all.fillna(0, inplace=True)"
   ]
  },
  {
   "cell_type": "code",
   "execution_count": 6,
   "id": "eb77fb89",
   "metadata": {},
   "outputs": [
    {
     "data": {
      "text/html": [
       "<div>\n",
       "<style scoped>\n",
       "    .dataframe tbody tr th:only-of-type {\n",
       "        vertical-align: middle;\n",
       "    }\n",
       "\n",
       "    .dataframe tbody tr th {\n",
       "        vertical-align: top;\n",
       "    }\n",
       "\n",
       "    .dataframe thead th {\n",
       "        text-align: right;\n",
       "    }\n",
       "</style>\n",
       "<table border=\"1\" class=\"dataframe\">\n",
       "  <thead>\n",
       "    <tr style=\"text-align: right;\">\n",
       "      <th></th>\n",
       "      <th>store</th>\n",
       "      <th>dept</th>\n",
       "      <th>week</th>\n",
       "      <th>sales</th>\n",
       "      <th>promotion_sales</th>\n",
       "    </tr>\n",
       "  </thead>\n",
       "  <tbody>\n",
       "    <tr>\n",
       "      <th>0</th>\n",
       "      <td>1</td>\n",
       "      <td>1</td>\n",
       "      <td>2010-02-01</td>\n",
       "      <td>24924.50</td>\n",
       "      <td>0.000000</td>\n",
       "    </tr>\n",
       "    <tr>\n",
       "      <th>1</th>\n",
       "      <td>1</td>\n",
       "      <td>1</td>\n",
       "      <td>2010-02-08</td>\n",
       "      <td>46039.49</td>\n",
       "      <td>22538.074165</td>\n",
       "    </tr>\n",
       "    <tr>\n",
       "      <th>2</th>\n",
       "      <td>1</td>\n",
       "      <td>1</td>\n",
       "      <td>2010-02-15</td>\n",
       "      <td>41595.55</td>\n",
       "      <td>18381.721909</td>\n",
       "    </tr>\n",
       "    <tr>\n",
       "      <th>3</th>\n",
       "      <td>1</td>\n",
       "      <td>1</td>\n",
       "      <td>2010-02-22</td>\n",
       "      <td>19403.54</td>\n",
       "      <td>0.000000</td>\n",
       "    </tr>\n",
       "    <tr>\n",
       "      <th>4</th>\n",
       "      <td>1</td>\n",
       "      <td>1</td>\n",
       "      <td>2010-03-01</td>\n",
       "      <td>21827.90</td>\n",
       "      <td>0.000000</td>\n",
       "    </tr>\n",
       "  </tbody>\n",
       "</table>\n",
       "</div>"
      ],
      "text/plain": [
       "   store  dept       week     sales  promotion_sales\n",
       "0      1     1 2010-02-01  24924.50         0.000000\n",
       "1      1     1 2010-02-08  46039.49     22538.074165\n",
       "2      1     1 2010-02-15  41595.55     18381.721909\n",
       "3      1     1 2010-02-22  19403.54         0.000000\n",
       "4      1     1 2010-03-01  21827.90         0.000000"
      ]
     },
     "execution_count": 6,
     "metadata": {},
     "output_type": "execute_result"
    }
   ],
   "source": [
    "df_all.head()"
   ]
  },
  {
   "cell_type": "markdown",
   "id": "aa32dc2f",
   "metadata": {},
   "source": [
    "## 4.1 prophet 算法"
   ]
  },
  {
   "cell_type": "code",
   "execution_count": 7,
   "id": "48c2916c",
   "metadata": {},
   "outputs": [],
   "source": [
    "import prophet"
   ]
  },
  {
   "cell_type": "markdown",
   "id": "0b08c420",
   "metadata": {},
   "source": [
    "预测1号店的1号部门， 以2012-07-30以前的数据做训练，往后预测一周"
   ]
  },
  {
   "cell_type": "code",
   "execution_count": 8,
   "id": "8eceb98f",
   "metadata": {},
   "outputs": [],
   "source": [
    "# 数据准备\n",
    "df_train = df_all[ (df_all['week']<='2012-07-30') & (df_all['store']==1) & (df_all['dept']==1)]\n",
    "#使用prophet前，要将日期字段重命名为”ds\", 预测对象重命名为\"y\"\n",
    "df_train.rename(columns={'week':'ds','sales':'y'},inplace=True)\n",
    "\n",
    "df_test = df_all[(df_all['week']=='2012-08-06') &(df_all['store']==1) & (df_all['dept']==1)]\n",
    "df_test.rename(columns={'week':'ds','sales':'y'},inplace=True)"
   ]
  },
  {
   "cell_type": "code",
   "execution_count": 11,
   "id": "a1dac8a4",
   "metadata": {},
   "outputs": [
    {
     "data": {
      "text/html": [
       "<div>\n",
       "<style scoped>\n",
       "    .dataframe tbody tr th:only-of-type {\n",
       "        vertical-align: middle;\n",
       "    }\n",
       "\n",
       "    .dataframe tbody tr th {\n",
       "        vertical-align: top;\n",
       "    }\n",
       "\n",
       "    .dataframe thead th {\n",
       "        text-align: right;\n",
       "    }\n",
       "</style>\n",
       "<table border=\"1\" class=\"dataframe\">\n",
       "  <thead>\n",
       "    <tr style=\"text-align: right;\">\n",
       "      <th></th>\n",
       "      <th>store</th>\n",
       "      <th>dept</th>\n",
       "      <th>ds</th>\n",
       "      <th>y</th>\n",
       "      <th>promotion_sales</th>\n",
       "    </tr>\n",
       "  </thead>\n",
       "  <tbody>\n",
       "    <tr>\n",
       "      <th>0</th>\n",
       "      <td>1</td>\n",
       "      <td>1</td>\n",
       "      <td>2010-02-01</td>\n",
       "      <td>24924.50</td>\n",
       "      <td>0.000000</td>\n",
       "    </tr>\n",
       "    <tr>\n",
       "      <th>1</th>\n",
       "      <td>1</td>\n",
       "      <td>1</td>\n",
       "      <td>2010-02-08</td>\n",
       "      <td>46039.49</td>\n",
       "      <td>22538.074165</td>\n",
       "    </tr>\n",
       "    <tr>\n",
       "      <th>2</th>\n",
       "      <td>1</td>\n",
       "      <td>1</td>\n",
       "      <td>2010-02-15</td>\n",
       "      <td>41595.55</td>\n",
       "      <td>18381.721909</td>\n",
       "    </tr>\n",
       "    <tr>\n",
       "      <th>3</th>\n",
       "      <td>1</td>\n",
       "      <td>1</td>\n",
       "      <td>2010-02-22</td>\n",
       "      <td>19403.54</td>\n",
       "      <td>0.000000</td>\n",
       "    </tr>\n",
       "    <tr>\n",
       "      <th>4</th>\n",
       "      <td>1</td>\n",
       "      <td>1</td>\n",
       "      <td>2010-03-01</td>\n",
       "      <td>21827.90</td>\n",
       "      <td>0.000000</td>\n",
       "    </tr>\n",
       "  </tbody>\n",
       "</table>\n",
       "</div>"
      ],
      "text/plain": [
       "   store  dept         ds         y  promotion_sales\n",
       "0      1     1 2010-02-01  24924.50         0.000000\n",
       "1      1     1 2010-02-08  46039.49     22538.074165\n",
       "2      1     1 2010-02-15  41595.55     18381.721909\n",
       "3      1     1 2010-02-22  19403.54         0.000000\n",
       "4      1     1 2010-03-01  21827.90         0.000000"
      ]
     },
     "execution_count": 11,
     "metadata": {},
     "output_type": "execute_result"
    }
   ],
   "source": [
    "df_train.head()"
   ]
  },
  {
   "cell_type": "code",
   "execution_count": 12,
   "id": "d10c57cc",
   "metadata": {},
   "outputs": [
    {
     "name": "stderr",
     "output_type": "stream",
     "text": [
      "15:24:47 - cmdstanpy - INFO - Chain [1] start processing\n",
      "15:24:47 - cmdstanpy - INFO - Chain [1] done processing\n"
     ]
    },
    {
     "data": {
      "text/plain": [
       "<prophet.forecaster.Prophet at 0x270c590a248>"
      ]
     },
     "execution_count": 12,
     "metadata": {},
     "output_type": "execute_result"
    }
   ],
   "source": [
    "#训练模型\n",
    "m = prophet.Prophet(yearly_seasonality=True)\n",
    "m.add_regressor( 'promotion_sales' )\n",
    "m.fit( df_train )"
   ]
  },
  {
   "cell_type": "code",
   "execution_count": 13,
   "id": "934b1939",
   "metadata": {},
   "outputs": [
    {
     "data": {
      "image/png": "[encoded data removed]",
      "text/plain": [
       "<Figure size 648x648 with 3 Axes>"
      ]
     },
     "metadata": {},
     "output_type": "display_data"
    },
    {
     "data": {
      "image/png": "[encoded data removed]",
      "text/plain": [
       "<Figure size 720x432 with 1 Axes>"
      ]
     },
     "metadata": {},
     "output_type": "display_data"
    }
   ],
   "source": [
    "#  拟合历史的数据\n",
    "df_fit = m.predict( df_train )\n",
    "# 可视化拟合结果\n",
    "fig1 = m.plot_components(df_fit)\n",
    "fig2 = m.plot( df_fit )"
   ]
  },
  {
   "cell_type": "code",
   "execution_count": 16,
   "id": "06cb3df3",
   "metadata": {},
   "outputs": [
    {
     "data": {
      "text/html": [
       "<div>\n",
       "<style scoped>\n",
       "    .dataframe tbody tr th:only-of-type {\n",
       "        vertical-align: middle;\n",
       "    }\n",
       "\n",
       "    .dataframe tbody tr th {\n",
       "        vertical-align: top;\n",
       "    }\n",
       "\n",
       "    .dataframe thead th {\n",
       "        text-align: right;\n",
       "    }\n",
       "</style>\n",
       "<table border=\"1\" class=\"dataframe\">\n",
       "  <thead>\n",
       "    <tr style=\"text-align: right;\">\n",
       "      <th></th>\n",
       "      <th>ds</th>\n",
       "      <th>trend</th>\n",
       "      <th>yhat_lower</th>\n",
       "      <th>yhat_upper</th>\n",
       "      <th>trend_lower</th>\n",
       "      <th>trend_upper</th>\n",
       "      <th>additive_terms</th>\n",
       "      <th>additive_terms_lower</th>\n",
       "      <th>additive_terms_upper</th>\n",
       "      <th>extra_regressors_additive</th>\n",
       "      <th>extra_regressors_additive_lower</th>\n",
       "      <th>extra_regressors_additive_upper</th>\n",
       "      <th>promotion_sales</th>\n",
       "      <th>promotion_sales_lower</th>\n",
       "      <th>promotion_sales_upper</th>\n",
       "      <th>yearly</th>\n",
       "      <th>yearly_lower</th>\n",
       "      <th>yearly_upper</th>\n",
       "      <th>multiplicative_terms</th>\n",
       "      <th>multiplicative_terms_lower</th>\n",
       "      <th>multiplicative_terms_upper</th>\n",
       "      <th>yhat</th>\n",
       "    </tr>\n",
       "  </thead>\n",
       "  <tbody>\n",
       "    <tr>\n",
       "      <th>0</th>\n",
       "      <td>2010-02-01</td>\n",
       "      <td>23034.947460</td>\n",
       "      <td>21766.358062</td>\n",
       "      <td>24153.007288</td>\n",
       "      <td>23034.947460</td>\n",
       "      <td>23034.947460</td>\n",
       "      <td>-68.584688</td>\n",
       "      <td>-68.584688</td>\n",
       "      <td>-68.584688</td>\n",
       "      <td>-3974.126067</td>\n",
       "      <td>-3974.126067</td>\n",
       "      <td>-3974.126067</td>\n",
       "      <td>-3974.126067</td>\n",
       "      <td>-3974.126067</td>\n",
       "      <td>-3974.126067</td>\n",
       "      <td>3905.541379</td>\n",
       "      <td>3905.541379</td>\n",
       "      <td>3905.541379</td>\n",
       "      <td>0.0</td>\n",
       "      <td>0.0</td>\n",
       "      <td>0.0</td>\n",
       "      <td>22966.362772</td>\n",
       "    </tr>\n",
       "    <tr>\n",
       "      <th>1</th>\n",
       "      <td>2010-02-08</td>\n",
       "      <td>23025.385042</td>\n",
       "      <td>45418.074708</td>\n",
       "      <td>47758.683004</td>\n",
       "      <td>23025.385042</td>\n",
       "      <td>23025.385042</td>\n",
       "      <td>23556.614118</td>\n",
       "      <td>23556.614118</td>\n",
       "      <td>23556.614118</td>\n",
       "      <td>19377.443055</td>\n",
       "      <td>19377.443055</td>\n",
       "      <td>19377.443055</td>\n",
       "      <td>19377.443055</td>\n",
       "      <td>19377.443055</td>\n",
       "      <td>19377.443055</td>\n",
       "      <td>4179.171063</td>\n",
       "      <td>4179.171063</td>\n",
       "      <td>4179.171063</td>\n",
       "      <td>0.0</td>\n",
       "      <td>0.0</td>\n",
       "      <td>0.0</td>\n",
       "      <td>46581.999159</td>\n",
       "    </tr>\n",
       "    <tr>\n",
       "      <th>2</th>\n",
       "      <td>2010-02-15</td>\n",
       "      <td>23015.822623</td>\n",
       "      <td>39835.123231</td>\n",
       "      <td>42149.682374</td>\n",
       "      <td>23015.822623</td>\n",
       "      <td>23015.822623</td>\n",
       "      <td>17992.496170</td>\n",
       "      <td>17992.496170</td>\n",
       "      <td>17992.496170</td>\n",
       "      <td>15071.070368</td>\n",
       "      <td>15071.070368</td>\n",
       "      <td>15071.070368</td>\n",
       "      <td>15071.070368</td>\n",
       "      <td>15071.070368</td>\n",
       "      <td>15071.070368</td>\n",
       "      <td>2921.425802</td>\n",
       "      <td>2921.425802</td>\n",
       "      <td>2921.425802</td>\n",
       "      <td>0.0</td>\n",
       "      <td>0.0</td>\n",
       "      <td>0.0</td>\n",
       "      <td>41008.318793</td>\n",
       "    </tr>\n",
       "    <tr>\n",
       "      <th>3</th>\n",
       "      <td>2010-02-22</td>\n",
       "      <td>23006.260205</td>\n",
       "      <td>19414.664370</td>\n",
       "      <td>21740.425860</td>\n",
       "      <td>23006.260205</td>\n",
       "      <td>23006.260205</td>\n",
       "      <td>-2418.126113</td>\n",
       "      <td>-2418.126113</td>\n",
       "      <td>-2418.126113</td>\n",
       "      <td>-3974.126067</td>\n",
       "      <td>-3974.126067</td>\n",
       "      <td>-3974.126067</td>\n",
       "      <td>-3974.126067</td>\n",
       "      <td>-3974.126067</td>\n",
       "      <td>-3974.126067</td>\n",
       "      <td>1555.999953</td>\n",
       "      <td>1555.999953</td>\n",
       "      <td>1555.999953</td>\n",
       "      <td>0.0</td>\n",
       "      <td>0.0</td>\n",
       "      <td>0.0</td>\n",
       "      <td>20588.134091</td>\n",
       "    </tr>\n",
       "    <tr>\n",
       "      <th>4</th>\n",
       "      <td>2010-03-01</td>\n",
       "      <td>22996.697786</td>\n",
       "      <td>19123.757821</td>\n",
       "      <td>21478.058358</td>\n",
       "      <td>22996.697786</td>\n",
       "      <td>22996.697786</td>\n",
       "      <td>-2684.527260</td>\n",
       "      <td>-2684.527260</td>\n",
       "      <td>-2684.527260</td>\n",
       "      <td>-3974.126067</td>\n",
       "      <td>-3974.126067</td>\n",
       "      <td>-3974.126067</td>\n",
       "      <td>-3974.126067</td>\n",
       "      <td>-3974.126067</td>\n",
       "      <td>-3974.126067</td>\n",
       "      <td>1289.598807</td>\n",
       "      <td>1289.598807</td>\n",
       "      <td>1289.598807</td>\n",
       "      <td>0.0</td>\n",
       "      <td>0.0</td>\n",
       "      <td>0.0</td>\n",
       "      <td>20312.170527</td>\n",
       "    </tr>\n",
       "  </tbody>\n",
       "</table>\n",
       "</div>"
      ],
      "text/plain": [
       "          ds         trend    yhat_lower    yhat_upper   trend_lower  \\\n",
       "0 2010-02-01  23034.947460  21766.358062  24153.007288  23034.947460   \n",
       "1 2010-02-08  23025.385042  45418.074708  47758.683004  23025.385042   \n",
       "2 2010-02-15  23015.822623  39835.123231  42149.682374  23015.822623   \n",
       "3 2010-02-22  23006.260205  19414.664370  21740.425860  23006.260205   \n",
       "4 2010-03-01  22996.697786  19123.757821  21478.058358  22996.697786   \n",
       "\n",
       "    trend_upper  additive_terms  additive_terms_lower  additive_terms_upper  \\\n",
       "0  23034.947460      -68.584688            -68.584688            -68.584688   \n",
       "1  23025.385042    23556.614118          23556.614118          23556.614118   \n",
       "2  23015.822623    17992.496170          17992.496170          17992.496170   \n",
       "3  23006.260205    -2418.126113          -2418.126113          -2418.126113   \n",
       "4  22996.697786    -2684.527260          -2684.527260          -2684.527260   \n",
       "\n",
       "   extra_regressors_additive  extra_regressors_additive_lower  \\\n",
       "0               -3974.126067                     -3974.126067   \n",
       "1               19377.443055                     19377.443055   \n",
       "2               15071.070368                     15071.070368   \n",
       "3               -3974.126067                     -3974.126067   \n",
       "4               -3974.126067                     -3974.126067   \n",
       "\n",
       "   extra_regressors_additive_upper  promotion_sales  promotion_sales_lower  \\\n",
       "0                     -3974.126067     -3974.126067           -3974.126067   \n",
       "1                     19377.443055     19377.443055           19377.443055   \n",
       "2                     15071.070368     15071.070368           15071.070368   \n",
       "3                     -3974.126067     -3974.126067           -3974.126067   \n",
       "4                     -3974.126067     -3974.126067           -3974.126067   \n",
       "\n",
       "   promotion_sales_upper       yearly  yearly_lower  yearly_upper  \\\n",
       "0           -3974.126067  3905.541379   3905.541379   3905.541379   \n",
       "1           19377.443055  4179.171063   4179.171063   4179.171063   \n",
       "2           15071.070368  2921.425802   2921.425802   2921.425802   \n",
       "3           -3974.126067  1555.999953   1555.999953   1555.999953   \n",
       "4           -3974.126067  1289.598807   1289.598807   1289.598807   \n",
       "\n",
       "   multiplicative_terms  multiplicative_terms_lower  \\\n",
       "0                   0.0                         0.0   \n",
       "1                   0.0                         0.0   \n",
       "2                   0.0                         0.0   \n",
       "3                   0.0                         0.0   \n",
       "4                   0.0                         0.0   \n",
       "\n",
       "   multiplicative_terms_upper          yhat  \n",
       "0                         0.0  22966.362772  \n",
       "1                         0.0  46581.999159  \n",
       "2                         0.0  41008.318793  \n",
       "3                         0.0  20588.134091  \n",
       "4                         0.0  20312.170527  "
      ]
     },
     "execution_count": 16,
     "metadata": {},
     "output_type": "execute_result"
    }
   ],
   "source": [
    "df_fit.head()"
   ]
  },
  {
   "cell_type": "code",
   "execution_count": 14,
   "id": "46320337",
   "metadata": {},
   "outputs": [],
   "source": [
    "# 预测未来的数据\n",
    "df_predict = m.predict( df_test )\n",
    "df_test['yhat'] = df_predict['yhat'].values"
   ]
  },
  {
   "cell_type": "markdown",
   "id": "94567ad6",
   "metadata": {},
   "source": [
    "## 4.2 使用lightGBM算法做预测"
   ]
  },
  {
   "cell_type": "code",
   "execution_count": 18,
   "id": "38409478",
   "metadata": {},
   "outputs": [],
   "source": [
    "import lightgbm as lgb"
   ]
  },
  {
   "cell_type": "markdown",
   "id": "02ad9bec",
   "metadata": {},
   "source": [
    "预测1号店的1号部门， 以2012-07-30以前的数据做训练，往后预测一周"
   ]
  },
  {
   "cell_type": "code",
   "execution_count": 19,
   "id": "c30fe22a",
   "metadata": {},
   "outputs": [],
   "source": [
    "df_sample = df_all[ (df_all['store']==1) & (df_all['dept']==1)].sort_values('week')"
   ]
  },
  {
   "cell_type": "code",
   "execution_count": 20,
   "id": "57ba7117",
   "metadata": {},
   "outputs": [
    {
     "data": {
      "text/html": [
       "<div>\n",
       "<style scoped>\n",
       "    .dataframe tbody tr th:only-of-type {\n",
       "        vertical-align: middle;\n",
       "    }\n",
       "\n",
       "    .dataframe tbody tr th {\n",
       "        vertical-align: top;\n",
       "    }\n",
       "\n",
       "    .dataframe thead th {\n",
       "        text-align: right;\n",
       "    }\n",
       "</style>\n",
       "<table border=\"1\" class=\"dataframe\">\n",
       "  <thead>\n",
       "    <tr style=\"text-align: right;\">\n",
       "      <th></th>\n",
       "      <th>store</th>\n",
       "      <th>dept</th>\n",
       "      <th>week</th>\n",
       "      <th>sales</th>\n",
       "      <th>promotion_sales</th>\n",
       "    </tr>\n",
       "  </thead>\n",
       "  <tbody>\n",
       "    <tr>\n",
       "      <th>0</th>\n",
       "      <td>1</td>\n",
       "      <td>1</td>\n",
       "      <td>2010-02-01</td>\n",
       "      <td>24924.50</td>\n",
       "      <td>0.000000</td>\n",
       "    </tr>\n",
       "    <tr>\n",
       "      <th>1</th>\n",
       "      <td>1</td>\n",
       "      <td>1</td>\n",
       "      <td>2010-02-08</td>\n",
       "      <td>46039.49</td>\n",
       "      <td>22538.074165</td>\n",
       "    </tr>\n",
       "    <tr>\n",
       "      <th>2</th>\n",
       "      <td>1</td>\n",
       "      <td>1</td>\n",
       "      <td>2010-02-15</td>\n",
       "      <td>41595.55</td>\n",
       "      <td>18381.721909</td>\n",
       "    </tr>\n",
       "    <tr>\n",
       "      <th>3</th>\n",
       "      <td>1</td>\n",
       "      <td>1</td>\n",
       "      <td>2010-02-22</td>\n",
       "      <td>19403.54</td>\n",
       "      <td>0.000000</td>\n",
       "    </tr>\n",
       "    <tr>\n",
       "      <th>4</th>\n",
       "      <td>1</td>\n",
       "      <td>1</td>\n",
       "      <td>2010-03-01</td>\n",
       "      <td>21827.90</td>\n",
       "      <td>0.000000</td>\n",
       "    </tr>\n",
       "  </tbody>\n",
       "</table>\n",
       "</div>"
      ],
      "text/plain": [
       "   store  dept       week     sales  promotion_sales\n",
       "0      1     1 2010-02-01  24924.50         0.000000\n",
       "1      1     1 2010-02-08  46039.49     22538.074165\n",
       "2      1     1 2010-02-15  41595.55     18381.721909\n",
       "3      1     1 2010-02-22  19403.54         0.000000\n",
       "4      1     1 2010-03-01  21827.90         0.000000"
      ]
     },
     "execution_count": 20,
     "metadata": {},
     "output_type": "execute_result"
    }
   ],
   "source": [
    "df_sample.head()"
   ]
  },
  {
   "cell_type": "code",
   "execution_count": 21,
   "id": "7ff22b78",
   "metadata": {},
   "outputs": [],
   "source": [
    "# 特征构建\n",
    "feature_cols = []\n",
    "\n",
    "## 第一组特征： 历史数据最后一周的销量和促销活动的金额\n",
    "df_sample['sales_lw'] = df_sample['sales'].shift(1)\n",
    "df_sample['promotion_lw'] = df_sample['promotion_sales'].shift(1)\n",
    "feature_cols = feature_cols + ['sales_lw', 'promotion_lw']\n",
    "\n",
    "## 第二组特征： 上一个周期（即去年同一周）的销量和促销活动金额\n",
    "df_sample['sales_ly'] = df_sample['sales'].shift(52)\n",
    "df_sample['promotion_ly'] = df_sample['promotion_sales'].shift(52)\n",
    "feature_cols = feature_cols + ['sales_ly', 'promotion_ly']\n",
    "\n",
    "## 第三组特征：待预测周的促销活动金额\n",
    "feature_cols = feature_cols + ['promotion_sales']\n",
    "\n",
    "## 只保留所有特征都不为空的数据\n",
    "for col in feature_cols:\n",
    "    df_sample = df_sample[ ~df_sample[col].isna() ]"
   ]
  },
  {
   "cell_type": "code",
   "execution_count": 22,
   "id": "99139c89",
   "metadata": {},
   "outputs": [],
   "source": [
    "# 构建训练集和验证集\n",
    "x_train = df_sample[ df_sample['week']<='2012-07-30' ][ feature_cols ].values\n",
    "y_train = df_sample[ df_sample['week']<='2012-07-30' ][ 'sales' ].values\n",
    "\n",
    "x_test = df_sample[ df_sample['week']=='2012-08-06' ][ feature_cols ].values\n",
    "y_test = df_sample[ df_sample['week']=='2012-08-06'  ][ 'sales' ].values"
   ]
  },
  {
   "cell_type": "code",
   "execution_count": 24,
   "id": "4f0977af",
   "metadata": {},
   "outputs": [
    {
     "data": {
      "text/plain": [
       "(79, 5)"
      ]
     },
     "execution_count": 24,
     "metadata": {},
     "output_type": "execute_result"
    }
   ],
   "source": [
    "x_train.shape"
   ]
  },
  {
   "cell_type": "code",
   "execution_count": 25,
   "id": "d20af7e2",
   "metadata": {},
   "outputs": [
    {
     "data": {
      "text/plain": [
       "LGBMRegressor()"
      ]
     },
     "execution_count": 25,
     "metadata": {},
     "output_type": "execute_result"
    }
   ],
   "source": [
    "# 使用lightGBM建模\n",
    "from lightgbm.sklearn import LGBMRegressor\n",
    "\n",
    "model = LGBMRegressor()\n",
    "model.fit(x_train, y_train)"
   ]
  },
  {
   "cell_type": "code",
   "execution_count": 26,
   "id": "56960e2b",
   "metadata": {},
   "outputs": [],
   "source": [
    "# 预测\n",
    "y_pred = model.predict( x_test )"
   ]
  },
  {
   "cell_type": "code",
   "execution_count": 27,
   "id": "81b35765",
   "metadata": {},
   "outputs": [
    {
     "data": {
      "text/plain": [
       "(array([16165.25781465]), array([16119.92]))"
      ]
     },
     "execution_count": 27,
     "metadata": {},
     "output_type": "execute_result"
    }
   ],
   "source": [
    "y_pred, y_test"
   ]
  },
  {
   "cell_type": "code",
   "execution_count": null,
   "id": "14355224",
   "metadata": {},
   "outputs": [],
   "source": []
  }
 ],
 "metadata": {
  "kernelspec": {
   "display_name": "Python [conda env:pytorch1.0_gpu] *",
   "language": "python",
   "name": "conda-env-pytorch1.0_gpu-py"
  },
  "language_info": {
   "codemirror_mode": {
    "name": "ipython",
    "version": 3
   },
   "file_extension": ".py",
   "mimetype": "text/x-python",
   "name": "python",
   "nbconvert_exporter": "python",
   "pygments_lexer": "ipython3",
   "version": "3.7.13"
  }
 },
 "nbformat": 4,
 "nbformat_minor": 5
}
