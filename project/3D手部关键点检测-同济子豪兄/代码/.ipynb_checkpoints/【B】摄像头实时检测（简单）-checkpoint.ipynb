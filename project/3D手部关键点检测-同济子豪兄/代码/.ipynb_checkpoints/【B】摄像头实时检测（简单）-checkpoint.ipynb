{
 "cells": [
  {
   "cell_type": "markdown",
   "id": "rubber-thought",
   "metadata": {},
   "source": [
    "B站：同济子豪兄（https://space.bilibili.com/1900783）\n",
    "\n",
    "微信公众号：人工智能小技巧\n",
    "\n",
    "张子豪 2021-07-12"
   ]
  },
  {
   "cell_type": "markdown",
   "id": "heated-merchandise",
   "metadata": {},
   "source": [
    "# 导入工具包"
   ]
  },
  {
   "cell_type": "code",
   "execution_count": 1,
   "id": "legal-fortune",
   "metadata": {},
   "outputs": [],
   "source": [
    "# opencv-python\n",
    "import cv2\n",
    "# mediapipe人工智能工具包\n",
    "import mediapipe as mp\n",
    "# 进度条库\n",
    "from tqdm import tqdm\n",
    "# 时间库\n",
    "import time"
   ]
  },
  {
   "cell_type": "markdown",
   "id": "behind-tours",
   "metadata": {},
   "source": [
    "# 导入模型"
   ]
  },
  {
   "cell_type": "code",
   "execution_count": 2,
   "id": "cosmetic-being",
   "metadata": {},
   "outputs": [],
   "source": [
    "# 导入solution\n",
    "mp_hands = mp.solutions.hands\n",
    "# 导入模型\n",
    "hands = mp_hands.Hands(static_image_mode=False,        # 是静态图片还是连续视频帧\n",
    "                       max_num_hands=2,                # 最多检测几只手\n",
    "                       min_detection_confidence=0.7,   # 置信度阈值\n",
    "                       min_tracking_confidence=0.5)    # 追踪阈值\n",
    "# 导入绘图函数\n",
    "mpDraw = mp.solutions.drawing_utils "
   ]
  },
  {
   "cell_type": "markdown",
   "id": "enabling-article",
   "metadata": {},
   "source": [
    "# 处理单帧的函数"
   ]
  },
  {
   "cell_type": "code",
   "execution_count": 3,
   "id": "polar-brighton",
   "metadata": {},
   "outputs": [],
   "source": [
    "# 处理帧函数\n",
    "def process_frame(img):\n",
    "    # 水平镜像翻转图像，使图中左右手与真实左右手对应\n",
    "    # 参数 1：水平翻转，0：竖直翻转，-1：水平和竖直都翻转\n",
    "    img = cv2.flip(img, 1)\n",
    "    # BGR转RGB\n",
    "    img_RGB = cv2.cvtColor(img, cv2.COLOR_BGR2RGB)\n",
    "    # 将RGB图像输入模型，获取预测结果\n",
    "    results = hands.process(img_RGB)\n",
    "    \n",
    "    if results.multi_hand_landmarks: # 如果有检测到手\n",
    "        # 遍历每一只检测出的手\n",
    "        for hand_idx in range(len(results.multi_hand_landmarks)):\n",
    "            hand_21 = results.multi_hand_landmarks[hand_idx] # 获取该手的所有关键点坐标\n",
    "            mpDraw.draw_landmarks(img, hand_21, mp_hands.HAND_CONNECTIONS) # 可视化\n",
    "            \n",
    "    return img"
   ]
  },
  {
   "cell_type": "markdown",
   "id": "returning-science",
   "metadata": {},
   "source": [
    "# 调用摄像头获取每帧（模板）"
   ]
  },
  {
   "cell_type": "code",
   "execution_count": 5,
   "id": "corporate-nowhere",
   "metadata": {},
   "outputs": [],
   "source": [
    "# 调用摄像头逐帧实时处理模板\n",
    "# 不需修改任何代码，只需修改process_frame函数即可\n",
    "# 同济子豪兄 2021-7-8\n",
    "\n",
    "# 导入opencv-python\n",
    "import cv2\n",
    "import time\n",
    "\n",
    "# 获取摄像头，传入0表示获取系统默认摄像头\n",
    "cap = cv2.VideoCapture(1)\n",
    "\n",
    "# 打开cap\n",
    "cap.open(0)\n",
    "\n",
    "# 无限循环，直到break被触发\n",
    "while cap.isOpened():\n",
    "    # 获取画面\n",
    "    success, frame = cap.read()\n",
    "    if not success:\n",
    "        print('Error')\n",
    "        break\n",
    "    \n",
    "    ## !!!处理帧函数\n",
    "    frame = process_frame(frame)\n",
    "    \n",
    "    # 展示处理后的三通道图像\n",
    "    cv2.imshow('my_window',frame)\n",
    "\n",
    "    if cv2.waitKey(1) in [ord('q'),27]: # 按键盘上的q或esc退出（在英文输入法下）\n",
    "        break\n",
    "    \n",
    "# 关闭摄像头\n",
    "cap.release()\n",
    "\n",
    "# 关闭图像窗口\n",
    "cv2.destroyAllWindows()"
   ]
  },
  {
   "cell_type": "code",
   "execution_count": null,
   "id": "guided-endorsement",
   "metadata": {},
   "outputs": [],
   "source": []
  }
 ],
 "metadata": {
  "kernelspec": {
   "display_name": "Python 3",
   "language": "python",
   "name": "python3"
  },
  "language_info": {
   "codemirror_mode": {
    "name": "ipython",
    "version": 3
   },
   "file_extension": ".py",
   "mimetype": "text/x-python",
   "name": "python",
   "nbconvert_exporter": "python",
   "pygments_lexer": "ipython3",
   "version": "3.7.2"
  }
 },
 "nbformat": 4,
 "nbformat_minor": 5
}
