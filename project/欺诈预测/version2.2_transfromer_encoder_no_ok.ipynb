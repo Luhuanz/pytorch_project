{
 "cells": [
  {
   "cell_type": "code",
   "execution_count": 91,
   "metadata": {
    "ExecuteTime": {
     "end_time": "2022-09-20T03:48:36.382613Z",
     "start_time": "2022-09-20T03:48:36.364917Z"
    }
   },
   "outputs": [],
   "source": [
    " #这个版本为尝试版本，因为ml已经调到89了，接下来使用bert进行尝试\n",
    "    # result_ = pd.DataFrame(test['sid'])\n",
    "# result_['label'] = res\n",
    "# result_.to_csv('./baseline_xgboost_7z.csv', index=False)\n",
    "# result_"
   ]
  },
  {
   "cell_type": "code",
   "execution_count": 92,
   "metadata": {
    "ExecuteTime": {
     "end_time": "2022-09-20T03:48:36.772813Z",
     "start_time": "2022-09-20T03:48:36.768375Z"
    }
   },
   "outputs": [],
   "source": [
    " # Q1  是否能够embedding 特征表 \n",
    " # Q2   是否能够接 bert \n",
    "# Q3  是否能够 crf+ MLP 作为decoder "
   ]
  },
  {
   "cell_type": "code",
   "execution_count": 93,
   "metadata": {
    "ExecuteTime": {
     "end_time": "2022-09-20T03:48:38.676790Z",
     "start_time": "2022-09-20T03:48:37.096610Z"
    }
   },
   "outputs": [],
   "source": [
    "import pandas as pd\n",
    "import warnings\n",
    "warnings.filterwarnings('ignore') # 不会报warning错误\n",
    "\n",
    "# 数据加载\n",
    "train = pd.read_csv('./train.csv')\n",
    "test = pd.read_csv('./test1.csv')\n",
    "test = test.iloc[:, 1:]\n",
    "train = train.iloc[:, 1:]"
   ]
  },
  {
   "cell_type": "code",
   "execution_count": 94,
   "metadata": {
    "ExecuteTime": {
     "end_time": "2022-09-20T03:48:38.692842Z",
     "start_time": "2022-09-20T03:48:38.678785Z"
    }
   },
   "outputs": [],
   "source": [
    "features = train.columns.tolist()\n",
    "features.remove('label')"
   ]
  },
  {
   "cell_type": "code",
   "execution_count": 95,
   "metadata": {
    "ExecuteTime": {
     "end_time": "2022-09-20T03:48:41.313417Z",
     "start_time": "2022-09-20T03:48:38.698861Z"
    },
    "run_control": {
     "marked": true
    },
    "scrolled": true
   },
   "outputs": [],
   "source": [
    "\n",
    "#加 osv\n",
    "train['fea_hash'].map(lambda x: len(str(x))).value_counts()\n",
    "train['fea1_hash'].map(lambda x: len(str(x))).value_counts()\n",
    "remove_list = ['os','sid']\n",
    "col = features\n",
    "for i in remove_list:\n",
    "    col.remove(i)\n",
    "features = train[col]\n",
    "features['fea_hash_len'] = features['fea_hash'].map(lambda x: len(str(x)))\n",
    "features['fea1_hash_len'] = features['fea1_hash'].map(lambda x: len(str(x)))\n",
    "features['fea_hash'] = features['fea_hash'].map(lambda x: 0 if len(str(x))>16 else int(x))\n",
    "features['fea1_hash'] = features['fea1_hash'].map(lambda x: 0 if len(str(x))>16 else int(x))\n",
    "test_features = test[col]\n",
    "test_features['fea_hash_len'] = test_features['fea_hash'].map(lambda x: len(str(x)))\n",
    "test_features['fea1_hash_len'] = test_features['fea1_hash'].map(lambda x: len(str(x)))\n",
    "test_features['fea_hash'] = test_features['fea_hash'].map(lambda x: 0 if len(str(x))>16 else int(x))\n",
    "test_features['fea1_hash'] = test_features['fea1_hash'].map(lambda x: 0 if len(str(x))>16 else int(x))\n",
    "def app_osv(x):\n",
    "    x=str(x).replace('Android_','').replace(' ','').replace('.','').replace('60十核20G_HD','').replace('Android','').replace('44W','')\n",
    "    #\n",
    "    if x=='nan' or x=='GIONEE_YNGA'or x=='f073b_changxiang_v01_b1b8_20180915' or x==''or x=='%E6%B1%9F%E7%81%B5OS+50':\n",
    "        return 810\n",
    "    elif x.count('-')>0:\n",
    "        return  int(x.split('-')[0])\n",
    "    else:\n",
    "        res=int(x)\n",
    "        if res<10:\n",
    "            return res*100\n",
    "        elif res<100:\n",
    "            return res*10\n",
    "    return res\n",
    "features['osv']=features['osv'].apply(app_osv)\n",
    "test_features['osv']=test_features['osv'].apply(app_osv)           "
   ]
  },
  {
   "cell_type": "code",
   "execution_count": 96,
   "metadata": {
    "ExecuteTime": {
     "end_time": "2022-09-20T03:48:41.797426Z",
     "start_time": "2022-09-20T03:48:41.316239Z"
    }
   },
   "outputs": [],
   "source": [
    "# 加timestamp\n",
    "from datetime import datetime\n",
    "features['timestamp'] = features['timestamp'].apply(lambda x : datetime.fromtimestamp(x/1000))\n",
    "# 分解时间\n",
    "# features['year'] = features['timestamp'].dt.year\n",
    "# features['month'] = features['timestamp'].dt.month\n",
    "# features['day'] = features['timestamp'].dt.day\n",
    "# features['weekday'] = features['timestamp'].dt.weekday\n",
    "# features['hour'] = features['timestamp'].dt.hour\n",
    "# features['minute'] = features['timestamp'].dt.minute\n",
    "start_time = features['timestamp'].min()\n",
    "features['timestamp_diff_start'] = features['timestamp']-start_time\n",
    "features['timestamp_diff_start'] = features['timestamp_diff_start'].dt.days - features['timestamp_diff_start'].dt.seconds/3600/24\n",
    "test_features['timestamp'] = test_features['timestamp'].apply(lambda x : datetime.fromtimestamp(x/1000))\n",
    "# 分解时间\n",
    "# test_features['year'] = test_features['timestamp'].dt.year\n",
    "# test_features['month'] = test_features['timestamp'].dt.month\n",
    "# test_features['day'] = test_features['timestamp'].dt.day\n",
    "# test_features['weekday'] = test_features['timestamp'].dt.weekday\n",
    "# test_features['hour'] = test_features['timestamp'].dt.hour\n",
    "# test_features['minute'] = test_features['timestamp'].dt.minute\n",
    "start_time = test_features['timestamp'].min()\n",
    "test_features['timestamp_diff_start'] = test_features['timestamp']-start_time\n",
    "test_features['timestamp_diff_start'] = test_features['timestamp_diff_start'].dt.days - test_features['timestamp_diff_start'].dt.seconds/3600/24"
   ]
  },
  {
   "cell_type": "code",
   "execution_count": 97,
   "metadata": {
    "ExecuteTime": {
     "end_time": "2022-09-20T03:48:42.245410Z",
     "start_time": "2022-09-20T03:48:41.799421Z"
    }
   },
   "outputs": [],
   "source": [
    "def trans_version(version):\n",
    "    version = version.replace('V','').replace('P_Final_','').replace(' ','').replace('GA','').replace('v','')\n",
    "    if version == '50':\n",
    "        return int(5)\n",
    "    return int(version)\n",
    "features['version'] = features['version'].apply(trans_version)\n",
    "test_features['version'] = test_features['version'].apply(trans_version)"
   ]
  },
  {
   "cell_type": "code",
   "execution_count": 98,
   "metadata": {
    "ExecuteTime": {
     "end_time": "2022-09-20T03:48:42.619664Z",
     "start_time": "2022-09-20T03:48:42.247466Z"
    }
   },
   "outputs": [],
   "source": [
    "def trans_lan(lan):\n",
    "    lan = str(lan)\n",
    "    if 'zh' in lan.lower() or 'cn' in lan.lower():\n",
    "        return int(0)\n",
    "    else:\n",
    "        return int(1)\n",
    "features['lan'] = features['lan'].apply(trans_lan)\n",
    "test_features['lan']=test_features['lan'].apply(trans_lan)"
   ]
  },
  {
   "cell_type": "code",
   "execution_count": 99,
   "metadata": {
    "ExecuteTime": {
     "end_time": "2022-09-20T03:48:42.650517Z",
     "start_time": "2022-09-20T03:48:42.621249Z"
    }
   },
   "outputs": [],
   "source": [
    "features['osv1'] = features['osv'] - features['version'] \n",
    "features['dev_area'] = features['dev_height']*features['dev_width']\n",
    "test_features['osv1'] = test_features['osv'] - test_features['version'] \n",
    "test_features['dev_area'] =test_features['dev_height']*test_features['dev_width'] "
   ]
  },
  {
   "cell_type": "code",
   "execution_count": 100,
   "metadata": {
    "ExecuteTime": {
     "end_time": "2022-09-20T03:48:42.760542Z",
     "start_time": "2022-09-20T03:48:42.652618Z"
    }
   },
   "outputs": [],
   "source": [
    "features=features.drop(['timestamp'], axis=1)\n",
    "test_features=test_features.drop(['timestamp'], axis=1)"
   ]
  },
  {
   "cell_type": "code",
   "execution_count": 101,
   "metadata": {
    "ExecuteTime": {
     "end_time": "2022-09-20T03:48:42.776073Z",
     "start_time": "2022-09-20T03:48:42.762079Z"
    }
   },
   "outputs": [],
   "source": [
    "# class Bert_block(dygraph.layers.Layer):\n",
    "#     def __init__(self):\n",
    "#         super(Model, self).__init__()\n",
    "#         # 离散特征做Embedding\n",
    "#         self.apptype_emb = Embedding([89 + 1, 728], is_sparse=False)\n",
    "#         self.apptype_fc = Linear(32, 32)\n",
    "\n",
    "#         self.carrier_emb = Embedding([5 + 1, 32], is_sparse=False)\n",
    "#         self.carrier_fc = Linear(32, 32)\n",
    "\n",
    "#         self.dev_height_emb = Embedding([864 + 1, 512], is_sparse=False)\n",
    "#         self.dev_height_fc = Linear(32, 32)\n",
    "\n",
    "#         self.dev_ppi_emb = Embedding([105 + 1, 32], is_sparse=False)\n",
    "#         self.dev_ppi_fc = Linear(32, 32)\n",
    "\n",
    "#         self.dev_width_emb = Embedding([382 + 1, 32], is_sparse=False)\n",
    "#         self.dev_width_fc = Linear(32, 32)\n",
    "\n",
    "#         self.lan_emb = Embedding([25 + 1, 32], is_sparse=False)\n",
    "#         self.lan_fc = Linear(32, 32)\n",
    "\n",
    "#         self.media_id_emb = Embedding([292 + 1, 32], is_sparse=False)\n",
    "#         self.media_id_fc = Linear(32, 32)\n",
    "\n",
    "#         self.ntt_emb = Embedding([8 + 1, 32], is_sparse=False)\n",
    "#         self.ntt_fc = Linear(32, 32)\n",
    "\n",
    "#         self.osv_emb = Embedding([165 + 1, 32], is_sparse=False)\n",
    "#         self.osv_fc = Linear(32, 32)\n",
    "\n",
    "#         self.package_emb = Embedding([2102 + 1, 64], is_sparse=False)\n",
    "#         self.package_fc = Linear(64, 64)\n",
    "\n",
    "#         self.version_emb = Embedding([23 + 1, 16], is_sparse=False)\n",
    "#         self.version_fc = Linear(16, 16)\n",
    "\n",
    "#         self.location_emb = Embedding([332 + 1, 16], is_sparse=False)\n",
    "#         self.location_fc = Linear(16, 16)\n",
    "\n",
    "#         self.fea1_hash_emb = Embedding([6147 + 1, 64], is_sparse=False)\n",
    "#         self.fea1_hash_fc = Linear(64, 64)\n",
    "\n",
    "#         self.dense_fc = Linear(1, 32)\n",
    "\n",
    "#         self.fc1 = Linear(416 + 128-64 , 800, act='relu')\n",
    "#         self.fc2 = Linear(800, 900, act='relu')\n",
    "#         self.fc3 = Linear(900, 900, act='relu')\n",
    "#         self.fc4 = Linear(900, 2, act='softmax') "
   ]
  },
  {
   "cell_type": "markdown",
   "metadata": {},
   "source": [
    "# embedding "
   ]
  },
  {
   "cell_type": "code",
   "execution_count": 102,
   "metadata": {
    "ExecuteTime": {
     "end_time": "2022-09-20T03:48:42.869829Z",
     "start_time": "2022-09-20T03:48:42.778088Z"
    }
   },
   "outputs": [],
   "source": [
    "df=pd.concat([features, test_features])"
   ]
  },
  {
   "cell_type": "code",
   "execution_count": 103,
   "metadata": {
    "ExecuteTime": {
     "end_time": "2022-09-20T03:48:44.594369Z",
     "start_time": "2022-09-20T03:48:42.871339Z"
    }
   },
   "outputs": [
    {
     "name": "stdout",
     "output_type": "stream",
     "text": [
      "android_id存在着467958个不同的值\n",
      "apptype存在着89个不同的值\n",
      "carrier存在着5个不同的值\n",
      "dev_height存在着864个不同的值\n",
      "dev_ppi存在着105个不同的值\n",
      "dev_width存在着382个不同的值\n",
      "lan存在着2个不同的值\n",
      "media_id存在着292个不同的值\n",
      "ntt存在着8个不同的值\n",
      "osv存在着108个不同的值\n",
      "package存在着2102个不同的值\n",
      "version存在着14个不同的值\n",
      "fea_hash存在着509360个不同的值\n",
      "location存在着332个不同的值\n",
      "fea1_hash存在着6147个不同的值\n",
      "cus_type存在着58个不同的值\n",
      "fea_hash_len存在着16个不同的值\n",
      "fea1_hash_len存在着5个不同的值\n",
      "timestamp_diff_start存在着377060个不同的值\n",
      "osv1存在着236个不同的值\n",
      "dev_area存在着1169个不同的值\n"
     ]
    }
   ],
   "source": [
    "for i in df.columns:\n",
    "      print('{}存在着{}个不同的值'.format(i,len(set(df[i]))))"
   ]
  },
  {
   "cell_type": "markdown",
   "metadata": {},
   "source": [
    "## 分析 "
   ]
  },
  {
   "cell_type": "markdown",
   "metadata": {},
   "source": [
    "- android_id、sid、 不需要做Embedding\n",
    "- fea_hash  fea1_hash timestamp_diff_start  norm    \n",
    "- os同一个值，不需要加入计算"
   ]
  },
  {
   "cell_type": "code",
   "execution_count": 104,
   "metadata": {
    "ExecuteTime": {
     "end_time": "2022-09-20T03:48:47.223002Z",
     "start_time": "2022-09-20T03:48:47.209857Z"
    }
   },
   "outputs": [
    {
     "data": {
      "text/plain": [
       "17"
      ]
     },
     "execution_count": 104,
     "metadata": {},
     "output_type": "execute_result"
    }
   ],
   "source": [
    "embed_list = ['apptype','carrier','dev_height','dev_ppi','dev_width','lan','media_id','ntt','osv','package','version','location','cus_type','fea_hash_len','fea1_hash_len','osv1','dev_area']\n",
    "len(embed_list)\n"
   ]
  },
  {
   "cell_type": "code",
   "execution_count": 105,
   "metadata": {
    "ExecuteTime": {
     "end_time": "2022-09-20T03:48:47.722632Z",
     "start_time": "2022-09-20T03:48:47.718219Z"
    }
   },
   "outputs": [],
   "source": [
    "import pickle"
   ]
  },
  {
   "cell_type": "code",
   "execution_count": 106,
   "metadata": {
    "ExecuteTime": {
     "end_time": "2022-09-20T03:48:52.320328Z",
     "start_time": "2022-09-20T03:48:48.329484Z"
    }
   },
   "outputs": [
    {
     "name": "stdout",
     "output_type": "stream",
     "text": [
      "apptype 字典生成完毕,共 89 个id\n",
      "carrier 字典生成完毕,共 5 个id\n",
      "dev_height 字典生成完毕,共 864 个id\n",
      "dev_ppi 字典生成完毕,共 105 个id\n",
      "dev_width 字典生成完毕,共 382 个id\n",
      "lan 字典生成完毕,共 2 个id\n",
      "media_id 字典生成完毕,共 292 个id\n",
      "ntt 字典生成完毕,共 8 个id\n",
      "osv 字典生成完毕,共 108 个id\n",
      "package 字典生成完毕,共 2102 个id\n",
      "version 字典生成完毕,共 14 个id\n",
      "location 字典生成完毕,共 332 个id\n",
      "cus_type 字典生成完毕,共 58 个id\n",
      "fea_hash_len 字典生成完毕,共 16 个id\n",
      "fea1_hash_len 字典生成完毕,共 5 个id\n",
      "osv1 字典生成完毕,共 236 个id\n",
      "dev_area 字典生成完毕,共 1169 个id\n"
     ]
    }
   ],
   "source": [
    "\n",
    "\n",
    "def save_obj(obj, name):\n",
    "    with open(name + '.pkl', 'wb') as f:\n",
    "        pickle.dump(obj, f, pickle.HIGHEST_PROTOCOL)\n",
    " \n",
    " \n",
    "def load_obj(name):\n",
    "    with open(name + '.pkl', 'rb') as f:\n",
    "        return pickle.load(f)\n",
    "\n",
    "\n",
    "\n",
    "def gen_embed_vocab(data, col, vocab_path):\n",
    "    data_hash = dict()\n",
    "    # 制作字典\n",
    "    for sample in data:\n",
    "        sample = str(sample)\n",
    "        if sample not in data_hash:\n",
    "            data_hash[sample] = len(data_hash) + 1\n",
    "    # 保存字典\n",
    "    save_obj(data_hash, vocab_path+col+'_vocab')\n",
    "    print(col, \"字典生成完毕,共\", len(data_hash), \"个id\")\n",
    "    return data_hash\n",
    "\n",
    "\n",
    "for col in embed_list:\n",
    "     gen_embed_vocab(df[col], col, 'vocab/')"
   ]
  },
  {
   "cell_type": "markdown",
   "metadata": {},
   "source": [
    "##  构建dataset以及 dataloader"
   ]
  },
  {
   "cell_type": "code",
   "execution_count": 107,
   "metadata": {
    "ExecuteTime": {
     "end_time": "2022-09-20T03:48:55.125552Z",
     "start_time": "2022-09-20T03:48:55.110358Z"
    }
   },
   "outputs": [],
   "source": [
    "\n",
    "# 各字段网络类型\n",
    "NETWORK_TAGS = {'android_id': None,\n",
    "                'apptype': \"emb\",\n",
    "                'carrier': \"emb\",\n",
    "                'dev_height': \"emb\",\n",
    "                'dev_ppi': \"emb\",\n",
    "                'dev_width': \"emb\",\n",
    "                'lan': \"emb\",\n",
    "                'media_id': \"emb\",\n",
    "                'ntt': \"emb\",\n",
    "                'osv': \"emb\",\n",
    "                'package': \"emb\",\n",
    "                'timestamp_diff_start': \"norm\",\n",
    "                'version': \"emb\",\n",
    "                'fea_hash': \"norm\",\n",
    "                'location': \"emb\",\n",
    "                'fea1_hash': \"norm\",\n",
    "                'cus_type': \"emb\",\n",
    "               'fea_hash_len':\"emb\",\n",
    "               'fea1_hash_len':\"emb\",\n",
    "               'osv1':\"emb\",\n",
    "               'dev_area':\"emb\"}"
   ]
  },
  {
   "cell_type": "code",
   "execution_count": 108,
   "metadata": {
    "ExecuteTime": {
     "end_time": "2022-09-20T03:48:56.297367Z",
     "start_time": "2022-09-20T03:48:56.287850Z"
    }
   },
   "outputs": [],
   "source": [
    "# 需要embedding的大小\n",
    "emb_size = {}\n",
    "# 训练字段\n",
    "FEATURES_ = [] "
   ]
  },
  {
   "cell_type": "code",
   "execution_count": 109,
   "metadata": {
    "ExecuteTime": {
     "end_time": "2022-09-20T03:48:56.966553Z",
     "start_time": "2022-09-20T03:48:56.957027Z"
    }
   },
   "outputs": [],
   "source": [
    "from sklearn.preprocessing import StandardScaler"
   ]
  },
  {
   "cell_type": "code",
   "execution_count": 110,
   "metadata": {
    "ExecuteTime": {
     "end_time": "2022-09-20T03:48:57.569436Z",
     "start_time": "2022-09-20T03:48:57.556802Z"
    }
   },
   "outputs": [],
   "source": [
    "# 对不需要embedding进行归一化处理\n",
    "unemb_cols = []\n",
    "for k, v in NETWORK_TAGS.items():\n",
    "    if v == 'norm':\n",
    "        unemb_cols.append(k)"
   ]
  },
  {
   "cell_type": "code",
   "execution_count": 111,
   "metadata": {
    "ExecuteTime": {
     "end_time": "2022-09-20T03:48:58.267503Z",
     "start_time": "2022-09-20T03:48:58.253872Z"
    }
   },
   "outputs": [
    {
     "data": {
      "text/plain": [
       "['timestamp_diff_start', 'fea_hash', 'fea1_hash']"
      ]
     },
     "execution_count": 111,
     "metadata": {},
     "output_type": "execute_result"
    }
   ],
   "source": [
    "unemb_cols"
   ]
  },
  {
   "cell_type": "code",
   "execution_count": 112,
   "metadata": {
    "ExecuteTime": {
     "end_time": "2022-09-20T03:48:59.297854Z",
     "start_time": "2022-09-20T03:48:58.891872Z"
    }
   },
   "outputs": [],
   "source": [
    "scaler = StandardScaler()\n",
    "scaler_data = scaler.fit_transform(df[unemb_cols])\n",
    "df[unemb_cols] = scaler_data"
   ]
  },
  {
   "cell_type": "code",
   "execution_count": 113,
   "metadata": {
    "ExecuteTime": {
     "end_time": "2022-09-20T03:48:59.688126Z",
     "start_time": "2022-09-20T03:48:59.637597Z"
    }
   },
   "outputs": [
    {
     "data": {
      "text/html": [
       "<div>\n",
       "<style scoped>\n",
       "    .dataframe tbody tr th:only-of-type {\n",
       "        vertical-align: middle;\n",
       "    }\n",
       "\n",
       "    .dataframe tbody tr th {\n",
       "        vertical-align: top;\n",
       "    }\n",
       "\n",
       "    .dataframe thead th {\n",
       "        text-align: right;\n",
       "    }\n",
       "</style>\n",
       "<table border=\"1\" class=\"dataframe\">\n",
       "  <thead>\n",
       "    <tr style=\"text-align: right;\">\n",
       "      <th></th>\n",
       "      <th>timestamp_diff_start</th>\n",
       "      <th>fea_hash</th>\n",
       "      <th>fea1_hash</th>\n",
       "    </tr>\n",
       "  </thead>\n",
       "  <tbody>\n",
       "    <tr>\n",
       "      <th>0</th>\n",
       "      <td>0.408626</td>\n",
       "      <td>0.022349</td>\n",
       "      <td>0.022888</td>\n",
       "    </tr>\n",
       "    <tr>\n",
       "      <th>1</th>\n",
       "      <td>0.832981</td>\n",
       "      <td>0.544812</td>\n",
       "      <td>0.455496</td>\n",
       "    </tr>\n",
       "    <tr>\n",
       "      <th>2</th>\n",
       "      <td>-0.284325</td>\n",
       "      <td>-0.576734</td>\n",
       "      <td>-1.352032</td>\n",
       "    </tr>\n",
       "    <tr>\n",
       "      <th>3</th>\n",
       "      <td>1.573846</td>\n",
       "      <td>1.174594</td>\n",
       "      <td>-0.822602</td>\n",
       "    </tr>\n",
       "    <tr>\n",
       "      <th>4</th>\n",
       "      <td>0.559519</td>\n",
       "      <td>0.207594</td>\n",
       "      <td>-0.639184</td>\n",
       "    </tr>\n",
       "    <tr>\n",
       "      <th>...</th>\n",
       "      <td>...</td>\n",
       "      <td>...</td>\n",
       "      <td>...</td>\n",
       "    </tr>\n",
       "    <tr>\n",
       "      <th>149995</th>\n",
       "      <td>1.053318</td>\n",
       "      <td>0.852001</td>\n",
       "      <td>0.331627</td>\n",
       "    </tr>\n",
       "    <tr>\n",
       "      <th>149996</th>\n",
       "      <td>0.585310</td>\n",
       "      <td>-1.622461</td>\n",
       "      <td>0.304501</td>\n",
       "    </tr>\n",
       "    <tr>\n",
       "      <th>149997</th>\n",
       "      <td>1.577644</td>\n",
       "      <td>-0.635404</td>\n",
       "      <td>0.250249</td>\n",
       "    </tr>\n",
       "    <tr>\n",
       "      <th>149998</th>\n",
       "      <td>-0.426720</td>\n",
       "      <td>-0.657304</td>\n",
       "      <td>-0.325912</td>\n",
       "    </tr>\n",
       "    <tr>\n",
       "      <th>149999</th>\n",
       "      <td>1.095440</td>\n",
       "      <td>-1.491399</td>\n",
       "      <td>0.236686</td>\n",
       "    </tr>\n",
       "  </tbody>\n",
       "</table>\n",
       "<p>650000 rows × 3 columns</p>\n",
       "</div>"
      ],
      "text/plain": [
       "        timestamp_diff_start  fea_hash  fea1_hash\n",
       "0                   0.408626  0.022349   0.022888\n",
       "1                   0.832981  0.544812   0.455496\n",
       "2                  -0.284325 -0.576734  -1.352032\n",
       "3                   1.573846  1.174594  -0.822602\n",
       "4                   0.559519  0.207594  -0.639184\n",
       "...                      ...       ...        ...\n",
       "149995              1.053318  0.852001   0.331627\n",
       "149996              0.585310 -1.622461   0.304501\n",
       "149997              1.577644 -0.635404   0.250249\n",
       "149998             -0.426720 -0.657304  -0.325912\n",
       "149999              1.095440 -1.491399   0.236686\n",
       "\n",
       "[650000 rows x 3 columns]"
      ]
     },
     "execution_count": 113,
     "metadata": {},
     "output_type": "execute_result"
    }
   ],
   "source": [
    "df[unemb_cols] "
   ]
  },
  {
   "cell_type": "code",
   "execution_count": 114,
   "metadata": {
    "ExecuteTime": {
     "end_time": "2022-09-20T03:49:06.628228Z",
     "start_time": "2022-09-20T03:49:00.398567Z"
    }
   },
   "outputs": [],
   "source": [
    "# embedding_ \n",
    "def load_vocab(name):\n",
    "    with open('vocab/' + name + '_vocab.pkl', 'rb') as f:\n",
    "        return pickle.load(f)\n",
    "\n",
    "for k, v in NETWORK_TAGS.items():\n",
    "    if v == 'emb':\n",
    "        emb_dict = load_vocab(k)\n",
    "        emb_size[k] = len(emb_dict)\n",
    "        df[k] = df[k].astype('str').map(emb_dict)\n",
    "    if v is not None:\n",
    "        FEATURES_.append(k)"
   ]
  },
  {
   "cell_type": "code",
   "execution_count": 127,
   "metadata": {
    "ExecuteTime": {
     "end_time": "2022-09-20T05:03:52.991214Z",
     "start_time": "2022-09-20T05:03:52.926038Z"
    },
    "scrolled": true
   },
   "outputs": [],
   "source": [
    "features_=df[:500000]\n",
    "test_features_=df[500000:]"
   ]
  },
  {
   "cell_type": "code",
   "execution_count": null,
   "metadata": {},
   "outputs": [],
   "source": [
    "class MineDataset(Dataset):\n",
    "\n",
    "    def __init__(self, data: pd.DataFrame, features: list, tags: dict):\n",
    "        super(MineDataset, self).__init__()\n",
    "        self.len = len(data)\n",
    "        self.features = features\n",
    "        self.tags = tags\n",
    "        self.X = data[features]\n",
    "        self.y = data['label']\n",
    "\n",
    "    def __getitem__(self, idx):\n",
    "        result = []\n",
    "        tmp_x = self.X.iloc[idx]\n",
    "        # 转换数据类型\n",
    "        for k, v in self.tags.items():\n",
    "            if v == 'emb':\n",
    "                result.append(np.array(tmp_x[k], dtype='int64').reshape([1]))\n",
    "            elif v == 'norm':\n",
    "                result.append(np.array(tmp_x[k], dtype='float32').reshape([1]))\n",
    "        # 如果是预测，添加标签\n",
    "        label = self.y.iloc[idx]\n",
    "        if label != -1:\n",
    "            result.append(np.array(label).astype(\"int64\"))\n",
    "\n",
    "        return result\n",
    "\n",
    "    def __len__(self):\n",
    "        return self.len"
   ]
  }
 ],
 "metadata": {
  "kernelspec": {
   "display_name": "Python 3",
   "language": "python",
   "name": "python3"
  },
  "language_info": {
   "codemirror_mode": {
    "name": "ipython",
    "version": 3
   },
   "file_extension": ".py",
   "mimetype": "text/x-python",
   "name": "python",
   "nbconvert_exporter": "python",
   "pygments_lexer": "ipython3",
   "version": "3.8.3"
  },
  "latex_envs": {
   "LaTeX_envs_menu_present": true,
   "autoclose": false,
   "autocomplete": true,
   "bibliofile": "biblio.bib",
   "cite_by": "apalike",
   "current_citInitial": 1,
   "eqLabelWithNumbers": true,
   "eqNumInitial": 1,
   "hotkeys": {
    "equation": "Ctrl-E",
    "itemize": "Ctrl-I"
   },
   "labels_anchors": false,
   "latex_user_defs": false,
   "report_style_numbering": false,
   "user_envs_cfg": false
  },
  "toc": {
   "base_numbering": 1,
   "nav_menu": {},
   "number_sections": true,
   "sideBar": true,
   "skip_h1_title": false,
   "title_cell": "Table of Contents",
   "title_sidebar": "Contents",
   "toc_cell": false,
   "toc_position": {},
   "toc_section_display": true,
   "toc_window_display": false
  }
 },
 "nbformat": 4,
 "nbformat_minor": 4
}
