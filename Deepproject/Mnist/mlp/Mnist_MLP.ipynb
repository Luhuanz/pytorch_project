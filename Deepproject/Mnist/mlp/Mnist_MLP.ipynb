{
 "cells": [
  {
   "cell_type": "markdown",
   "id": "858befda",
   "metadata": {},
   "source": [
    "# 测试部分"
   ]
  },
  {
   "cell_type": "code",
   "execution_count": 1,
   "id": "876703d6",
   "metadata": {
    "ExecuteTime": {
     "end_time": "2022-04-01T01:33:51.353864Z",
     "start_time": "2022-04-01T01:33:50.058576Z"
    }
   },
   "outputs": [
    {
     "name": "stdout",
     "output_type": "stream",
     "text": [
      "11.3\n"
     ]
    }
   ],
   "source": [
    "import torch # 深度学习包\n",
    "print(torch.version.cuda)# 查看cuda的版本 可以用 nvidia-smi 命令行查看"
   ]
  },
  {
   "cell_type": "code",
   "execution_count": 2,
   "id": "aa230275",
   "metadata": {
    "ExecuteTime": {
     "end_time": "2022-04-01T01:36:10.323763Z",
     "start_time": "2022-04-01T01:36:10.069284Z"
    }
   },
   "outputs": [
    {
     "name": "stdout",
     "output_type": "stream",
     "text": [
      "CUDA可使用\n",
      "驱动为： cuda:0\n",
      "GPU型号：  GeForce GTX 1050 Ti\n"
     ]
    }
   ],
   "source": [
    "# 查看显卡gpu是否可用，如果不可用，也可以用cpu跑，默认是cpu，数据量小不影响\n",
    "flag = torch.cuda.is_available() #是否可用返回 boolean\n",
    "if flag:\n",
    "    print(\"CUDA可使用\")\n",
    "else:\n",
    "    print(\"CUDA不可用\")\n",
    "ngpu= 1 #有几张卡\n",
    "# Decide which device we want to run on\n",
    "device = torch.device(\"cuda:0\" if (torch.cuda.is_available() and ngpu > 0) else \"cpu\")\n",
    "print(\"驱动为：\",device)\n",
    "print(\"GPU型号： \",torch.cuda.get_device_name(0))"
   ]
  },
  {
   "cell_type": "markdown",
   "id": "4d542604",
   "metadata": {},
   "source": [
    "#  全连接层FC建立"
   ]
  },
  {
   "cell_type": "markdown",
   "id": "99db4c21",
   "metadata": {},
   "source": [
    "## 导包"
   ]
  },
  {
   "cell_type": "code",
   "execution_count": 4,
   "id": "5dd441d9",
   "metadata": {
    "ExecuteTime": {
     "end_time": "2022-04-01T02:20:24.818711Z",
     "start_time": "2022-04-01T02:20:24.812753Z"
    }
   },
   "outputs": [],
   "source": [
    "import random \n",
    "import numpy as np \n",
    "import torch\n",
    "import torch.nn as nn   #所有网络层的基类\n",
    "import torchvision # torchvision是独立于pytorch的关于图像操作的一些方便工具库。\n",
    "import torch.nn.functional as F    #  torch神经网络库"
   ]
  },
  {
   "cell_type": "markdown",
   "id": "405c96d3",
   "metadata": {},
   "source": [
    "## 下载数据集"
   ]
  },
  {
   "cell_type": "code",
   "execution_count": 5,
   "id": "63533c6a",
   "metadata": {
    "ExecuteTime": {
     "end_time": "2022-04-01T02:26:42.698519Z",
     "start_time": "2022-04-01T02:25:31.928571Z"
    },
    "scrolled": true
   },
   "outputs": [
    {
     "name": "stdout",
     "output_type": "stream",
     "text": [
      "Downloading http://yann.lecun.com/exdb/mnist/train-images-idx3-ubyte.gz\n",
      "Downloading http://yann.lecun.com/exdb/mnist/train-images-idx3-ubyte.gz to .data\\MNIST\\raw\\train-images-idx3-ubyte.gz\n"
     ]
    },
    {
     "name": "stderr",
     "output_type": "stream",
     "text": [
      "100.0%\n"
     ]
    },
    {
     "name": "stdout",
     "output_type": "stream",
     "text": [
      "Extracting .data\\MNIST\\raw\\train-images-idx3-ubyte.gz to .data\\MNIST\\raw\n",
      "\n",
      "Downloading http://yann.lecun.com/exdb/mnist/train-labels-idx1-ubyte.gz\n",
      "Downloading http://yann.lecun.com/exdb/mnist/train-labels-idx1-ubyte.gz to .data\\MNIST\\raw\\train-labels-idx1-ubyte.gz\n"
     ]
    },
    {
     "name": "stderr",
     "output_type": "stream",
     "text": [
      "102.8%\n"
     ]
    },
    {
     "name": "stdout",
     "output_type": "stream",
     "text": [
      "Extracting .data\\MNIST\\raw\\train-labels-idx1-ubyte.gz to .data\\MNIST\\raw\n",
      "\n",
      "Downloading http://yann.lecun.com/exdb/mnist/t10k-images-idx3-ubyte.gz\n",
      "Downloading http://yann.lecun.com/exdb/mnist/t10k-images-idx3-ubyte.gz to .data\\MNIST\\raw\\t10k-images-idx3-ubyte.gz\n"
     ]
    },
    {
     "name": "stderr",
     "output_type": "stream",
     "text": [
      "100.0%\n"
     ]
    },
    {
     "name": "stdout",
     "output_type": "stream",
     "text": [
      "Extracting .data\\MNIST\\raw\\t10k-images-idx3-ubyte.gz to .data\\MNIST\\raw\n",
      "\n",
      "Downloading http://yann.lecun.com/exdb/mnist/t10k-labels-idx1-ubyte.gz\n",
      "Downloading http://yann.lecun.com/exdb/mnist/t10k-labels-idx1-ubyte.gz to .data\\MNIST\\raw\\t10k-labels-idx1-ubyte.gz\n"
     ]
    },
    {
     "name": "stderr",
     "output_type": "stream",
     "text": [
      "112.7%"
     ]
    },
    {
     "name": "stdout",
     "output_type": "stream",
     "text": [
      "Extracting .data\\MNIST\\raw\\t10k-labels-idx1-ubyte.gz to .data\\MNIST\\raw\n",
      "\n"
     ]
    },
    {
     "name": "stderr",
     "output_type": "stream",
     "text": [
      "\n"
     ]
    }
   ],
   "source": [
    "batch_size=128\n",
    "# 将数据集合下载到指定目录下,这里的transform表示，数据加载时所需要做的预处理操作\n",
    "# 加载训练集合\n",
    "train_dataset=torchvision.datasets.MNIST(\n",
    "    root='.data',\n",
    "    train=True,\n",
    "    transform=torchvision.transforms.ToTensor(),#转化为tensor\n",
    "    download=True)\n",
    "# 加载测试集合\n",
    "test_dataset=torchvision.datasets.MNIST(\n",
    "    root='.data',\n",
    "    train=False,\n",
    "    transform=torchvision.transforms.ToTensor(),\n",
    "    )\n",
    "\n",
    "train_loader=torch.utils.data.DataLoader(\n",
    "        dataset=train_dataset,\n",
    "        batch_size=batch_size, #一个批次的大小为128张\n",
    "        shuffle=True  #随机打乱\n",
    "        )\n",
    "\n",
    "test_loader=torch.utils.data.DataLoader(\n",
    "        dataset=test_dataset,\n",
    "        batch_size=batch_size,\n",
    "        shuffle=True\n",
    "        )\n"
   ]
  },
  {
   "cell_type": "markdown",
   "id": "6e55f09c",
   "metadata": {},
   "source": [
    "## 查看数据集"
   ]
  },
  {
   "cell_type": "code",
   "execution_count": 6,
   "id": "5b9d81cf",
   "metadata": {
    "ExecuteTime": {
     "end_time": "2022-04-01T02:31:38.891449Z",
     "start_time": "2022-04-01T02:31:37.198666Z"
    }
   },
   "outputs": [
    {
     "data": {
      "image/png": "[encoded data removed]",
      "text/plain": [
       "<Figure size 432x288 with 8 Axes>"
      ]
     },
     "metadata": {
      "needs_background": "light"
     },
     "output_type": "display_data"
    }
   ],
   "source": [
    "import matplotlib.pyplot as plt  # 简单的画图类\n",
    "%matplotlib inline\n",
    "# 加载测试集中的前 8张图片\n",
    "examples = iter(test_loader)\n",
    "example_data, example_targets = examples.next()\n",
    "\n",
    "for i in range(8):\n",
    "    plt.subplot(2, 4, i+1)\n",
    "    plt.imshow(example_data[i][0], cmap='gray')\n",
    "plt.show()\n"
   ]
  },
  {
   "cell_type": "markdown",
   "id": "59833f88",
   "metadata": {},
   "source": [
    "# 模型建立"
   ]
  },
  {
   "cell_type": "code",
   "execution_count": 31,
   "id": "de1daa42",
   "metadata": {
    "ExecuteTime": {
     "end_time": "2022-04-01T05:22:09.962539Z",
     "start_time": "2022-04-01T05:22:09.945552Z"
    }
   },
   "outputs": [],
   "source": [
    "# 输入节点数就为图片的大小：28×28×1,每张图片尺寸 1通道\n",
    "input_size = 784\n",
    "# 由于数字为 0-9，因此是10分类问题，因此输出节点数为 10\n",
    "num_out = 10"
   ]
  },
  {
   "cell_type": "code",
   "execution_count": 32,
   "id": "7fd7377a",
   "metadata": {
    "ExecuteTime": {
     "end_time": "2022-04-01T05:22:11.049671Z",
     "start_time": "2022-04-01T05:22:10.795058Z"
    }
   },
   "outputs": [
    {
     "data": {
      "text/plain": [
       "MLPNet(\n",
       "  (h1): Linear(in_features=784, out_features=300, bias=True)\n",
       "  (relu1): ReLU()\n",
       "  (out): Linear(in_features=300, out_features=10, bias=True)\n",
       "  (softmax): Softmax(dim=1)\n",
       ")"
      ]
     },
     "execution_count": 32,
     "metadata": {},
     "output_type": "execute_result"
    }
   ],
   "source": [
    "# 包含了一个隐含层的全连接神经网络\n",
    "class MLPNet(nn.Module):\n",
    "    # 输入数据的维度，中间层的节点数，输出数据的维度\n",
    "    def __init__(self, input_size, hidden_size, num_out):\n",
    "        super(MLPNet, self).__init__()\n",
    "        self.input_size = input_size \n",
    "        self.h1 = nn.Linear(input_size, hidden_size)\n",
    "        self.relu1 = nn.ReLU()\n",
    "        self.out = nn.Linear(hidden_size, num_out)\n",
    "        self.softmax=nn.Softmax(dim=1)# dim表示一维输出\n",
    "\n",
    "    def forward(self, x):\n",
    "        h1 = self.h1(x)\n",
    "        a1 = self.relu1(h1)\n",
    "        out = self.out(a1)\n",
    "      #  a_out=self.softmax(out) 这个是没必要的因为我们要把out进行后项传播\n",
    "        return out\n",
    "# 建立了一个中间层为 300 的节点三层神经网络，且将模型转为当前环境支持的类型（CPU 或 GPU）\n",
    "model = MLPNet(input_size, 300, num_out).to(device)\n",
    "model\n"
   ]
  },
  {
   "cell_type": "code",
   "execution_count": 14,
   "id": "d97e5e21",
   "metadata": {
    "ExecuteTime": {
     "end_time": "2022-04-01T03:21:27.983253Z",
     "start_time": "2022-04-01T03:21:27.973280Z"
    },
    "run_control": {
     "marked": true
    }
   },
   "outputs": [
    {
     "name": "stdout",
     "output_type": "stream",
     "text": [
      "<bound method Module.parameters of MLPNet(\n",
      "  (h1): Linear(in_features=784, out_features=300, bias=True)\n",
      "  (relu1): ReLU()\n",
      "  (out): Linear(in_features=300, out_features=10, bias=True)\n",
      "  (softmax): Softmax(dim=1)\n",
      ")>\n"
     ]
    }
   ],
   "source": [
    "# 查看模型的参数\n",
    "print(model.parameters)"
   ]
  },
  {
   "cell_type": "markdown",
   "id": "9c0f8a2c",
   "metadata": {},
   "source": [
    "## 损失函数构建反向传播优化器"
   ]
  },
  {
   "cell_type": "code",
   "execution_count": 20,
   "id": "dfbc9d27",
   "metadata": {
    "ExecuteTime": {
     "end_time": "2022-04-01T03:35:10.955978Z",
     "start_time": "2022-04-01T03:35:10.949996Z"
    },
    "run_control": {
     "marked": true
    }
   },
   "outputs": [],
   "source": [
    "criterion = nn.CrossEntropyLoss()  #交叉熵损失函数，一般分类问题都用 one-hot + Cross-entropy 回归问题 用MSE\n",
    "learning_rate = 0.01 #设置学习率为0.01\n",
    "optimizer = torch.optim.Adam(model.parameters(), lr=learning_rate)# 定义 Adam 优化器用于梯度下降 当然也可以用SGD"
   ]
  },
  {
   "cell_type": "markdown",
   "id": "f5cc3eb0",
   "metadata": {},
   "source": [
    "## 模型迭代"
   ]
  },
  {
   "cell_type": "code",
   "execution_count": 22,
   "id": "062b76fd",
   "metadata": {
    "ExecuteTime": {
     "end_time": "2022-04-01T03:38:05.401084Z",
     "start_time": "2022-04-01T03:38:05.384098Z"
    }
   },
   "outputs": [
    {
     "data": {
      "text/plain": [
       "469"
      ]
     },
     "execution_count": 22,
     "metadata": {},
     "output_type": "execute_result"
    }
   ],
   "source": [
    "len(train_loader) # 一共有469个batch"
   ]
  },
  {
   "cell_type": "code",
   "execution_count": 27,
   "id": "1c48a68d",
   "metadata": {
    "ExecuteTime": {
     "end_time": "2022-04-01T04:53:21.688259Z",
     "start_time": "2022-04-01T04:52:44.087429Z"
    }
   },
   "outputs": [
    {
     "name": "stdout",
     "output_type": "stream",
     "text": [
      "epoch [1/5], step [64/469], Loss: 0.0044\n",
      "epoch [1/5], step [128/469], Loss: 0.0269\n",
      "epoch [1/5], step [192/469], Loss: 0.0437\n",
      "epoch [1/5], step [256/469], Loss: 0.1133\n",
      "epoch [1/5], step [320/469], Loss: 0.0726\n",
      "epoch [1/5], step [384/469], Loss: 0.1079\n",
      "epoch [1/5], step [448/469], Loss: 0.2430\n",
      "epoch [2/5], step [64/469], Loss: 0.0508\n",
      "epoch [2/5], step [128/469], Loss: 0.0439\n",
      "epoch [2/5], step [192/469], Loss: 0.0931\n",
      "epoch [2/5], step [256/469], Loss: 0.0372\n",
      "epoch [2/5], step [320/469], Loss: 0.0804\n",
      "epoch [2/5], step [384/469], Loss: 0.0050\n",
      "epoch [2/5], step [448/469], Loss: 0.1479\n",
      "epoch [3/5], step [64/469], Loss: 0.1065\n",
      "epoch [3/5], step [128/469], Loss: 0.2333\n",
      "epoch [3/5], step [192/469], Loss: 0.1784\n",
      "epoch [3/5], step [256/469], Loss: 0.0632\n",
      "epoch [3/5], step [320/469], Loss: 0.0865\n",
      "epoch [3/5], step [384/469], Loss: 0.0340\n",
      "epoch [3/5], step [448/469], Loss: 0.0029\n",
      "epoch [4/5], step [64/469], Loss: 0.0043\n",
      "epoch [4/5], step [128/469], Loss: 0.0398\n",
      "epoch [4/5], step [192/469], Loss: 0.0571\n",
      "epoch [4/5], step [256/469], Loss: 0.0416\n",
      "epoch [4/5], step [320/469], Loss: 0.0657\n",
      "epoch [4/5], step [384/469], Loss: 0.0823\n",
      "epoch [4/5], step [448/469], Loss: 0.0008\n",
      "epoch [5/5], step [64/469], Loss: 0.0001\n",
      "epoch [5/5], step [128/469], Loss: 0.0470\n",
      "epoch [5/5], step [192/469], Loss: 0.0003\n",
      "epoch [5/5], step [256/469], Loss: 0.0255\n",
      "epoch [5/5], step [320/469], Loss: 0.0167\n",
      "epoch [5/5], step [384/469], Loss: 0.0046\n",
      "epoch [5/5], step [448/469], Loss: 0.0287\n",
      "模型训练完成\n"
     ]
    }
   ],
   "source": [
    "num_epochs = 5\n",
    "# 数据总长度\n",
    "n_total_steps = len(train_loader)\n",
    "for epoch in range(num_epochs):\n",
    "    for i, (x_images, y_labels) in enumerate(train_loader):\n",
    "        # 因为全连接会把一行数据当做一条数据，因此我们需要将一张图片转换到一行上\n",
    "        # 原始数据集的大小: [ 100, 1，28, 28]\n",
    "        # resize 后的向量大小: [-1, 784]\n",
    "        images = x_images.reshape(-1, 28*28).to(device)\n",
    "        labels = y_labels.to(device)\n",
    "        # 正向传播以及损失\n",
    "        y_pre = model(images) #前向传播\n",
    "        loss = criterion(y_pre, labels)# 计算损失函数\n",
    "        # 反向传播\n",
    "        # 梯度清空，反向传播，权重更新\n",
    "        optimizer.zero_grad()#梯度归零 因为训练的过程通常使用mini-batch方法，所以如果不将梯度清零的话，梯度会与上一个batch的数据相关，因此该函数要写在反向传播和梯度下降之前。\n",
    "        loss.backward()\n",
    "        optimizer.step()#执行一次优化步骤，通过梯度下降法来更新参数的值。因为梯度下降是基于梯度的所以在执行optimizer.step()函数前应先执行loss.backward()函数来计算梯度。\n",
    "\n",
    "        if (i+1) % 64 == 0:\n",
    "            print( f'epoch [{epoch+1}/{num_epochs}], step [{i+1}/{n_total_steps}], Loss: {loss.item():.4f}')\n",
    "print(\"模型训练完成\")\n"
   ]
  },
  {
   "cell_type": "code",
   "execution_count": 28,
   "id": "a4000962",
   "metadata": {
    "ExecuteTime": {
     "end_time": "2022-04-01T04:53:24.175566Z",
     "start_time": "2022-04-01T04:53:23.813698Z"
    }
   },
   "outputs": [
    {
     "data": {
      "image/png": "[encoded data removed]",
      "text/plain": [
       "<Figure size 432x288 with 3 Axes>"
      ]
     },
     "metadata": {
      "needs_background": "light"
     },
     "output_type": "display_data"
    },
    {
     "name": "stdout",
     "output_type": "stream",
     "text": [
      "上面三张图片的真实结果： [1 2 6]\n"
     ]
    },
    {
     "ename": "TypeError",
     "evalue": "can't convert cuda:0 device type tensor to numpy. Use Tensor.cpu() to copy the tensor to host memory first.",
     "output_type": "error",
     "traceback": [
      "\u001b[1;31m---------------------------------------------------------------------------\u001b[0m",
      "\u001b[1;31mTypeError\u001b[0m                                 Traceback (most recent call last)",
      "\u001b[1;32m~\\AppData\\Local\\Temp\\ipykernel_29524\\3647943638.py\u001b[0m in \u001b[0;36m<module>\u001b[1;34m\u001b[0m\n\u001b[0;32m     20\u001b[0m \u001b[1;31m# 将得到预测结果\u001b[0m\u001b[1;33m\u001b[0m\u001b[1;33m\u001b[0m\u001b[1;33m\u001b[0m\u001b[0m\n\u001b[0;32m     21\u001b[0m \u001b[1;31m# 由于预测结果是 N×10 的矩阵，因此利用 np.argmax 函数取每行最大的那个值，最为预测值\u001b[0m\u001b[1;33m\u001b[0m\u001b[1;33m\u001b[0m\u001b[1;33m\u001b[0m\u001b[0m\n\u001b[1;32m---> 22\u001b[1;33m \u001b[0mprint\u001b[0m\u001b[1;33m(\u001b[0m\u001b[1;34m\"上面三张图片的预测结果：\"\u001b[0m\u001b[1;33m,\u001b[0m \u001b[0mnp\u001b[0m\u001b[1;33m.\u001b[0m\u001b[0margmax\u001b[0m\u001b[1;33m(\u001b[0m\u001b[0moutputs\u001b[0m\u001b[1;33m[\u001b[0m\u001b[1;36m0\u001b[0m\u001b[1;33m:\u001b[0m\u001b[1;36m3\u001b[0m\u001b[1;33m]\u001b[0m\u001b[1;33m.\u001b[0m\u001b[0mdetach\u001b[0m\u001b[1;33m(\u001b[0m\u001b[1;33m)\u001b[0m\u001b[1;33m.\u001b[0m\u001b[0mnumpy\u001b[0m\u001b[1;33m(\u001b[0m\u001b[1;33m)\u001b[0m\u001b[1;33m,\u001b[0m \u001b[0maxis\u001b[0m\u001b[1;33m=\u001b[0m\u001b[1;36m1\u001b[0m\u001b[1;33m)\u001b[0m\u001b[1;33m)\u001b[0m\u001b[1;33m\u001b[0m\u001b[1;33m\u001b[0m\u001b[0m\n\u001b[0m",
      "\u001b[1;31mTypeError\u001b[0m: can't convert cuda:0 device type tensor to numpy. Use Tensor.cpu() to copy the tensor to host memory first."
     ]
    }
   ],
   "source": [
    "# 测试样例\n",
    "examples = iter(test_loader)\n",
    "example_data, example_targets = examples.next()\n",
    "\n",
    "# 图片的展示\n",
    "for i in range(3):\n",
    "    plt.subplot(1, 3, i+1)\n",
    "    plt.imshow(example_data[i][0], cmap='gray')\n",
    "plt.show()\n",
    "\n",
    "# 结果的预测\n",
    "images = example_data\n",
    "images = images.reshape(-1, 28*28).to(device)\n",
    "labels = labels.to(device)\n",
    "\n",
    "# 正向传播以及损失的求取\n",
    "outputs = model(images)\n",
    "# 将 Tensor 类型的变量 example_targets 转为 numpy 类型的，方便展示\n",
    "print(\"上面三张图片的真实结果：\", example_targets[0:3].detach().numpy())\n",
    "# 将得到预测结果\n",
    "# 由于预测结果是 N×10 的矩阵，因此利用 np.argmax 函数取每行最大的那个值，最为预测值\n",
    "print(\"上面三张图片的预测结果：\", np.argmax(outputs[0:3].detach().numpy(), axis=1))\n"
   ]
  },
  {
   "cell_type": "markdown",
   "id": "1d6541dd",
   "metadata": {},
   "source": [
    "# test集上测试"
   ]
  },
  {
   "cell_type": "code",
   "execution_count": 29,
   "id": "d1c2960c",
   "metadata": {
    "ExecuteTime": {
     "end_time": "2022-04-01T04:55:37.144915Z",
     "start_time": "2022-04-01T04:55:35.818091Z"
    }
   },
   "outputs": [
    {
     "name": "stdout",
     "output_type": "stream",
     "text": [
      "Accuracy of the network on the 10000 test images: 97.14 %\n"
     ]
    }
   ],
   "source": [
    "# 测试数据，计算模型的识别准确率\n",
    "with torch.no_grad():\n",
    "    n_correct = 0\n",
    "    n_samples = 0\n",
    "    for images, labels in test_loader:\n",
    "        # 和训练代码一致\n",
    "        images = images.reshape(-1, 28*28).to(device)\n",
    "        labels = labels.to(device)\n",
    "        outputs = model(images)\n",
    "\n",
    "        # 进行模型训练的准确度\n",
    "        _, predicted = torch.max(outputs.data, 1)\n",
    "        n_samples += labels.size(0)\n",
    "        n_correct += (predicted == labels).sum().item()\n",
    "\n",
    "    acc = 100.0 * n_correct / n_samples\n",
    "    print(f'Accuracy of the network on the 10000 test images: {acc} %')\n"
   ]
  },
  {
   "cell_type": "code",
   "execution_count": null,
   "id": "958c0ec0",
   "metadata": {},
   "outputs": [],
   "source": []
  }
 ],
 "metadata": {
  "kernelspec": {
   "display_name": "Python 3 (ipykernel)",
   "language": "python",
   "name": "python3"
  },
  "language_info": {
   "codemirror_mode": {
    "name": "ipython",
    "version": 3
   },
   "file_extension": ".py",
   "mimetype": "text/x-python",
   "name": "python",
   "nbconvert_exporter": "python",
   "pygments_lexer": "ipython3",
   "version": "3.7.13"
  },
  "latex_envs": {
   "LaTeX_envs_menu_present": true,
   "autoclose": false,
   "autocomplete": true,
   "bibliofile": "biblio.bib",
   "cite_by": "apalike",
   "current_citInitial": 1,
   "eqLabelWithNumbers": true,
   "eqNumInitial": 1,
   "hotkeys": {
    "equation": "Ctrl-E",
    "itemize": "Ctrl-I"
   },
   "labels_anchors": false,
   "latex_user_defs": false,
   "report_style_numbering": false,
   "user_envs_cfg": false
  },
  "toc": {
   "base_numbering": 1,
   "nav_menu": {},
   "number_sections": true,
   "sideBar": true,
   "skip_h1_title": false,
   "title_cell": "Table of Contents",
   "title_sidebar": "Contents",
   "toc_cell": false,
   "toc_position": {},
   "toc_section_display": true,
   "toc_window_display": false
  }
 },
 "nbformat": 4,
 "nbformat_minor": 5
}
