{
 "cells": [
  {
   "cell_type": "code",
   "execution_count": 17,
   "id": "92d9a3a8-7e66-48f6-bc8b-4fb28d454db4",
   "metadata": {},
   "outputs": [],
   "source": [
    "import torch"
   ]
  },
  {
   "cell_type": "code",
   "execution_count": 2,
   "id": "cad69e72-b15a-48bd-989e-bb634634f0b6",
   "metadata": {},
   "outputs": [],
   "source": [
    "batch_size = 4\n",
    "seq_len = 10\n",
    "hidden_size = 16\n",
    "num_heads = 4\n",
    "queries = torch.randn(batch_size, seq_len, num_heads, hidden_size)  # torch.Size([4, 10, 4, 16])\n",
    "keys = torch.randn(batch_size, seq_len, num_heads, hidden_size)\n",
    "values = torch.randn(batch_size, seq_len, num_heads, hidden_size)"
   ]
  },
  {
   "cell_type": "code",
   "execution_count": 4,
   "id": "d943fd20-e9f4-46b1-9d05-4dc2962c8a52",
   "metadata": {},
   "outputs": [
    {
     "data": {
      "text/plain": [
       "torch.Size([4, 10, 4, 16])"
      ]
     },
     "execution_count": 4,
     "metadata": {},
     "output_type": "execute_result"
    }
   ],
   "source": [
    "queries.shape"
   ]
  },
  {
   "cell_type": "code",
   "execution_count": 5,
   "id": "ec8b80f8-53e1-4694-af66-fa03fa8324d7",
   "metadata": {},
   "outputs": [],
   "source": [
    "B, H, L_K, E = keys.shape\n",
    "_, _, L_Q, _ = queries.shape"
   ]
  },
  {
   "cell_type": "code",
   "execution_count": 9,
   "id": "07db9d0c-7664-4352-94c7-c9456d952ae5",
   "metadata": {},
   "outputs": [
    {
     "data": {
      "text/plain": [
       "(4, 10, 4, 16)"
      ]
     },
     "execution_count": 9,
     "metadata": {},
     "output_type": "execute_result"
    }
   ],
   "source": [
    "B,H,L_K,E "
   ]
  },
  {
   "cell_type": "code",
   "execution_count": 10,
   "id": "43edd820-e127-472f-b193-995a617f2dd0",
   "metadata": {},
   "outputs": [
    {
     "data": {
      "text/plain": [
       "4"
      ]
     },
     "execution_count": 10,
     "metadata": {},
     "output_type": "execute_result"
    }
   ],
   "source": [
    " L_Q"
   ]
  },
  {
   "cell_type": "code",
   "execution_count": 12,
   "id": "f65d53d7-7a7b-4627-9c02-a1e47c40d03a",
   "metadata": {},
   "outputs": [
    {
     "data": {
      "text/plain": [
       "torch.Size([4, 10, 1, 4, 16])"
      ]
     },
     "execution_count": 12,
     "metadata": {},
     "output_type": "execute_result"
    }
   ],
   "source": [
    "keys.unsqueeze(-3).shape"
   ]
  },
  {
   "cell_type": "code",
   "execution_count": 14,
   "id": "b8bd5fb1-9825-40bd-9ca5-bb9cfd5cc68e",
   "metadata": {},
   "outputs": [],
   "source": [
    "K_expand = keys.unsqueeze(-3).expand(B, H, L_Q, L_K, E)"
   ]
  },
  {
   "cell_type": "code",
   "execution_count": 15,
   "id": "33a4c31b-3140-49bd-8936-41cd58add7c0",
   "metadata": {},
   "outputs": [
    {
     "data": {
      "text/plain": [
       "torch.Size([4, 10, 4, 4, 16])"
      ]
     },
     "execution_count": 15,
     "metadata": {},
     "output_type": "execute_result"
    }
   ],
   "source": [
    "K_expand.shape"
   ]
  },
  {
   "cell_type": "code",
   "execution_count": null,
   "id": "677cb707-531b-4b23-bd72-6df3be3a2d49",
   "metadata": {},
   "outputs": [],
   "source": [
    "index_sample = torch.randint(L_K, (L_Q, sample_k))"
   ]
  },
  {
   "cell_type": "code",
   "execution_count": 16,
   "id": "cc2defcd-4e66-4a95-a247-4a71ba2580a4",
   "metadata": {},
   "outputs": [],
   "source": [
    "Q_K_sample = torch.tensor([[[0.1, 0.2, 0.3, 0.4], [0.5, 0.6, 0.7, 0.8]], [[0.9, 1.0, 1.1, 1.2], [1.3, 1.4, 1.5, 1.6]]])\n"
   ]
  },
  {
   "cell_type": "code",
   "execution_count": 18,
   "id": "e8b2c7ca-85f9-4815-bfbf-695354aa1cc5",
   "metadata": {},
   "outputs": [
    {
     "data": {
      "text/plain": [
       "tensor([[[0.1000, 0.2000, 0.3000, 0.4000],\n",
       "         [0.5000, 0.6000, 0.7000, 0.8000]],\n",
       "\n",
       "        [[0.9000, 1.0000, 1.1000, 1.2000],\n",
       "         [1.3000, 1.4000, 1.5000, 1.6000]]])"
      ]
     },
     "execution_count": 18,
     "metadata": {},
     "output_type": "execute_result"
    }
   ],
   "source": [
    "Q_K_sample "
   ]
  },
  {
   "cell_type": "code",
   "execution_count": 19,
   "id": "f0ba40f2-fc2d-4648-a814-b362b274b406",
   "metadata": {},
   "outputs": [
    {
     "data": {
      "text/plain": [
       "torch.Size([2, 2, 4])"
      ]
     },
     "execution_count": 19,
     "metadata": {},
     "output_type": "execute_result"
    }
   ],
   "source": [
    "Q_K_sample.shape"
   ]
  },
  {
   "cell_type": "code",
   "execution_count": 20,
   "id": "e4485e8a-a149-463f-9be1-351f35c50206",
   "metadata": {},
   "outputs": [
    {
     "data": {
      "text/plain": [
       "torch.return_types.max(\n",
       "values=tensor([[0.4000, 0.8000],\n",
       "        [1.2000, 1.6000]]),\n",
       "indices=tensor([[3, 3],\n",
       "        [3, 3]]))"
      ]
     },
     "execution_count": 20,
     "metadata": {},
     "output_type": "execute_result"
    }
   ],
   "source": [
    "Q_K_sample.max(-1)"
   ]
  },
  {
   "cell_type": "code",
   "execution_count": null,
   "id": "19772900-247a-45d4-86c5-3716122c4467",
   "metadata": {},
   "outputs": [],
   "source": []
  }
 ],
 "metadata": {
  "kernelspec": {
   "display_name": "Python 3 (ipykernel)",
   "language": "python",
   "name": "python3"
  },
  "language_info": {
   "codemirror_mode": {
    "name": "ipython",
    "version": 3
   },
   "file_extension": ".py",
   "mimetype": "text/x-python",
   "name": "python",
   "nbconvert_exporter": "python",
   "pygments_lexer": "ipython3",
   "version": "3.8.10"
  }
 },
 "nbformat": 4,
 "nbformat_minor": 5
}
