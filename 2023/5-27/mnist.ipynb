{
 "cells": [
  {
   "cell_type": "code",
   "execution_count": 1,
   "id": "1b3c513b-486a-4d16-abfa-b48e329687cf",
   "metadata": {},
   "outputs": [],
   "source": [
    "import torch\n",
    "import torchvision.datasets as datasets\n",
    "import torchvision.transforms as transforms\n",
    "import torch.optim as optim\n",
    "import torch.nn as nn\n",
    "import warnings\n",
    "warnings.filterwarnings('ignore')"
   ]
  },
  {
   "cell_type": "code",
   "execution_count": 3,
   "id": "967b9814-ec4b-4eb5-80ac-afe00732ae37",
   "metadata": {},
   "outputs": [],
   "source": [
    "# 随机种子\n",
    "import random\n",
    "random.seed(777)\n",
    "torch.manual_seed(777)\n",
    "device='cuda' if torch.cuda.is_available() else 'cpu'\n",
    "if device is 'cuda':\n",
    "    torch.cuda.manual_seed_all(777)"
   ]
  },
  {
   "cell_type": "code",
   "execution_count": 15,
   "id": "f64961b9-5ec4-4fe7-87a1-19f55a8dc98b",
   "metadata": {},
   "outputs": [],
   "source": [
    "# data\n",
    "trains=datasets.MNIST(root='data',train=True,transform=transforms.ToTensor(),download=True)\n",
    "tests=datasets.MNIST(root='data',train=False,transform=transforms.ToTensor(),download=True)\n",
    "trains_dataloader=torch.utils.data.DataLoader(dataset=trains,batch_size=10000,shuffle=True,drop_last=True)"
   ]
  },
  {
   "cell_type": "code",
   "execution_count": 16,
   "id": "30ee6e15-5bcd-4d93-8dba-023f10aa5b44",
   "metadata": {},
   "outputs": [],
   "source": [
    "# Model\n",
    "class Model(nn.Module):\n",
    "    def __init__(self):\n",
    "        super(). __init__()\n",
    "        self.linear=nn.Linear(784,10)\n",
    "    def forward(self,x):\n",
    "        return self.linear(x)\n",
    "model=Model().to(device)"
   ]
  },
  {
   "cell_type": "code",
   "execution_count": 17,
   "id": "821a11fb-e01c-425f-888b-b7fb53d6684b",
   "metadata": {},
   "outputs": [],
   "source": [
    "#\n",
    "criterion=nn.CrossEntropyLoss().to(device)\n",
    "optimizer=optim.SGD(model.parameters(),lr=0.1)"
   ]
  },
  {
   "cell_type": "code",
   "execution_count": 18,
   "id": "78f9835d-6fbd-4161-a485-7b50ea1a0628",
   "metadata": {},
   "outputs": [
    {
     "name": "stdout",
     "output_type": "stream",
     "text": [
      "avg_loss= 0.31423184275627136\n",
      "avg_loss= 0.25289013981819153\n",
      "avg_loss= 0.21460846066474915\n",
      "avg_loss= 0.18707749247550964\n",
      "avg_loss= 0.17011070251464844\n",
      "avg_loss= 0.15708661079406738\n",
      "avg_loss= 0.14628921449184418\n",
      "avg_loss= 0.13576319813728333\n",
      "avg_loss= 0.12971703708171844\n",
      "avg_loss= 0.12465979158878326\n",
      "avg_loss= 0.11974292248487473\n",
      "avg_loss= 0.11513422429561615\n",
      "avg_loss= 0.11455938220024109\n",
      "avg_loss= 0.10784114897251129\n",
      "avg_loss= 0.10492104291915894\n",
      "avg_loss= 0.10547452419996262\n",
      "avg_loss= 0.10201745480298996\n",
      "avg_loss= 0.09973151981830597\n",
      "avg_loss= 0.09848164767026901\n",
      "avg_loss= 0.09551388025283813\n",
      "avg_loss= 0.09512399137020111\n",
      "out\n"
     ]
    }
   ],
   "source": [
    "epochs=20\n",
    "# train\n",
    "for epoch in range(epochs+1):\n",
    "    avg_loss=0\n",
    "    total_batch=len(trains_dataloader)\n",
    "    for X,Y in trains_dataloader:\n",
    "        X=X.view(-1,28*28).to(device)\n",
    "        Y=Y.to(device)\n",
    "        Y_pred=model(X)\n",
    "        loss=criterion(Y_pred,Y)\n",
    "        optimizer.zero_grad()\n",
    "        loss.backward()\n",
    "        optimizer.step()\n",
    "        avg_loss=loss/total_batch\n",
    "    print(\"avg_loss=\",avg_loss.item())\n",
    "        \n",
    "print(\"out\")\n",
    "        "
   ]
  },
  {
   "cell_type": "code",
   "execution_count": 22,
   "id": "6c51603b-c86d-4657-a32d-23385fef537e",
   "metadata": {},
   "outputs": [
    {
     "name": "stdout",
     "output_type": "stream",
     "text": [
      "tensor(0.8724, device='cuda:0')\n"
     ]
    }
   ],
   "source": [
    "with torch.no_grad():\n",
    "    X_test=tests.test_data.view(-1,28*28).float().to(device)\n",
    "    Y_test=tests.test_labels.to(device)\n",
    "    Y_pred=model(X_test)\n",
    "    curr=torch.argmax(Y_pred,1)==Y_test\n",
    "    acc=sum(curr)/len(curr)\n",
    "    print(acc)"
   ]
  },
  {
   "cell_type": "code",
   "execution_count": null,
   "id": "6cc51158-1473-47b2-904a-1bfd93b22eeb",
   "metadata": {},
   "outputs": [],
   "source": []
  }
 ],
 "metadata": {
  "kernelspec": {
   "display_name": "Python 3 (ipykernel)",
   "language": "python",
   "name": "python3"
  },
  "language_info": {
   "codemirror_mode": {
    "name": "ipython",
    "version": 3
   },
   "file_extension": ".py",
   "mimetype": "text/x-python",
   "name": "python",
   "nbconvert_exporter": "python",
   "pygments_lexer": "ipython3",
   "version": "3.8.10"
  }
 },
 "nbformat": 4,
 "nbformat_minor": 5
}
