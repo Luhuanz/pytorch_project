{
 "cells": [
  {
   "cell_type": "code",
   "execution_count": 1,
   "id": "cf70f9e5-d116-4c26-94b9-644a5fe0acac",
   "metadata": {},
   "outputs": [],
   "source": [
    "# mnist_data"
   ]
  },
  {
   "cell_type": "code",
   "execution_count": 4,
   "id": "ec33d609-3b6b-4d6f-8b34-8a8635e7ec92",
   "metadata": {},
   "outputs": [],
   "source": [
    "import torch\n",
    "import torchvision.datasets as datasets\n",
    "import torchvision.transforms as transforms\n",
    "import matplotlib.pyplot as plt\n",
    "import warnings\n",
    "import random\n",
    "warnings.filterwarnings('ignore')"
   ]
  },
  {
   "cell_type": "code",
   "execution_count": 6,
   "id": "c8dcd952-1796-4a05-815a-e2254d34bc45",
   "metadata": {},
   "outputs": [],
   "source": [
    "## 随机种子\n",
    "random.seed(777)\n",
    "torch.manual_seed(777)\n",
    "device='cuda' if torch.cuda.is_available() else 'cpu'\n",
    "if device is 'cuda':\n",
    "    torch.cuda.manual_seed_all(777)"
   ]
  },
  {
   "cell_type": "code",
   "execution_count": 8,
   "id": "cd916592-beff-4f8e-a44a-1ef3dcf5ac26",
   "metadata": {},
   "outputs": [],
   "source": [
    "# dataset\n",
    "trains=datasets.MNIST(root='data',train=True,transform=transforms.ToTensor(),download=True)\n",
    "tests=datasets.MNIST(root='data',train=False,transform=transforms.ToTensor(),download=True)"
   ]
  },
  {
   "cell_type": "code",
   "execution_count": 21,
   "id": "fea6655f-eace-4d18-9849-edff4fa5b4ff",
   "metadata": {},
   "outputs": [],
   "source": [
    "# datalodaer\n",
    "dataloader=torch.utils.data.DataLoader(dataset=trains,batch_size=10000,shuffle=True,drop_last=True)"
   ]
  },
  {
   "cell_type": "code",
   "execution_count": 46,
   "id": "32dc5f7b-23ed-4bb3-b87d-97847a588f0b",
   "metadata": {},
   "outputs": [],
   "source": [
    "# model\n",
    "import torch.nn as nn\n",
    "\n",
    "class Model(nn.Module):\n",
    "    def __init__(self):\n",
    "        super().__init__()\n",
    "        self.linear=nn.Linear(784,10)\n",
    "    def forward(self,x):\n",
    "        return self.linear(x) "
   ]
  },
  {
   "cell_type": "code",
   "execution_count": 47,
   "id": "018cc751-beaa-486d-9010-58e84883d981",
   "metadata": {},
   "outputs": [],
   "source": [
    "model=Model() .to(device)"
   ]
  },
  {
   "cell_type": "code",
   "execution_count": 48,
   "id": "d55c48cb-a95f-4e80-9f16-52e472b559e8",
   "metadata": {},
   "outputs": [],
   "source": [
    "criterion=nn.CrossEntropyLoss() .to(device)\n",
    "optimizer=torch.optim.SGD(model.parameters(),lr=0.1)"
   ]
  },
  {
   "cell_type": "code",
   "execution_count": 50,
   "id": "771a7a08-33e0-45c9-86ed-c91ed942e5f3",
   "metadata": {},
   "outputs": [
    {
     "name": "stdout",
     "output_type": "stream",
     "text": [
      "tensor(2.0726, device='cuda:0', grad_fn=<AddBackward0>)\n",
      "tensor(1.6388, device='cuda:0', grad_fn=<AddBackward0>)\n",
      "tensor(1.3635, device='cuda:0', grad_fn=<AddBackward0>)\n",
      "tensor(1.1821, device='cuda:0', grad_fn=<AddBackward0>)\n",
      "tensor(1.0563, device='cuda:0', grad_fn=<AddBackward0>)\n",
      "tensor(0.9647, device='cuda:0', grad_fn=<AddBackward0>)\n",
      "tensor(0.8951, device='cuda:0', grad_fn=<AddBackward0>)\n",
      "tensor(0.8404, device='cuda:0', grad_fn=<AddBackward0>)\n",
      "tensor(0.7963, device='cuda:0', grad_fn=<AddBackward0>)\n",
      "tensor(0.7599, device='cuda:0', grad_fn=<AddBackward0>)\n",
      "tensor(0.7293, device='cuda:0', grad_fn=<AddBackward0>)\n",
      "tensor(0.7031, device='cuda:0', grad_fn=<AddBackward0>)\n",
      "tensor(0.6805, device='cuda:0', grad_fn=<AddBackward0>)\n",
      "tensor(0.6607, device='cuda:0', grad_fn=<AddBackward0>)\n",
      "tensor(0.6432, device='cuda:0', grad_fn=<AddBackward0>)\n",
      "tensor(0.6276, device='cuda:0', grad_fn=<AddBackward0>)\n",
      "tensor(0.6136, device='cuda:0', grad_fn=<AddBackward0>)\n",
      "tensor(0.6010, device='cuda:0', grad_fn=<AddBackward0>)\n",
      "tensor(0.5895, device='cuda:0', grad_fn=<AddBackward0>)\n",
      "tensor(0.5790, device='cuda:0', grad_fn=<AddBackward0>)\n",
      "tensor(0.5693, device='cuda:0', grad_fn=<AddBackward0>)\n",
      "out\n"
     ]
    }
   ],
   "source": [
    "epochs=20\n",
    "for epoch in range(epochs+1):\n",
    "    avg_loss=0\n",
    "    total_batch=len(dataloader)\n",
    "    for X,Y in dataloader:\n",
    "        X=X.view(-1,28*28).to(device)\n",
    "        Y=Y.to(device)\n",
    "        Y_pred=model(X)\n",
    "        loss=criterion(Y_pred,Y) \n",
    "        optimizer.zero_grad()\n",
    "        loss.backward()\n",
    "        optimizer.step()\n",
    "        avg_loss+=loss/total_batch\n",
    "    print(avg_loss)\n",
    "        \n",
    "        \n",
    "print('out')      "
   ]
  },
  {
   "cell_type": "code",
   "execution_count": 55,
   "id": "934aa6af-a07d-4406-9388-47a349e49ddb",
   "metadata": {},
   "outputs": [
    {
     "name": "stdout",
     "output_type": "stream",
     "text": [
      "0.8745999932289124\n"
     ]
    }
   ],
   "source": [
    "with torch.no_grad():\n",
    "    X_test=tests.test_data.view(-1,28*28).float().to(device)\n",
    "    Y_test=tests.test_labels.to(device)\n",
    "    Y_pred=model(X_test)\n",
    "    corr=torch.argmax(Y_pred,1)==Y_test\n",
    "    acc=sum(corr)/len(corr)\n",
    "    print(acc.item())"
   ]
  },
  {
   "cell_type": "code",
   "execution_count": null,
   "id": "d07e122f-4b10-47e7-aa18-8437558b1f1c",
   "metadata": {},
   "outputs": [],
   "source": []
  }
 ],
 "metadata": {
  "kernelspec": {
   "display_name": "Python 3 (ipykernel)",
   "language": "python",
   "name": "python3"
  },
  "language_info": {
   "codemirror_mode": {
    "name": "ipython",
    "version": 3
   },
   "file_extension": ".py",
   "mimetype": "text/x-python",
   "name": "python",
   "nbconvert_exporter": "python",
   "pygments_lexer": "ipython3",
   "version": "3.8.10"
  }
 },
 "nbformat": 4,
 "nbformat_minor": 5
}
