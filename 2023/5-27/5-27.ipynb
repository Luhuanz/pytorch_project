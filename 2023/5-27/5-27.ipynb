{
 "cells": [
  {
   "cell_type": "markdown",
   "id": "57ea52d1-55d3-4bbe-91db-8fb0e42ffd86",
   "metadata": {},
   "source": [
    "## Logistic Classification\n"
   ]
  },
  {
   "cell_type": "markdown",
   "id": "02f144e0-a079-4186-8c18-176eb78c95fc",
   "metadata": {},
   "source": [
    "$$ H(X) = \\frac{1}{1+e^{-W^T X}} $$"
   ]
  },
  {
   "cell_type": "markdown",
   "id": "f5677c97-e57c-4970-8b0d-d5b08badd044",
   "metadata": {},
   "source": [
    "$$ cost(W) = -\\frac{1}{m} \\sum y \\log\\left(H(x)\\right) + (1-y) \\left( \\log(1-H(x) \\right) $$"
   ]
  },
  {
   "cell_type": "markdown",
   "id": "4666ffca-5dac-4d89-a8e6-b7b6ae2f0edf",
   "metadata": {},
   "source": [
    "Descent\n",
    "$$ W := W - \\alpha \\frac{\\partial}{\\partial W} cost(W) $$\n"
   ]
  },
  {
   "cell_type": "code",
   "execution_count": 2,
   "id": "243e0522-d598-4742-a023-2237aa3f23ba",
   "metadata": {},
   "outputs": [],
   "source": [
    "import torch\n",
    "import torch.nn as nn\n",
    "import torch.nn.functional as F\n",
    "import torch.optim as optim"
   ]
  },
  {
   "cell_type": "code",
   "execution_count": 3,
   "id": "07e3d39d-9efd-4d03-8087-539d16cfa3bf",
   "metadata": {},
   "outputs": [
    {
     "data": {
      "text/plain": [
       "<torch._C.Generator at 0x7f89a8191990>"
      ]
     },
     "execution_count": 3,
     "metadata": {},
     "output_type": "execute_result"
    }
   ],
   "source": [
    "torch.manual_seed(1)"
   ]
  },
  {
   "cell_type": "code",
   "execution_count": 4,
   "id": "adebbbc0-121c-4311-aeb9-ea8b972fc4ff",
   "metadata": {},
   "outputs": [],
   "source": [
    "x_data=[[1,2],\n",
    "        [2,3],\n",
    "        [3,1],\n",
    "        [4,3],\n",
    "        [5,3],\n",
    "        [6,2],\n",
    "       ]\n",
    "y_data=[[0],[0],[0],[1],[1],[1]]\n"
   ]
  },
  {
   "cell_type": "code",
   "execution_count": 5,
   "id": "b7a04f68-c1a4-446d-a6c1-21a56936efb3",
   "metadata": {},
   "outputs": [],
   "source": [
    "x_train=torch.FloatTensor(x_data)\n",
    "y_train=torch.FloatTensor(y_data)"
   ]
  },
  {
   "cell_type": "code",
   "execution_count": 6,
   "id": "031873e9-82dd-4375-ab6b-045859d2d145",
   "metadata": {},
   "outputs": [
    {
     "data": {
      "text/plain": [
       "torch.Size([6, 2])"
      ]
     },
     "execution_count": 6,
     "metadata": {},
     "output_type": "execute_result"
    }
   ],
   "source": [
    "x_train.shape"
   ]
  },
  {
   "cell_type": "code",
   "execution_count": 8,
   "id": "723d03e6-4c54-486c-8c2f-08e199bed1d0",
   "metadata": {},
   "outputs": [
    {
     "data": {
      "text/plain": [
       "torch.Size([6, 1])"
      ]
     },
     "execution_count": 8,
     "metadata": {},
     "output_type": "execute_result"
    }
   ],
   "source": [
    "y_train.shape"
   ]
  },
  {
   "cell_type": "code",
   "execution_count": 13,
   "id": "4101986c-e9a9-44d4-9f3e-5eaed15a7dc0",
   "metadata": {},
   "outputs": [
    {
     "data": {
      "text/plain": [
       "tensor([[0.],\n",
       "        [0.],\n",
       "        [0.],\n",
       "        [0.],\n",
       "        [0.],\n",
       "        [0.]], grad_fn=<AddBackward0>)"
      ]
     },
     "execution_count": 13,
     "metadata": {},
     "output_type": "execute_result"
    }
   ],
   "source": [
    "x_train.matmul(W)+b"
   ]
  },
  {
   "cell_type": "code",
   "execution_count": 9,
   "id": "7f66ec70-02c1-4385-8faa-d526b9859733",
   "metadata": {},
   "outputs": [
    {
     "data": {
      "text/plain": [
       "tensor([2.7183])"
      ]
     },
     "execution_count": 9,
     "metadata": {},
     "output_type": "execute_result"
    }
   ],
   "source": [
    "torch.exp(torch.FloatTensor([1]\n",
    "                        ))"
   ]
  },
  {
   "cell_type": "code",
   "execution_count": 10,
   "id": "62f5443a-5452-478f-9d94-4acd32c17a48",
   "metadata": {},
   "outputs": [],
   "source": [
    "W=torch.zeros((2,1),requires_grad=True)\n",
    "b=torch.zeros(1,requires_grad=True)\n",
    "y_pred=1/(1+torch.exp(-(x_train.matmul(W)+b)))"
   ]
  },
  {
   "cell_type": "code",
   "execution_count": 11,
   "id": "dfa346f2-7f62-49b5-931c-95c6d65efb67",
   "metadata": {},
   "outputs": [
    {
     "data": {
      "text/plain": [
       "tensor([[0.5000],\n",
       "        [0.5000],\n",
       "        [0.5000],\n",
       "        [0.5000],\n",
       "        [0.5000],\n",
       "        [0.5000]], grad_fn=<MulBackward0>)"
      ]
     },
     "execution_count": 11,
     "metadata": {},
     "output_type": "execute_result"
    }
   ],
   "source": [
    "y_pred"
   ]
  },
  {
   "cell_type": "code",
   "execution_count": 15,
   "id": "e501662a-1b39-45ba-b514-418891a6a119",
   "metadata": {},
   "outputs": [
    {
     "data": {
      "text/plain": [
       "tensor([0.6931], grad_fn=<NegBackward>)"
      ]
     },
     "execution_count": 15,
     "metadata": {},
     "output_type": "execute_result"
    }
   ],
   "source": [
    "-(y_train[0]*torch.log(y_pred[0])+(1-y_train[0])*torch.log(1-y_pred[0]))"
   ]
  },
  {
   "cell_type": "code",
   "execution_count": 16,
   "id": "bb7a1a7d-4e69-4760-9b40-d20cbc9c1666",
   "metadata": {},
   "outputs": [],
   "source": [
    "loss=-(y_train*torch.log(y_pred)+(1-y_train)*torch.log(1-y_pred))"
   ]
  },
  {
   "cell_type": "code",
   "execution_count": 17,
   "id": "130a96f6-2f3a-4fc4-86ce-8f137656608e",
   "metadata": {},
   "outputs": [
    {
     "data": {
      "text/plain": [
       "tensor([[0.6931],\n",
       "        [0.6931],\n",
       "        [0.6931],\n",
       "        [0.6931],\n",
       "        [0.6931],\n",
       "        [0.6931]], grad_fn=<NegBackward>)"
      ]
     },
     "execution_count": 17,
     "metadata": {},
     "output_type": "execute_result"
    }
   ],
   "source": [
    "loss"
   ]
  },
  {
   "cell_type": "code",
   "execution_count": 18,
   "id": "250d64e6-67dc-4409-852f-7f8d04989900",
   "metadata": {},
   "outputs": [],
   "source": [
    "loss=loss.mean()"
   ]
  },
  {
   "cell_type": "code",
   "execution_count": 19,
   "id": "ce72c339-0a17-4e03-88c0-b8f951d3a1a5",
   "metadata": {},
   "outputs": [
    {
     "data": {
      "text/plain": [
       "tensor(0.6931, grad_fn=<MeanBackward0>)"
      ]
     },
     "execution_count": 19,
     "metadata": {},
     "output_type": "execute_result"
    }
   ],
   "source": [
    "loss"
   ]
  },
  {
   "cell_type": "code",
   "execution_count": 20,
   "id": "a26f788f-a7ca-4a03-9f5a-59382ace7073",
   "metadata": {},
   "outputs": [],
   "source": [
    "x_data=[[1,2],\n",
    "        [2,3],\n",
    "        [3,1],\n",
    "        [4,3],\n",
    "        [5,3],\n",
    "        [6,2],\n",
    "       ]\n",
    "y_data=[[0],[0],[0],[1],[1],[1]]\n"
   ]
  },
  {
   "cell_type": "code",
   "execution_count": 21,
   "id": "7eaf0e5a-09fa-4cef-b3cf-8806000f31e1",
   "metadata": {},
   "outputs": [],
   "source": [
    "x_train=torch.FloatTensor(x_data)\n",
    "y_train=torch.FloatTensor(y_data)"
   ]
  },
  {
   "cell_type": "code",
   "execution_count": 22,
   "id": "8fe82996-2265-4779-9766-d3fa1f6c3e3e",
   "metadata": {},
   "outputs": [
    {
     "data": {
      "text/plain": [
       "torch.Size([6, 2])"
      ]
     },
     "execution_count": 22,
     "metadata": {},
     "output_type": "execute_result"
    }
   ],
   "source": [
    "x_train.shape"
   ]
  },
  {
   "cell_type": "code",
   "execution_count": 30,
   "id": "2cde94bd-15eb-433c-8b74-66881432eb50",
   "metadata": {},
   "outputs": [
    {
     "name": "stdout",
     "output_type": "stream",
     "text": [
      "epochs:    0/1000  loss： 0.693147 \n",
      "epochs:  100/1000  loss： 0.653620 \n",
      "epochs:  200/1000  loss： 0.634803 \n",
      "epochs:  300/1000  loss： 0.623416 \n",
      "epochs:  400/1000  loss： 0.614912 \n",
      "epochs:  500/1000  loss： 0.607670 \n",
      "epochs:  600/1000  loss： 0.601084 \n",
      "epochs:  700/1000  loss： 0.594916 \n",
      "epochs:  800/1000  loss： 0.589064 \n",
      "epochs:  900/1000  loss： 0.583481 \n",
      "epochs: 1000/1000  loss： 0.578142 \n"
     ]
    }
   ],
   "source": [
    "W=torch.zeros((2,1),requires_grad=True)\n",
    "b=torch.zeros(1,requires_grad=True)\n",
    "\n",
    "optimizer=optim.SGD([W,b],lr=1e-3)\n",
    "epochs=1000\n",
    "for i in range(epochs+1):\n",
    "    y_pred=1/(1+torch.exp(-(x_train.matmul(W)+b)))\n",
    "    loss=torch.mean(-(y_train*torch.log(y_pred)+(1-y_train)*torch.log(1-y_pred)))\n",
    "    optimizer.zero_grad()\n",
    "    loss.backward()\n",
    "    optimizer.step()\n",
    "    if i%100==0:\n",
    "        print(\"epochs: {:4d}/{}  loss： {:.6f} \" .format(i,epochs,loss.item()))\n"
   ]
  },
  {
   "cell_type": "code",
   "execution_count": 32,
   "id": "f0dfca2c-ff1c-44bd-b3a7-9d20f6b7847f",
   "metadata": {},
   "outputs": [
    {
     "name": "stdout",
     "output_type": "stream",
     "text": [
      "epochs:    0/1000  loss： 0.693147 \n",
      "epochs:  100/1000  loss： 0.653620 \n",
      "epochs:  200/1000  loss： 0.634803 \n",
      "epochs:  300/1000  loss： 0.623416 \n",
      "epochs:  400/1000  loss： 0.614912 \n",
      "epochs:  500/1000  loss： 0.607670 \n",
      "epochs:  600/1000  loss： 0.601084 \n",
      "epochs:  700/1000  loss： 0.594916 \n",
      "epochs:  800/1000  loss： 0.589064 \n",
      "epochs:  900/1000  loss： 0.583481 \n",
      "epochs: 1000/1000  loss： 0.578142 \n"
     ]
    }
   ],
   "source": [
    "W=torch.zeros((2,1),requires_grad=True)\n",
    "b=torch.zeros(1,requires_grad=True)\n",
    "\n",
    "optimizer=optim.SGD([W,b],lr=1e-3)\n",
    "epochs=1000\n",
    "for i in range(epochs+1):\n",
    "    y_pred=torch.sigmoid(x_train.matmul(W)+b)\n",
    "    loss=F.binary_cross_entropy(y_pred,y_train)\n",
    "    optimizer.zero_grad()\n",
    "    loss.backward()\n",
    "    optimizer.step()\n",
    "    if i%100==0:\n",
    "        print(\"epochs: {:4d}/{}  loss： {:.6f} \" .format(i,epochs,loss.item()))"
   ]
  },
  {
   "cell_type": "code",
   "execution_count": 33,
   "id": "31a24337-5347-40d4-be53-cf3be20e5c4a",
   "metadata": {},
   "outputs": [],
   "source": [
    "# Real"
   ]
  },
  {
   "cell_type": "code",
   "execution_count": 34,
   "id": "f855fde8-2ef1-4d4e-bafe-abcc148286a0",
   "metadata": {},
   "outputs": [],
   "source": [
    "import numpy as np "
   ]
  },
  {
   "cell_type": "code",
   "execution_count": 35,
   "id": "4141935d-0f96-4e8d-951a-4a2835605361",
   "metadata": {},
   "outputs": [],
   "source": [
    "xy=np.loadtxt('data-03-diabetes.csv',delimiter=',',dtype=np.float32)"
   ]
  },
  {
   "cell_type": "code",
   "execution_count": 37,
   "id": "1b51ba14-dc71-4c11-a92b-b64771c4df59",
   "metadata": {},
   "outputs": [
    {
     "data": {
      "text/plain": [
       "(759, 9)"
      ]
     },
     "execution_count": 37,
     "metadata": {},
     "output_type": "execute_result"
    }
   ],
   "source": [
    "xy.shape"
   ]
  },
  {
   "cell_type": "code",
   "execution_count": 38,
   "id": "3e7e94b0-5f6c-4a2e-b5f3-0c5b379dd8bc",
   "metadata": {},
   "outputs": [],
   "source": [
    "x_data=xy[:,0:-1]"
   ]
  },
  {
   "cell_type": "code",
   "execution_count": 46,
   "id": "ebd9f3ec-51cc-44a9-9229-9aec224c6e95",
   "metadata": {},
   "outputs": [],
   "source": [
    "y_data=xy[:,-1] # 一维 "
   ]
  },
  {
   "cell_type": "code",
   "execution_count": 44,
   "id": "10998a24-167a-4141-9d0e-22a14577a61d",
   "metadata": {},
   "outputs": [
    {
     "data": {
      "text/plain": [
       "(759,)"
      ]
     },
     "execution_count": 44,
     "metadata": {},
     "output_type": "execute_result"
    }
   ],
   "source": [
    "y_data.shape "
   ]
  },
  {
   "cell_type": "code",
   "execution_count": 42,
   "id": "944fe7c7-2f89-4f70-83bd-370470c2ad89",
   "metadata": {},
   "outputs": [
    {
     "data": {
      "text/plain": [
       "(759, 1)"
      ]
     },
     "execution_count": 42,
     "metadata": {},
     "output_type": "execute_result"
    }
   ],
   "source": [
    "xy[:, [-1]].shape # 二维"
   ]
  },
  {
   "cell_type": "code",
   "execution_count": 49,
   "id": "e7a760b3-624b-4c63-9ec0-a4d696c4204f",
   "metadata": {},
   "outputs": [
    {
     "data": {
      "text/plain": [
       "(759, 8)"
      ]
     },
     "execution_count": 49,
     "metadata": {},
     "output_type": "execute_result"
    }
   ],
   "source": [
    "x_data.shape"
   ]
  },
  {
   "cell_type": "code",
   "execution_count": 50,
   "id": "f3d5551c-5772-478b-b352-e0d32870697d",
   "metadata": {},
   "outputs": [],
   "source": [
    "y_data=xy[:,[-1]]"
   ]
  },
  {
   "cell_type": "code",
   "execution_count": 52,
   "id": "6f62bc5f-2a7e-469c-9e54-254ade13718a",
   "metadata": {},
   "outputs": [
    {
     "data": {
      "text/plain": [
       "(759, 1)"
      ]
     },
     "execution_count": 52,
     "metadata": {},
     "output_type": "execute_result"
    }
   ],
   "source": [
    "y_data.shape"
   ]
  },
  {
   "cell_type": "code",
   "execution_count": 53,
   "id": "077887bc-92cc-45f8-b3b0-e5ce9c8e9b99",
   "metadata": {},
   "outputs": [],
   "source": [
    "x_train=torch.FloatTensor(x_data)\n",
    "y_train=torch.FloatTensor(y_data)"
   ]
  },
  {
   "cell_type": "code",
   "execution_count": 54,
   "id": "44158551-5de9-4464-8bff-c803cda6cdf9",
   "metadata": {},
   "outputs": [
    {
     "data": {
      "text/plain": [
       "torch.Size([759, 8])"
      ]
     },
     "execution_count": 54,
     "metadata": {},
     "output_type": "execute_result"
    }
   ],
   "source": [
    "x_train.shape"
   ]
  },
  {
   "cell_type": "code",
   "execution_count": 55,
   "id": "44a98fb2-8291-4355-8fe1-8012468016a7",
   "metadata": {},
   "outputs": [
    {
     "name": "stdout",
     "output_type": "stream",
     "text": [
      "Epoch    0/100 Cost: 0.693147\n",
      "Epoch   10/100 Cost: 0.572727\n",
      "Epoch   20/100 Cost: 0.539493\n",
      "Epoch   30/100 Cost: 0.519708\n",
      "Epoch   40/100 Cost: 0.507066\n",
      "Epoch   50/100 Cost: 0.498539\n",
      "Epoch   60/100 Cost: 0.492549\n",
      "Epoch   70/100 Cost: 0.488209\n",
      "Epoch   80/100 Cost: 0.484985\n",
      "Epoch   90/100 Cost: 0.482543\n",
      "Epoch  100/100 Cost: 0.480661\n"
     ]
    }
   ],
   "source": [
    "# 모델 초기화\n",
    "W = torch.zeros((8, 1), requires_grad=True)\n",
    "b = torch.zeros(1, requires_grad=True)\n",
    "# optimizer 설정\n",
    "optimizer = optim.SGD([W, b], lr=1)\n",
    "\n",
    "nb_epochs = 100\n",
    "for epoch in range(nb_epochs + 1):\n",
    "\n",
    "    # Cost 계산\n",
    "    hypothesis = torch.sigmoid(x_train.matmul(W) + b) # or .mm or @\n",
    "    cost = -(y_train * torch.log(hypothesis) + (1 - y_train) * torch.log(1 - hypothesis)).mean()\n",
    "\n",
    "    # cost로 H(x) 개선\n",
    "    optimizer.zero_grad()\n",
    "    cost.backward()\n",
    "    optimizer.step()\n",
    "\n",
    "    # 10번마다 로그 출력\n",
    "    if epoch % 10 == 0:\n",
    "        print('Epoch {:4d}/{} Cost: {:.6f}'.format(\n",
    "            epoch, nb_epochs, cost.item()\n",
    "        ))"
   ]
  },
  {
   "cell_type": "code",
   "execution_count": 56,
   "id": "18482398-363e-41b4-b373-9167ad479e75",
   "metadata": {},
   "outputs": [
    {
     "name": "stdout",
     "output_type": "stream",
     "text": [
      "Epoch    0/100 Cost: 0.693147\n",
      "Epoch   10/100 Cost: 0.572727\n",
      "Epoch   20/100 Cost: 0.539493\n",
      "Epoch   30/100 Cost: 0.519708\n",
      "Epoch   40/100 Cost: 0.507066\n",
      "Epoch   50/100 Cost: 0.498539\n",
      "Epoch   60/100 Cost: 0.492549\n",
      "Epoch   70/100 Cost: 0.488209\n",
      "Epoch   80/100 Cost: 0.484985\n",
      "Epoch   90/100 Cost: 0.482543\n",
      "Epoch  100/100 Cost: 0.480661\n"
     ]
    }
   ],
   "source": [
    " \n",
    "W = torch.zeros((8, 1), requires_grad=True)\n",
    "b = torch.zeros(1, requires_grad=True)\n",
    " \n",
    "optimizer = optim.SGD([W, b], lr=1)\n",
    "\n",
    "nb_epochs = 100\n",
    "for epoch in range(nb_epochs + 1):\n",
    "\n",
    "   \n",
    "    hypothesis = torch.sigmoid(x_train.matmul(W) + b) # or .mm or @\n",
    "    cost = F.binary_cross_entropy(hypothesis, y_train)\n",
    "\n",
    " \n",
    "    optimizer.zero_grad()\n",
    "    cost.backward()\n",
    "    optimizer.step()\n",
    "\n",
    " \n",
    "    if epoch % 10 == 0:\n",
    "        print('Epoch {:4d}/{} Cost: {:.6f}'.format(\n",
    "            epoch, nb_epochs, cost.item()\n",
    "        ))"
   ]
  },
  {
   "cell_type": "code",
   "execution_count": 57,
   "id": "7239ac71-c056-4976-9241-7e4d13c762a7",
   "metadata": {},
   "outputs": [
    {
     "name": "stdout",
     "output_type": "stream",
     "text": [
      "tensor([[0.4103],\n",
      "        [0.9242],\n",
      "        [0.2300],\n",
      "        [0.9411],\n",
      "        [0.1772]], grad_fn=<SliceBackward>)\n"
     ]
    }
   ],
   "source": [
    "y_pred=torch.sigmoid(x_train.matmul(W)+b)\n",
    "print(y_pred[:5])"
   ]
  },
  {
   "cell_type": "code",
   "execution_count": 59,
   "id": "d9150d72-ebbe-46bd-92f5-fa6458e9f4c1",
   "metadata": {},
   "outputs": [
    {
     "name": "stdout",
     "output_type": "stream",
     "text": [
      "tensor([[0],\n",
      "        [1],\n",
      "        [0],\n",
      "        [1],\n",
      "        [0]], dtype=torch.int32)\n"
     ]
    }
   ],
   "source": [
    "pred=y_pred>=torch.FloatTensor([0.5])\n",
    "print(pred[:5].int())"
   ]
  },
  {
   "cell_type": "code",
   "execution_count": 60,
   "id": "fddcaeb9-0809-41aa-b384-cf0cf6c76544",
   "metadata": {},
   "outputs": [
    {
     "data": {
      "text/plain": [
       "tensor([[0.],\n",
       "        [1.],\n",
       "        [0.],\n",
       "        [1.],\n",
       "        [0.]])"
      ]
     },
     "execution_count": 60,
     "metadata": {},
     "output_type": "execute_result"
    }
   ],
   "source": [
    "y_train[:5]"
   ]
  },
  {
   "cell_type": "code",
   "execution_count": 61,
   "id": "afaaf6db-34ed-44a5-9609-03ef84810617",
   "metadata": {},
   "outputs": [],
   "source": [
    "correct=pred==y_train"
   ]
  },
  {
   "cell_type": "code",
   "execution_count": 62,
   "id": "308ad09e-59e7-43e5-9666-fd08acb8d7b5",
   "metadata": {},
   "outputs": [
    {
     "data": {
      "text/plain": [
       "torch.Size([759, 1])"
      ]
     },
     "execution_count": 62,
     "metadata": {},
     "output_type": "execute_result"
    }
   ],
   "source": [
    "correct.shape"
   ]
  },
  {
   "cell_type": "code",
   "execution_count": 63,
   "id": "0e07db7e-c49b-459f-8e8f-1186724891d4",
   "metadata": {},
   "outputs": [],
   "source": [
    "acc=correct.sum().item()/len(correct)"
   ]
  },
  {
   "cell_type": "code",
   "execution_count": 64,
   "id": "e92570f6-5147-4325-ad1e-b452e71c26fd",
   "metadata": {},
   "outputs": [
    {
     "data": {
      "text/plain": [
       "0.766798418972332"
      ]
     },
     "execution_count": 64,
     "metadata": {},
     "output_type": "execute_result"
    }
   ],
   "source": [
    "acc"
   ]
  },
  {
   "cell_type": "code",
   "execution_count": 65,
   "id": "b5b24849-9120-4db7-b2b5-48a455ad8646",
   "metadata": {},
   "outputs": [],
   "source": [
    "#logic classification"
   ]
  },
  {
   "cell_type": "code",
   "execution_count": 66,
   "id": "0039d3fa-c643-4192-91ad-64d99cb36a53",
   "metadata": {},
   "outputs": [
    {
     "data": {
      "text/plain": [
       "(759, 8)"
      ]
     },
     "execution_count": 66,
     "metadata": {},
     "output_type": "execute_result"
    }
   ],
   "source": [
    "x_data.shape"
   ]
  },
  {
   "cell_type": "code",
   "execution_count": 67,
   "id": "49377cc3-ea92-47cd-9173-e0056d96ec62",
   "metadata": {},
   "outputs": [
    {
     "data": {
      "text/plain": [
       "(759, 1)"
      ]
     },
     "execution_count": 67,
     "metadata": {},
     "output_type": "execute_result"
    }
   ],
   "source": [
    "y_data.shape"
   ]
  },
  {
   "cell_type": "code",
   "execution_count": 77,
   "id": "35b97ff8-bb95-4184-a877-b1e4252b123f",
   "metadata": {},
   "outputs": [
    {
     "name": "stdout",
     "output_type": "stream",
     "text": [
      "epochs:    0/1000  loss:0.723400 acc:0.4177\n",
      "epochs:  100/1000  loss:0.479715 acc:0.7668\n",
      "epochs:  200/1000  loss:0.473650 acc:0.7721\n",
      "epochs:  300/1000  loss:0.472434 acc:0.7721\n",
      "epochs:  400/1000  loss:0.472014 acc:0.7708\n",
      "epochs:  500/1000  loss:0.471834 acc:0.7694\n",
      "epochs:  600/1000  loss:0.471749 acc:0.7681\n",
      "epochs:  700/1000  loss:0.471709 acc:0.7681\n",
      "epochs:  800/1000  loss:0.471689 acc:0.7694\n",
      "epochs:  900/1000  loss:0.471680 acc:0.7694\n",
      "epochs: 1000/1000  loss:0.471675 acc:0.7694\n"
     ]
    }
   ],
   "source": [
    "x_train=torch.FloatTensor(x_data)\n",
    "y_train=torch.FloatTensor(y_data)\n",
    "\n",
    "class Bin_classification(nn.Module):\n",
    "    def __init__(self):\n",
    "        super().__init__()\n",
    "        self.linear=nn.Linear(8,1)\n",
    "        self.sigmoid=nn.Sigmoid()\n",
    "    def forward(self,x):\n",
    "        return self.sigmoid(self.linear(x))\n",
    "    \n",
    "model=Bin_classification()\n",
    "optimizer=optim.SGD(model.parameters(),lr=1)\n",
    "epochs=1000\n",
    "for i in range(epochs+1):\n",
    "    y_pred=model(x_train)\n",
    "    loss=F.binary_cross_entropy(y_pred,y_train)\n",
    "    optimizer.zero_grad()\n",
    "    loss.backward()\n",
    "    optimizer.step()\n",
    "    if i %100==0:\n",
    "        pred=y_pred>=torch.FloatTensor([0.5])\n",
    "        correct=pred.int()==y_train\n",
    "        acc=torch.sum(correct)/len(correct)\n",
    "   \n",
    "        print(\"epochs: {:4d}/{}  loss:{:.6f} acc:{:.4f}\".format(i,epochs,loss.item(),acc))"
   ]
  },
  {
   "cell_type": "code",
   "execution_count": null,
   "id": "77b56981-ef7d-43ef-9159-5382f8db10e1",
   "metadata": {},
   "outputs": [],
   "source": []
  }
 ],
 "metadata": {
  "kernelspec": {
   "display_name": "Python 3 (ipykernel)",
   "language": "python",
   "name": "python3"
  },
  "language_info": {
   "codemirror_mode": {
    "name": "ipython",
    "version": 3
   },
   "file_extension": ".py",
   "mimetype": "text/x-python",
   "name": "python",
   "nbconvert_exporter": "python",
   "pygments_lexer": "ipython3",
   "version": "3.8.10"
  }
 },
 "nbformat": 4,
 "nbformat_minor": 5
}
