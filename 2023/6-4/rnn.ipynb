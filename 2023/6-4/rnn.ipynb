{
 "cells": [
  {
   "cell_type": "code",
   "execution_count": 1,
   "id": "739619d7-ea7c-4f95-b709-d197f9a7f090",
   "metadata": {},
   "outputs": [
    {
     "data": {
      "text/plain": [
       "<torch._C.Generator at 0x7fd75015ca30>"
      ]
     },
     "execution_count": 1,
     "metadata": {},
     "output_type": "execute_result"
    }
   ],
   "source": [
    "import torch\n",
    "import numpy as np\n",
    "torch.manual_seed(0)"
   ]
  },
  {
   "cell_type": "code",
   "execution_count": 2,
   "id": "af214279-b0da-48bf-a36c-fa4423a18d7f",
   "metadata": {},
   "outputs": [],
   "source": [
    "input_size=4\n",
    "hidden_size=2"
   ]
  },
  {
   "cell_type": "code",
   "execution_count": 3,
   "id": "02a9d8a2-119f-40a9-818d-27764aff7dbe",
   "metadata": {},
   "outputs": [],
   "source": [
    "# singleton example\n",
    "# shape : (1, 1, 4)\n",
    "# input_data_np = np.array([[[1, 0, 0, 0]]])"
   ]
  },
  {
   "cell_type": "code",
   "execution_count": 4,
   "id": "659f69be-7a80-47a8-baa8-bfc3dc61ad29",
   "metadata": {},
   "outputs": [],
   "source": [
    "# sequential example\n",
    "# shape : (3, 5, 4)\n",
    "h = [1, 0, 0, 0]\n",
    "e = [0, 1, 0, 0]\n",
    "l = [0, 0, 1, 0]\n",
    "o = [0, 0, 0, 1]\n",
    "input_data_np = np.array([[h, e, l, l, o], [e, o, l, l, l], [l, l, e, e, l]], dtype=np.float32)"
   ]
  },
  {
   "cell_type": "code",
   "execution_count": 16,
   "id": "95bcc238-e2a4-42fb-a5ee-2eee7303fa8b",
   "metadata": {},
   "outputs": [
    {
     "data": {
      "text/plain": [
       "(3, 5, 4)"
      ]
     },
     "execution_count": 16,
     "metadata": {},
     "output_type": "execute_result"
    }
   ],
   "source": [
    "input_data_np.shape"
   ]
  },
  {
   "cell_type": "code",
   "execution_count": 9,
   "id": "b2d9650e-43c7-4a7a-be3c-49461e374738",
   "metadata": {},
   "outputs": [],
   "source": [
    "input_data = torch.Tensor(input_data_np)"
   ]
  },
  {
   "cell_type": "code",
   "execution_count": 15,
   "id": "942c30ba-5196-4de5-8040-3e3105493b76",
   "metadata": {},
   "outputs": [
    {
     "data": {
      "text/plain": [
       "torch.Size([3, 5, 4])"
      ]
     },
     "execution_count": 15,
     "metadata": {},
     "output_type": "execute_result"
    }
   ],
   "source": [
    "input_data.shape"
   ]
  },
  {
   "cell_type": "code",
   "execution_count": 17,
   "id": "0ace9e64-1ab6-4c58-930b-5e61c3c39d02",
   "metadata": {},
   "outputs": [],
   "source": [
    "rnn = torch.nn.RNN(input_size, hidden_size,2)"
   ]
  },
  {
   "cell_type": "code",
   "execution_count": 18,
   "id": "7fd17ff2-9c0f-426c-9012-43455c560516",
   "metadata": {},
   "outputs": [
    {
     "data": {
      "text/plain": [
       "RNN(4, 2, num_layers=2)"
      ]
     },
     "execution_count": 18,
     "metadata": {},
     "output_type": "execute_result"
    }
   ],
   "source": [
    "rnn"
   ]
  },
  {
   "cell_type": "code",
   "execution_count": 19,
   "id": "7f1848b0-6e10-4793-9a47-c33f1ca20cfd",
   "metadata": {},
   "outputs": [],
   "source": [
    "#check output\n",
    "outputs,_status=rnn(input_data)"
   ]
  },
  {
   "cell_type": "code",
   "execution_count": 20,
   "id": "d840abc2-8e12-4ee0-9c8c-a71c4ccc0d16",
   "metadata": {},
   "outputs": [
    {
     "name": "stdout",
     "output_type": "stream",
     "text": [
      "tensor([[[ 0.1513, -0.8377],\n",
      "         [ 0.0384, -0.8832],\n",
      "         [ 0.4204, -0.6615],\n",
      "         [ 0.4204, -0.6615],\n",
      "         [ 0.2626, -0.8123]],\n",
      "\n",
      "        [[-0.4097, -0.8836],\n",
      "         [-0.1446, -0.8097],\n",
      "         [ 0.0773, -0.4265],\n",
      "         [ 0.0773, -0.4265],\n",
      "         [ 0.1098, -0.4068]],\n",
      "\n",
      "        [[ 0.1845, -0.7633],\n",
      "         [ 0.1997, -0.6192],\n",
      "         [-0.2353, -0.8978],\n",
      "         [-0.2353, -0.8978],\n",
      "         [ 0.1801, -0.6859]]], grad_fn=<StackBackward>)\n"
     ]
    }
   ],
   "source": [
    "print(outputs)"
   ]
  },
  {
   "cell_type": "code",
   "execution_count": 21,
   "id": "94e00509-50a2-4eab-b5b2-e197c6d246de",
   "metadata": {},
   "outputs": [
    {
     "name": "stdout",
     "output_type": "stream",
     "text": [
      "torch.Size([3, 5, 2])\n"
     ]
    }
   ],
   "source": [
    "print(outputs.size())"
   ]
  },
  {
   "cell_type": "code",
   "execution_count": 34,
   "id": "f5ad1bce-ef17-4ee9-a394-c685ddfb2f0c",
   "metadata": {},
   "outputs": [
    {
     "data": {
      "text/plain": [
       "torch.Size([2, 5, 2])"
      ]
     },
     "execution_count": 34,
     "metadata": {},
     "output_type": "execute_result"
    }
   ],
   "source": [
    "_status.shape"
   ]
  },
  {
   "cell_type": "code",
   "execution_count": 24,
   "id": "5199b0a8-b1a5-4a82-aeb0-90a953c32149",
   "metadata": {},
   "outputs": [],
   "source": [
    "import torch.nn as nn\n",
    "torch.manual_seed(7)\n",
    "import numpy as np"
   ]
  },
  {
   "cell_type": "code",
   "execution_count": 25,
   "id": "7802a8b8-35fc-4827-a48e-766247f1ea6c",
   "metadata": {},
   "outputs": [],
   "source": [
    "input_size=4\n",
    "hidden_size=2"
   ]
  },
  {
   "cell_type": "code",
   "execution_count": 26,
   "id": "b411d9d9-09f6-48fe-8c61-897a66595449",
   "metadata": {},
   "outputs": [],
   "source": [
    "# data \n",
    "h=[1,0,0,0]\n",
    "e=[0,1,0,0]\n",
    "l=[0,0,1,0]\n",
    "o=[0,0,0,1]\n",
    "data=np.array([[h,e,l,l,o],[h,l,l,e,o],[h,o,l,l,e]],np.float32)\n",
    "data=torch.Tensor(data)"
   ]
  },
  {
   "cell_type": "code",
   "execution_count": 28,
   "id": "dc42f4c8-a301-4d2d-9424-d56213900b44",
   "metadata": {},
   "outputs": [
    {
     "data": {
      "text/plain": [
       "torch.Size([3, 5, 4])"
      ]
     },
     "execution_count": 28,
     "metadata": {},
     "output_type": "execute_result"
    }
   ],
   "source": [
    "data.shape"
   ]
  },
  {
   "cell_type": "code",
   "execution_count": 29,
   "id": "0eb2af96-c360-4639-8033-3b3e6b8844af",
   "metadata": {},
   "outputs": [],
   "source": [
    "rnn=nn.RNN(input_size,hidden_size,2)"
   ]
  },
  {
   "cell_type": "code",
   "execution_count": 30,
   "id": "ea0d9ef1-0057-49a0-b4ec-54285459a165",
   "metadata": {},
   "outputs": [],
   "source": [
    "output,status=rnn(data)"
   ]
  },
  {
   "cell_type": "code",
   "execution_count": 35,
   "id": "058b3dd1-b8be-4fc8-9d72-9c1df4223996",
   "metadata": {},
   "outputs": [
    {
     "data": {
      "text/plain": [
       "tensor([[[0.7284, 0.4799],\n",
       "         [0.6239, 0.2097],\n",
       "         [0.7556, 0.5657],\n",
       "         [0.7556, 0.5657],\n",
       "         [0.6429, 0.4097]],\n",
       "\n",
       "        [[0.8424, 0.6620],\n",
       "         [0.8653, 0.7047],\n",
       "         [0.8499, 0.7105],\n",
       "         [0.7889, 0.5247],\n",
       "         [0.7865, 0.6181]],\n",
       "\n",
       "        [[0.8597, 0.7220],\n",
       "         [0.8156, 0.6729],\n",
       "         [0.8683, 0.7646],\n",
       "         [0.8792, 0.7730],\n",
       "         [0.8067, 0.5840]]], grad_fn=<StackBackward>)"
      ]
     },
     "execution_count": 35,
     "metadata": {},
     "output_type": "execute_result"
    }
   ],
   "source": [
    "output"
   ]
  },
  {
   "cell_type": "code",
   "execution_count": 32,
   "id": "56bcea5c-483c-464a-9c78-e0df9b80664f",
   "metadata": {},
   "outputs": [
    {
     "data": {
      "text/plain": [
       "tensor([[[-0.5625, -0.8712],\n",
       "         [-0.4904, -0.5758],\n",
       "         [-0.4403, -0.8676],\n",
       "         [-0.3289, -0.9034],\n",
       "         [-0.7569, -0.7237]],\n",
       "\n",
       "        [[ 0.8597,  0.7220],\n",
       "         [ 0.8156,  0.6729],\n",
       "         [ 0.8683,  0.7646],\n",
       "         [ 0.8792,  0.7730],\n",
       "         [ 0.8067,  0.5840]]], grad_fn=<StackBackward>)"
      ]
     },
     "execution_count": 32,
     "metadata": {},
     "output_type": "execute_result"
    }
   ],
   "source": [
    "status"
   ]
  },
  {
   "cell_type": "code",
   "execution_count": 33,
   "id": "f00e15d0-ac3c-443f-99c3-1c6302f29f48",
   "metadata": {},
   "outputs": [
    {
     "data": {
      "text/plain": [
       "torch.Size([2, 5, 2])"
      ]
     },
     "execution_count": 33,
     "metadata": {},
     "output_type": "execute_result"
    }
   ],
   "source": [
    "status.shape"
   ]
  },
  {
   "cell_type": "code",
   "execution_count": 1,
   "id": "90995c7f-642a-4e6c-a3a8-f08955481c89",
   "metadata": {},
   "outputs": [
    {
     "data": {
      "text/plain": [
       "<torch._C.Generator at 0x7fe46c11e950>"
      ]
     },
     "execution_count": 1,
     "metadata": {},
     "output_type": "execute_result"
    }
   ],
   "source": [
    " # char\n",
    "import torch\n",
    "import torch.nn as nn\n",
    "import numpy as np \n",
    "torch.manual_seed(7)\n",
    "    "
   ]
  },
  {
   "cell_type": "code",
   "execution_count": 2,
   "id": "d0386ef1-555d-4c01-aa34-eb8eae80a6c5",
   "metadata": {},
   "outputs": [],
   "source": [
    "data = \" if you want you\""
   ]
  },
  {
   "cell_type": "code",
   "execution_count": 3,
   "id": "7b7a68b8-075a-4df4-8527-f825a8fbd57b",
   "metadata": {},
   "outputs": [],
   "source": [
    "char_set=list(set(data))"
   ]
  },
  {
   "cell_type": "code",
   "execution_count": 4,
   "id": "528f38df-85e3-4587-8df9-3346fa457ab7",
   "metadata": {},
   "outputs": [
    {
     "data": {
      "text/plain": [
       "['a', ' ', 'n', 'y', 'w', 'u', 't', 'f', 'i', 'o']"
      ]
     },
     "execution_count": 4,
     "metadata": {},
     "output_type": "execute_result"
    }
   ],
   "source": [
    "char_set"
   ]
  },
  {
   "cell_type": "code",
   "execution_count": 5,
   "id": "a5550d20-53f7-4030-8963-19ed06e25947",
   "metadata": {},
   "outputs": [],
   "source": [
    "char_dic={c:i for i,c in enumerate(char_set)}"
   ]
  },
  {
   "cell_type": "code",
   "execution_count": 6,
   "id": "1caaa5b0-2db2-4f8a-a83e-30d1c2b3d901",
   "metadata": {},
   "outputs": [
    {
     "name": "stdout",
     "output_type": "stream",
     "text": [
      "{'a': 0, ' ': 1, 'n': 2, 'y': 3, 'w': 4, 'u': 5, 't': 6, 'f': 7, 'i': 8, 'o': 9}\n"
     ]
    }
   ],
   "source": [
    "print(char_dic)"
   ]
  },
  {
   "cell_type": "code",
   "execution_count": 7,
   "id": "369be029-ef9d-4c0c-a521-3163394c1cec",
   "metadata": {},
   "outputs": [
    {
     "data": {
      "text/plain": [
       "10"
      ]
     },
     "execution_count": 7,
     "metadata": {},
     "output_type": "execute_result"
    }
   ],
   "source": [
    "dic_size = len(char_dic)\n",
    "dic_size"
   ]
  },
  {
   "cell_type": "code",
   "execution_count": 8,
   "id": "eb9b7dba-0cd3-4b0f-9bc0-48839a7ab7cb",
   "metadata": {},
   "outputs": [],
   "source": [
    "hidden_size = len(char_dic)\n",
    "learning_rate = 0.1"
   ]
  },
  {
   "cell_type": "code",
   "execution_count": 13,
   "id": "efb2b868-0d62-4b08-b1a4-25dac1411865",
   "metadata": {},
   "outputs": [],
   "source": [
    "#data_set\n",
    "data_idx=[char_dic[c]  for c in char_set]\n",
    "x_data=[data_idx[:-1]]"
   ]
  },
  {
   "cell_type": "code",
   "execution_count": 14,
   "id": "c3e469c8-19e7-41b0-a084-8b6675e19073",
   "metadata": {},
   "outputs": [],
   "source": [
    "x_one_hot=[np.eye(dic_size)[x] for x in x_data]"
   ]
  },
  {
   "cell_type": "code",
   "execution_count": 15,
   "id": "40b38078-3b0b-4c46-bd8a-dfe7b7c08059",
   "metadata": {},
   "outputs": [
    {
     "data": {
      "text/plain": [
       "[array([[1., 0., 0., 0., 0., 0., 0., 0., 0., 0.],\n",
       "        [0., 1., 0., 0., 0., 0., 0., 0., 0., 0.],\n",
       "        [0., 0., 1., 0., 0., 0., 0., 0., 0., 0.],\n",
       "        [0., 0., 0., 1., 0., 0., 0., 0., 0., 0.],\n",
       "        [0., 0., 0., 0., 1., 0., 0., 0., 0., 0.],\n",
       "        [0., 0., 0., 0., 0., 1., 0., 0., 0., 0.],\n",
       "        [0., 0., 0., 0., 0., 0., 1., 0., 0., 0.],\n",
       "        [0., 0., 0., 0., 0., 0., 0., 1., 0., 0.],\n",
       "        [0., 0., 0., 0., 0., 0., 0., 0., 1., 0.]])]"
      ]
     },
     "execution_count": 15,
     "metadata": {},
     "output_type": "execute_result"
    }
   ],
   "source": [
    "x_one_hot"
   ]
  },
  {
   "cell_type": "code",
   "execution_count": 16,
   "id": "28092c5e-49bb-463b-927c-3aba4ff35f0b",
   "metadata": {},
   "outputs": [
    {
     "data": {
      "text/plain": [
       "[[1, 2, 3, 4, 5, 6, 7, 8, 9]]"
      ]
     },
     "execution_count": 16,
     "metadata": {},
     "output_type": "execute_result"
    }
   ],
   "source": [
    "[data_idx[1:]]"
   ]
  },
  {
   "cell_type": "code",
   "execution_count": 24,
   "id": "fa6b1407-abae-4c97-980c-43bfc732d0c4",
   "metadata": {},
   "outputs": [],
   "source": [
    "sample = \" if you want you\"\n",
    "data_=list(set(sample))\n",
    "data_id={ c:i for i,c in enumerate(data_)}\n",
    "data_size=len(data_id)\n",
    "hidden_size=len(data_id)\n",
    "learning_rate=0.1\n",
    "# dataset \n",
    "dataset=[data_id[i] for i in sample]\n",
    "x_data=[dataset[:-1]]\n",
    "x_one_hot=[np.eye(data_size)[x] for x in x_data]\n",
    "y_data=[dataset[1:]]    "
   ]
  },
  {
   "cell_type": "code",
   "execution_count": 25,
   "id": "2f7ce98f-7a0a-422d-8df6-da231b5323a8",
   "metadata": {},
   "outputs": [
    {
     "data": {
      "text/plain": [
       "[1, 8, 7, 1, 3, 9, 5, 1, 4, 0, 2, 6, 1, 3, 9, 5]"
      ]
     },
     "execution_count": 25,
     "metadata": {},
     "output_type": "execute_result"
    }
   ],
   "source": [
    "dataset"
   ]
  },
  {
   "cell_type": "code",
   "execution_count": 26,
   "id": "d598a361-454c-4e99-9949-856d7513e79c",
   "metadata": {},
   "outputs": [
    {
     "data": {
      "text/plain": [
       "[[1, 8, 7, 1, 3, 9, 5, 1, 4, 0, 2, 6, 1, 3, 9]]"
      ]
     },
     "execution_count": 26,
     "metadata": {},
     "output_type": "execute_result"
    }
   ],
   "source": [
    "[ dataset[:-1]]"
   ]
  },
  {
   "cell_type": "code",
   "execution_count": 27,
   "id": "acb15f61-5504-4f19-84b2-5e904dba3ef8",
   "metadata": {},
   "outputs": [
    {
     "data": {
      "text/plain": [
       "[[8, 7, 1, 3, 9, 5, 1, 4, 0, 2, 6, 1, 3, 9, 5]]"
      ]
     },
     "execution_count": 27,
     "metadata": {},
     "output_type": "execute_result"
    }
   ],
   "source": [
    "y_data"
   ]
  },
  {
   "cell_type": "code",
   "execution_count": 28,
   "id": "e8555b06-813d-462a-8a63-f3ebc1ffd0ff",
   "metadata": {},
   "outputs": [
    {
     "data": {
      "text/plain": [
       "[[1, 8, 7, 1, 3, 9, 5, 1, 4, 0, 2, 6, 1, 3, 9]]"
      ]
     },
     "execution_count": 28,
     "metadata": {},
     "output_type": "execute_result"
    }
   ],
   "source": [
    "x_data"
   ]
  },
  {
   "cell_type": "code",
   "execution_count": 29,
   "id": "01ce757e-ef71-4f2d-aca2-64a74da046fa",
   "metadata": {},
   "outputs": [],
   "source": [
    "X=torch.FloatTensor(x_one_hot)\n",
    "Y=torch.LongTensor(y_data)"
   ]
  },
  {
   "cell_type": "code",
   "execution_count": 30,
   "id": "07f3199d-bcf6-4224-890e-0f0c3f9fd648",
   "metadata": {},
   "outputs": [
    {
     "data": {
      "text/plain": [
       "tensor([[[0., 1., 0., 0., 0., 0., 0., 0., 0., 0.],\n",
       "         [0., 0., 0., 0., 0., 0., 0., 0., 1., 0.],\n",
       "         [0., 0., 0., 0., 0., 0., 0., 1., 0., 0.],\n",
       "         [0., 1., 0., 0., 0., 0., 0., 0., 0., 0.],\n",
       "         [0., 0., 0., 1., 0., 0., 0., 0., 0., 0.],\n",
       "         [0., 0., 0., 0., 0., 0., 0., 0., 0., 1.],\n",
       "         [0., 0., 0., 0., 0., 1., 0., 0., 0., 0.],\n",
       "         [0., 1., 0., 0., 0., 0., 0., 0., 0., 0.],\n",
       "         [0., 0., 0., 0., 1., 0., 0., 0., 0., 0.],\n",
       "         [1., 0., 0., 0., 0., 0., 0., 0., 0., 0.],\n",
       "         [0., 0., 1., 0., 0., 0., 0., 0., 0., 0.],\n",
       "         [0., 0., 0., 0., 0., 0., 1., 0., 0., 0.],\n",
       "         [0., 1., 0., 0., 0., 0., 0., 0., 0., 0.],\n",
       "         [0., 0., 0., 1., 0., 0., 0., 0., 0., 0.],\n",
       "         [0., 0., 0., 0., 0., 0., 0., 0., 0., 1.]]])"
      ]
     },
     "execution_count": 30,
     "metadata": {},
     "output_type": "execute_result"
    }
   ],
   "source": [
    "X"
   ]
  },
  {
   "cell_type": "code",
   "execution_count": 31,
   "id": "67d6fab7-7086-40a3-9e7e-cfde6a334af2",
   "metadata": {},
   "outputs": [
    {
     "data": {
      "text/plain": [
       "tensor([[8, 7, 1, 3, 9, 5, 1, 4, 0, 2, 6, 1, 3, 9, 5]])"
      ]
     },
     "execution_count": 31,
     "metadata": {},
     "output_type": "execute_result"
    }
   ],
   "source": [
    "Y"
   ]
  },
  {
   "cell_type": "code",
   "execution_count": 32,
   "id": "b722876c-eb44-4bdc-b1f4-2be464b205d1",
   "metadata": {},
   "outputs": [],
   "source": [
    "rnn = torch.nn.RNN(dic_size, hidden_size, batch_first=True)"
   ]
  },
  {
   "cell_type": "code",
   "execution_count": 34,
   "id": "661f2936-1972-40c6-9df2-0c37d062f590",
   "metadata": {},
   "outputs": [],
   "source": [
    "import torch.optim as optim\n",
    "criterion = torch.nn.CrossEntropyLoss()\n",
    "optimizer = optim.Adam(rnn.parameters(), learning_rate)"
   ]
  },
  {
   "cell_type": "code",
   "execution_count": 35,
   "id": "b4897948-a1c7-4676-9fa2-718822061607",
   "metadata": {},
   "outputs": [
    {
     "name": "stdout",
     "output_type": "stream",
     "text": [
      "0 loss:  2.2881078720092773 prediction:  [[1 1 9 6 0 6 6 1 1 1 9 1 1 0 6]] true Y:  [[8, 7, 1, 3, 9, 5, 1, 4, 0, 2, 6, 1, 3, 9, 5]] prediction str:    otatt   o  at\n",
      "1 loss:  2.0028769969940186 prediction:  [[1 1 1 1 1 1 1 1 1 1 1 1 3 9 1]] true Y:  [[8, 7, 1, 3, 9, 5, 1, 4, 0, 2, 6, 1, 3, 9, 5]] prediction str:              yo \n",
      "2 loss:  1.7983555793762207 prediction:  [[1 1 1 1 9 1 1 1 9 1 1 1 1 9 1]] true Y:  [[8, 7, 1, 3, 9, 5, 1, 4, 0, 2, 6, 1, 3, 9, 5]] prediction str:      o   o    o \n",
      "3 loss:  1.6532042026519775 prediction:  [[1 1 1 3 9 5 1 1 9 1 1 1 3 9 5]] true Y:  [[8, 7, 1, 3, 9, 5, 1, 4, 0, 2, 6, 1, 3, 9, 5]] prediction str:     you  o   you\n",
      "4 loss:  1.5568333864212036 prediction:  [[3 1 1 3 9 5 1 1 9 1 6 1 5 9 5]] true Y:  [[8, 7, 1, 3, 9, 5, 1, 4, 0, 2, 6, 1, 3, 9, 5]] prediction str:  y  you  o t uou\n",
      "5 loss:  1.4646165370941162 prediction:  [[3 1 1 3 9 5 1 3 0 1 6 1 5 9 5]] true Y:  [[8, 7, 1, 3, 9, 5, 1, 4, 0, 2, 6, 1, 3, 9, 5]] prediction str:  y  you ya t uou\n",
      "6 loss:  1.388258457183838 prediction:  [[3 7 1 3 9 5 1 3 0 2 6 1 3 9 5]] true Y:  [[8, 7, 1, 3, 9, 5, 1, 4, 0, 2, 6, 1, 3, 9, 5]] prediction str:  yf you yant you\n",
      "7 loss:  1.3124542236328125 prediction:  [[3 7 1 3 9 5 1 3 0 2 6 1 3 9 5]] true Y:  [[8, 7, 1, 3, 9, 5, 1, 4, 0, 2, 6, 1, 3, 9, 5]] prediction str:  yf you yant you\n",
      "8 loss:  1.2548191547393799 prediction:  [[3 7 1 3 0 5 1 3 0 2 6 1 3 9 5]] true Y:  [[8, 7, 1, 3, 9, 5, 1, 4, 0, 2, 6, 1, 3, 9, 5]] prediction str:  yf yau yant you\n",
      "9 loss:  1.1991174221038818 prediction:  [[8 7 1 3 9 5 1 3 0 2 6 1 3 9 5]] true Y:  [[8, 7, 1, 3, 9, 5, 1, 4, 0, 2, 6, 1, 3, 9, 5]] prediction str:  if you yant you\n",
      "10 loss:  1.1381169557571411 prediction:  [[8 7 1 3 9 5 1 4 0 2 6 1 3 9 5]] true Y:  [[8, 7, 1, 3, 9, 5, 1, 4, 0, 2, 6, 1, 3, 9, 5]] prediction str:  if you want you\n",
      "11 loss:  1.1017069816589355 prediction:  [[8 7 1 3 9 5 1 4 0 2 6 1 4 9 5]] true Y:  [[8, 7, 1, 3, 9, 5, 1, 4, 0, 2, 6, 1, 3, 9, 5]] prediction str:  if you want wou\n",
      "12 loss:  1.0659419298171997 prediction:  [[8 7 1 3 9 5 1 4 0 2 6 1 4 9 5]] true Y:  [[8, 7, 1, 3, 9, 5, 1, 4, 0, 2, 6, 1, 3, 9, 5]] prediction str:  if you want wou\n",
      "13 loss:  1.0398646593093872 prediction:  [[8 7 1 3 9 5 1 4 0 2 6 1 3 9 5]] true Y:  [[8, 7, 1, 3, 9, 5, 1, 4, 0, 2, 6, 1, 3, 9, 5]] prediction str:  if you want you\n",
      "14 loss:  1.018608570098877 prediction:  [[8 7 1 3 9 5 1 4 0 2 6 1 3 9 5]] true Y:  [[8, 7, 1, 3, 9, 5, 1, 4, 0, 2, 6, 1, 3, 9, 5]] prediction str:  if you want you\n",
      "15 loss:  0.9908453822135925 prediction:  [[8 7 1 3 9 5 1 4 0 2 6 1 3 9 5]] true Y:  [[8, 7, 1, 3, 9, 5, 1, 4, 0, 2, 6, 1, 3, 9, 5]] prediction str:  if you want you\n",
      "16 loss:  0.9718127846717834 prediction:  [[8 7 1 3 9 5 1 4 0 2 6 1 3 9 5]] true Y:  [[8, 7, 1, 3, 9, 5, 1, 4, 0, 2, 6, 1, 3, 9, 5]] prediction str:  if you want you\n",
      "17 loss:  0.952674925327301 prediction:  [[8 7 1 3 9 5 1 4 0 2 6 1 3 9 5]] true Y:  [[8, 7, 1, 3, 9, 5, 1, 4, 0, 2, 6, 1, 3, 9, 5]] prediction str:  if you want you\n",
      "18 loss:  0.9357138872146606 prediction:  [[8 7 1 3 9 5 1 4 0 2 6 1 3 9 5]] true Y:  [[8, 7, 1, 3, 9, 5, 1, 4, 0, 2, 6, 1, 3, 9, 5]] prediction str:  if you want you\n",
      "19 loss:  0.9255308508872986 prediction:  [[8 7 1 3 9 5 1 4 0 2 6 1 3 9 5]] true Y:  [[8, 7, 1, 3, 9, 5, 1, 4, 0, 2, 6, 1, 3, 9, 5]] prediction str:  if you want you\n",
      "20 loss:  0.9132878184318542 prediction:  [[8 7 1 3 9 5 1 4 0 2 6 1 3 9 5]] true Y:  [[8, 7, 1, 3, 9, 5, 1, 4, 0, 2, 6, 1, 3, 9, 5]] prediction str:  if you want you\n",
      "21 loss:  0.9005712866783142 prediction:  [[8 7 1 3 9 5 1 4 0 2 6 1 3 9 5]] true Y:  [[8, 7, 1, 3, 9, 5, 1, 4, 0, 2, 6, 1, 3, 9, 5]] prediction str:  if you want you\n",
      "22 loss:  0.8914058208465576 prediction:  [[8 7 1 3 9 5 1 4 0 2 6 1 3 9 5]] true Y:  [[8, 7, 1, 3, 9, 5, 1, 4, 0, 2, 6, 1, 3, 9, 5]] prediction str:  if you want you\n",
      "23 loss:  0.8852142095565796 prediction:  [[8 7 1 3 9 5 1 4 0 2 6 1 3 9 5]] true Y:  [[8, 7, 1, 3, 9, 5, 1, 4, 0, 2, 6, 1, 3, 9, 5]] prediction str:  if you want you\n",
      "24 loss:  0.8798199892044067 prediction:  [[8 7 1 3 9 5 1 4 0 2 6 1 3 9 5]] true Y:  [[8, 7, 1, 3, 9, 5, 1, 4, 0, 2, 6, 1, 3, 9, 5]] prediction str:  if you want you\n",
      "25 loss:  0.8747516870498657 prediction:  [[8 7 1 3 9 5 1 4 0 2 6 1 3 9 5]] true Y:  [[8, 7, 1, 3, 9, 5, 1, 4, 0, 2, 6, 1, 3, 9, 5]] prediction str:  if you want you\n",
      "26 loss:  0.8699426054954529 prediction:  [[8 7 1 3 9 5 1 4 0 2 6 1 3 9 5]] true Y:  [[8, 7, 1, 3, 9, 5, 1, 4, 0, 2, 6, 1, 3, 9, 5]] prediction str:  if you want you\n",
      "27 loss:  0.8652256727218628 prediction:  [[8 7 1 3 9 5 1 4 0 2 6 1 3 9 5]] true Y:  [[8, 7, 1, 3, 9, 5, 1, 4, 0, 2, 6, 1, 3, 9, 5]] prediction str:  if you want you\n",
      "28 loss:  0.8606241941452026 prediction:  [[8 7 1 3 9 5 1 4 0 2 6 1 3 9 5]] true Y:  [[8, 7, 1, 3, 9, 5, 1, 4, 0, 2, 6, 1, 3, 9, 5]] prediction str:  if you want you\n",
      "29 loss:  0.8563977479934692 prediction:  [[8 7 1 3 9 5 1 4 0 2 6 1 3 9 5]] true Y:  [[8, 7, 1, 3, 9, 5, 1, 4, 0, 2, 6, 1, 3, 9, 5]] prediction str:  if you want you\n",
      "30 loss:  0.8527952432632446 prediction:  [[8 7 1 3 9 5 1 4 0 2 6 1 3 9 5]] true Y:  [[8, 7, 1, 3, 9, 5, 1, 4, 0, 2, 6, 1, 3, 9, 5]] prediction str:  if you want you\n",
      "31 loss:  0.8498671054840088 prediction:  [[8 7 1 3 9 5 1 4 0 2 6 1 3 9 5]] true Y:  [[8, 7, 1, 3, 9, 5, 1, 4, 0, 2, 6, 1, 3, 9, 5]] prediction str:  if you want you\n",
      "32 loss:  0.8474639058113098 prediction:  [[8 7 1 3 9 5 1 4 0 2 6 1 3 9 5]] true Y:  [[8, 7, 1, 3, 9, 5, 1, 4, 0, 2, 6, 1, 3, 9, 5]] prediction str:  if you want you\n",
      "33 loss:  0.8453550934791565 prediction:  [[8 7 1 3 9 5 1 4 0 2 6 1 3 9 5]] true Y:  [[8, 7, 1, 3, 9, 5, 1, 4, 0, 2, 6, 1, 3, 9, 5]] prediction str:  if you want you\n",
      "34 loss:  0.8434542417526245 prediction:  [[8 7 1 3 9 5 1 4 0 2 6 1 3 9 5]] true Y:  [[8, 7, 1, 3, 9, 5, 1, 4, 0, 2, 6, 1, 3, 9, 5]] prediction str:  if you want you\n",
      "35 loss:  0.8415006399154663 prediction:  [[8 7 1 3 9 5 1 4 0 2 6 1 3 9 5]] true Y:  [[8, 7, 1, 3, 9, 5, 1, 4, 0, 2, 6, 1, 3, 9, 5]] prediction str:  if you want you\n",
      "36 loss:  0.8393070697784424 prediction:  [[8 7 1 3 9 5 1 4 0 2 6 1 3 9 5]] true Y:  [[8, 7, 1, 3, 9, 5, 1, 4, 0, 2, 6, 1, 3, 9, 5]] prediction str:  if you want you\n",
      "37 loss:  0.8372248411178589 prediction:  [[8 7 1 3 9 5 1 4 0 2 6 1 3 9 5]] true Y:  [[8, 7, 1, 3, 9, 5, 1, 4, 0, 2, 6, 1, 3, 9, 5]] prediction str:  if you want you\n",
      "38 loss:  0.8358173966407776 prediction:  [[8 7 1 3 9 5 1 4 0 2 6 1 3 9 5]] true Y:  [[8, 7, 1, 3, 9, 5, 1, 4, 0, 2, 6, 1, 3, 9, 5]] prediction str:  if you want you\n",
      "39 loss:  0.8346835374832153 prediction:  [[8 7 1 3 9 5 1 4 0 2 6 1 3 9 5]] true Y:  [[8, 7, 1, 3, 9, 5, 1, 4, 0, 2, 6, 1, 3, 9, 5]] prediction str:  if you want you\n",
      "40 loss:  0.833239734172821 prediction:  [[8 7 1 3 9 5 1 4 0 2 6 1 3 9 5]] true Y:  [[8, 7, 1, 3, 9, 5, 1, 4, 0, 2, 6, 1, 3, 9, 5]] prediction str:  if you want you\n",
      "41 loss:  0.8321303725242615 prediction:  [[8 7 1 3 9 5 1 4 0 2 6 1 3 9 5]] true Y:  [[8, 7, 1, 3, 9, 5, 1, 4, 0, 2, 6, 1, 3, 9, 5]] prediction str:  if you want you\n",
      "42 loss:  0.8312085866928101 prediction:  [[8 7 1 3 9 5 1 4 0 2 6 1 3 9 5]] true Y:  [[8, 7, 1, 3, 9, 5, 1, 4, 0, 2, 6, 1, 3, 9, 5]] prediction str:  if you want you\n",
      "43 loss:  0.8301212191581726 prediction:  [[8 7 1 3 9 5 1 4 0 2 6 1 3 9 5]] true Y:  [[8, 7, 1, 3, 9, 5, 1, 4, 0, 2, 6, 1, 3, 9, 5]] prediction str:  if you want you\n",
      "44 loss:  0.829203724861145 prediction:  [[8 7 1 3 9 5 1 4 0 2 6 1 3 9 5]] true Y:  [[8, 7, 1, 3, 9, 5, 1, 4, 0, 2, 6, 1, 3, 9, 5]] prediction str:  if you want you\n",
      "45 loss:  0.8285518288612366 prediction:  [[8 7 1 3 9 5 1 4 0 2 6 1 3 9 5]] true Y:  [[8, 7, 1, 3, 9, 5, 1, 4, 0, 2, 6, 1, 3, 9, 5]] prediction str:  if you want you\n",
      "46 loss:  0.8275910019874573 prediction:  [[8 7 1 3 9 5 1 4 0 2 6 1 3 9 5]] true Y:  [[8, 7, 1, 3, 9, 5, 1, 4, 0, 2, 6, 1, 3, 9, 5]] prediction str:  if you want you\n",
      "47 loss:  0.826780378818512 prediction:  [[8 7 1 3 9 5 1 4 0 2 6 1 3 9 5]] true Y:  [[8, 7, 1, 3, 9, 5, 1, 4, 0, 2, 6, 1, 3, 9, 5]] prediction str:  if you want you\n",
      "48 loss:  0.8262047171592712 prediction:  [[8 7 1 3 9 5 1 4 0 2 6 1 3 9 5]] true Y:  [[8, 7, 1, 3, 9, 5, 1, 4, 0, 2, 6, 1, 3, 9, 5]] prediction str:  if you want you\n",
      "49 loss:  0.8255479335784912 prediction:  [[8 7 1 3 9 5 1 4 0 2 6 1 3 9 5]] true Y:  [[8, 7, 1, 3, 9, 5, 1, 4, 0, 2, 6, 1, 3, 9, 5]] prediction str:  if you want you\n"
     ]
    }
   ],
   "source": [
    "for i in range(50):\n",
    "    optimizer.zero_grad()\n",
    "    outputs, _status = rnn(X)\n",
    "    loss = criterion(outputs.view(-1, dic_size), Y.view(-1))\n",
    "    loss.backward()\n",
    "    optimizer.step()\n",
    "\n",
    "    result = outputs.data.numpy().argmax(axis=2)\n",
    "    result_str = ''.join([char_set[c] for c in np.squeeze(result)])\n",
    "    print(i, \"loss: \", loss.item(), \"prediction: \", result, \"true Y: \", y_data, \"prediction str: \", result_str)"
   ]
  },
  {
   "cell_type": "code",
   "execution_count": 36,
   "id": "f52242b9-ecb6-43e5-b361-d3b2bcfac92a",
   "metadata": {},
   "outputs": [],
   "source": [
    "import torch.nn as nn\n",
    "import torch.optim as optim\n",
    "import numpy as np"
   ]
  },
  {
   "cell_type": "code",
   "execution_count": 38,
   "id": "84882152-d3a0-4cc7-a718-3cdb9fadff76",
   "metadata": {},
   "outputs": [],
   "source": [
    "sample='jack I do not love you'"
   ]
  },
  {
   "cell_type": "code",
   "execution_count": 43,
   "id": "4194c56e-f6b3-4f67-b4ca-96ae0af71df5",
   "metadata": {},
   "outputs": [],
   "source": [
    "#词表\n",
    "\n",
    "\n",
    "data2idx={c:i for i,c in enumerate(list(set(sample)))}"
   ]
  },
  {
   "cell_type": "code",
   "execution_count": 44,
   "id": "2a5af5da-12a3-4a51-87a4-5e676a2a7a22",
   "metadata": {},
   "outputs": [
    {
     "data": {
      "text/plain": [
       "{'e': 0,\n",
       " 'I': 1,\n",
       " 'd': 2,\n",
       " ' ': 3,\n",
       " 'n': 4,\n",
       " 'y': 5,\n",
       " 'k': 6,\n",
       " 'u': 7,\n",
       " 'j': 8,\n",
       " 'l': 9,\n",
       " 'v': 10,\n",
       " 't': 11,\n",
       " 'c': 12,\n",
       " 'a': 13,\n",
       " 'o': 14}"
      ]
     },
     "execution_count": 44,
     "metadata": {},
     "output_type": "execute_result"
    }
   ],
   "source": [
    "data2idx"
   ]
  },
  {
   "cell_type": "code",
   "execution_count": 45,
   "id": "8e536125-de9a-422d-8bac-33cbfd96d76b",
   "metadata": {},
   "outputs": [
    {
     "data": {
      "text/plain": [
       "15"
      ]
     },
     "execution_count": 45,
     "metadata": {},
     "output_type": "execute_result"
    }
   ],
   "source": [
    " len(data2idx)"
   ]
  },
  {
   "cell_type": "code",
   "execution_count": 46,
   "id": "34465bd8-6c5f-4327-bf49-a55c2cf82250",
   "metadata": {},
   "outputs": [],
   "source": [
    "data_=[ data2idx[i] for i in sample]"
   ]
  },
  {
   "cell_type": "code",
   "execution_count": 47,
   "id": "e9eae281-5cc4-462a-9d49-e631fd1c5c53",
   "metadata": {},
   "outputs": [
    {
     "data": {
      "text/plain": [
       "[8, 13, 12, 6, 3, 1, 3, 2, 14, 3, 4, 14, 11, 3, 9, 14, 10, 0, 3, 5, 14, 7]"
      ]
     },
     "execution_count": 47,
     "metadata": {},
     "output_type": "execute_result"
    }
   ],
   "source": [
    "data_"
   ]
  },
  {
   "cell_type": "code",
   "execution_count": 48,
   "id": "dc88f90d-dd82-444d-8c72-89b373fc28f7",
   "metadata": {},
   "outputs": [],
   "source": [
    "x_data=[data_[:-1]]\n",
    "y_data=[data_[1:]]"
   ]
  },
  {
   "cell_type": "code",
   "execution_count": 54,
   "id": "5a59e48f-8e05-490f-a0a2-7bd43beb6cad",
   "metadata": {},
   "outputs": [
    {
     "data": {
      "text/plain": [
       "[[8, 13, 12, 6, 3, 1, 3, 2, 14, 3, 4, 14, 11, 3, 9, 14, 10, 0, 3, 5, 14]]"
      ]
     },
     "execution_count": 54,
     "metadata": {},
     "output_type": "execute_result"
    }
   ],
   "source": [
    " x_data"
   ]
  },
  {
   "cell_type": "code",
   "execution_count": 52,
   "id": "2ca13179-0416-4658-8f85-420ec1aceb24",
   "metadata": {},
   "outputs": [],
   "source": [
    "x_one_hot=[np.eye(15)[i] for i in x_data]"
   ]
  },
  {
   "cell_type": "code",
   "execution_count": 53,
   "id": "b5bb2a16-ef01-4e26-8bd1-3e83b598b50b",
   "metadata": {},
   "outputs": [
    {
     "data": {
      "text/plain": [
       "[array([[0., 0., 0., 0., 0., 0., 0., 0., 1., 0., 0., 0., 0., 0., 0.],\n",
       "        [0., 0., 0., 0., 0., 0., 0., 0., 0., 0., 0., 0., 0., 1., 0.],\n",
       "        [0., 0., 0., 0., 0., 0., 0., 0., 0., 0., 0., 0., 1., 0., 0.],\n",
       "        [0., 0., 0., 0., 0., 0., 1., 0., 0., 0., 0., 0., 0., 0., 0.],\n",
       "        [0., 0., 0., 1., 0., 0., 0., 0., 0., 0., 0., 0., 0., 0., 0.],\n",
       "        [0., 1., 0., 0., 0., 0., 0., 0., 0., 0., 0., 0., 0., 0., 0.],\n",
       "        [0., 0., 0., 1., 0., 0., 0., 0., 0., 0., 0., 0., 0., 0., 0.],\n",
       "        [0., 0., 1., 0., 0., 0., 0., 0., 0., 0., 0., 0., 0., 0., 0.],\n",
       "        [0., 0., 0., 0., 0., 0., 0., 0., 0., 0., 0., 0., 0., 0., 1.],\n",
       "        [0., 0., 0., 1., 0., 0., 0., 0., 0., 0., 0., 0., 0., 0., 0.],\n",
       "        [0., 0., 0., 0., 1., 0., 0., 0., 0., 0., 0., 0., 0., 0., 0.],\n",
       "        [0., 0., 0., 0., 0., 0., 0., 0., 0., 0., 0., 0., 0., 0., 1.],\n",
       "        [0., 0., 0., 0., 0., 0., 0., 0., 0., 0., 0., 1., 0., 0., 0.],\n",
       "        [0., 0., 0., 1., 0., 0., 0., 0., 0., 0., 0., 0., 0., 0., 0.],\n",
       "        [0., 0., 0., 0., 0., 0., 0., 0., 0., 1., 0., 0., 0., 0., 0.],\n",
       "        [0., 0., 0., 0., 0., 0., 0., 0., 0., 0., 0., 0., 0., 0., 1.],\n",
       "        [0., 0., 0., 0., 0., 0., 0., 0., 0., 0., 1., 0., 0., 0., 0.],\n",
       "        [1., 0., 0., 0., 0., 0., 0., 0., 0., 0., 0., 0., 0., 0., 0.],\n",
       "        [0., 0., 0., 1., 0., 0., 0., 0., 0., 0., 0., 0., 0., 0., 0.],\n",
       "        [0., 0., 0., 0., 0., 1., 0., 0., 0., 0., 0., 0., 0., 0., 0.],\n",
       "        [0., 0., 0., 0., 0., 0., 0., 0., 0., 0., 0., 0., 0., 0., 1.]])]"
      ]
     },
     "execution_count": 53,
     "metadata": {},
     "output_type": "execute_result"
    }
   ],
   "source": [
    "x_one_hot"
   ]
  },
  {
   "cell_type": "code",
   "execution_count": 55,
   "id": "a19972c4-36b1-443f-8270-7f7a6a72e1b0",
   "metadata": {},
   "outputs": [],
   "source": [
    "X = torch.FloatTensor(x_one_hot)\n",
    "Y = torch.LongTensor(y_data)"
   ]
  },
  {
   "cell_type": "code",
   "execution_count": 56,
   "id": "7b2efce8-cd1f-485f-b325-e173f813e0fd",
   "metadata": {},
   "outputs": [
    {
     "data": {
      "text/plain": [
       "tensor([[13, 12,  6,  3,  1,  3,  2, 14,  3,  4, 14, 11,  3,  9, 14, 10,  0,  3,\n",
       "          5, 14,  7]])"
      ]
     },
     "execution_count": 56,
     "metadata": {},
     "output_type": "execute_result"
    }
   ],
   "source": [
    "Y"
   ]
  },
  {
   "cell_type": "code",
   "execution_count": 57,
   "id": "3ed8c9ae-c810-427a-8505-415517d4903a",
   "metadata": {},
   "outputs": [
    {
     "data": {
      "text/plain": [
       "tensor([13, 12,  6,  3,  1,  3,  2, 14,  3,  4, 14, 11,  3,  9, 14, 10,  0,  3,\n",
       "         5, 14,  7])"
      ]
     },
     "execution_count": 57,
     "metadata": {},
     "output_type": "execute_result"
    }
   ],
   "source": [
    "Y.view(-1)"
   ]
  },
  {
   "cell_type": "code",
   "execution_count": 58,
   "id": "5d650776-7146-4c71-ba7f-7f384fef29cc",
   "metadata": {},
   "outputs": [],
   "source": [
    "# \n",
    "import torch.nn as nn\n",
    "import torch.optim as optim\n",
    "import numpy as np"
   ]
  },
  {
   "cell_type": "code",
   "execution_count": 60,
   "id": "e2409a53-2aaa-4996-945f-1eebacd8c582",
   "metadata": {},
   "outputs": [],
   "source": [
    "sample='I love you jacker you'"
   ]
  },
  {
   "cell_type": "code",
   "execution_count": 62,
   "id": "24dbf10d-7138-40e1-b713-a1366d578b23",
   "metadata": {},
   "outputs": [],
   "source": [
    "data2idx={c:i for i,c in enumerate(list(set(sample))) }"
   ]
  },
  {
   "cell_type": "code",
   "execution_count": 63,
   "id": "d97a4a49-e4b9-43ec-a984-0c13322462a5",
   "metadata": {},
   "outputs": [
    {
     "data": {
      "text/plain": [
       "{'a': 0,\n",
       " 'I': 1,\n",
       " ' ': 2,\n",
       " 'y': 3,\n",
       " 'k': 4,\n",
       " 'r': 5,\n",
       " 'u': 6,\n",
       " 'j': 7,\n",
       " 'l': 8,\n",
       " 'v': 9,\n",
       " 'c': 10,\n",
       " 'e': 11,\n",
       " 'o': 12}"
      ]
     },
     "execution_count": 63,
     "metadata": {},
     "output_type": "execute_result"
    }
   ],
   "source": [
    "data2idx"
   ]
  },
  {
   "cell_type": "code",
   "execution_count": 64,
   "id": "59c62793-aacf-4735-98f2-abdcb71834b9",
   "metadata": {},
   "outputs": [],
   "source": [
    "data=[data2idx[i] for i in sample]"
   ]
  },
  {
   "cell_type": "code",
   "execution_count": 65,
   "id": "53aa1751-0f08-46ab-95ac-664ad42579df",
   "metadata": {},
   "outputs": [
    {
     "data": {
      "text/plain": [
       "[1, 2, 8, 12, 9, 11, 2, 3, 12, 6, 2, 7, 0, 10, 4, 11, 5, 2, 3, 12, 6]"
      ]
     },
     "execution_count": 65,
     "metadata": {},
     "output_type": "execute_result"
    }
   ],
   "source": [
    "data"
   ]
  },
  {
   "cell_type": "code",
   "execution_count": 67,
   "id": "28743439-3dbe-4721-b157-67b4503dd7b3",
   "metadata": {},
   "outputs": [],
   "source": [
    "x=[data[:-1]]\n",
    "y=[data[1:]]"
   ]
  },
  {
   "cell_type": "code",
   "execution_count": 68,
   "id": "8ea65eee-4849-4f32-8396-e340b8234d05",
   "metadata": {},
   "outputs": [
    {
     "data": {
      "text/plain": [
       "[[1, 2, 8, 12, 9, 11, 2, 3, 12, 6, 2, 7, 0, 10, 4, 11, 5, 2, 3, 12]]"
      ]
     },
     "execution_count": 68,
     "metadata": {},
     "output_type": "execute_result"
    }
   ],
   "source": [
    "x"
   ]
  },
  {
   "cell_type": "code",
   "execution_count": 69,
   "id": "392ffc33-3fbb-4d0b-bff5-efc6463a3fa2",
   "metadata": {},
   "outputs": [
    {
     "data": {
      "text/plain": [
       "[[2, 8, 12, 9, 11, 2, 3, 12, 6, 2, 7, 0, 10, 4, 11, 5, 2, 3, 12, 6]]"
      ]
     },
     "execution_count": 69,
     "metadata": {},
     "output_type": "execute_result"
    }
   ],
   "source": [
    "y"
   ]
  },
  {
   "cell_type": "code",
   "execution_count": 70,
   "id": "818f6473-700d-48ea-9004-48092f0fa2c3",
   "metadata": {},
   "outputs": [
    {
     "data": {
      "text/plain": [
       "13"
      ]
     },
     "execution_count": 70,
     "metadata": {},
     "output_type": "execute_result"
    }
   ],
   "source": [
    "len(data2idx)"
   ]
  },
  {
   "cell_type": "code",
   "execution_count": 71,
   "id": "c6ddb43b-38fc-494f-a97c-766e5bbd1796",
   "metadata": {},
   "outputs": [],
   "source": [
    "X_one_hot=[np.eye(13)[i] for i in x]"
   ]
  },
  {
   "cell_type": "code",
   "execution_count": 72,
   "id": "f1b6a37a-038b-481a-9bcd-49ec3efd4da7",
   "metadata": {},
   "outputs": [],
   "source": [
    "X=torch.FloatTensor(X_one_hot)\n",
    "Y=torch.LongTensor(y)"
   ]
  },
  {
   "cell_type": "code",
   "execution_count": 73,
   "id": "6144ddfc-b0ad-4c4b-bf93-17809bc59bbf",
   "metadata": {},
   "outputs": [
    {
     "data": {
      "text/plain": [
       "tensor([[[0., 1., 0., 0., 0., 0., 0., 0., 0., 0., 0., 0., 0.],\n",
       "         [0., 0., 1., 0., 0., 0., 0., 0., 0., 0., 0., 0., 0.],\n",
       "         [0., 0., 0., 0., 0., 0., 0., 0., 1., 0., 0., 0., 0.],\n",
       "         [0., 0., 0., 0., 0., 0., 0., 0., 0., 0., 0., 0., 1.],\n",
       "         [0., 0., 0., 0., 0., 0., 0., 0., 0., 1., 0., 0., 0.],\n",
       "         [0., 0., 0., 0., 0., 0., 0., 0., 0., 0., 0., 1., 0.],\n",
       "         [0., 0., 1., 0., 0., 0., 0., 0., 0., 0., 0., 0., 0.],\n",
       "         [0., 0., 0., 1., 0., 0., 0., 0., 0., 0., 0., 0., 0.],\n",
       "         [0., 0., 0., 0., 0., 0., 0., 0., 0., 0., 0., 0., 1.],\n",
       "         [0., 0., 0., 0., 0., 0., 1., 0., 0., 0., 0., 0., 0.],\n",
       "         [0., 0., 1., 0., 0., 0., 0., 0., 0., 0., 0., 0., 0.],\n",
       "         [0., 0., 0., 0., 0., 0., 0., 1., 0., 0., 0., 0., 0.],\n",
       "         [1., 0., 0., 0., 0., 0., 0., 0., 0., 0., 0., 0., 0.],\n",
       "         [0., 0., 0., 0., 0., 0., 0., 0., 0., 0., 1., 0., 0.],\n",
       "         [0., 0., 0., 0., 1., 0., 0., 0., 0., 0., 0., 0., 0.],\n",
       "         [0., 0., 0., 0., 0., 0., 0., 0., 0., 0., 0., 1., 0.],\n",
       "         [0., 0., 0., 0., 0., 1., 0., 0., 0., 0., 0., 0., 0.],\n",
       "         [0., 0., 1., 0., 0., 0., 0., 0., 0., 0., 0., 0., 0.],\n",
       "         [0., 0., 0., 1., 0., 0., 0., 0., 0., 0., 0., 0., 0.],\n",
       "         [0., 0., 0., 0., 0., 0., 0., 0., 0., 0., 0., 0., 1.]]])"
      ]
     },
     "execution_count": 73,
     "metadata": {},
     "output_type": "execute_result"
    }
   ],
   "source": [
    "X"
   ]
  },
  {
   "cell_type": "code",
   "execution_count": 74,
   "id": "62592083-4bb7-4fcb-b713-baf5bab1f4b1",
   "metadata": {},
   "outputs": [
    {
     "data": {
      "text/plain": [
       "tensor([[ 2,  8, 12,  9, 11,  2,  3, 12,  6,  2,  7,  0, 10,  4, 11,  5,  2,  3,\n",
       "         12,  6]])"
      ]
     },
     "execution_count": 74,
     "metadata": {},
     "output_type": "execute_result"
    }
   ],
   "source": [
    "Y"
   ]
  },
  {
   "cell_type": "code",
   "execution_count": 78,
   "id": "3e3a6b76-41c7-44dc-aa50-d7d3cec94752",
   "metadata": {},
   "outputs": [],
   "source": [
    "rnn = torch.nn.RNN(13, hidden_size, batch_first=True)\n",
    "criterion = torch.nn.CrossEntropyLoss()\n",
    "optimizer = optim.Adam(rnn.parameters(), learning_rate)"
   ]
  },
  {
   "cell_type": "code",
   "execution_count": 79,
   "id": "25822e12-987b-4d13-b07f-8fe5c65487d3",
   "metadata": {},
   "outputs": [
    {
     "ename": "RuntimeError",
     "evalue": "shape '[-1, 13]' is invalid for input of size 200",
     "output_type": "error",
     "traceback": [
      "\u001b[0;31m---------------------------------------------------------------------------\u001b[0m",
      "\u001b[0;31mRuntimeError\u001b[0m                              Traceback (most recent call last)",
      "\u001b[0;32m/tmp/ipykernel_140/3328860279.py\u001b[0m in \u001b[0;36m<module>\u001b[0;34m\u001b[0m\n\u001b[1;32m      2\u001b[0m     \u001b[0moptimizer\u001b[0m\u001b[0;34m.\u001b[0m\u001b[0mzero_grad\u001b[0m\u001b[0;34m(\u001b[0m\u001b[0;34m)\u001b[0m\u001b[0;34m\u001b[0m\u001b[0;34m\u001b[0m\u001b[0m\n\u001b[1;32m      3\u001b[0m     \u001b[0moutputs\u001b[0m\u001b[0;34m,\u001b[0m \u001b[0m_status\u001b[0m \u001b[0;34m=\u001b[0m \u001b[0mrnn\u001b[0m\u001b[0;34m(\u001b[0m\u001b[0mX\u001b[0m\u001b[0;34m)\u001b[0m\u001b[0;34m\u001b[0m\u001b[0;34m\u001b[0m\u001b[0m\n\u001b[0;32m----> 4\u001b[0;31m     \u001b[0mloss\u001b[0m \u001b[0;34m=\u001b[0m \u001b[0mcriterion\u001b[0m\u001b[0;34m(\u001b[0m\u001b[0moutputs\u001b[0m\u001b[0;34m.\u001b[0m\u001b[0mview\u001b[0m\u001b[0;34m(\u001b[0m\u001b[0;34m-\u001b[0m\u001b[0;36m1\u001b[0m\u001b[0;34m,\u001b[0m \u001b[0;36m13\u001b[0m\u001b[0;34m)\u001b[0m\u001b[0;34m,\u001b[0m \u001b[0mY\u001b[0m\u001b[0;34m.\u001b[0m\u001b[0mview\u001b[0m\u001b[0;34m(\u001b[0m\u001b[0;34m-\u001b[0m\u001b[0;36m1\u001b[0m\u001b[0;34m)\u001b[0m\u001b[0;34m)\u001b[0m\u001b[0;34m\u001b[0m\u001b[0;34m\u001b[0m\u001b[0m\n\u001b[0m\u001b[1;32m      5\u001b[0m     \u001b[0mloss\u001b[0m\u001b[0;34m.\u001b[0m\u001b[0mbackward\u001b[0m\u001b[0;34m(\u001b[0m\u001b[0;34m)\u001b[0m\u001b[0;34m\u001b[0m\u001b[0;34m\u001b[0m\u001b[0m\n\u001b[1;32m      6\u001b[0m     \u001b[0moptimizer\u001b[0m\u001b[0;34m.\u001b[0m\u001b[0mstep\u001b[0m\u001b[0;34m(\u001b[0m\u001b[0;34m)\u001b[0m\u001b[0;34m\u001b[0m\u001b[0;34m\u001b[0m\u001b[0m\n",
      "\u001b[0;31mRuntimeError\u001b[0m: shape '[-1, 13]' is invalid for input of size 200"
     ]
    }
   ],
   "source": [
    "for i in range(50):\n",
    "    optimizer.zero_grad()\n",
    "    outputs, _status = rnn(X)\n",
    "    loss = criterion(outputs.view(-1, 13), Y.view(-1))\n",
    "    loss.backward()\n",
    "    optimizer.step()\n",
    "\n",
    "    result = outputs.data.numpy().argmax(axis=2)\n",
    "    result_str = ''.join([data2idx[c] for c\n",
    "                          in np.squeeze(result)])\n",
    "    print(i, \"loss: \", loss.item(), \"prediction: \", result, \"true Y: \", y_data, \"prediction str: \", result_str)"
   ]
  },
  {
   "cell_type": "code",
   "execution_count": null,
   "id": "473d41cc-460a-4511-91f0-fcf9cf3210f3",
   "metadata": {},
   "outputs": [],
   "source": []
  },
  {
   "cell_type": "code",
   "execution_count": null,
   "id": "2dd30a67-a8da-4936-aa5f-e05f36990a6d",
   "metadata": {},
   "outputs": [],
   "source": []
  }
 ],
 "metadata": {
  "kernelspec": {
   "display_name": "Python 3 (ipykernel)",
   "language": "python",
   "name": "python3"
  },
  "language_info": {
   "codemirror_mode": {
    "name": "ipython",
    "version": 3
   },
   "file_extension": ".py",
   "mimetype": "text/x-python",
   "name": "python",
   "nbconvert_exporter": "python",
   "pygments_lexer": "ipython3",
   "version": "3.8.10"
  }
 },
 "nbformat": 4,
 "nbformat_minor": 5
}
