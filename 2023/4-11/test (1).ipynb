{
 "cells": [
  {
   "cell_type": "code",
   "execution_count": 1,
   "id": "59ff6de5-2a29-46f2-93ba-99061fa39c6e",
   "metadata": {},
   "outputs": [],
   "source": [
    "import torch"
   ]
  },
  {
   "cell_type": "code",
   "execution_count": 3,
   "id": "82799131-4660-435a-bca0-7956852315f2",
   "metadata": {},
   "outputs": [],
   "source": [
    "scores = torch.randn(2, 2, 4, 4)"
   ]
  },
  {
   "cell_type": "code",
   "execution_count": 4,
   "id": "37dbd60a-e8bf-4ad4-ad6d-d0ccd0cdc373",
   "metadata": {},
   "outputs": [
    {
     "data": {
      "text/plain": [
       "tensor([[True, True, True, True],\n",
       "        [True, True, True, True],\n",
       "        [True, True, True, True],\n",
       "        [True, True, True, True]])"
      ]
     },
     "execution_count": 4,
     "metadata": {},
     "output_type": "execute_result"
    }
   ],
   "source": [
    "torch.ones(4, scores.shape[-1], dtype=torch.bool)"
   ]
  },
  {
   "cell_type": "code",
   "execution_count": 7,
   "id": "a8123f24-9c3f-4777-ac6d-3a8e9d218163",
   "metadata": {},
   "outputs": [
    {
     "data": {
      "text/plain": [
       "tensor([[False,  True,  True,  True],\n",
       "        [False, False,  True,  True],\n",
       "        [False, False, False,  True],\n",
       "        [False, False, False, False]])"
      ]
     },
     "execution_count": 7,
     "metadata": {},
     "output_type": "execute_result"
    }
   ],
   "source": [
    "_mask=torch.ones(4, scores.shape[-1], dtype=torch.bool).triu(1)\n",
    "_mask"
   ]
  },
  {
   "cell_type": "code",
   "execution_count": 8,
   "id": "ab265ab5-4528-4785-b9e9-7c482eee5f70",
   "metadata": {},
   "outputs": [
    {
     "data": {
      "text/plain": [
       "tensor([[[[False,  True,  True,  True],\n",
       "          [False, False,  True,  True],\n",
       "          [False, False, False,  True],\n",
       "          [False, False, False, False]]]])"
      ]
     },
     "execution_count": 8,
     "metadata": {},
     "output_type": "execute_result"
    }
   ],
   "source": [
    "_mask[None, None, :]"
   ]
  },
  {
   "cell_type": "code",
   "execution_count": 9,
   "id": "84a3dd50-d4b8-4839-8a8b-9dd79c9da93a",
   "metadata": {},
   "outputs": [
    {
     "data": {
      "text/plain": [
       "torch.Size([1, 1, 4, 4])"
      ]
     },
     "execution_count": 9,
     "metadata": {},
     "output_type": "execute_result"
    }
   ],
   "source": [
    "_mask[None, None, :].shape"
   ]
  },
  {
   "cell_type": "code",
   "execution_count": 10,
   "id": "a307d562-1c44-4335-a958-4e5a735e83e8",
   "metadata": {},
   "outputs": [],
   "source": [
    "  _mask_ex = _mask[None, None, :].expand(2, 2, 4, scores.shape[-1])"
   ]
  },
  {
   "cell_type": "code",
   "execution_count": 12,
   "id": "a6d5412c-3644-4947-9c14-5d6bbc0619ce",
   "metadata": {},
   "outputs": [
    {
     "data": {
      "text/plain": [
       "torch.Size([2, 2, 4, 4])"
      ]
     },
     "execution_count": 12,
     "metadata": {},
     "output_type": "execute_result"
    }
   ],
   "source": [
    "_mask_ex.shape"
   ]
  },
  {
   "cell_type": "code",
   "execution_count": 3,
   "id": "1e8cc6c0-e10d-4b80-b8ba-8f5d58df4480",
   "metadata": {},
   "outputs": [],
   "source": [
    "max_len=10\n",
    "d_model=5"
   ]
  },
  {
   "cell_type": "code",
   "execution_count": 4,
   "id": "1035f724-fab5-4309-ad65-155423d67a9f",
   "metadata": {},
   "outputs": [
    {
     "data": {
      "text/plain": [
       "tensor([[0., 0., 0., 0., 0.],\n",
       "        [0., 0., 0., 0., 0.],\n",
       "        [0., 0., 0., 0., 0.],\n",
       "        [0., 0., 0., 0., 0.],\n",
       "        [0., 0., 0., 0., 0.],\n",
       "        [0., 0., 0., 0., 0.],\n",
       "        [0., 0., 0., 0., 0.],\n",
       "        [0., 0., 0., 0., 0.],\n",
       "        [0., 0., 0., 0., 0.],\n",
       "        [0., 0., 0., 0., 0.]])"
      ]
     },
     "execution_count": 4,
     "metadata": {},
     "output_type": "execute_result"
    }
   ],
   "source": [
    "torch.zeros(max_len, d_model).float()"
   ]
  },
  {
   "cell_type": "code",
   "execution_count": 6,
   "id": "75434413-ca0e-4c9d-94bf-f8b174461c90",
   "metadata": {},
   "outputs": [
    {
     "data": {
      "text/plain": [
       "torch.Size([10, 5])"
      ]
     },
     "execution_count": 6,
     "metadata": {},
     "output_type": "execute_result"
    }
   ],
   "source": [
    "pe=torch.zeros(max_len, d_model).float()\n",
    "pe.shape"
   ]
  },
  {
   "cell_type": "code",
   "execution_count": 7,
   "id": "93bc9aee-de39-4ece-b5e4-9627bcbcb90b",
   "metadata": {},
   "outputs": [],
   "source": [
    "pe.require_grad = False"
   ]
  },
  {
   "cell_type": "code",
   "execution_count": 8,
   "id": "2c3c21e8-1d1c-4320-a6f4-6021251b1fe7",
   "metadata": {},
   "outputs": [
    {
     "data": {
      "text/plain": [
       "tensor([[0., 0., 0., 0., 0.],\n",
       "        [0., 0., 0., 0., 0.],\n",
       "        [0., 0., 0., 0., 0.],\n",
       "        [0., 0., 0., 0., 0.],\n",
       "        [0., 0., 0., 0., 0.],\n",
       "        [0., 0., 0., 0., 0.],\n",
       "        [0., 0., 0., 0., 0.],\n",
       "        [0., 0., 0., 0., 0.],\n",
       "        [0., 0., 0., 0., 0.],\n",
       "        [0., 0., 0., 0., 0.]])"
      ]
     },
     "execution_count": 8,
     "metadata": {},
     "output_type": "execute_result"
    }
   ],
   "source": [
    "pe"
   ]
  },
  {
   "cell_type": "code",
   "execution_count": 9,
   "id": "e73733ff-0f65-480d-b9bf-16f0d0cf8eee",
   "metadata": {},
   "outputs": [
    {
     "data": {
      "text/plain": [
       "tensor([0, 1, 2, 3, 4, 5, 6, 7, 8, 9])"
      ]
     },
     "execution_count": 9,
     "metadata": {},
     "output_type": "execute_result"
    }
   ],
   "source": [
    "torch.arange(0, max_len)"
   ]
  },
  {
   "cell_type": "code",
   "execution_count": 10,
   "id": "9f25f1da-8b42-4de0-ab6f-b7b6a12d0622",
   "metadata": {},
   "outputs": [
    {
     "data": {
      "text/plain": [
       "tensor([0., 1., 2., 3., 4., 5., 6., 7., 8., 9.])"
      ]
     },
     "execution_count": 10,
     "metadata": {},
     "output_type": "execute_result"
    }
   ],
   "source": [
    "torch.arange(0, max_len).float()"
   ]
  },
  {
   "cell_type": "code",
   "execution_count": 11,
   "id": "12b66534-fbca-4f9b-87d3-5ce0ebf9ee75",
   "metadata": {},
   "outputs": [
    {
     "data": {
      "text/plain": [
       "tensor([[0.],\n",
       "        [1.],\n",
       "        [2.],\n",
       "        [3.],\n",
       "        [4.],\n",
       "        [5.],\n",
       "        [6.],\n",
       "        [7.],\n",
       "        [8.],\n",
       "        [9.]])"
      ]
     },
     "execution_count": 11,
     "metadata": {},
     "output_type": "execute_result"
    }
   ],
   "source": [
    "torch.arange(0, max_len).float().unsqueeze(1)"
   ]
  },
  {
   "cell_type": "code",
   "execution_count": 12,
   "id": "4cdf9750-4449-42c2-8854-2321efc00612",
   "metadata": {},
   "outputs": [
    {
     "data": {
      "text/plain": [
       "torch.Size([10, 1])"
      ]
     },
     "execution_count": 12,
     "metadata": {},
     "output_type": "execute_result"
    }
   ],
   "source": [
    "torch.arange(0, max_len).float().unsqueeze(1).shape"
   ]
  },
  {
   "cell_type": "code",
   "execution_count": 23,
   "id": "5ed7ee34-587e-4fe2-96af-d392b8112af6",
   "metadata": {
    "jupyter": {
     "source_hidden": true
    },
    "tags": []
   },
   "outputs": [
    {
     "data": {
      "text/plain": [
       "tensor([1.0000e+00, 2.5119e-02, 6.3096e-04])"
      ]
     },
     "execution_count": 23,
     "metadata": {},
     "output_type": "execute_result"
    }
   ],
   "source": [
    "div_term = (torch.arange(0, d_model, 2).float()* -(math.log(10000.0) / d_model)).exp()\n",
    "div_term"
   ]
  },
  {
   "cell_type": "code",
   "execution_count": 13,
   "id": "fa4aab2d-544b-4a19-96be-846006fec220",
   "metadata": {},
   "outputs": [
    {
     "data": {
      "text/plain": [
       "tensor([0, 2, 4])"
      ]
     },
     "execution_count": 13,
     "metadata": {},
     "output_type": "execute_result"
    }
   ],
   "source": [
    "torch.arange(0, d_model, 2)"
   ]
  },
  {
   "cell_type": "code",
   "execution_count": 14,
   "id": "c474c3f4-38a6-4717-82f9-583504212e9c",
   "metadata": {},
   "outputs": [
    {
     "data": {
      "text/plain": [
       "tensor([0., 2., 4.])"
      ]
     },
     "execution_count": 14,
     "metadata": {},
     "output_type": "execute_result"
    }
   ],
   "source": [
    "torch.arange(0, d_model, 2).float()"
   ]
  },
  {
   "cell_type": "code",
   "execution_count": 17,
   "id": "cb4134f4-e331-448c-91ae-fe2df1eedb92",
   "metadata": {},
   "outputs": [
    {
     "data": {
      "text/plain": [
       "9.210340371976184"
      ]
     },
     "execution_count": 17,
     "metadata": {},
     "output_type": "execute_result"
    }
   ],
   "source": [
    "import math\n",
    "math.log(10000.0)"
   ]
  },
  {
   "cell_type": "code",
   "execution_count": 18,
   "id": "540eee5e-0b01-4051-8cfb-85782245c0b2",
   "metadata": {},
   "outputs": [
    {
     "data": {
      "text/plain": [
       "-1.8420680743952367"
      ]
     },
     "execution_count": 18,
     "metadata": {},
     "output_type": "execute_result"
    }
   ],
   "source": [
    "-math.log(10000.0)/d_model"
   ]
  },
  {
   "cell_type": "code",
   "execution_count": 26,
   "id": "68e07896-42aa-45eb-941d-9ca76bc1df13",
   "metadata": {
    "jupyter": {
     "source_hidden": true
    },
    "tags": []
   },
   "outputs": [],
   "source": [
    "a=(math.log(10000.0)/d_model)*(torch.arange(0, d_model, 2).float()).exp()"
   ]
  },
  {
   "cell_type": "code",
   "execution_count": 31,
   "id": "0ed565d0-6c59-4603-a0c4-6be743fd53c6",
   "metadata": {},
   "outputs": [
    {
     "data": {
      "text/plain": [
       "-1.8420680743952367"
      ]
     },
     "execution_count": 31,
     "metadata": {},
     "output_type": "execute_result"
    }
   ],
   "source": [
    "- (math.log(10000.0)/d_model)"
   ]
  },
  {
   "cell_type": "code",
   "execution_count": 32,
   "id": "679a39b1-32ae-4d4a-98e9-4b11de3a048b",
   "metadata": {},
   "outputs": [],
   "source": [
    "div_term = (torch.arange(0, d_model, 2).float()\n",
    "                    * -(math.log(10000.0) / d_model)).exp()"
   ]
  },
  {
   "cell_type": "markdown",
   "id": "dbd93139-30cd-4ead-99a4-8b614517748f",
   "metadata": {},
   "source": [
    "-2k/d ln10000->  math.log(10000.0)/d_model.k"
   ]
  },
  {
   "cell_type": "code",
   "execution_count": 33,
   "id": "46d92586-9e50-46b5-b3ca-220d1b1b51e0",
   "metadata": {},
   "outputs": [
    {
     "data": {
      "text/plain": [
       "tensor([[0., 0., 0., 0., 0.],\n",
       "        [0., 0., 0., 0., 0.],\n",
       "        [0., 0., 0., 0., 0.],\n",
       "        [0., 0., 0., 0., 0.],\n",
       "        [0., 0., 0., 0., 0.],\n",
       "        [0., 0., 0., 0., 0.],\n",
       "        [0., 0., 0., 0., 0.],\n",
       "        [0., 0., 0., 0., 0.],\n",
       "        [0., 0., 0., 0., 0.],\n",
       "        [0., 0., 0., 0., 0.]])"
      ]
     },
     "execution_count": 33,
     "metadata": {},
     "output_type": "execute_result"
    }
   ],
   "source": [
    "pe"
   ]
  },
  {
   "cell_type": "code",
   "execution_count": 34,
   "id": "5ef7f452-c5c2-453f-9538-9cb120e29abb",
   "metadata": {},
   "outputs": [
    {
     "data": {
      "text/plain": [
       "tensor([[0., 0., 0., 0., 0.],\n",
       "        [0., 0., 0., 0., 0.],\n",
       "        [0., 0., 0., 0., 0.],\n",
       "        [0., 0., 0., 0., 0.],\n",
       "        [0., 0., 0., 0., 0.],\n",
       "        [0., 0., 0., 0., 0.],\n",
       "        [0., 0., 0., 0., 0.],\n",
       "        [0., 0., 0., 0., 0.],\n",
       "        [0., 0., 0., 0., 0.],\n",
       "        [0., 0., 0., 0., 0.]])"
      ]
     },
     "execution_count": 34,
     "metadata": {},
     "output_type": "execute_result"
    }
   ],
   "source": [
    "pe[:]"
   ]
  },
  {
   "cell_type": "markdown",
   "id": "62eeb96a-fef1-4d0c-bb30-d5ed64e3c7dc",
   "metadata": {},
   "source": [
    " pe[:, 0::2] 表示取 pe 中所有行的偶数列（"
   ]
  },
  {
   "cell_type": "code",
   "execution_count": 37,
   "id": "99c4d7f2-5b43-474c-a109-20bacf0de655",
   "metadata": {},
   "outputs": [
    {
     "data": {
      "text/plain": [
       "tensor([1.0000e+00, 2.5119e-02, 6.3096e-04])"
      ]
     },
     "execution_count": 37,
     "metadata": {},
     "output_type": "execute_result"
    }
   ],
   "source": [
    "div_term"
   ]
  },
  {
   "cell_type": "code",
   "execution_count": 43,
   "id": "bd3c2447-8596-46ad-9ab6-4958e93145f0",
   "metadata": {},
   "outputs": [
    {
     "data": {
      "text/plain": [
       "torch.Size([3])"
      ]
     },
     "execution_count": 43,
     "metadata": {},
     "output_type": "execute_result"
    }
   ],
   "source": [
    "div_term.shape"
   ]
  },
  {
   "cell_type": "code",
   "execution_count": 41,
   "id": "3520b85b-39a8-4895-bdee-82f66cdd65c4",
   "metadata": {},
   "outputs": [
    {
     "data": {
      "text/plain": [
       "tensor([[0.],\n",
       "        [1.],\n",
       "        [2.],\n",
       "        [3.],\n",
       "        [4.],\n",
       "        [5.],\n",
       "        [6.],\n",
       "        [7.],\n",
       "        [8.],\n",
       "        [9.]])"
      ]
     },
     "execution_count": 41,
     "metadata": {},
     "output_type": "execute_result"
    }
   ],
   "source": [
    "position = torch.arange(0, max_len).float().unsqueeze(1)\n",
    "position"
   ]
  },
  {
   "cell_type": "code",
   "execution_count": 45,
   "id": "5cf852f0-2772-40d7-adcb-46e794054efe",
   "metadata": {},
   "outputs": [
    {
     "data": {
      "text/plain": [
       "torch.Size([10, 1])"
      ]
     },
     "execution_count": 45,
     "metadata": {},
     "output_type": "execute_result"
    }
   ],
   "source": [
    "position.shape"
   ]
  },
  {
   "cell_type": "markdown",
   "id": "da95e038-5bab-485c-be70-1611d12e8912",
   "metadata": {},
   "source": [
    "如果 position 是一个形状为 (10, 1) 的张量，div_term 是一个形状为 (3,) 的张量，那么它们的乘积会使用广播规则，将 position 沿着最后一个维度扩展为 (10,   3)，然后与 div_term 相乘，得到一个形状为 (10, 3) 的张量，这个结果张量的每个元素就是 position 中对应位置的值乘上对应维度的 div_term。"
   ]
  },
  {
   "cell_type": "code",
   "execution_count": 42,
   "id": "ba586e19-2d20-4318-a081-6c7231e84ea7",
   "metadata": {},
   "outputs": [
    {
     "data": {
      "text/plain": [
       "tensor([[0.0000e+00, 0.0000e+00, 0.0000e+00],\n",
       "        [1.0000e+00, 2.5119e-02, 6.3096e-04],\n",
       "        [2.0000e+00, 5.0238e-02, 1.2619e-03],\n",
       "        [3.0000e+00, 7.5357e-02, 1.8929e-03],\n",
       "        [4.0000e+00, 1.0048e-01, 2.5238e-03],\n",
       "        [5.0000e+00, 1.2559e-01, 3.1548e-03],\n",
       "        [6.0000e+00, 1.5071e-01, 3.7857e-03],\n",
       "        [7.0000e+00, 1.7583e-01, 4.4167e-03],\n",
       "        [8.0000e+00, 2.0095e-01, 5.0477e-03],\n",
       "        [9.0000e+00, 2.2607e-01, 5.6786e-03]])"
      ]
     },
     "execution_count": 42,
     "metadata": {},
     "output_type": "execute_result"
    }
   ],
   "source": [
    "position * div_term"
   ]
  },
  {
   "cell_type": "code",
   "execution_count": 38,
   "id": "9830e0c1-7e87-4a06-b16d-2a5c5f785472",
   "metadata": {},
   "outputs": [
    {
     "data": {
      "text/plain": [
       "tensor([[0., 0.],\n",
       "        [0., 0.],\n",
       "        [0., 0.],\n",
       "        [0., 0.],\n",
       "        [0., 0.],\n",
       "        [0., 0.],\n",
       "        [0., 0.],\n",
       "        [0., 0.],\n",
       "        [0., 0.],\n",
       "        [0., 0.]])"
      ]
     },
     "execution_count": 38,
     "metadata": {},
     "output_type": "execute_result"
    }
   ],
   "source": [
    "pe[:, 1::2]"
   ]
  },
  {
   "cell_type": "code",
   "execution_count": 46,
   "id": "0ec60be1-6c88-47a6-9c7d-facd23e894b8",
   "metadata": {},
   "outputs": [
    {
     "data": {
      "text/plain": [
       "tensor([[ 0.0000e+00,  0.0000e+00,  0.0000e+00],\n",
       "        [ 8.4147e-01,  2.5116e-02,  6.3096e-04],\n",
       "        [ 9.0930e-01,  5.0217e-02,  1.2619e-03],\n",
       "        [ 1.4112e-01,  7.5285e-02,  1.8929e-03],\n",
       "        [-7.5680e-01,  1.0031e-01,  2.5238e-03],\n",
       "        [-9.5892e-01,  1.2526e-01,  3.1548e-03],\n",
       "        [-2.7942e-01,  1.5014e-01,  3.7857e-03],\n",
       "        [ 6.5699e-01,  1.7493e-01,  4.4167e-03],\n",
       "        [ 9.8936e-01,  1.9960e-01,  5.0476e-03],\n",
       "        [ 4.1212e-01,  2.2415e-01,  5.6786e-03]])"
      ]
     },
     "execution_count": 46,
     "metadata": {},
     "output_type": "execute_result"
    }
   ],
   "source": [
    "torch.sin(position * div_term)"
   ]
  },
  {
   "cell_type": "code",
   "execution_count": 47,
   "id": "bf4d3cf6-4a43-418d-88d1-d29a37c6914f",
   "metadata": {},
   "outputs": [
    {
     "data": {
      "text/plain": [
       "tensor([[0., 0., 0., 0., 0.],\n",
       "        [0., 0., 0., 0., 0.],\n",
       "        [0., 0., 0., 0., 0.],\n",
       "        [0., 0., 0., 0., 0.],\n",
       "        [0., 0., 0., 0., 0.],\n",
       "        [0., 0., 0., 0., 0.],\n",
       "        [0., 0., 0., 0., 0.],\n",
       "        [0., 0., 0., 0., 0.],\n",
       "        [0., 0., 0., 0., 0.],\n",
       "        [0., 0., 0., 0., 0.]])"
      ]
     },
     "execution_count": 47,
     "metadata": {},
     "output_type": "execute_result"
    }
   ],
   "source": [
    "pe"
   ]
  },
  {
   "cell_type": "code",
   "execution_count": 48,
   "id": "a6fc8d96-9962-4cf8-b37a-4646f90d9d34",
   "metadata": {},
   "outputs": [],
   "source": [
    "pe[:, 0::2]=torch.sin(position * div_term)"
   ]
  },
  {
   "cell_type": "code",
   "execution_count": 49,
   "id": "c0b7a7e9-2060-4678-891d-3a023ccf808d",
   "metadata": {},
   "outputs": [
    {
     "data": {
      "text/plain": [
       "tensor([[ 0.0000e+00,  0.0000e+00,  0.0000e+00],\n",
       "        [ 8.4147e-01,  2.5116e-02,  6.3096e-04],\n",
       "        [ 9.0930e-01,  5.0217e-02,  1.2619e-03],\n",
       "        [ 1.4112e-01,  7.5285e-02,  1.8929e-03],\n",
       "        [-7.5680e-01,  1.0031e-01,  2.5238e-03],\n",
       "        [-9.5892e-01,  1.2526e-01,  3.1548e-03],\n",
       "        [-2.7942e-01,  1.5014e-01,  3.7857e-03],\n",
       "        [ 6.5699e-01,  1.7493e-01,  4.4167e-03],\n",
       "        [ 9.8936e-01,  1.9960e-01,  5.0476e-03],\n",
       "        [ 4.1212e-01,  2.2415e-01,  5.6786e-03]])"
      ]
     },
     "execution_count": 49,
     "metadata": {},
     "output_type": "execute_result"
    }
   ],
   "source": [
    "pe[:, 0::2]"
   ]
  },
  {
   "cell_type": "code",
   "execution_count": 51,
   "id": "e91835c8-4b80-4e43-bc4a-89173ad94c4f",
   "metadata": {},
   "outputs": [
    {
     "data": {
      "text/plain": [
       "tensor([[ 0.0000e+00,  0.0000e+00,  0.0000e+00,  0.0000e+00,  0.0000e+00],\n",
       "        [ 8.4147e-01,  0.0000e+00,  2.5116e-02,  0.0000e+00,  6.3096e-04],\n",
       "        [ 9.0930e-01,  0.0000e+00,  5.0217e-02,  0.0000e+00,  1.2619e-03],\n",
       "        [ 1.4112e-01,  0.0000e+00,  7.5285e-02,  0.0000e+00,  1.8929e-03],\n",
       "        [-7.5680e-01,  0.0000e+00,  1.0031e-01,  0.0000e+00,  2.5238e-03],\n",
       "        [-9.5892e-01,  0.0000e+00,  1.2526e-01,  0.0000e+00,  3.1548e-03],\n",
       "        [-2.7942e-01,  0.0000e+00,  1.5014e-01,  0.0000e+00,  3.7857e-03],\n",
       "        [ 6.5699e-01,  0.0000e+00,  1.7493e-01,  0.0000e+00,  4.4167e-03],\n",
       "        [ 9.8936e-01,  0.0000e+00,  1.9960e-01,  0.0000e+00,  5.0476e-03],\n",
       "        [ 4.1212e-01,  0.0000e+00,  2.2415e-01,  0.0000e+00,  5.6786e-03]])"
      ]
     },
     "execution_count": 51,
     "metadata": {},
     "output_type": "execute_result"
    }
   ],
   "source": [
    "pe"
   ]
  },
  {
   "cell_type": "code",
   "execution_count": 55,
   "id": "51ee570c-e8df-4a74-80c1-18725c1511d6",
   "metadata": {},
   "outputs": [
    {
     "data": {
      "text/plain": [
       "torch.Size([1, 10, 5])"
      ]
     },
     "execution_count": 55,
     "metadata": {},
     "output_type": "execute_result"
    }
   ],
   "source": [
    "pe.shape"
   ]
  },
  {
   "cell_type": "code",
   "execution_count": 53,
   "id": "fa7d6522-0189-47a3-af85-92cd6367bcb2",
   "metadata": {},
   "outputs": [],
   "source": [
    " pe = pe.unsqueeze(0)"
   ]
  },
  {
   "cell_type": "code",
   "execution_count": 56,
   "id": "9c7bd528-e82b-41ae-b55a-fc0345d90fd6",
   "metadata": {},
   "outputs": [
    {
     "data": {
      "text/plain": [
       "torch.Size([1, 10, 5])"
      ]
     },
     "execution_count": 56,
     "metadata": {},
     "output_type": "execute_result"
    }
   ],
   "source": [
    "pe.shape"
   ]
  },
  {
   "cell_type": "code",
   "execution_count": 58,
   "id": "a848752b-91fe-43f6-bc11-1d5867accc17",
   "metadata": {},
   "outputs": [
    {
     "data": {
      "text/plain": [
       "torch.Size([10, 1])"
      ]
     },
     "execution_count": 58,
     "metadata": {},
     "output_type": "execute_result"
    }
   ],
   "source": [
    "torch.arange(0, max_len).float().unsqueeze(1).shape"
   ]
  },
  {
   "cell_type": "code",
   "execution_count": 60,
   "id": "b0a2b9c7-3758-498c-9cbb-045b5fae492e",
   "metadata": {},
   "outputs": [],
   "source": [
    "w = torch.empty(3, 5) #垃圾值"
   ]
  },
  {
   "cell_type": "code",
   "execution_count": 61,
   "id": "89f63015-5c81-447d-97cd-2871643e3e37",
   "metadata": {},
   "outputs": [
    {
     "data": {
      "text/plain": [
       "tensor([[-3.1714e-28,  3.0810e-41,  0.0000e+00,  0.0000e+00, -3.2379e-28],\n",
       "        [ 3.0810e-41, -3.2379e-28,  3.0810e-41, -3.2379e-28,  3.0810e-41],\n",
       "        [ 0.0000e+00,  0.0000e+00,  0.0000e+00,  0.0000e+00,  0.0000e+00]])"
      ]
     },
     "execution_count": 61,
     "metadata": {},
     "output_type": "execute_result"
    }
   ],
   "source": [
    "w"
   ]
  },
  {
   "cell_type": "code",
   "execution_count": 63,
   "id": "d9796898-01e1-4b40-acd0-a8957f018ae4",
   "metadata": {},
   "outputs": [],
   "source": [
    "import torch.nn as nn"
   ]
  },
  {
   "cell_type": "code",
   "execution_count": 64,
   "id": "4a077aca-40ec-4534-96a4-092d933b4e3d",
   "metadata": {},
   "outputs": [
    {
     "data": {
      "text/plain": [
       "tensor([[ 0.2333,  0.9093, -1.6291, -0.3013, -0.1637],\n",
       "        [ 0.1695,  0.0693, -1.0657,  0.3212,  0.6311],\n",
       "        [ 0.3831, -0.4889,  0.7871,  0.7697,  0.4537]])"
      ]
     },
     "execution_count": 64,
     "metadata": {},
     "output_type": "execute_result"
    }
   ],
   "source": [
    "a=torch.zeros(3, 5)\n",
    "nn.init.kaiming_normal_(w, mode='fan_out', nonlinearity='relu')"
   ]
  },
  {
   "cell_type": "code",
   "execution_count": 65,
   "id": "348126a4-6f91-4447-b36b-0131327fe2e6",
   "metadata": {},
   "outputs": [
    {
     "data": {
      "text/plain": [
       "tensor([[ 0.2867,  0.2494, -0.6245,  0.4790,  0.4153],\n",
       "        [-1.2967, -0.0616, -1.3334, -0.1760, -0.6106],\n",
       "        [ 1.4219, -0.3977,  0.0329,  1.5133, -0.6873]])"
      ]
     },
     "execution_count": 65,
     "metadata": {},
     "output_type": "execute_result"
    }
   ],
   "source": [
    "nn.init.kaiming_normal_(w, mode='fan_out', nonlinearity='relu')"
   ]
  },
  {
   "cell_type": "code",
   "execution_count": 66,
   "id": "81aceb2c-ba88-4e8a-a8c5-3994d0f72a99",
   "metadata": {},
   "outputs": [
    {
     "data": {
      "text/plain": [
       "tensor([[ 0.2867,  0.2494, -0.6245,  0.4790,  0.4153],\n",
       "        [-1.2967, -0.0616, -1.3334, -0.1760, -0.6106],\n",
       "        [ 1.4219, -0.3977,  0.0329,  1.5133, -0.6873]])"
      ]
     },
     "execution_count": 66,
     "metadata": {},
     "output_type": "execute_result"
    }
   ],
   "source": [
    "w"
   ]
  },
  {
   "cell_type": "code",
   "execution_count": 67,
   "id": "f45f8d0a-7528-4061-90a0-7c7ce3707e64",
   "metadata": {},
   "outputs": [],
   "source": [
    "a=torch.zeros(3, 5)"
   ]
  },
  {
   "cell_type": "code",
   "execution_count": 68,
   "id": "49a93979-3194-4d7a-9c00-15d6f3070fb8",
   "metadata": {},
   "outputs": [
    {
     "data": {
      "text/plain": [
       "tensor([[0., 0., 0., 0., 0.],\n",
       "        [0., 0., 0., 0., 0.],\n",
       "        [0., 0., 0., 0., 0.]])"
      ]
     },
     "execution_count": 68,
     "metadata": {},
     "output_type": "execute_result"
    }
   ],
   "source": [
    "a"
   ]
  },
  {
   "cell_type": "code",
   "execution_count": 70,
   "id": "f7c9eed1-f3e7-4e89-aed9-08cbbbc79871",
   "metadata": {},
   "outputs": [
    {
     "data": {
      "text/plain": [
       "tensor([[-0.8234, -0.1990, -0.2372,  0.7615,  1.3326],\n",
       "        [-0.3145,  0.0559, -0.4801, -1.0412,  0.6032],\n",
       "        [-0.7761, -1.4984, -1.1114, -1.1141,  0.1413]])"
      ]
     },
     "execution_count": 70,
     "metadata": {},
     "output_type": "execute_result"
    }
   ],
   "source": [
    "nn.init.kaiming_normal_(a, mode='fan_out', nonlinearity='relu')"
   ]
  },
  {
   "cell_type": "code",
   "execution_count": 71,
   "id": "27fdbcc7-e551-4135-b16b-c7ae48f00b68",
   "metadata": {},
   "outputs": [
    {
     "data": {
      "text/plain": [
       "tensor([[-0.8234, -0.1990, -0.2372,  0.7615,  1.3326],\n",
       "        [-0.3145,  0.0559, -0.4801, -1.0412,  0.6032],\n",
       "        [-0.7761, -1.4984, -1.1114, -1.1141,  0.1413]])"
      ]
     },
     "execution_count": 71,
     "metadata": {},
     "output_type": "execute_result"
    }
   ],
   "source": [
    "a"
   ]
  },
  {
   "cell_type": "code",
   "execution_count": null,
   "id": "f2edefac-bfb2-4421-809e-3e13c7a0155c",
   "metadata": {},
   "outputs": [],
   "source": []
  }
 ],
 "metadata": {
  "kernelspec": {
   "display_name": "Python 3 (ipykernel)",
   "language": "python",
   "name": "python3"
  },
  "language_info": {
   "codemirror_mode": {
    "name": "ipython",
    "version": 3
   },
   "file_extension": ".py",
   "mimetype": "text/x-python",
   "name": "python",
   "nbconvert_exporter": "python",
   "pygments_lexer": "ipython3",
   "version": "3.8.10"
  }
 },
 "nbformat": 4,
 "nbformat_minor": 5
}
