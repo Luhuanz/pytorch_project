{
 "cells": [
  {
   "cell_type": "code",
   "execution_count": 1,
   "id": "5a7c7821-e7b9-401a-9dfb-c9617535ab76",
   "metadata": {},
   "outputs": [],
   "source": [
    "import torch.nn as nn"
   ]
  },
  {
   "cell_type": "code",
   "execution_count": 2,
   "id": "2c51d3c4-2b47-48e1-9b22-0f6109b10bc7",
   "metadata": {},
   "outputs": [],
   "source": [
    "def conv3x3(in_planes,out_planes,stride=1):\n",
    "    return nn.Conv2d(in_planes,out_planes,kernel_size=3,stride=stride,padding=1,bias=False)\n",
    "def conv1x1(in_planes,out_planes,stride=1):\n",
    "    return nn.Conv2d(in_planes,out_planes,kernel_size=1,stride=stride,bias=False)"
   ]
  },
  {
   "cell_type": "code",
   "execution_count": null,
   "id": "6d93b368-bb31-4570-b777-eff23df4c913",
   "metadata": {},
   "outputs": [],
   "source": [
    "# 18\n",
    "class BasicBlock(nn.Module):\n",
    "    expension=1\n",
    "    def __init__(self,inplanes,planes,stride=1,downsample=None):\n",
    "        super().__init__()\n",
    "        self.conv1=conv3x3(inplanes)"
   ]
  },
  {
   "cell_type": "code",
   "execution_count": 2,
   "id": "a78bd70f-8da5-4098-b626-237045c5f2bf",
   "metadata": {},
   "outputs": [],
   "source": [
    "def conv1x1(in_planes,out_planes,stride=1):\n",
    "    return nn.Conv2d(in_planes,out_planes,stride=stride,bias=False,kernel_size=1)\n",
    "def conv3x3(in_planes,out_planes,stride=1):\n",
    "    return nn.Conv2d(in_planes,out_planes,kernel_size=3,stride=stride,bias=False)"
   ]
  },
  {
   "cell_type": "code",
   "execution_count": 2,
   "id": "790ae04c-cacf-4a54-bcc3-5f77b0c18fda",
   "metadata": {},
   "outputs": [],
   "source": [
    "import torch.nn as nn"
   ]
  },
  {
   "cell_type": "code",
   "execution_count": 3,
   "id": "b5ac9c12-78f2-407b-8e59-a7fffde7e28d",
   "metadata": {},
   "outputs": [],
   "source": [
    "class BasicBlock(nn.Module):\n",
    "    def __init__(self,inplane,planes,stride=1,downsample=None):\n",
    "        super(BasicBlock,self).__init__()\n",
    "        self.conv1=conv3x3(inplane,planes,stride)\n",
    "        self.bn1=nn.BatchNorm2d(planes)\n",
    "        self.relu=nn.ReLU(inplace=True)\n",
    "        self.conv2=conv3x3(planes,planes)\n",
    "        self.bn2=nn.BatchNorm2d(planes)\n",
    "        self.downsample=downsample\n",
    "        self.stride=stride\n",
    "    def forward(self,x):\n",
    "        identity=x\n",
    "        out=self.conv1(x)  #s=2\n",
    "        out=self.bn1(out)\n",
    "        out=self.relu(out)\n",
    "        out=self.conv2(out) #  s=1\n",
    "        out=self.bn2(out)\n",
    "        if self.downsample is not None:\n",
    "            identity=self.downsample(x)\n",
    "        out+=identity\n",
    "        out=self.relu(out)\n",
    "        return out        "
   ]
  },
  {
   "cell_type": "code",
   "execution_count": 4,
   "id": "8e8801d3-ddae-4da1-8bd0-8bad24583321",
   "metadata": {},
   "outputs": [],
   "source": [
    "class BasicBlock(nn.Module):\n",
    "    expansion=1\n",
    "    def __init__(self,inplane,planes,stride=1,downsample=None):\n",
    "        super(BasicBlock,self).__init___()\n",
    "        self.conv1=conv3x3(inplane,planes,stride) #s=2 if blcock  2,3,4,5\n",
    "        self.bn1=nn.BatchNorm2d(planes)\n",
    "        self.relu=nn.ReLU(inplace=True)\n",
    "        self.conv2=conv3x3(planes,planes,stride)\n",
    "        self.bn2=nn.BatchNorm2d(planes)\n",
    "        self.downsample=downsample\n",
    "        self.stride=stride\n",
    "    def forward(self,x):\n",
    "        identity=x\n",
    "        out=self.conv1(x)\n",
    "        out=self.bn1(out)\n",
    "        out=self.relu(out)\n",
    "        out=self.conv2(out)\n",
    "        out=self.bn2(out)\n",
    "        if downsample is not None:\n",
    "            identity=self.downsample(x)\n",
    "        out+=indentity\n",
    "        out=self.relu(out)\n",
    "        return out"
   ]
  },
  {
   "cell_type": "code",
   "execution_count": 6,
   "id": "0399103c-f8d5-456e-b9ac-97fb6c2fba7a",
   "metadata": {},
   "outputs": [],
   "source": [
    "class Bottleneck(nn.Module):\n",
    "    expansion=4\n",
    "    def __init__(self,inplanes,planes,stride=1,downsample=None):\n",
    "        super().__init__()\n",
    "        self.conv1=conv1x1(inplanes,planes)\n",
    "        self.bn1=nn.BatchNorm2d(planes)\n",
    "        self.relu=nn.ReLU(inplace=True)\n",
    "        self.conv2=conv3x3(planes,planes,stride)\n",
    "        self.bn2=nn.BatchNorm2d(planes)\n",
    "        self.conv3=conv1x1(planes,planes*self.expansion)\n",
    "        self.bn3=nn.BatchNorm2d(planes*self.expansion)\n",
    "        self.downsample=downsample\n",
    "        self.stride=stride\n",
    "    def forward(self,x):\n",
    "        identity=x\n",
    "        out=self.conv1(x)\n",
    "        out=self.bn1(out)\n",
    "        out=self.relu(out)\n",
    "        out=self.conv2(out)\n",
    "        out=self.bn2(out)\n",
    "        out=self.relu(out)\n",
    "        out=self.conv3(out)\n",
    "        out=self.bn3(out)\n",
    "        if downsample is not None:\n",
    "            identity=self.downsample(x)\n",
    "        out+=identity\n",
    "        out=self.relu(out)\n",
    "        return out\n",
    "        "
   ]
  },
  {
   "cell_type": "code",
   "execution_count": null,
   "id": "d0f87b3d-3ca7-47f4-bf5f-fd1841213d8c",
   "metadata": {},
   "outputs": [],
   "source": []
  }
 ],
 "metadata": {
  "kernelspec": {
   "display_name": "Python 3 (ipykernel)",
   "language": "python",
   "name": "python3"
  },
  "language_info": {
   "codemirror_mode": {
    "name": "ipython",
    "version": 3
   },
   "file_extension": ".py",
   "mimetype": "text/x-python",
   "name": "python",
   "nbconvert_exporter": "python",
   "pygments_lexer": "ipython3",
   "version": "3.8.10"
  }
 },
 "nbformat": 4,
 "nbformat_minor": 5
}
