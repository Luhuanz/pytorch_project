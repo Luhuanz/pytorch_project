{
 "cells": [
  {
   "cell_type": "code",
   "execution_count": 1,
   "id": "a9a2b4ba-d980-47c7-8540-ea504b131e3f",
   "metadata": {},
   "outputs": [],
   "source": [
    "import torch"
   ]
  },
  {
   "cell_type": "code",
   "execution_count": 4,
   "id": "3d56b7c1-1a19-4b70-8731-2932154668d1",
   "metadata": {},
   "outputs": [
    {
     "data": {
      "text/plain": [
       "<torch._C.Generator at 0x7f50c0146930>"
      ]
     },
     "execution_count": 4,
     "metadata": {},
     "output_type": "execute_result"
    }
   ],
   "source": [
    "device='cuda' if torch.cuda.is_available() else 'cpu'\n",
    "torch.manual_seed(777)"
   ]
  },
  {
   "cell_type": "code",
   "execution_count": 5,
   "id": "244c8c07-b07e-4709-9fb8-4f3c257f67c0",
   "metadata": {},
   "outputs": [],
   "source": [
    "if device=='cuda':\n",
    "    torch.cuda.manual_seed_all(777)"
   ]
  },
  {
   "cell_type": "code",
   "execution_count": 6,
   "id": "749faa8b-57f7-4cc1-bdf3-f5833c88f25f",
   "metadata": {},
   "outputs": [],
   "source": [
    "X = torch.FloatTensor([[0, 0], [0, 1], [1, 0], [1, 1]]).to(device)\n",
    "Y = torch.FloatTensor([[0], [1], [1], [0]]).to(device)"
   ]
  },
  {
   "cell_type": "code",
   "execution_count": 7,
   "id": "d83cf8cd-557e-4905-b1f8-fbbed823bc50",
   "metadata": {},
   "outputs": [
    {
     "data": {
      "text/plain": [
       "tensor([[0., 0.],\n",
       "        [0., 1.],\n",
       "        [1., 0.],\n",
       "        [1., 1.]], device='cuda:0')"
      ]
     },
     "execution_count": 7,
     "metadata": {},
     "output_type": "execute_result"
    }
   ],
   "source": [
    "X"
   ]
  },
  {
   "cell_type": "code",
   "execution_count": 8,
   "id": "fc3ac68b-1c62-4aa8-a50b-654bdf9bc21c",
   "metadata": {},
   "outputs": [
    {
     "data": {
      "text/plain": [
       "tensor([[0.],\n",
       "        [1.],\n",
       "        [1.],\n",
       "        [0.]], device='cuda:0')"
      ]
     },
     "execution_count": 8,
     "metadata": {},
     "output_type": "execute_result"
    }
   ],
   "source": [
    "Y"
   ]
  },
  {
   "cell_type": "code",
   "execution_count": 9,
   "id": "f7c7c34d-de06-4e1e-85ea-c5c3462e24a7",
   "metadata": {},
   "outputs": [],
   "source": [
    "linear=torch.nn.Linear(2,1,bias=True)\n",
    "sigmoid=torch.nn.Sigmoid()"
   ]
  },
  {
   "cell_type": "code",
   "execution_count": 10,
   "id": "cd059412-96f9-4e96-984d-5bee7eccd704",
   "metadata": {},
   "outputs": [],
   "source": [
    "model=torch.nn.Sequential(\n",
    "    linear,\n",
    "    sigmoid\n",
    ").to(device)  "
   ]
  },
  {
   "cell_type": "code",
   "execution_count": 11,
   "id": "74566392-f463-4260-b52d-981cfab77726",
   "metadata": {},
   "outputs": [],
   "source": [
    "criterion=torch.nn.BCELoss().to(device)\n",
    "optimizer=torch.optim.SGD(model.parameters(),lr=1)"
   ]
  },
  {
   "cell_type": "code",
   "execution_count": 14,
   "id": "46a678dd-0daa-422f-a9a5-7a5e5e3d4c7f",
   "metadata": {},
   "outputs": [
    {
     "name": "stdout",
     "output_type": "stream",
     "text": [
      "0 0.7095325589179993\n",
      "100 0.6931475400924683\n",
      "200 0.6931471824645996\n",
      "300 0.6931471824645996\n",
      "400 0.6931471824645996\n",
      "500 0.6931471824645996\n",
      "600 0.6931471824645996\n",
      "700 0.6931471824645996\n",
      "800 0.6931471824645996\n",
      "900 0.6931471824645996\n",
      "1000 0.6931471824645996\n",
      "1100 0.6931471824645996\n",
      "1200 0.6931471824645996\n",
      "1300 0.6931471824645996\n",
      "1400 0.6931471824645996\n",
      "1500 0.6931471824645996\n",
      "1600 0.6931471824645996\n",
      "1700 0.6931471824645996\n",
      "1800 0.6931471824645996\n",
      "1900 0.6931471824645996\n",
      "2000 0.6931471824645996\n",
      "2100 0.6931471824645996\n",
      "2200 0.6931471824645996\n",
      "2300 0.6931471824645996\n",
      "2400 0.6931471824645996\n",
      "2500 0.6931471824645996\n",
      "2600 0.6931471824645996\n",
      "2700 0.6931471824645996\n",
      "2800 0.6931471824645996\n",
      "2900 0.6931471824645996\n",
      "3000 0.6931471824645996\n",
      "3100 0.6931471824645996\n",
      "3200 0.6931471824645996\n",
      "3300 0.6931471824645996\n",
      "3400 0.6931471824645996\n",
      "3500 0.6931471824645996\n",
      "3600 0.6931471824645996\n",
      "3700 0.6931471824645996\n",
      "3800 0.6931471824645996\n",
      "3900 0.6931471824645996\n",
      "4000 0.6931471824645996\n",
      "4100 0.6931471824645996\n",
      "4200 0.6931471824645996\n",
      "4300 0.6931471824645996\n",
      "4400 0.6931471824645996\n",
      "4500 0.6931471824645996\n",
      "4600 0.6931471824645996\n",
      "4700 0.6931471824645996\n",
      "4800 0.6931471824645996\n",
      "4900 0.6931471824645996\n",
      "5000 0.6931471824645996\n",
      "5100 0.6931471824645996\n",
      "5200 0.6931471824645996\n",
      "5300 0.6931471824645996\n",
      "5400 0.6931471824645996\n",
      "5500 0.6931471824645996\n",
      "5600 0.6931471824645996\n",
      "5700 0.6931471824645996\n",
      "5800 0.6931471824645996\n",
      "5900 0.6931471824645996\n",
      "6000 0.6931471824645996\n",
      "6100 0.6931471824645996\n",
      "6200 0.6931471824645996\n",
      "6300 0.6931471824645996\n",
      "6400 0.6931471824645996\n",
      "6500 0.6931471824645996\n",
      "6600 0.6931471824645996\n",
      "6700 0.6931471824645996\n",
      "6800 0.6931471824645996\n",
      "6900 0.6931471824645996\n",
      "7000 0.6931471824645996\n",
      "7100 0.6931471824645996\n",
      "7200 0.6931471824645996\n",
      "7300 0.6931471824645996\n",
      "7400 0.6931471824645996\n",
      "7500 0.6931471824645996\n",
      "7600 0.6931471824645996\n",
      "7700 0.6931471824645996\n",
      "7800 0.6931471824645996\n",
      "7900 0.6931471824645996\n",
      "8000 0.6931471824645996\n",
      "8100 0.6931471824645996\n",
      "8200 0.6931471824645996\n",
      "8300 0.6931471824645996\n",
      "8400 0.6931471824645996\n",
      "8500 0.6931471824645996\n",
      "8600 0.6931471824645996\n",
      "8700 0.6931471824645996\n",
      "8800 0.6931471824645996\n",
      "8900 0.6931471824645996\n",
      "9000 0.6931471824645996\n",
      "9100 0.6931471824645996\n",
      "9200 0.6931471824645996\n",
      "9300 0.6931471824645996\n",
      "9400 0.6931471824645996\n",
      "9500 0.6931471824645996\n",
      "9600 0.6931471824645996\n",
      "9700 0.6931471824645996\n",
      "9800 0.6931471824645996\n",
      "9900 0.6931471824645996\n",
      "10000 0.6931471824645996\n"
     ]
    }
   ],
   "source": [
    "for step in range(10001):\n",
    "    y_pred=model(X)\n",
    "    loss=criterion(y_pred,Y)\n",
    "    optimizer.zero_grad()\n",
    "    loss.backward()\n",
    "    optimizer.step()\n",
    "    if step % 100 == 0:\n",
    "        print(step, loss.item())"
   ]
  },
  {
   "cell_type": "code",
   "execution_count": 16,
   "id": "273f0129-1c0d-4fbf-981c-6bd3f91c65bd",
   "metadata": {},
   "outputs": [
    {
     "name": "stdout",
     "output_type": "stream",
     "text": [
      "0.5\n"
     ]
    }
   ],
   "source": [
    "with torch.no_grad():\n",
    "    yp=model(X)\n",
    "    pre=(yp>0.5).float()\n",
    "    acc=(pre==Y).float().mean()\n",
    "    print(acc.item())"
   ]
  },
  {
   "cell_type": "code",
   "execution_count": 18,
   "id": "43baca9b-08f9-48b6-9893-f21382df2d8a",
   "metadata": {},
   "outputs": [],
   "source": [
    "import torch\n",
    "import torch.nn as nn\n",
    "import torch.optim as optim\n",
    "import random\n"
   ]
  },
  {
   "cell_type": "code",
   "execution_count": 19,
   "id": "eaf2a3a9-448a-4644-aa01-239619ebfc37",
   "metadata": {},
   "outputs": [],
   "source": [
    "# 设置种子\n",
    "random.seed(777)\n",
    "torch.manual_seed(777)\n",
    "device='cuda' if torch.cuda.is_available() else 'cpu'\n",
    "if device=='cuda':\n",
    "    torch.cuda.manual_seed_all(777)"
   ]
  },
  {
   "cell_type": "code",
   "execution_count": 24,
   "id": "f648a7f4-0977-4c02-9177-006ef722f3cb",
   "metadata": {},
   "outputs": [
    {
     "data": {
      "text/plain": [
       "tensor([[0., 0.],\n",
       "        [0., 1.],\n",
       "        [1., 0.],\n",
       "        [1., 1.]], device='cuda:0')"
      ]
     },
     "execution_count": 24,
     "metadata": {},
     "output_type": "execute_result"
    }
   ],
   "source": [
    "X.to(device)"
   ]
  },
  {
   "cell_type": "code",
   "execution_count": 25,
   "id": "91489553-c258-4c66-bc1b-fcf46e0c9748",
   "metadata": {},
   "outputs": [
    {
     "data": {
      "text/plain": [
       "tensor([[0.],\n",
       "        [1.],\n",
       "        [1.],\n",
       "        [0.]], device='cuda:0')"
      ]
     },
     "execution_count": 25,
     "metadata": {},
     "output_type": "execute_result"
    }
   ],
   "source": [
    "Y.to(device)"
   ]
  },
  {
   "cell_type": "code",
   "execution_count": 26,
   "id": "cb4736d6-017e-4cb5-9111-00d39829e51d",
   "metadata": {},
   "outputs": [],
   "source": [
    "linear=nn.Linear(2,1,bias=True)\n",
    "sigmoid=nn.Sigmoid()"
   ]
  },
  {
   "cell_type": "code",
   "execution_count": 29,
   "id": "46fccbd9-d090-4ce2-99d7-422b6bcc0f5b",
   "metadata": {},
   "outputs": [],
   "source": [
    "model=nn.Sequential(linear,sigmoid).to(device)"
   ]
  },
  {
   "cell_type": "code",
   "execution_count": 30,
   "id": "6d47f363-894b-4c94-9e92-a526b5054f9b",
   "metadata": {},
   "outputs": [],
   "source": [
    "criterion=nn.BCELoss().to(device)\n",
    "optimizer=optim.SGD(model.parameters(),lr=1)"
   ]
  },
  {
   "cell_type": "code",
   "execution_count": 31,
   "id": "93d62479-df63-4e3e-a854-8a7f39c1a339",
   "metadata": {},
   "outputs": [
    {
     "name": "stdout",
     "output_type": "stream",
     "text": [
      "0.7666423320770264\n",
      "0.6931473016738892\n",
      "0.6931471824645996\n",
      "0.6931471228599548\n",
      "0.6931471824645996\n",
      "0.6931471824645996\n",
      "0.6931471824645996\n",
      "0.6931471824645996\n",
      "0.6931471824645996\n",
      "0.6931471824645996\n",
      "0.6931471824645996\n",
      "0.5\n"
     ]
    }
   ],
   "source": [
    "for step in range(1001):\n",
    "    y_pred=model(X)\n",
    "    loss=criterion(y_pred,Y)\n",
    "    optimizer.zero_grad()\n",
    "    loss.backward()\n",
    "    optimizer.step()\n",
    "    if step%100==0:\n",
    "        print(loss.item())\n",
    "        \n",
    "with torch.no_grad():\n",
    "    Y_=model(X)\n",
    "    a=(Y_>0.5).float()\n",
    "    acc=(a==Y).float().mean()\n",
    "    print(acc.item())"
   ]
  },
  {
   "cell_type": "code",
   "execution_count": 32,
   "id": "1bbf4523-a4b2-4fc0-acc7-be2318ba3952",
   "metadata": {},
   "outputs": [
    {
     "name": "stdout",
     "output_type": "stream",
     "text": [
      "0 0.6966313719749451\n",
      "100 0.6932109594345093\n",
      "200 0.6931910514831543\n",
      "300 0.6931763291358948\n",
      "400 0.6931650638580322\n",
      "500 0.6931566596031189\n",
      "600 0.6931500434875488\n",
      "700 0.6931447982788086\n",
      "800 0.6931403279304504\n",
      "900 0.6931363344192505\n",
      "1000 0.6931322813034058\n",
      "1100 0.6931279897689819\n",
      "1200 0.6931232213973999\n",
      "1300 0.6931172013282776\n",
      "1400 0.6931097507476807\n",
      "1500 0.6931000351905823\n",
      "1600 0.6930869817733765\n",
      "1700 0.693069338798523\n",
      "1800 0.6930444240570068\n",
      "1900 0.6930081844329834\n",
      "2000 0.6929527521133423\n",
      "2100 0.6928613185882568\n",
      "2200 0.6926920413970947\n",
      "2300 0.6923131942749023\n",
      "2400 0.6911336183547974\n",
      "2500 0.6848405599594116\n",
      "2600 0.6402625441551208\n",
      "2700 0.5509118437767029\n",
      "2800 0.4402654767036438\n",
      "2900 0.1913139522075653\n",
      "3000 0.10130907595157623\n",
      "3100 0.06706277281045914\n",
      "3200 0.04963028430938721\n",
      "3300 0.03921016305685043\n",
      "3400 0.03232526034116745\n",
      "3500 0.027455471456050873\n",
      "3600 0.023837383836507797\n",
      "3700 0.021047573536634445\n",
      "3800 0.018833229318261147\n",
      "3900 0.017034295946359634\n",
      "4000 0.015544765628874302\n",
      "4100 0.01429169811308384\n",
      "4200 0.013223264366388321\n",
      "4300 0.012301811948418617\n",
      "4400 0.011499060317873955\n",
      "4500 0.01079360581934452\n",
      "4600 0.010168902575969696\n",
      "4700 0.009611865505576134\n",
      "4800 0.009112137369811535\n",
      "4900 0.008661435917019844\n",
      "5000 0.008252810686826706\n",
      "5100 0.007880635559558868\n",
      "5200 0.00754040852189064\n",
      "5300 0.007228072267025709\n",
      "5400 0.006940418854355812\n",
      "5500 0.006674605421721935\n",
      "5600 0.006428259424865246\n",
      "5700 0.006199341733008623\n",
      "5800 0.005986010655760765\n",
      "5900 0.005786816589534283\n",
      "6000 0.0056003727950155735\n",
      "6100 0.005425457376986742\n",
      "6200 0.005261105950921774\n",
      "6300 0.005106354132294655\n",
      "6400 0.004960388410836458\n",
      "6500 0.004822456277906895\n",
      "6600 0.00469198590144515\n",
      "6700 0.004568359814584255\n",
      "6800 0.00445103645324707\n",
      "6900 0.004339519422501326\n",
      "7000 0.004233448766171932\n",
      "7100 0.00413243193179369\n",
      "7200 0.0040360791608691216\n",
      "7300 0.00394407520070672\n",
      "7400 0.003856149036437273\n",
      "7500 0.003772120224311948\n",
      "7600 0.0036915536038577557\n",
      "7700 0.0036144042387604713\n",
      "7800 0.0035404013469815254\n",
      "7900 0.003469320246949792\n",
      "8000 0.003401025664061308\n",
      "8100 0.003335382789373398\n",
      "8200 0.00327222584746778\n",
      "8300 0.00321134552359581\n",
      "8400 0.00315272668376565\n",
      "8500 0.003096188884228468\n",
      "8600 0.0030416573863476515\n",
      "8700 0.002988967578858137\n",
      "8800 0.0029380591586232185\n",
      "8900 0.0028888871893286705\n",
      "9000 0.0028413019608706236\n",
      "9100 0.0027952881064265966\n",
      "9200 0.0027506807819008827\n",
      "9300 0.002707480452954769\n",
      "9400 0.0026656417176127434\n",
      "9500 0.002625059802085161\n",
      "9600 0.0025857198052108288\n",
      "9700 0.002547471784055233\n",
      "9800 0.0025103758089244366\n",
      "9900 0.0024743122048676014\n",
      "10000 0.002439310308545828\n",
      "\n",
      "Hypothesis:  [[0.00212984]\n",
      " [0.99716175]\n",
      " [0.9971456 ]\n",
      " [0.00192107]] \n",
      "Correct:  [[0.]\n",
      " [1.]\n",
      " [1.]\n",
      " [0.]] \n",
      "Accuracy:  1.0\n"
     ]
    }
   ],
   "source": [
    "# nn layers\n",
    "linear1 = torch.nn.Linear(2, 2, bias=True)\n",
    "linear2 = torch.nn.Linear(2, 1, bias=True)\n",
    "sigmoid = torch.nn.Sigmoid()\n",
    "model = torch.nn.Sequential(linear1, sigmoid, linear2, sigmoid).to(device)\n",
    "# define cost/loss & optimizer\n",
    "criterion = torch.nn.BCELoss().to(device)\n",
    "optimizer = torch.optim.SGD(model.parameters(), lr=1)  # modified learning rate from 0.1 to 1\n",
    "for step in range(10001):\n",
    "    optimizer.zero_grad()\n",
    "    hypothesis = model(X)\n",
    "\n",
    "    # cost/loss function\n",
    "    cost = criterion(hypothesis, Y)\n",
    "    cost.backward()\n",
    "    optimizer.step()\n",
    "\n",
    "    if step % 100 == 0:\n",
    "        print(step, cost.item())\n",
    "with torch.no_grad():\n",
    "    hypothesis = model(X)\n",
    "    predicted = (hypothesis > 0.5).float()\n",
    "    accuracy = (predicted == Y).float().mean()\n",
    "    print('\\nHypothesis: ', hypothesis.detach().cpu().numpy(), '\\nCorrect: ', predicted.detach().cpu().numpy(), '\\nAccuracy: ', accuracy.item())"
   ]
  },
  {
   "cell_type": "code",
   "execution_count": 33,
   "id": "a52c5612-0151-4518-9837-f94595aca7d1",
   "metadata": {},
   "outputs": [],
   "source": [
    "# MNist\n",
    "import torch\n",
    "import torch.nn as nn\n",
    "import torch.optim as optim\n",
    "import torchvision.transforms as transforms \n",
    "import torchvision.datasets as datasets"
   ]
  },
  {
   "cell_type": "code",
   "execution_count": 34,
   "id": "6d5b4a3b-c720-41a0-9f24-47c4c0cbb458",
   "metadata": {},
   "outputs": [],
   "source": [
    "# 设置种子\n",
    "import random\n",
    "random.seed(777)\n",
    "torch.manual_seed(777)\n",
    "device='cuda' if torch.cuda.is_available() else 'cpu'\n",
    "if device=='cuda':\n",
    "    torch.cuda.manual_seed_all(777)\n",
    "    "
   ]
  },
  {
   "cell_type": "code",
   "execution_count": 35,
   "id": "845f971d-6e58-4af5-92b9-32eb0fbc23c7",
   "metadata": {},
   "outputs": [],
   "source": [
    "# 数据\n",
    "trains=datasets.MNIST(root='data',train=True,download=True,transform=transforms.ToTensor())\n",
    "tests=datasets.MNIST(root='data',train=False,download=True,transform=transforms.ToTensor())"
   ]
  },
  {
   "cell_type": "code",
   "execution_count": 36,
   "id": "b85c5584-b912-465e-8ecf-67787c2d65c6",
   "metadata": {},
   "outputs": [],
   "source": [
    "batch_size=10000\n",
    "epochs=1000"
   ]
  },
  {
   "cell_type": "code",
   "execution_count": 40,
   "id": "c2b3c128-f7f0-45e7-a0b2-8401b39e76ac",
   "metadata": {},
   "outputs": [],
   "source": [
    "trains_dataloader=torch.utils.data.DataLoader(dataset=trains,batch_size=batch_size,shuffle=True,drop_last=True)"
   ]
  },
  {
   "cell_type": "code",
   "execution_count": 54,
   "id": "abc6db3e-7c2d-419e-b6a9-89e18d5b3c10",
   "metadata": {},
   "outputs": [],
   "source": [
    "linear1=nn.Linear(784,128,bias=True)\n",
    "relu1=nn.ReLU()\n",
    "linear2=nn.Linear(128,10,bias=True)"
   ]
  },
  {
   "cell_type": "code",
   "execution_count": 55,
   "id": "aa9de827-c611-49bb-89a0-63f73c346ca0",
   "metadata": {},
   "outputs": [],
   "source": [
    "model=torch.nn.Sequential(linear1,relu1,linear2).to(device)"
   ]
  },
  {
   "cell_type": "code",
   "execution_count": 57,
   "id": "4a614ff6-77b2-4f97-9664-937df7f9ae9c",
   "metadata": {},
   "outputs": [
    {
     "data": {
      "text/plain": [
       "Parameter containing:\n",
       "tensor([[ 0.4408,  0.0333,  1.2665,  ...,  1.1860, -0.8825,  0.5125],\n",
       "        [ 0.2435, -1.3060,  2.1834,  ...,  0.6290, -0.9747,  0.4944],\n",
       "        [-0.1318,  0.2325, -2.0921,  ..., -0.3005,  1.1053, -0.6180],\n",
       "        ...,\n",
       "        [ 2.6732, -0.0746,  0.6344,  ..., -0.5372,  1.1675,  0.2958],\n",
       "        [-0.1558, -0.7240,  1.4021,  ..., -0.7809, -0.0947, -0.7856],\n",
       "        [-0.5575, -1.0983,  0.9874,  ..., -0.0848, -0.4523,  1.3882]],\n",
       "       device='cuda:0', requires_grad=True)"
      ]
     },
     "execution_count": 57,
     "metadata": {},
     "output_type": "execute_result"
    }
   ],
   "source": [
    "torch.nn.init.normal_(model[0].weight)\n",
    "torch.nn.init.normal_(model[2].weight)\n",
    "\n",
    "# torch.nn.init.xavier_normal_"
   ]
  },
  {
   "cell_type": "code",
   "execution_count": 58,
   "id": "0166e6d4-e452-4594-8371-4e4ba96637bc",
   "metadata": {},
   "outputs": [],
   "source": [
    "criterion=nn.CrossEntropyLoss().to(device)\n",
    "optimizer=optim.SGD(model.parameters(),lr=0.1)"
   ]
  },
  {
   "cell_type": "code",
   "execution_count": null,
   "id": "399faa41-efd8-4b90-addc-fd3cecae798f",
   "metadata": {},
   "outputs": [],
   "source": [
    "batch=len(trains_dataloader)\n",
    "for step in range(epochs+1):\n",
    "    avg_loss=0\n",
    "    for X,Y in trains_dataloader:\n",
    "        X=X.view(-1,28*28).to(device)\n",
    "        Y=Y.to(device)\n",
    "        Y_pred=model(X)\n",
    "        loss=criterion(Y_pred,Y)\n",
    "        optimizer.zero_grad()\n",
    "        loss.backward()\n",
    "        optimizer.step()\n",
    "        avg_loss=loss/batch\n",
    "    if step %100==0:\n",
    "        print(avg_loss.item())"
   ]
  },
  {
   "cell_type": "code",
   "execution_count": 62,
   "id": "c06ad1af-461f-4945-b812-7283e01318f9",
   "metadata": {},
   "outputs": [
    {
     "name": "stdout",
     "output_type": "stream",
     "text": [
      "Epoch: 0001 cost = 0.282415658\n",
      "Epoch: 0002 cost = 0.088807173\n",
      "Epoch: 0003 cost = 0.057358347\n",
      "Epoch: 0004 cost = 0.040514953\n",
      "Epoch: 0005 cost = 0.031383544\n",
      "Epoch: 0006 cost = 0.026890997\n",
      "Epoch: 0007 cost = 0.021194426\n",
      "Epoch: 0008 cost = 0.017875252\n",
      "Epoch: 0009 cost = 0.016927430\n",
      "Epoch: 0010 cost = 0.013624779\n",
      "Epoch: 0011 cost = 0.012430624\n",
      "Epoch: 0012 cost = 0.012733168\n",
      "Epoch: 0013 cost = 0.011491958\n",
      "Epoch: 0014 cost = 0.009612213\n",
      "Epoch: 0015 cost = 0.009437577\n",
      "Learning finished\n"
     ]
    }
   ],
   "source": [
    "import torch\n",
    "import torchvision.datasets as dsets\n",
    "import torchvision.transforms as transforms\n",
    "import random\n",
    "device = 'cuda' if torch.cuda.is_available() else 'cpu'\n",
    "# for reproducibility\n",
    "random.seed(777)\n",
    "torch.manual_seed(777)\n",
    "if device == 'cuda':\n",
    "    torch.cuda.manual_seed_all(777)\n",
    "    # parameters\n",
    "learning_rate = 0.001\n",
    "training_epochs = 15\n",
    "batch_size = 100\n",
    "# MNIST dataset\n",
    "mnist_train = dsets.MNIST(root='MNIST_data/',\n",
    "                          train=True,\n",
    "                          transform=transforms.ToTensor(),\n",
    "                          download=True)\n",
    "\n",
    "mnist_test = dsets.MNIST(root='MNIST_data/',\n",
    "                         train=False,\n",
    "                         transform=transforms.ToTensor(),\n",
    "                         download=True)\n",
    "# dataset loader\n",
    "data_loader = torch.utils.data.DataLoader(dataset=mnist_train,\n",
    "                                          batch_size=batch_size,\n",
    "                                          shuffle=True,\n",
    "                                          drop_last=True)\n",
    "# nn layers\n",
    "linear1 = torch.nn.Linear(784, 512, bias=True)\n",
    "linear2 = torch.nn.Linear(512, 512, bias=True)\n",
    "linear3 = torch.nn.Linear(512, 512, bias=True)\n",
    "linear4 = torch.nn.Linear(512, 512, bias=True)\n",
    "linear5 = torch.nn.Linear(512, 10, bias=True)\n",
    "relu = torch.nn.ReLU()\n",
    "# xavier initialization\n",
    "torch.nn.init.xavier_uniform_(linear1.weight)\n",
    "torch.nn.init.xavier_uniform_(linear2.weight)\n",
    "torch.nn.init.xavier_uniform_(linear3.weight)\n",
    "torch.nn.init.xavier_uniform_(linear4.weight)\n",
    "torch.nn.init.xavier_uniform_(linear5.weight)\n",
    "# model\n",
    "model = torch.nn.Sequential(linear1, relu, linear2, relu, linear3).to(device)\n",
    "# define cost/loss & optimizer\n",
    "criterion = torch.nn.CrossEntropyLoss().to(device)    # Softmax is internally computed.\n",
    "optimizer = torch.optim.Adam(model.parameters(), lr=learning_rate)\n",
    "total_batch = len(data_loader)\n",
    "for epoch in range(training_epochs):\n",
    "    avg_cost = 0\n",
    "\n",
    "    for X, Y in data_loader:\n",
    "        # reshape input image into [batch_size by 784]\n",
    "        # label is not one-hot encoded\n",
    "        X = X.view(-1, 28 * 28).to(device)\n",
    "        Y = Y.to(device)\n",
    "\n",
    "        optimizer.zero_grad()\n",
    "        hypothesis = model(X)\n",
    "        cost = criterion(hypothesis, Y)\n",
    "        cost.backward()\n",
    "        optimizer.step()\n",
    "\n",
    "        avg_cost += cost / total_batch\n",
    "\n",
    "    print('Epoch:', '%04d' % (epoch + 1), 'cost =', '{:.9f}'.format(avg_cost))\n",
    "\n",
    "print('Learning finished')"
   ]
  },
  {
   "cell_type": "code",
   "execution_count": 64,
   "id": "203a2ced-e33d-44b0-accf-244fed95864a",
   "metadata": {},
   "outputs": [
    {
     "name": "stdout",
     "output_type": "stream",
     "text": [
      "Epoch: 0001 cost = 0.307099670\n",
      "Epoch: 0002 cost = 0.144428954\n",
      "Epoch: 0003 cost = 0.115584575\n",
      "Epoch: 0004 cost = 0.094690934\n",
      "Epoch: 0005 cost = 0.084135614\n",
      "Epoch: 0006 cost = 0.075940207\n",
      "Epoch: 0007 cost = 0.067117982\n",
      "Epoch: 0008 cost = 0.065600932\n",
      "Epoch: 0009 cost = 0.059821092\n",
      "Epoch: 0010 cost = 0.057406753\n",
      "Epoch: 0011 cost = 0.051982980\n",
      "Epoch: 0012 cost = 0.050549947\n",
      "Epoch: 0013 cost = 0.047887914\n",
      "Epoch: 0014 cost = 0.042710245\n",
      "Epoch: 0015 cost = 0.043700650\n",
      "Learning finished\n"
     ]
    }
   ],
   "source": [
    "#ok  minist\n",
    "\n",
    "import torch\n",
    "import torchvision.datasets as dsets\n",
    "import torchvision.transforms as transforms\n",
    "import random\n",
    "device = 'cuda' if torch.cuda.is_available() else 'cpu'\n",
    "# for reproducibility\n",
    "random.seed(777)\n",
    "torch.manual_seed(777)\n",
    "if device == 'cuda':\n",
    "    torch.cuda.manual_seed_all(777)\n",
    "    # parameters\n",
    "learning_rate = 0.001\n",
    "training_epochs = 15\n",
    "batch_size = 100\n",
    "# MNIST dataset\n",
    "mnist_train = dsets.MNIST(root='MNIST_data/',\n",
    "                          train=True,\n",
    "                          transform=transforms.ToTensor(),\n",
    "                          download=True)\n",
    "\n",
    "mnist_test = dsets.MNIST(root='MNIST_data/',\n",
    "                         train=False,\n",
    "                         transform=transforms.ToTensor(),\n",
    "                         download=True)\n",
    "# dataset loader\n",
    "data_loader = torch.utils.data.DataLoader(dataset=mnist_train,\n",
    "                                          batch_size=batch_size,\n",
    "                                          shuffle=True,\n",
    "                                          drop_last=True)\n",
    "# nn layers\n",
    "linear1 = torch.nn.Linear(784, 512, bias=True)\n",
    "linear2 = torch.nn.Linear(512, 512, bias=True)\n",
    "linear3 = torch.nn.Linear(512, 512, bias=True)\n",
    "linear4 = torch.nn.Linear(512, 512, bias=True)\n",
    "linear5 = torch.nn.Linear(512, 10, bias=True)\n",
    "relu=torch.nn.ReLU()\n",
    "dropout=torch.nn.Dropout(0.3)\n",
    "\n",
    "# 参数初始化\n",
    "torch.nn.init.xavier_uniform_(linear1.weight)\n",
    "torch.nn.init.xavier_uniform_(linear2.weight)\n",
    "torch.nn.init.xavier_uniform_(linear3.weight)\n",
    "torch.nn.init.xavier_uniform_(linear4.weight)\n",
    "torch.nn.init.xavier_uniform_(linear5.weight)\n",
    "\n",
    "model=torch.nn.Sequential(linear1,relu,dropout,linear2,relu,dropout,linear3,relu,dropout,linear4,relu,dropout,linear5).to(device)\n",
    "\n",
    "# define cost/loss & optimizer\n",
    "criterion = torch.nn.CrossEntropyLoss().to(device)    # Softmax is internally computed.\n",
    "optimizer = torch.optim.Adam(model.parameters(), lr=learning_rate)\n",
    "total_batch = len(data_loader)\n",
    "model.train()    # set the model to train mode (dropout=True)\n",
    "for epoch in range(training_epochs):\n",
    "    avg_cost = 0\n",
    "\n",
    "    for X, Y in data_loader:\n",
    "        # reshape input image into [batch_size by 784]\n",
    "        # label is not one-hot encoded\n",
    "        X = X.view(-1, 28 * 28).to(device)\n",
    "        Y = Y.to(device)\n",
    "\n",
    "        optimizer.zero_grad()\n",
    "        hypothesis = model(X)\n",
    "        cost = criterion(hypothesis, Y)\n",
    "        cost.backward()\n",
    "        optimizer.step()\n",
    "\n",
    "        avg_cost += cost / total_batch\n",
    "\n",
    "    print('Epoch:', '%04d' % (epoch + 1), 'cost =', '{:.9f}'.format(avg_cost))\n",
    "\n",
    "print('Learning finished')\n"
   ]
  },
  {
   "cell_type": "code",
   "execution_count": 65,
   "id": "4cf1909e-a05e-4c6e-889b-4148b1f3259d",
   "metadata": {},
   "outputs": [
    {
     "name": "stdout",
     "output_type": "stream",
     "text": [
      "Accuracy: 0.9779999852180481\n",
      "Label:  8\n",
      "Prediction:  8\n"
     ]
    },
    {
     "name": "stderr",
     "output_type": "stream",
     "text": [
      "/root/miniconda3/lib/python3.8/site-packages/torchvision/datasets/mnist.py:63: UserWarning: test_data has been renamed data\n",
      "  warnings.warn(\"test_data has been renamed data\")\n",
      "/root/miniconda3/lib/python3.8/site-packages/torchvision/datasets/mnist.py:53: UserWarning: test_labels has been renamed targets\n",
      "  warnings.warn(\"test_labels has been renamed targets\")\n"
     ]
    }
   ],
   "source": [
    "with torch.no_grad():\n",
    "    model.eval()\n",
    "      # Test the model using test sets\n",
    "    X_test = mnist_test.test_data.view(-1, 28 * 28).float().to(device)\n",
    "    Y_test = mnist_test.test_labels.to(device)\n",
    "\n",
    "    prediction = model(X_test)\n",
    "    correct_prediction = torch.argmax(prediction, 1) == Y_test\n",
    "    accuracy = correct_prediction.float().mean()\n",
    "    print('Accuracy:', accuracy.item())\n",
    "\n",
    "    # Get one and predict\n",
    "    r = random.randint(0, len(mnist_test) - 1)\n",
    "    X_single_data = mnist_test.test_data[r:r + 1].view(-1, 28 * 28).float().to(device)\n",
    "    Y_single_data = mnist_test.test_labels[r:r + 1].to(device)\n",
    "\n",
    "    print('Label: ', Y_single_data.item())\n",
    "    single_prediction = model(X_single_data)\n",
    "    print('Prediction: ', torch.argmax(single_prediction, 1).item())\n",
    "    "
   ]
  },
  {
   "cell_type": "code",
   "execution_count": null,
   "id": "5cc72623-5a52-4e75-9202-4dcdff8cb127",
   "metadata": {},
   "outputs": [],
   "source": [
    "# "
   ]
  }
 ],
 "metadata": {
  "kernelspec": {
   "display_name": "Python 3 (ipykernel)",
   "language": "python",
   "name": "python3"
  },
  "language_info": {
   "codemirror_mode": {
    "name": "ipython",
    "version": 3
   },
   "file_extension": ".py",
   "mimetype": "text/x-python",
   "name": "python",
   "nbconvert_exporter": "python",
   "pygments_lexer": "ipython3",
   "version": "3.8.10"
  }
 },
 "nbformat": 4,
 "nbformat_minor": 5
}
