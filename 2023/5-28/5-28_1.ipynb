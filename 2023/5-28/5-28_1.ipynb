{
 "cells": [
  {
   "cell_type": "code",
   "execution_count": 1,
   "id": "ad6bf79d-68d0-4a59-91ba-f1d5e3ae141b",
   "metadata": {},
   "outputs": [],
   "source": [
    "import torch\n",
    "import torchvision.datasets as datasets\n",
    "import torchvision.transforms as transforms\n",
    "device = 'cuda' if torch.cuda.is_available() else 'cpu'\n",
    "# for reproducibility\n",
    "torch.manual_seed(777)\n",
    "if device == 'cuda':\n",
    "    torch.cuda.manual_seed_all(777)"
   ]
  },
  {
   "cell_type": "code",
   "execution_count": 2,
   "id": "e65f0162-4a36-4291-91d6-56d5d31194c3",
   "metadata": {},
   "outputs": [],
   "source": [
    "#parameters()\n",
    "learning_rate = 0.001\n",
    "training_epochs = 15\n",
    "batch_size = 100"
   ]
  },
  {
   "cell_type": "code",
   "execution_count": 4,
   "id": "396b4781-e5de-4703-badf-ff561ca43cd2",
   "metadata": {},
   "outputs": [],
   "source": [
    "# MNIST dataset\n",
    "mnist_train = datasets.MNIST(root='MNIST_data/',\n",
    "                          train=True,\n",
    "                          transform=transforms.ToTensor(),\n",
    "                          download=True)\n",
    "\n",
    "mnist_test = datasets.MNIST(root='MNIST_data/',\n",
    "                         train=False,\n",
    "                         transform=transforms.ToTensor(),\n",
    "                         download=True)"
   ]
  },
  {
   "cell_type": "code",
   "execution_count": 5,
   "id": "3749dc6a-c598-48e8-9215-54567b8ffc2d",
   "metadata": {},
   "outputs": [],
   "source": [
    "# dataset loader\n",
    "data_loader = torch.utils.data.DataLoader(dataset=mnist_train,\n",
    "                                          batch_size=batch_size,\n",
    "                                          shuffle=True,\n",
    "                                          drop_last=True)"
   ]
  },
  {
   "cell_type": "code",
   "execution_count": 12,
   "id": "8382f768-5172-4933-8bb3-36c2791fc477",
   "metadata": {},
   "outputs": [],
   "source": [
    "#model\n",
    "import torch.nn as nn\n",
    "class CNN(nn.Module):\n",
    "    def __init__(self):\n",
    "        super().__init__()\n",
    "        #L1 image shape batch 28 28 1 \n",
    "        #L2 image shape  btach 28 28 32\n",
    "        # Pool -> batch  14 14 32\n",
    "        self.layer1=torch.nn.Sequential(\n",
    "                torch.nn.Conv2d(1,32,kernel_size=3,stride=1,padding=1),  # N-k+2p/s+1  28-3+2/1+1 28\n",
    "                torch.nn.ReLU(),\n",
    "                torch.nn.MaxPool2d(kernel_size=2,stride=2)  #28-2/2+1  padding=0 \n",
    "        )\n",
    "        self.layer2=nn.Sequential(\n",
    "                torch.nn.Conv2d(32,64,kernel_size=3,stride=1,padding=1),\n",
    "                torch.nn.ReLU(),\n",
    "                torch.nn.MaxPool2d(kernel_size=2,stride=2) # 7x7 x64\n",
    "        )\n",
    "        self.fc=torch.nn.Linear(7*7*64,10,bias=True)\n",
    "        torch.nn.init.xavier_uniform_(self.fc.weight)\n",
    "    def forward(self,x):\n",
    "        out=self.layer1(x)\n",
    "        out=self.layer2(out) #(batch_size ,64x64x7) (-1, 64x64x7)\n",
    "        out=out.view(out.size(0),-1)\n",
    "        out=self.fc(out)\n",
    "        return out\n",
    "        "
   ]
  },
  {
   "cell_type": "code",
   "execution_count": 13,
   "id": "98aaf730-c684-499d-91d1-5754731fab89",
   "metadata": {},
   "outputs": [
    {
     "name": "stdout",
     "output_type": "stream",
     "text": [
      "Learning started. It takes sometime.\n",
      "[Epoch:    1] cost = 0.232505664\n",
      "[Epoch:    2] cost = 0.0636391565\n",
      "[Epoch:    3] cost = 0.0487953536\n",
      "[Epoch:    4] cost = 0.0400274061\n",
      "[Epoch:    5] cost = 0.0330952443\n",
      "[Epoch:    6] cost = 0.0283723995\n",
      "[Epoch:    7] cost = 0.0241516493\n",
      "[Epoch:    8] cost = 0.020737838\n",
      "[Epoch:    9] cost = 0.0180728938\n",
      "[Epoch:   10] cost = 0.0150964875\n",
      "[Epoch:   11] cost = 0.0124662276\n",
      "[Epoch:   12] cost = 0.0111330226\n",
      "[Epoch:   13] cost = 0.00957726501\n",
      "[Epoch:   14] cost = 0.00724629126\n",
      "[Epoch:   15] cost = 0.00840050355\n",
      "Learning Finished!\n"
     ]
    }
   ],
   "source": [
    "# instantiate CNN model\n",
    "model = CNN().to(device)\n",
    "# define cost/loss & optimizer\n",
    "criterion = torch.nn.CrossEntropyLoss().to(device)    # Softmax is internally computed.\n",
    "optimizer = torch.optim.Adam(model.parameters(), lr=learning_rate)\n",
    "# train my model\n",
    "total_batch = len(data_loader)\n",
    "print('Learning started. It takes sometime.')\n",
    "for epoch in range(training_epochs):\n",
    "    avg_cost = 0\n",
    "\n",
    "    for X, Y in data_loader:\n",
    "        # image is already size of (28x28), no reshape\n",
    "        # label is not one-hot encoded\n",
    "        X = X.to(device)\n",
    "        Y = Y.to(device)\n",
    "\n",
    "        optimizer.zero_grad()\n",
    "        hypothesis = model(X)\n",
    "        cost = criterion(hypothesis, Y)\n",
    "        cost.backward()\n",
    "        optimizer.step()\n",
    "\n",
    "        avg_cost += cost / total_batch\n",
    "\n",
    "    print('[Epoch: {:>4}] cost = {:>.9}'.format(epoch + 1, avg_cost))\n",
    "\n",
    "print('Learning Finished!')"
   ]
  },
  {
   "cell_type": "code",
   "execution_count": 14,
   "id": "6bf18ef2-bee3-425c-9281-5043fc527fd0",
   "metadata": {},
   "outputs": [
    {
     "name": "stdout",
     "output_type": "stream",
     "text": [
      "Accuracy: 0.9896000027656555\n"
     ]
    },
    {
     "name": "stderr",
     "output_type": "stream",
     "text": [
      "/root/miniconda3/lib/python3.8/site-packages/torchvision/datasets/mnist.py:63: UserWarning: test_data has been renamed data\n",
      "  warnings.warn(\"test_data has been renamed data\")\n",
      "/root/miniconda3/lib/python3.8/site-packages/torchvision/datasets/mnist.py:53: UserWarning: test_labels has been renamed targets\n",
      "  warnings.warn(\"test_labels has been renamed targets\")\n"
     ]
    }
   ],
   "source": [
    "# Test model and check accuracy\n",
    "with torch.no_grad():\n",
    "    X_test = mnist_test.test_data.view(len(mnist_test), 1, 28, 28).float().to(device)\n",
    "    Y_test = mnist_test.test_labels.to(device)\n",
    "\n",
    "    prediction = model(X_test)\n",
    "    correct_prediction = torch.argmax(prediction, 1) == Y_test\n",
    "    accuracy = correct_prediction.float().mean()\n",
    "    print('Accuracy:', accuracy.item())"
   ]
  },
  {
   "cell_type": "code",
   "execution_count": null,
   "id": "c9c05628-2d10-40c0-b642-4954bf61000e",
   "metadata": {},
   "outputs": [],
   "source": [
    "\n",
    "\n",
    "import torch\n",
    "import torch.nn as nn\n",
    "import torch.optim as optim\n",
    "import torchvision.datasets as datasets\n",
    "import torchvision.transforms as transforms\n",
    "import random\n",
    "import warnings\n",
    "warnings.filterwarnings(\"ignore\")\n",
    "\n",
    "# 种子\n",
    "random.seed(1)\n",
    "torch.manual_seed(1)\n",
    "device='cuda' if torch.cuda.is_available() else 'cpu'\n",
    "if device=='cuda':\n",
    "    torch.cuda.manual_seed_all(1)\n",
    "\n",
    "#设置\n",
    "epochs=20\n",
    "batch_size=100\n",
    "# 数据\n",
    "trains=datasets.MNIST(root='data',train=True,download=True,transform=transforms.ToTensor())\n",
    "tests=datasets.MNIST(root='data',train=False,download=True,transform=transforms.ToTensor())\n",
    "\n",
    "# 打包\n",
    "data_loader=torch.utils.data.DataLoader(dataset=trains,batch_size=batch_size,drop_last=True,shuffle=True)\n",
    "# model\n",
    "class CNN(nn.Module):\n",
    "    def __init__(self):\n",
    "        super().__init__()\n",
    "        # batch_size 28x28x1\n",
    "        self.layer1=nn.Sequential(nn.Conv2d(1,32,stride=1,padding=1,kernel_size=3), # 28-3+2/1+1\n",
    "                                  nn.ReLU(),\n",
    "                                  nn.MaxPool2d(kernel_size=2,padding=0,stride=2)  #28-2/2+1\n",
    "                                  )\n",
    "        self.layer2=nn.Sequential(nn.Conv2d(32,64,stride=1,padding=1,kernel_size=3),\n",
    "                                  nn.ReLU(),\n",
    "                                  nn.MaxPool2d(kernel_size=2,padding=0,stride=2)\n",
    "                                  )\n",
    "        self.fc=nn.Linear(7*7*64,10,bias=True)\n",
    "        torch.nn.init.xavier_normal_(self.fc.weight)\n",
    "    def forward(self,x):\n",
    "        out=self.layer1(x)\n",
    "        out=self.layer2(x)\n",
    "        out = out.view(out.size(0), -1)\n",
    "        out=self.fc(out)\n",
    "        return out\n",
    "model=CNN().to(device)\n",
    "# 优化器\n",
    "criterion = torch.nn.CrossEntropyLoss().to(device)\n",
    "optimizer=optim.Adam(model.parameters(),lr=0.1)\n",
    "model.train()\n",
    "total_batch=len(data_loader)\n",
    "for step in range(epochs+1):\n",
    "    avg_loss=0\n",
    "    for X,Y in data_loader:\n",
    "        X=X.to(device)\n",
    "        Y=Y.to(device)\n",
    "        Y_pred=model(X)\n",
    "        loss=criterion(Y_pred,Y)\n",
    "        optimizer.zero_grad()\n",
    "        loss.backward()\n",
    "        optimizer.step()\n",
    "        avg_loss=loss/total_batch\n",
    "    print(\"[epochs: {:>4}], loss= {:>6}\".format(epochs,avg_loss.item()))\n",
    "\n",
    "model.eval()\n",
    "with torch.no_grad():\n",
    "    X=tests.test_data.view(len(tests),1,28,28).to(device)\n",
    "    Y=tests.train_labels.to(device)\n",
    "    Y_pred=model(X)\n",
    "    # corr=(Y_pred>=0.5).float()\n",
    "    acc=(torch.argmax(Y_pred,1)==Y).float().mean()\n",
    "    # acc= (corr==Y).float().mean()\n",
    "    print(acc)"
   ]
  },
  {
   "cell_type": "code",
   "execution_count": 1,
   "id": "47fbbf45-ae64-42a6-8dd6-72ef5e08c874",
   "metadata": {},
   "outputs": [],
   "source": [
    "#CNN\n",
    "import torch\n",
    "import torch.nn as nn\n",
    "import torch.optim as optim\n",
    "import torchvision.datasets as datasets\n",
    "import torchvision.transforms as transforms\n",
    "import random\n",
    "import warnings\n",
    "warnings.filterwarnings('ignore')\n",
    "# \n",
    "random.seed(1)\n",
    "torch.manual_seed(1)\n",
    "device='cuda' if torch.cuda.is_available() else 'cpu'\n",
    "if device=='cuda':\n",
    "    torch.cuda.manual_seed_all(7)"
   ]
  },
  {
   "cell_type": "code",
   "execution_count": 2,
   "id": "71177e92-2efa-4f70-b620-c568b973af07",
   "metadata": {},
   "outputs": [],
   "source": [
    "# download data\n",
    "trains=datasets.MNIST(root='data',train=True,transform=transforms.ToTensor(),download=True)\n",
    "tests=datasets.MNIST(root='data',train=False,transform=transforms.ToTensor(),download=True)"
   ]
  },
  {
   "cell_type": "code",
   "execution_count": 3,
   "id": "c45e8042-287e-404c-8786-9800e3fe1ddc",
   "metadata": {},
   "outputs": [],
   "source": [
    "# dataloader\n",
    "data_loader=torch.utils.data.DataLoader(dataset=trains,shuffle=True,drop_last=True,batch_size=1000)"
   ]
  },
  {
   "cell_type": "code",
   "execution_count": 7,
   "id": "14fce4fd-573c-4442-94d2-d836c583a870",
   "metadata": {},
   "outputs": [
    {
     "data": {
      "text/plain": [
       "torch.Size([1000, 1, 28, 28])"
      ]
     },
     "execution_count": 7,
     "metadata": {},
     "output_type": "execute_result"
    }
   ],
   "source": [
    "next(iter(data_loader))[0].shape"
   ]
  },
  {
   "cell_type": "code",
   "execution_count": 8,
   "id": "90cd95b2-28ff-4fd9-8ac1-3e5f67093ec0",
   "metadata": {},
   "outputs": [
    {
     "data": {
      "text/plain": [
       "torch.Size([1000])"
      ]
     },
     "execution_count": 8,
     "metadata": {},
     "output_type": "execute_result"
    }
   ],
   "source": [
    "next(iter(data_loader))[1].shape # y"
   ]
  },
  {
   "cell_type": "code",
   "execution_count": 16,
   "id": "40561f5f-14f1-4ad4-b939-6fee97fbca04",
   "metadata": {},
   "outputs": [],
   "source": [
    "#model\n",
    "class Cnn(nn.Module):\n",
    "    def __init__(self):\n",
    "        super().__init__()\n",
    "        self.layer1=nn.Sequential(\n",
    "            nn.Conv2d(1,32,kernel_size=3,stride=1,padding=1),           # 28-3+2p/1+1  ? 32 28*28\n",
    "            nn.ReLU(),\n",
    "            nn.MaxPool2d(stride=2,padding=0,kernel_size=2)  # 28-k/2+1 14   ? 32 14*14\n",
    "        )\n",
    "        self.layer2=nn.Sequential(\n",
    "        nn.Conv2d(32,64,kernel_size=3,stride=1,padding=1),\n",
    "        nn.ReLU(),\n",
    "        nn.MaxPool2d(kernel_size=2,stride=2,padding=0)  #?  64 7*7 14-2/2+1   ? 64, 7,7\n",
    "        )\n",
    "        self.fc1=nn.Linear(64*7*7,128,bias=True)\n",
    "        self.fc2=nn.Linear(128,10,bias=True)\n",
    "        torch.nn.init.xavier_normal_(self.fc1.weight)\n",
    "        torch.nn.init.xavier_normal_(self.fc2.weight)\n",
    "        self.relu=nn.ReLU()\n",
    "    def forward(self,x):\n",
    "        out=self.layer1(x)\n",
    "        out=self.layer2(out)#? 64, 7,7\n",
    "        out=out.view(-1,64*7*7)\n",
    "        out=self.fc1(out)\n",
    "        out=self.relu(out)\n",
    "        out=self.fc2(out)\n",
    "        return out"
   ]
  },
  {
   "cell_type": "code",
   "execution_count": 17,
   "id": "f6dd3830-bb95-43f9-85f3-b203804e1717",
   "metadata": {},
   "outputs": [],
   "source": [
    "model=Cnn().to(device)"
   ]
  },
  {
   "cell_type": "code",
   "execution_count": 18,
   "id": "de20a523-94df-4144-a4dd-645f5aa1d6fc",
   "metadata": {},
   "outputs": [
    {
     "data": {
      "text/plain": [
       "Cnn(\n",
       "  (layer1): Sequential(\n",
       "    (0): Conv2d(1, 32, kernel_size=(3, 3), stride=(1, 1), padding=(1, 1))\n",
       "    (1): ReLU()\n",
       "    (2): MaxPool2d(kernel_size=2, stride=2, padding=0, dilation=1, ceil_mode=False)\n",
       "  )\n",
       "  (layer2): Sequential(\n",
       "    (0): Conv2d(32, 64, kernel_size=(3, 3), stride=(1, 1), padding=(1, 1))\n",
       "    (1): ReLU()\n",
       "    (2): MaxPool2d(kernel_size=2, stride=2, padding=0, dilation=1, ceil_mode=False)\n",
       "  )\n",
       "  (fc1): Linear(in_features=3136, out_features=128, bias=True)\n",
       "  (fc2): Linear(in_features=128, out_features=10, bias=True)\n",
       "  (relu): ReLU()\n",
       ")"
      ]
     },
     "execution_count": 18,
     "metadata": {},
     "output_type": "execute_result"
    }
   ],
   "source": [
    "model"
   ]
  },
  {
   "cell_type": "code",
   "execution_count": 19,
   "id": "54f5329f-e331-4d4d-be9a-d5335c30383f",
   "metadata": {},
   "outputs": [],
   "source": [
    "# \n",
    "criterion=nn.CrossEntropyLoss().to(device)\n",
    "optimizer=optim.Adam(model.parameters(),lr=0.01)"
   ]
  },
  {
   "cell_type": "code",
   "execution_count": 20,
   "id": "f8b32109-4de8-48eb-ab37-e8e3fedbbb3c",
   "metadata": {},
   "outputs": [
    {
     "name": "stdout",
     "output_type": "stream",
     "text": [
      "[epcohs:    0] loss= 0.001648039324209094\n",
      "[epcohs:    1] loss= 0.0010754335671663284\n",
      "[epcohs:    2] loss= 0.000914833159185946\n",
      "[epcohs:    3] loss= 0.0007333779940381646\n",
      "[epcohs:    4] loss= 0.000665927364025265\n",
      "[epcohs:    5] loss= 0.00047612254275009036\n",
      "[epcohs:    6] loss= 0.00027294052415527403\n",
      "[epcohs:    7] loss= 0.000451659900136292\n",
      "[epcohs:    8] loss= 0.0004184455028735101\n",
      "[epcohs:    9] loss= 0.00035330469836480916\n",
      "[epcohs:   10] loss= 0.00015084743790794164\n",
      "[epcohs:   11] loss= 0.00019414607959333807\n",
      "[epcohs:   12] loss= 0.00018826115410774946\n",
      "[epcohs:   13] loss= 0.00019428365339990705\n",
      "[epcohs:   14] loss= 0.00010645194561220706\n",
      "[epcohs:   15] loss= 0.0001480443315813318\n",
      "[epcohs:   16] loss= 0.00024270740686915815\n",
      "[epcohs:   17] loss= 0.00020266477076802403\n",
      "[epcohs:   18] loss= 0.00016788770153652877\n",
      "[epcohs:   19] loss= 4.534313848125748e-05\n"
     ]
    }
   ],
   "source": [
    "total_batch=len(data_loader)\n",
    "epochs=20\n",
    "model.train()\n",
    "for step in range(epochs):\n",
    "    avg_loss=0\n",
    "    for X,Y in data_loader:\n",
    "        X=X.to(device)\n",
    "        Y=Y.to(device)\n",
    "        Y_pred=model(X)\n",
    "        loss=criterion(Y_pred,Y)\n",
    "        optimizer.zero_grad()\n",
    "        loss.backward()\n",
    "        optimizer.step()\n",
    "        avg_loss=loss/total_batch\n",
    "    print(\"[epcohs: {:>4}] loss= {:>7}\".format(step,avg_loss))"
   ]
  },
  {
   "cell_type": "code",
   "execution_count": 21,
   "id": "b40f94ad-4b50-4e4e-bd4b-32b83322ef2f",
   "metadata": {},
   "outputs": [
    {
     "data": {
      "text/plain": [
       "torch.Size([1, 28, 28])"
      ]
     },
     "execution_count": 21,
     "metadata": {},
     "output_type": "execute_result"
    }
   ],
   "source": [
    "next(iter(tests))[0].shape"
   ]
  },
  {
   "cell_type": "code",
   "execution_count": 22,
   "id": "5dc53975-37fa-4525-b5e6-7677e3b05c35",
   "metadata": {},
   "outputs": [
    {
     "data": {
      "text/plain": [
       "torch.Size([10000, 28, 28])"
      ]
     },
     "execution_count": 22,
     "metadata": {},
     "output_type": "execute_result"
    }
   ],
   "source": [
    "tests.test_data.shape"
   ]
  },
  {
   "cell_type": "code",
   "execution_count": 23,
   "id": "ed0747e9-f371-420f-8953-badf5531bb6f",
   "metadata": {},
   "outputs": [
    {
     "data": {
      "text/plain": [
       "10000"
      ]
     },
     "execution_count": 23,
     "metadata": {},
     "output_type": "execute_result"
    }
   ],
   "source": [
    "len(tests)"
   ]
  },
  {
   "cell_type": "code",
   "execution_count": 25,
   "id": "8f867cc2-753e-4d31-986e-5d2e7ea5d0e4",
   "metadata": {},
   "outputs": [
    {
     "name": "stdout",
     "output_type": "stream",
     "text": [
      "tensor(0.9864, device='cuda:0')\n"
     ]
    }
   ],
   "source": [
    "batch_test=len(tests)\n",
    "model.eval()\n",
    "with torch.no_grad():\n",
    "    X_=tests.test_data.view(batch_test,1,28,28).float().to(device)\n",
    "    Y_=tests.test_labels.to(device)\n",
    "    Y_pred=model(X_)\n",
    "    acc=(torch.argmax(Y_pred,1)==Y_).float().mean()\n",
    "    print(acc)"
   ]
  },
  {
   "cell_type": "code",
   "execution_count": 26,
   "id": "6179fd34-0582-4d87-a231-31c0dfc56635",
   "metadata": {},
   "outputs": [
    {
     "name": "stderr",
     "output_type": "stream",
     "text": [
      "Setting up a new session...\n"
     ]
    }
   ],
   "source": [
    "import visdom\n",
    "vis = visdom.Visdom()"
   ]
  },
  {
   "cell_type": "code",
   "execution_count": 27,
   "id": "5b77c740-3390-45d8-bae2-b42bcd53ab0e",
   "metadata": {},
   "outputs": [
    {
     "data": {
      "text/plain": [
       "'window_3bdf56127ec704'"
      ]
     },
     "execution_count": 27,
     "metadata": {},
     "output_type": "execute_result"
    }
   ],
   "source": [
    "vis.text(\"Hello, world!\",env=\"main\")"
   ]
  },
  {
   "cell_type": "code",
   "execution_count": 28,
   "id": "af3f18ca-948e-4811-b348-f369d832f1f9",
   "metadata": {},
   "outputs": [
    {
     "data": {
      "text/plain": [
       "'window_3bdf56165ea270'"
      ]
     },
     "execution_count": 28,
     "metadata": {},
     "output_type": "execute_result"
    }
   ],
   "source": [
    "vis.text(\"Hello, world!\",env=\"main\")"
   ]
  },
  {
   "cell_type": "code",
   "execution_count": null,
   "id": "efe3737d-8ea1-4852-9fd4-459e7e9ff6f7",
   "metadata": {},
   "outputs": [],
   "source": []
  }
 ],
 "metadata": {
  "kernelspec": {
   "display_name": "Python 3 (ipykernel)",
   "language": "python",
   "name": "python3"
  },
  "language_info": {
   "codemirror_mode": {
    "name": "ipython",
    "version": 3
   },
   "file_extension": ".py",
   "mimetype": "text/x-python",
   "name": "python",
   "nbconvert_exporter": "python",
   "pygments_lexer": "ipython3",
   "version": "3.8.10"
  }
 },
 "nbformat": 4,
 "nbformat_minor": 5
}
