{
 "cells": [
  {
   "cell_type": "code",
   "execution_count": 1,
   "id": "15e75afe-e693-47d7-8fb5-5e28bae3f257",
   "metadata": {},
   "outputs": [],
   "source": [
    "import torch\n",
    "import numpy as np"
   ]
  },
  {
   "cell_type": "code",
   "execution_count": 2,
   "id": "e11f9c36-8716-4186-b183-e92031d5cd1b",
   "metadata": {},
   "outputs": [
    {
     "data": {
      "text/plain": [
       "array([0., 1., 2., 3., 4., 5., 6.])"
      ]
     },
     "execution_count": 2,
     "metadata": {},
     "output_type": "execute_result"
    }
   ],
   "source": [
    "t=np.array([0.,1.,2.,3.,4.,5.,6.])\n",
    "t"
   ]
  },
  {
   "cell_type": "code",
   "execution_count": 3,
   "id": "94317180-8b30-4ab4-ad7b-9dcff3e8ea5e",
   "metadata": {},
   "outputs": [
    {
     "data": {
      "text/plain": [
       "1"
      ]
     },
     "execution_count": 3,
     "metadata": {},
     "output_type": "execute_result"
    }
   ],
   "source": [
    "t.ndim"
   ]
  },
  {
   "cell_type": "code",
   "execution_count": 4,
   "id": "4174ff33-99f0-49f0-ba81-87b73b295b47",
   "metadata": {},
   "outputs": [
    {
     "data": {
      "text/plain": [
       "(7,)"
      ]
     },
     "execution_count": 4,
     "metadata": {},
     "output_type": "execute_result"
    }
   ],
   "source": [
    "t.shape"
   ]
  },
  {
   "cell_type": "code",
   "execution_count": 5,
   "id": "11db1de4-82e8-4b14-b825-dfe5635d9e0c",
   "metadata": {},
   "outputs": [
    {
     "data": {
      "text/plain": [
       "(0.0, 1.0, 6.0)"
      ]
     },
     "execution_count": 5,
     "metadata": {},
     "output_type": "execute_result"
    }
   ],
   "source": [
    "t[0],t[1],t[-1]"
   ]
  },
  {
   "cell_type": "code",
   "execution_count": 6,
   "id": "51f96cc7-6742-41d3-8d42-dbd9402029af",
   "metadata": {},
   "outputs": [
    {
     "data": {
      "text/plain": [
       "array([2., 3., 4.])"
      ]
     },
     "execution_count": 6,
     "metadata": {},
     "output_type": "execute_result"
    }
   ],
   "source": [
    "t[2:5]"
   ]
  },
  {
   "cell_type": "code",
   "execution_count": 7,
   "id": "debf97b4-fdb0-465a-83bf-31fe8d2347d5",
   "metadata": {},
   "outputs": [
    {
     "data": {
      "text/plain": [
       "array([0., 1.])"
      ]
     },
     "execution_count": 7,
     "metadata": {},
     "output_type": "execute_result"
    }
   ],
   "source": [
    "t[:2]"
   ]
  },
  {
   "cell_type": "code",
   "execution_count": 8,
   "id": "98eeffe5-b693-44ac-a0be-adb6509f27bd",
   "metadata": {},
   "outputs": [
    {
     "data": {
      "text/plain": [
       "array([3., 4., 5., 6.])"
      ]
     },
     "execution_count": 8,
     "metadata": {},
     "output_type": "execute_result"
    }
   ],
   "source": [
    "t[3:]"
   ]
  },
  {
   "cell_type": "code",
   "execution_count": 9,
   "id": "ef3d683c-6f88-401f-a8f7-f7c5550f0047",
   "metadata": {},
   "outputs": [
    {
     "data": {
      "text/plain": [
       "array([0., 1., 2., 3., 4., 5., 6.])"
      ]
     },
     "execution_count": 9,
     "metadata": {},
     "output_type": "execute_result"
    }
   ],
   "source": [
    "t"
   ]
  },
  {
   "cell_type": "code",
   "execution_count": 10,
   "id": "6555bff5-cab6-4d22-a805-84278ca1e553",
   "metadata": {},
   "outputs": [
    {
     "data": {
      "text/plain": [
       "array([2., 3., 4., 5., 6.])"
      ]
     },
     "execution_count": 10,
     "metadata": {},
     "output_type": "execute_result"
    }
   ],
   "source": [
    "t[2:]"
   ]
  },
  {
   "cell_type": "code",
   "execution_count": 11,
   "id": "ade30b8f-bbc4-4b92-82f2-900bb0b35c0d",
   "metadata": {},
   "outputs": [
    {
     "data": {
      "text/plain": [
       "array([0., 1., 2.])"
      ]
     },
     "execution_count": 11,
     "metadata": {},
     "output_type": "execute_result"
    }
   ],
   "source": [
    "t[:3]"
   ]
  },
  {
   "cell_type": "markdown",
   "id": "62dad3c0-f1c2-4f7d-a572-2b1eba54d561",
   "metadata": {},
   "source": [
    "### 2D Array with NumPy"
   ]
  },
  {
   "cell_type": "code",
   "execution_count": 12,
   "id": "4807555d-2f5c-4479-8999-3cd0f2922bd4",
   "metadata": {},
   "outputs": [],
   "source": [
    "t=np.array([[1,2,3],[4,5,6],[7,8,9]])"
   ]
  },
  {
   "cell_type": "code",
   "execution_count": 13,
   "id": "95f4af46-c3c2-4873-bce8-2d293981929e",
   "metadata": {},
   "outputs": [
    {
     "data": {
      "text/plain": [
       "array([[1, 2, 3],\n",
       "       [4, 5, 6],\n",
       "       [7, 8, 9]])"
      ]
     },
     "execution_count": 13,
     "metadata": {},
     "output_type": "execute_result"
    }
   ],
   "source": [
    "t"
   ]
  },
  {
   "cell_type": "code",
   "execution_count": 14,
   "id": "b0827bc2-18e1-43d0-aa36-12f3b732af1a",
   "metadata": {},
   "outputs": [
    {
     "data": {
      "text/plain": [
       "2"
      ]
     },
     "execution_count": 14,
     "metadata": {},
     "output_type": "execute_result"
    }
   ],
   "source": [
    "t.ndim"
   ]
  },
  {
   "cell_type": "code",
   "execution_count": 16,
   "id": "7b7dd578-0299-4e67-9aa4-82f86df443c1",
   "metadata": {},
   "outputs": [
    {
     "data": {
      "text/plain": [
       "(3, 3)"
      ]
     },
     "execution_count": 16,
     "metadata": {},
     "output_type": "execute_result"
    }
   ],
   "source": [
    "t.shape"
   ]
  },
  {
   "cell_type": "markdown",
   "id": "1bfa0379-e89b-407c-b260-17e4a65c81b5",
   "metadata": {},
   "source": [
    "## PyTorch is like NumPy (but better)"
   ]
  },
  {
   "cell_type": "markdown",
   "id": "3405171d-576e-41ed-99b7-7880c850f987",
   "metadata": {},
   "source": [
    "#### 1D Array with PyTorch"
   ]
  },
  {
   "cell_type": "code",
   "execution_count": 17,
   "id": "86b96f9c-44ec-4ba9-9916-dd7209b65d4b",
   "metadata": {},
   "outputs": [
    {
     "data": {
      "text/plain": [
       "tensor([0., 1., 2., 3., 4., 5., 6.])"
      ]
     },
     "execution_count": 17,
     "metadata": {},
     "output_type": "execute_result"
    }
   ],
   "source": [
    "t=torch.FloatTensor([0,1,2,3,4,5,6])\n",
    "t"
   ]
  },
  {
   "cell_type": "code",
   "execution_count": 18,
   "id": "31459510-f7cb-4f1f-b5ee-fa598590c5ed",
   "metadata": {},
   "outputs": [
    {
     "data": {
      "text/plain": [
       "1"
      ]
     },
     "execution_count": 18,
     "metadata": {},
     "output_type": "execute_result"
    }
   ],
   "source": [
    "t.dim()"
   ]
  },
  {
   "cell_type": "code",
   "execution_count": 19,
   "id": "a4e5338c-279a-467b-83f2-f6bb96366366",
   "metadata": {},
   "outputs": [
    {
     "data": {
      "text/plain": [
       "torch.Size([7])"
      ]
     },
     "execution_count": 19,
     "metadata": {},
     "output_type": "execute_result"
    }
   ],
   "source": [
    "t.shape"
   ]
  },
  {
   "cell_type": "code",
   "execution_count": 20,
   "id": "8fb7acb0-b33d-4f42-9a08-c64777aef7ca",
   "metadata": {},
   "outputs": [
    {
     "data": {
      "text/plain": [
       "torch.Size([7])"
      ]
     },
     "execution_count": 20,
     "metadata": {},
     "output_type": "execute_result"
    }
   ],
   "source": [
    "t.size()"
   ]
  },
  {
   "cell_type": "code",
   "execution_count": 21,
   "id": "1f70fb83-bbd1-4b6a-b7a4-65d086c4ffb8",
   "metadata": {},
   "outputs": [
    {
     "data": {
      "text/plain": [
       "(tensor(0.), tensor(2.), tensor(6.))"
      ]
     },
     "execution_count": 21,
     "metadata": {},
     "output_type": "execute_result"
    }
   ],
   "source": [
    "t[0],t[2],t[-1]"
   ]
  },
  {
   "cell_type": "code",
   "execution_count": 22,
   "id": "6dc2b389-c79a-4004-87a6-852e73510814",
   "metadata": {},
   "outputs": [
    {
     "data": {
      "text/plain": [
       "(tensor([2., 3., 4.]), tensor([1., 2., 3., 4., 5., 6.]))"
      ]
     },
     "execution_count": 22,
     "metadata": {},
     "output_type": "execute_result"
    }
   ],
   "source": [
    "t[2:5] ,t[1:]"
   ]
  },
  {
   "cell_type": "code",
   "execution_count": 27,
   "id": "df2a1baf-8f79-4a87-9b1d-77a1f008b670",
   "metadata": {},
   "outputs": [
    {
     "data": {
      "text/plain": [
       "tensor([4., 5.])"
      ]
     },
     "execution_count": 27,
     "metadata": {},
     "output_type": "execute_result"
    }
   ],
   "source": [
    "t[4:-1]\n"
   ]
  },
  {
   "cell_type": "code",
   "execution_count": 26,
   "id": "97e21345-4d32-4e5f-b6f1-cfbea35f67e2",
   "metadata": {},
   "outputs": [
    {
     "data": {
      "text/plain": [
       "tensor([0., 1., 2., 3., 4., 5., 6.])"
      ]
     },
     "execution_count": 26,
     "metadata": {},
     "output_type": "execute_result"
    }
   ],
   "source": [
    "t"
   ]
  },
  {
   "cell_type": "markdown",
   "id": "264a9b95-ae9a-48ad-8828-0a7a2cea6de5",
   "metadata": {
    "slideshow": {
     "slide_type": "slide"
    },
    "tags": []
   },
   "source": [
    "### 2D Array with PyTorch"
   ]
  },
  {
   "cell_type": "code",
   "execution_count": 28,
   "id": "392177f4-265d-4ceb-8cd3-04f5fd06a207",
   "metadata": {},
   "outputs": [],
   "source": [
    "t=torch.FloatTensor([[1,2,3],[4,5,6],[7,8,9]])"
   ]
  },
  {
   "cell_type": "code",
   "execution_count": 29,
   "id": "333b964d-6999-4cd5-a7c8-38148165d3f9",
   "metadata": {},
   "outputs": [
    {
     "data": {
      "text/plain": [
       "tensor([[1., 2., 3.],\n",
       "        [4., 5., 6.],\n",
       "        [7., 8., 9.]])"
      ]
     },
     "execution_count": 29,
     "metadata": {},
     "output_type": "execute_result"
    }
   ],
   "source": [
    "t"
   ]
  },
  {
   "cell_type": "code",
   "execution_count": 31,
   "id": "70ed1a70-c055-414b-89e6-0940ad87b40b",
   "metadata": {},
   "outputs": [
    {
     "data": {
      "text/plain": [
       "(2, torch.Size([3, 3]), torch.Size([3, 3]))"
      ]
     },
     "execution_count": 31,
     "metadata": {},
     "output_type": "execute_result"
    }
   ],
   "source": [
    "t.dim(),t.size(), t.shape"
   ]
  },
  {
   "cell_type": "code",
   "execution_count": 32,
   "id": "af52a98b-e9c3-4b60-88e4-162ed31d56e9",
   "metadata": {},
   "outputs": [
    {
     "data": {
      "text/plain": [
       "tensor([2., 5., 8.])"
      ]
     },
     "execution_count": 32,
     "metadata": {},
     "output_type": "execute_result"
    }
   ],
   "source": [
    "t[:,1]"
   ]
  },
  {
   "cell_type": "code",
   "execution_count": 35,
   "id": "66b93c3e-967a-4765-ae2b-72a7c0bbc52b",
   "metadata": {},
   "outputs": [
    {
     "data": {
      "text/plain": [
       "tensor([1., 4., 7.])"
      ]
     },
     "execution_count": 35,
     "metadata": {},
     "output_type": "execute_result"
    }
   ],
   "source": [
    "t[:,0]"
   ]
  },
  {
   "cell_type": "code",
   "execution_count": 36,
   "id": "f859b526-4168-4b9c-9d80-eba2d2b53d81",
   "metadata": {},
   "outputs": [
    {
     "data": {
      "text/plain": [
       "tensor([[1., 2., 3.],\n",
       "        [4., 5., 6.],\n",
       "        [7., 8., 9.]])"
      ]
     },
     "execution_count": 36,
     "metadata": {},
     "output_type": "execute_result"
    }
   ],
   "source": [
    "t"
   ]
  },
  {
   "cell_type": "code",
   "execution_count": 37,
   "id": "ce03d861-0b42-4709-886a-41f1c91a1a38",
   "metadata": {},
   "outputs": [
    {
     "data": {
      "text/plain": [
       "tensor([2., 5., 8.])"
      ]
     },
     "execution_count": 37,
     "metadata": {},
     "output_type": "execute_result"
    }
   ],
   "source": [
    "t[:,1]"
   ]
  },
  {
   "cell_type": "code",
   "execution_count": 38,
   "id": "5fdcf17b-2587-4571-820b-ad256101bc79",
   "metadata": {},
   "outputs": [
    {
     "data": {
      "text/plain": [
       "torch.Size([3])"
      ]
     },
     "execution_count": 38,
     "metadata": {},
     "output_type": "execute_result"
    }
   ],
   "source": [
    "t[:,1].size()"
   ]
  },
  {
   "cell_type": "code",
   "execution_count": 39,
   "id": "9fb08ce2-9285-4e77-91de-d6a66b0ac142",
   "metadata": {},
   "outputs": [
    {
     "data": {
      "text/plain": [
       "tensor([1., 4., 7.])"
      ]
     },
     "execution_count": 39,
     "metadata": {},
     "output_type": "execute_result"
    }
   ],
   "source": [
    "t[:,0]"
   ]
  },
  {
   "cell_type": "code",
   "execution_count": 41,
   "id": "b88a3223-68dc-4972-8186-587ec49b4997",
   "metadata": {},
   "outputs": [
    {
     "data": {
      "text/plain": [
       "torch.Size([3, 3])"
      ]
     },
     "execution_count": 41,
     "metadata": {},
     "output_type": "execute_result"
    }
   ],
   "source": [
    "t.shape"
   ]
  },
  {
   "cell_type": "code",
   "execution_count": 42,
   "id": "37aa5062-6064-4ae8-8b03-eda6f2ee03cf",
   "metadata": {},
   "outputs": [
    {
     "data": {
      "text/plain": [
       "tensor([[2., 3.],\n",
       "        [5., 6.],\n",
       "        [8., 9.]])"
      ]
     },
     "execution_count": 42,
     "metadata": {},
     "output_type": "execute_result"
    }
   ],
   "source": [
    "t[:,1:]"
   ]
  },
  {
   "cell_type": "code",
   "execution_count": 43,
   "id": "8d5f4993-724f-4f15-909d-069bf81a5f36",
   "metadata": {},
   "outputs": [
    {
     "data": {
      "text/plain": [
       "tensor([[1., 2.],\n",
       "        [4., 5.],\n",
       "        [7., 8.]])"
      ]
     },
     "execution_count": 43,
     "metadata": {},
     "output_type": "execute_result"
    }
   ],
   "source": [
    "t[:,:-1]"
   ]
  },
  {
   "cell_type": "markdown",
   "id": "af0f47e3-cc8c-4c5e-9f4e-f7030e14ab59",
   "metadata": {},
   "source": [
    "### Shape,Rank ,Axis"
   ]
  },
  {
   "cell_type": "code",
   "execution_count": 44,
   "id": "ae9ca51a-e192-4af2-a908-0086b7b0cdf7",
   "metadata": {},
   "outputs": [],
   "source": [
    "t=torch.FloatTensor([[[1,2,3,4],[5,6,7,8],[9,10,11,12]],\n",
    "                     [[13,14,15,16],[17,18,19,20],[21,22,23,24]]\n",
    "                    \n",
    "                    ])"
   ]
  },
  {
   "cell_type": "code",
   "execution_count": 46,
   "id": "747404d7-5fd4-42f2-b0ce-f8dd849ba3ea",
   "metadata": {},
   "outputs": [],
   "source": [
    "t1 = torch.FloatTensor([[[[1, 2, 3, 4],\n",
    "                         [5, 6, 7, 8],\n",
    "                         [9, 10, 11, 12]],\n",
    "                       [[13, 14, 15, 16],\n",
    "                        [17, 18, 19, 20],\n",
    "                        [21, 22, 23, 24]]\n",
    "                       ]])"
   ]
  },
  {
   "cell_type": "code",
   "execution_count": 47,
   "id": "f503a04f-2972-4d4b-ab58-1ea6ce7008c3",
   "metadata": {},
   "outputs": [
    {
     "data": {
      "text/plain": [
       "torch.Size([1, 2, 3, 4])"
      ]
     },
     "execution_count": 47,
     "metadata": {},
     "output_type": "execute_result"
    }
   ],
   "source": [
    "t1.shape"
   ]
  },
  {
   "cell_type": "code",
   "execution_count": 45,
   "id": "93049e75-332a-4a98-a025-9ce7a8317202",
   "metadata": {},
   "outputs": [
    {
     "data": {
      "text/plain": [
       "torch.Size([2, 3, 4])"
      ]
     },
     "execution_count": 45,
     "metadata": {},
     "output_type": "execute_result"
    }
   ],
   "source": [
    "t.shape"
   ]
  },
  {
   "cell_type": "code",
   "execution_count": 48,
   "id": "dc3da85e-133c-4384-90ef-82403ea3ae5c",
   "metadata": {},
   "outputs": [
    {
     "data": {
      "text/plain": [
       "4"
      ]
     },
     "execution_count": 48,
     "metadata": {},
     "output_type": "execute_result"
    }
   ],
   "source": [
    "t1.dim()"
   ]
  },
  {
   "cell_type": "code",
   "execution_count": 49,
   "id": "a194df1c-7029-417a-b924-e347d2c39126",
   "metadata": {},
   "outputs": [
    {
     "data": {
      "text/plain": [
       "torch.Size([1, 2, 3, 4])"
      ]
     },
     "execution_count": 49,
     "metadata": {},
     "output_type": "execute_result"
    }
   ],
   "source": [
    "t1.size()"
   ]
  },
  {
   "cell_type": "code",
   "execution_count": 52,
   "id": "c5eebc12-1f48-4148-b0c6-6f885bf64bf8",
   "metadata": {},
   "outputs": [
    {
     "data": {
      "text/plain": [
       "torch.Size([2, 3, 4])"
      ]
     },
     "execution_count": 52,
     "metadata": {},
     "output_type": "execute_result"
    }
   ],
   "source": [
    "t[:].shape"
   ]
  },
  {
   "cell_type": "code",
   "execution_count": 55,
   "id": "279235f2-9731-44aa-8de0-bd62b8f35df4",
   "metadata": {},
   "outputs": [
    {
     "data": {
      "text/plain": [
       "tensor([[[5., 6.]]])"
      ]
     },
     "execution_count": 55,
     "metadata": {},
     "output_type": "execute_result"
    }
   ],
   "source": [
    "t1[0:,:-1,1,:2]"
   ]
  },
  {
   "cell_type": "code",
   "execution_count": 56,
   "id": "315a3cc9-3540-48a6-8268-f6aaec06b7d9",
   "metadata": {},
   "outputs": [
    {
     "data": {
      "text/plain": [
       "tensor([[[[ 1.,  2.,  3.,  4.],\n",
       "          [ 5.,  6.,  7.,  8.],\n",
       "          [ 9., 10., 11., 12.]],\n",
       "\n",
       "         [[13., 14., 15., 16.],\n",
       "          [17., 18., 19., 20.],\n",
       "          [21., 22., 23., 24.]]]])"
      ]
     },
     "execution_count": 56,
     "metadata": {},
     "output_type": "execute_result"
    }
   ],
   "source": [
    "t1"
   ]
  },
  {
   "cell_type": "markdown",
   "id": "32949a69-e933-42d1-bca5-02af0e8f4f8c",
   "metadata": {},
   "source": [
    "### Frequently Used Operations in PyTorch"
   ]
  },
  {
   "cell_type": "code",
   "execution_count": 57,
   "id": "fd78e319-d67b-4d27-b8cf-abff021829c1",
   "metadata": {},
   "outputs": [
    {
     "name": "stdout",
     "output_type": "stream",
     "text": [
      "\n",
      "-------------\n",
      "Mul vs Matmul\n",
      "-------------\n"
     ]
    }
   ],
   "source": [
    "print()\n",
    "print('-------------')\n",
    "print('Mul vs Matmul')\n",
    "print('-------------')"
   ]
  },
  {
   "cell_type": "code",
   "execution_count": 58,
   "id": "5097865d-5fed-43a5-90c6-7caa2619c159",
   "metadata": {},
   "outputs": [],
   "source": [
    "m1=torch.FloatTensor([[1,2],[3,4]])"
   ]
  },
  {
   "cell_type": "code",
   "execution_count": 59,
   "id": "1b1b14b0-df80-4b07-bc3d-2165490c73ac",
   "metadata": {},
   "outputs": [
    {
     "data": {
      "text/plain": [
       "tensor([[1., 2.],\n",
       "        [3., 4.]])"
      ]
     },
     "execution_count": 59,
     "metadata": {},
     "output_type": "execute_result"
    }
   ],
   "source": [
    "m1"
   ]
  },
  {
   "cell_type": "code",
   "execution_count": 63,
   "id": "f10b25d8-2553-4f84-813f-50797027484e",
   "metadata": {},
   "outputs": [
    {
     "data": {
      "text/plain": [
       "torch.Size([2, 2])"
      ]
     },
     "execution_count": 63,
     "metadata": {},
     "output_type": "execute_result"
    }
   ],
   "source": [
    "m1.shape"
   ]
  },
  {
   "cell_type": "code",
   "execution_count": 60,
   "id": "51b7007c-7948-4aa6-ad8e-2ce4bad9b955",
   "metadata": {},
   "outputs": [],
   "source": [
    "m2=torch.FloatTensor([[1],[2]])"
   ]
  },
  {
   "cell_type": "code",
   "execution_count": 64,
   "id": "54c04d9c-3c4b-4480-8696-0ed87919dca7",
   "metadata": {},
   "outputs": [
    {
     "data": {
      "text/plain": [
       "torch.Size([2, 1])"
      ]
     },
     "execution_count": 64,
     "metadata": {},
     "output_type": "execute_result"
    }
   ],
   "source": [
    "m2.shape"
   ]
  },
  {
   "cell_type": "code",
   "execution_count": 65,
   "id": "892383ec-7710-4da6-8664-62c495c64b89",
   "metadata": {},
   "outputs": [
    {
     "data": {
      "text/plain": [
       "tensor([[ 5.],\n",
       "        [11.]])"
      ]
     },
     "execution_count": 65,
     "metadata": {},
     "output_type": "execute_result"
    }
   ],
   "source": [
    "m1.matmul(m2)"
   ]
  },
  {
   "cell_type": "code",
   "execution_count": 66,
   "id": "18bd799f-d81b-4ce6-b2de-39648f02b764",
   "metadata": {},
   "outputs": [],
   "source": [
    "m1=torch.FloatTensor([[1,2],[3,4]])\n",
    "m2=torch.FloatTensor([[1],[2]])"
   ]
  },
  {
   "cell_type": "code",
   "execution_count": 67,
   "id": "7871afa6-6966-441c-a579-5ea1d25e3dfe",
   "metadata": {},
   "outputs": [
    {
     "data": {
      "text/plain": [
       "(torch.Size([2, 2]), torch.Size([2, 1]))"
      ]
     },
     "execution_count": 67,
     "metadata": {},
     "output_type": "execute_result"
    }
   ],
   "source": [
    "m1.shape,m2.shape"
   ]
  },
  {
   "cell_type": "code",
   "execution_count": 68,
   "id": "fc9abcad-7cd4-484a-b7ce-5c2fbfb6ccd4",
   "metadata": {},
   "outputs": [
    {
     "data": {
      "text/plain": [
       "tensor([[1., 2.],\n",
       "        [6., 8.]])"
      ]
     },
     "execution_count": 68,
     "metadata": {},
     "output_type": "execute_result"
    }
   ],
   "source": [
    "m1*m2"
   ]
  },
  {
   "cell_type": "markdown",
   "id": "97fe357d-84c9-4f76-a051-1aa77f44cea8",
   "metadata": {},
   "source": [
    "m1 * m2：这是矩阵乘法的运算符 * 操作符执行矩阵乘法时，它将**执行元素**级别的乘法 并返回一个新的矩阵"
   ]
  },
  {
   "cell_type": "markdown",
   "id": "8e85578f-faa8-4980-af65-c265927a264f",
   "metadata": {},
   "source": [
    "m1.matmul(m2)  矩阵乘法"
   ]
  },
  {
   "cell_type": "code",
   "execution_count": 69,
   "id": "3312b943-acdc-431a-9019-3f8326d3cfa7",
   "metadata": {},
   "outputs": [
    {
     "data": {
      "text/plain": [
       "tensor([[5., 5.]])"
      ]
     },
     "execution_count": 69,
     "metadata": {},
     "output_type": "execute_result"
    }
   ],
   "source": [
    "m1=torch.FloatTensor([[3,3]])\n",
    "m2=torch.FloatTensor([[2,2]])\n",
    "m1+m2"
   ]
  },
  {
   "cell_type": "code",
   "execution_count": 70,
   "id": "6e322d68-d174-46c5-a1ca-09ded57800fc",
   "metadata": {},
   "outputs": [
    {
     "data": {
      "text/plain": [
       "tensor([[4., 5.]])"
      ]
     },
     "execution_count": 70,
     "metadata": {},
     "output_type": "execute_result"
    }
   ],
   "source": [
    "m1=torch.FloatTensor([[1,2]])\n",
    "m2=torch.FloatTensor([[3]])# 3 -> [[3, 3]]\n",
    "m1+m2"
   ]
  },
  {
   "cell_type": "code",
   "execution_count": 80,
   "id": "c2b83df9-34d5-49d4-af94-37f3f545f2de",
   "metadata": {},
   "outputs": [],
   "source": [
    "m1=torch.FloatTensor([[1,2]]) #1x2  -> 2x2 [[1,2][1,2]]\n",
    "m2=torch.FloatTensor([[1],[2]]) #2x1 ->2x2 "
   ]
  },
  {
   "cell_type": "code",
   "execution_count": 81,
   "id": "d87e5ac8-ea0f-4a11-b8e0-9e491435f779",
   "metadata": {},
   "outputs": [
    {
     "data": {
      "text/plain": [
       "tensor([[2., 3.],\n",
       "        [3., 4.]])"
      ]
     },
     "execution_count": 81,
     "metadata": {},
     "output_type": "execute_result"
    }
   ],
   "source": [
    "m1+m2"
   ]
  },
  {
   "cell_type": "code",
   "execution_count": 82,
   "id": "84e34eaf-876c-4ced-bccd-9ed5f55876a6",
   "metadata": {},
   "outputs": [
    {
     "data": {
      "text/plain": [
       "tensor([[1., 2.],\n",
       "        [2., 4.]])"
      ]
     },
     "execution_count": 82,
     "metadata": {},
     "output_type": "execute_result"
    }
   ],
   "source": [
    "m1*m2 # 能广播"
   ]
  },
  {
   "cell_type": "code",
   "execution_count": 83,
   "id": "2122e11d-253f-4b77-b929-920b811fd093",
   "metadata": {},
   "outputs": [
    {
     "data": {
      "text/plain": [
       "tensor([[5.]])"
      ]
     },
     "execution_count": 83,
     "metadata": {},
     "output_type": "execute_result"
    }
   ],
   "source": [
    " m1.matmul(m2) #不能广播"
   ]
  },
  {
   "cell_type": "markdown",
   "id": "6f695238-195a-44b3-9aa4-9e1dffe4531b",
   "metadata": {},
   "source": [
    "### Mean"
   ]
  },
  {
   "cell_type": "code",
   "execution_count": 84,
   "id": "fd20c9a8-72fa-4726-bed8-1c1b90e78620",
   "metadata": {},
   "outputs": [
    {
     "data": {
      "text/plain": [
       "tensor(1.5000)"
      ]
     },
     "execution_count": 84,
     "metadata": {},
     "output_type": "execute_result"
    }
   ],
   "source": [
    "t=torch.FloatTensor([1,2])\n",
    "t.mean()"
   ]
  },
  {
   "cell_type": "code",
   "execution_count": 85,
   "id": "adf3a264-de6e-48b1-b91d-f7bf9930aaab",
   "metadata": {},
   "outputs": [
    {
     "name": "stdout",
     "output_type": "stream",
     "text": [
      "Can only calculate the mean of floating types. Got Long instead.\n"
     ]
    }
   ],
   "source": [
    "# Can't use mean() in integers\n",
    "t=torch.LongTensor([1,2])\n",
    "try: \n",
    "    print(t.mean())\n",
    "except Exception as exc:\n",
    "    print(exc)\n",
    "    "
   ]
  },
  {
   "cell_type": "code",
   "execution_count": 86,
   "id": "7496e918-f9a3-4963-9214-1e965e75ca4d",
   "metadata": {},
   "outputs": [
    {
     "name": "stdout",
     "output_type": "stream",
     "text": [
      "tensor(2.5000)\n"
     ]
    }
   ],
   "source": [
    "t=torch.FloatTensor([[1,2],[3,4]])\n",
    "try:\n",
    "    print(t.mean())\n",
    "except Excepttion as a:\n",
    "    print(a)\n",
    "    "
   ]
  },
  {
   "cell_type": "code",
   "execution_count": 87,
   "id": "ae22138e-3446-4ef9-b39d-3f38889b940f",
   "metadata": {},
   "outputs": [
    {
     "data": {
      "text/plain": [
       "tensor([2., 3.])"
      ]
     },
     "execution_count": 87,
     "metadata": {},
     "output_type": "execute_result"
    }
   ],
   "source": [
    "t.mean(dim=0)"
   ]
  },
  {
   "cell_type": "code",
   "execution_count": 88,
   "id": "699efa5b-9f49-4e5c-ba4e-6cb782811a14",
   "metadata": {},
   "outputs": [
    {
     "data": {
      "text/plain": [
       "tensor([1.5000, 3.5000])"
      ]
     },
     "execution_count": 88,
     "metadata": {},
     "output_type": "execute_result"
    }
   ],
   "source": [
    "t.mean(dim=1)"
   ]
  },
  {
   "cell_type": "markdown",
   "id": "c75dcfab-4ebc-4e21-befa-06fd21ebd874",
   "metadata": {},
   "source": [
    "### Sum"
   ]
  },
  {
   "cell_type": "code",
   "execution_count": 89,
   "id": "424214b0-498e-4b0a-851b-bf6c073a599c",
   "metadata": {},
   "outputs": [
    {
     "name": "stdout",
     "output_type": "stream",
     "text": [
      "tensor(10.)\n",
      "tensor([4., 6.])\n",
      "tensor([3., 7.])\n",
      "tensor([3., 7.])\n"
     ]
    }
   ],
   "source": [
    "print(t.sum())\n",
    "print(t.sum(dim=0))\n",
    "print(t.sum(dim=1))\n",
    "print(t.sum(dim=-1))"
   ]
  },
  {
   "cell_type": "markdown",
   "id": "d03de56f-f164-4710-b8d0-480fb4b8670b",
   "metadata": {},
   "source": [
    "### Max and Argmax"
   ]
  },
  {
   "cell_type": "code",
   "execution_count": 90,
   "id": "a4ee8047-3a9c-4aae-95b1-b5eb84c145d4",
   "metadata": {},
   "outputs": [],
   "source": [
    "t=torch.FloatTensor([[1,2],[3,4]])"
   ]
  },
  {
   "cell_type": "code",
   "execution_count": 91,
   "id": "db0e8710-637b-4e01-93dd-2ea6d0434af8",
   "metadata": {},
   "outputs": [
    {
     "data": {
      "text/plain": [
       "tensor([[1., 2.],\n",
       "        [3., 4.]])"
      ]
     },
     "execution_count": 91,
     "metadata": {},
     "output_type": "execute_result"
    }
   ],
   "source": [
    "t\n"
   ]
  },
  {
   "cell_type": "code",
   "execution_count": 92,
   "id": "7127c986-a463-4201-bcb5-b4eebffca8d7",
   "metadata": {},
   "outputs": [
    {
     "data": {
      "text/plain": [
       "tensor(4.)"
      ]
     },
     "execution_count": 92,
     "metadata": {},
     "output_type": "execute_result"
    }
   ],
   "source": [
    "t.max()"
   ]
  },
  {
   "cell_type": "code",
   "execution_count": null,
   "id": "4b8e31f1-cfb8-4bd4-9f82-503047d41381",
   "metadata": {},
   "outputs": [],
   "source": []
  },
  {
   "cell_type": "code",
   "execution_count": 93,
   "id": "f9169760-e0a8-4c78-bb16-fc674067f96d",
   "metadata": {},
   "outputs": [
    {
     "data": {
      "text/plain": [
       "torch.return_types.max(\n",
       "values=tensor([3., 4.]),\n",
       "indices=tensor([1, 1]))"
      ]
     },
     "execution_count": 93,
     "metadata": {},
     "output_type": "execute_result"
    }
   ],
   "source": [
    "t.max(dim=0)"
   ]
  },
  {
   "cell_type": "code",
   "execution_count": 94,
   "id": "e098a737-1256-4601-b756-bbcf41cf9c13",
   "metadata": {},
   "outputs": [
    {
     "data": {
      "text/plain": [
       "tensor([3., 4.])"
      ]
     },
     "execution_count": 94,
     "metadata": {},
     "output_type": "execute_result"
    }
   ],
   "source": [
    "t.max(dim=0)[0] \n"
   ]
  },
  {
   "cell_type": "code",
   "execution_count": 95,
   "id": "fb5b7507-b9e1-45ef-94ec-4580df507203",
   "metadata": {},
   "outputs": [
    {
     "data": {
      "text/plain": [
       "tensor([1, 1])"
      ]
     },
     "execution_count": 95,
     "metadata": {},
     "output_type": "execute_result"
    }
   ],
   "source": [
    "t.max(dim=0)[1]"
   ]
  },
  {
   "cell_type": "code",
   "execution_count": 97,
   "id": "cbf4b130-3837-4fb0-aa9e-10067f19440f",
   "metadata": {},
   "outputs": [
    {
     "data": {
      "text/plain": [
       "tensor([1, 1])"
      ]
     },
     "execution_count": 97,
     "metadata": {},
     "output_type": "execute_result"
    }
   ],
   "source": [
    "t.argmax(dim=0)"
   ]
  },
  {
   "cell_type": "markdown",
   "id": "1f40b07a-26d6-4339-9e84-1c0f616ebdc1",
   "metadata": {},
   "source": [
    "### view"
   ]
  },
  {
   "cell_type": "code",
   "execution_count": 101,
   "id": "90376b3f-6bc6-4561-9ff2-1024513cd8e3",
   "metadata": {},
   "outputs": [],
   "source": [
    "t=np.array([[[0,1,2],[3,4,5]],[[6,7,8],[9,10,11]]])"
   ]
  },
  {
   "cell_type": "code",
   "execution_count": 102,
   "id": "59a46adb-5f6c-40b7-a204-5a464f16d5f9",
   "metadata": {},
   "outputs": [],
   "source": [
    "ft=torch.FloatTensor(t)"
   ]
  },
  {
   "cell_type": "code",
   "execution_count": 104,
   "id": "88e0f899-ed1c-4c0e-9a96-6ec7fe3eb632",
   "metadata": {},
   "outputs": [
    {
     "name": "stdout",
     "output_type": "stream",
     "text": [
      "tensor([[[ 0.,  1.,  2.],\n",
      "         [ 3.,  4.,  5.]],\n",
      "\n",
      "        [[ 6.,  7.,  8.],\n",
      "         [ 9., 10., 11.]]])\n"
     ]
    },
    {
     "data": {
      "text/plain": [
       "(None, torch.Size([2, 2, 3]))"
      ]
     },
     "execution_count": 104,
     "metadata": {},
     "output_type": "execute_result"
    }
   ],
   "source": [
    "print(ft),"
   ]
  },
  {
   "cell_type": "code",
   "execution_count": 105,
   "id": "1b822d26-09b8-45ef-ab09-e992eed684ed",
   "metadata": {},
   "outputs": [
    {
     "data": {
      "text/plain": [
       "torch.Size([2, 2, 3])"
      ]
     },
     "execution_count": 105,
     "metadata": {},
     "output_type": "execute_result"
    }
   ],
   "source": [
    "ft.size()"
   ]
  },
  {
   "cell_type": "code",
   "execution_count": 106,
   "id": "777ed6e5-d546-4f2f-9410-9970f554bd6e",
   "metadata": {},
   "outputs": [
    {
     "data": {
      "text/plain": [
       "tensor([[ 0.,  1.,  2.],\n",
       "        [ 3.,  4.,  5.],\n",
       "        [ 6.,  7.,  8.],\n",
       "        [ 9., 10., 11.]])"
      ]
     },
     "execution_count": 106,
     "metadata": {},
     "output_type": "execute_result"
    }
   ],
   "source": [
    "ft.view([-1,3])"
   ]
  },
  {
   "cell_type": "code",
   "execution_count": 107,
   "id": "46d4b7a6-df7c-44ef-9c67-742e0b600641",
   "metadata": {},
   "outputs": [
    {
     "data": {
      "text/plain": [
       "torch.Size([4, 3])"
      ]
     },
     "execution_count": 107,
     "metadata": {},
     "output_type": "execute_result"
    }
   ],
   "source": [
    "ft.view([-1,3]).shape"
   ]
  },
  {
   "cell_type": "code",
   "execution_count": 109,
   "id": "c213c428-eaf8-4fb4-b6e9-a4764fcd57e0",
   "metadata": {},
   "outputs": [
    {
     "data": {
      "text/plain": [
       "tensor([[ 0.,  1.,  2.,  3.,  4.,  5.],\n",
       "        [ 6.,  7.,  8.,  9., 10., 11.]])"
      ]
     },
     "execution_count": 109,
     "metadata": {},
     "output_type": "execute_result"
    }
   ],
   "source": [
    "ft.view([2,-1])"
   ]
  },
  {
   "cell_type": "code",
   "execution_count": 111,
   "id": "13078585-02fe-4dc9-b933-4648b1ce7fa5",
   "metadata": {},
   "outputs": [
    {
     "data": {
      "text/plain": [
       "tensor([[[ 0.,  1.,  2.]],\n",
       "\n",
       "        [[ 3.,  4.,  5.]],\n",
       "\n",
       "        [[ 6.,  7.,  8.]],\n",
       "\n",
       "        [[ 9., 10., 11.]]])"
      ]
     },
     "execution_count": 111,
     "metadata": {},
     "output_type": "execute_result"
    }
   ],
   "source": [
    "ft.view([-1, 1, 3])"
   ]
  },
  {
   "cell_type": "code",
   "execution_count": 112,
   "id": "6474cf96-cbc8-49ba-aded-158ce17274ce",
   "metadata": {},
   "outputs": [
    {
     "data": {
      "text/plain": [
       "torch.Size([4, 1, 3])"
      ]
     },
     "execution_count": 112,
     "metadata": {},
     "output_type": "execute_result"
    }
   ],
   "source": [
    "ft.view([-1, 1, 3]).shape"
   ]
  },
  {
   "cell_type": "markdown",
   "id": "c74f167c-6533-4295-81d0-ec669af95667",
   "metadata": {},
   "source": [
    "### 5-25 20.26"
   ]
  },
  {
   "cell_type": "markdown",
   "id": "ad018f90-a095-4947-9ddc-b6d5c04f4498",
   "metadata": {},
   "source": [
    "### Squeeze"
   ]
  },
  {
   "cell_type": "code",
   "execution_count": 2,
   "id": "00ca7ce2-c464-4224-a86e-084a982562dc",
   "metadata": {},
   "outputs": [],
   "source": [
    "import torch \n",
    "import numpy as np"
   ]
  },
  {
   "cell_type": "code",
   "execution_count": 3,
   "id": "e6e8a4c7-60b8-4d04-80d9-f4b9734cb80d",
   "metadata": {},
   "outputs": [],
   "source": [
    "ft=torch.FloatTensor([[0],[1],[2]])"
   ]
  },
  {
   "cell_type": "code",
   "execution_count": 4,
   "id": "44d11b8f-706d-4a81-9709-45ed98ed4bb8",
   "metadata": {},
   "outputs": [
    {
     "data": {
      "text/plain": [
       "tensor([[0.],\n",
       "        [1.],\n",
       "        [2.]])"
      ]
     },
     "execution_count": 4,
     "metadata": {},
     "output_type": "execute_result"
    }
   ],
   "source": [
    "ft"
   ]
  },
  {
   "cell_type": "code",
   "execution_count": 5,
   "id": "70740e3b-6e86-4bce-a534-3d8de3d89fb9",
   "metadata": {},
   "outputs": [
    {
     "data": {
      "text/plain": [
       "torch.Size([3, 1])"
      ]
     },
     "execution_count": 5,
     "metadata": {},
     "output_type": "execute_result"
    }
   ],
   "source": [
    "ft.shape"
   ]
  },
  {
   "cell_type": "code",
   "execution_count": 6,
   "id": "e97abe77-58a6-408b-a75d-2b5d4c96afa9",
   "metadata": {},
   "outputs": [
    {
     "data": {
      "text/plain": [
       "tensor([0., 1., 2.])"
      ]
     },
     "execution_count": 6,
     "metadata": {},
     "output_type": "execute_result"
    }
   ],
   "source": [
    "ft.squeeze()"
   ]
  },
  {
   "cell_type": "code",
   "execution_count": 8,
   "id": "3fb8c578-f0e4-4f04-ab4d-dba9d3fddf07",
   "metadata": {},
   "outputs": [
    {
     "data": {
      "text/plain": [
       "torch.Size([3])"
      ]
     },
     "execution_count": 8,
     "metadata": {},
     "output_type": "execute_result"
    }
   ],
   "source": [
    "ft.squeeze().shape"
   ]
  },
  {
   "cell_type": "code",
   "execution_count": 9,
   "id": "d68d9bd5-cdc1-4855-8ed9-882fe0a66185",
   "metadata": {},
   "outputs": [],
   "source": [
    "ft=torch.FloatTensor([[0,1],[1,2],[2,3]])"
   ]
  },
  {
   "cell_type": "code",
   "execution_count": 10,
   "id": "97aaeefe-9c16-48ee-8c49-74fa2a84dc46",
   "metadata": {},
   "outputs": [
    {
     "data": {
      "text/plain": [
       "tensor([[0., 1.],\n",
       "        [1., 2.],\n",
       "        [2., 3.]])"
      ]
     },
     "execution_count": 10,
     "metadata": {},
     "output_type": "execute_result"
    }
   ],
   "source": [
    "ft"
   ]
  },
  {
   "cell_type": "code",
   "execution_count": 11,
   "id": "4c9aeb3d-4a5f-4f52-a5d7-cc726c4cc7bc",
   "metadata": {},
   "outputs": [
    {
     "data": {
      "text/plain": [
       "torch.Size([3, 2])"
      ]
     },
     "execution_count": 11,
     "metadata": {},
     "output_type": "execute_result"
    }
   ],
   "source": [
    "ft.shape"
   ]
  },
  {
   "cell_type": "code",
   "execution_count": 13,
   "id": "fa9d0059-c2b8-4abd-ae1e-e1e8a5274905",
   "metadata": {},
   "outputs": [
    {
     "data": {
      "text/plain": [
       "tensor([[0., 1.],\n",
       "        [1., 2.],\n",
       "        [2., 3.]])"
      ]
     },
     "execution_count": 13,
     "metadata": {},
     "output_type": "execute_result"
    }
   ],
   "source": [
    "ft.squeeze()"
   ]
  },
  {
   "cell_type": "code",
   "execution_count": 14,
   "id": "90a7f795-dc75-4c6a-9dc4-ded71b41f6ff",
   "metadata": {},
   "outputs": [
    {
     "data": {
      "text/plain": [
       "torch.Size([3, 2])"
      ]
     },
     "execution_count": 14,
     "metadata": {},
     "output_type": "execute_result"
    }
   ],
   "source": [
    "ft.squeeze().shape"
   ]
  },
  {
   "cell_type": "markdown",
   "id": "03527ea9-067c-440e-beab-2dd98e83e1f2",
   "metadata": {},
   "source": [
    "### Unsqueeze"
   ]
  },
  {
   "cell_type": "code",
   "execution_count": 23,
   "id": "44486ec5-5050-4b8b-b1a6-c9be700002df",
   "metadata": {},
   "outputs": [
    {
     "data": {
      "text/plain": [
       "torch.Size([3])"
      ]
     },
     "execution_count": 23,
     "metadata": {},
     "output_type": "execute_result"
    }
   ],
   "source": [
    "ft=torch.FloatTensor([0,1,2])\n",
    "ft.shape"
   ]
  },
  {
   "cell_type": "code",
   "execution_count": 24,
   "id": "601819a3-43d1-436c-9a70-4833e25bd4a0",
   "metadata": {},
   "outputs": [
    {
     "data": {
      "text/plain": [
       "tensor([[0., 1., 2.]])"
      ]
     },
     "execution_count": 24,
     "metadata": {},
     "output_type": "execute_result"
    }
   ],
   "source": [
    "ft.unsqueeze(0)"
   ]
  },
  {
   "cell_type": "code",
   "execution_count": 25,
   "id": "0c4906d5-c484-4f9f-9431-3e67ddc0708c",
   "metadata": {},
   "outputs": [
    {
     "data": {
      "text/plain": [
       "torch.Size([1, 3])"
      ]
     },
     "execution_count": 25,
     "metadata": {},
     "output_type": "execute_result"
    }
   ],
   "source": [
    "ft.unsqueeze(0).shape"
   ]
  },
  {
   "cell_type": "code",
   "execution_count": 22,
   "id": "57d6ca7a-f98a-4bc2-969e-5fc19de61a34",
   "metadata": {},
   "outputs": [
    {
     "data": {
      "text/plain": [
       "torch.Size([1, 3])"
      ]
     },
     "execution_count": 22,
     "metadata": {},
     "output_type": "execute_result"
    }
   ],
   "source": [
    "ft.unsqueeze(0).shape"
   ]
  },
  {
   "cell_type": "code",
   "execution_count": 26,
   "id": "4f75d070-c761-447f-9d09-6a31393ca991",
   "metadata": {},
   "outputs": [
    {
     "data": {
      "text/plain": [
       "tensor([[0.],\n",
       "        [1.],\n",
       "        [2.]])"
      ]
     },
     "execution_count": 26,
     "metadata": {},
     "output_type": "execute_result"
    }
   ],
   "source": [
    "ft.unsqueeze(1)"
   ]
  },
  {
   "cell_type": "code",
   "execution_count": 30,
   "id": "132964fd-f9ea-4ab0-a920-9a24ec5c1026",
   "metadata": {},
   "outputs": [
    {
     "data": {
      "text/plain": [
       "torch.Size([3, 1])"
      ]
     },
     "execution_count": 30,
     "metadata": {},
     "output_type": "execute_result"
    }
   ],
   "source": [
    "ft.unsqueeze(-1).shape"
   ]
  },
  {
   "cell_type": "markdown",
   "id": "5850b41a-9a44-4136-8e7c-e9fe0b5dc99f",
   "metadata": {},
   "source": [
    "### Scatter (for one-hot encoding)"
   ]
  },
  {
   "cell_type": "code",
   "execution_count": 31,
   "id": "a79a307b-b1f1-4e14-acb5-24c5a371e12a",
   "metadata": {},
   "outputs": [
    {
     "data": {
      "text/plain": [
       "tensor([[0],\n",
       "        [1],\n",
       "        [2],\n",
       "        [0]])"
      ]
     },
     "execution_count": 31,
     "metadata": {},
     "output_type": "execute_result"
    }
   ],
   "source": [
    "lt=torch.LongTensor([[0],[1],[2],[0]])\n",
    "lt"
   ]
  },
  {
   "cell_type": "code",
   "execution_count": 32,
   "id": "dba7fb4a-ca1f-4bd4-9dc1-5486e7aa3841",
   "metadata": {},
   "outputs": [
    {
     "data": {
      "text/plain": [
       "torch.Size([4, 1])"
      ]
     },
     "execution_count": 32,
     "metadata": {},
     "output_type": "execute_result"
    }
   ],
   "source": [
    "lt.shape"
   ]
  },
  {
   "cell_type": "code",
   "execution_count": 33,
   "id": "0856d952-5bd4-4cb3-a240-eb7f0bd6dc6c",
   "metadata": {},
   "outputs": [
    {
     "data": {
      "text/plain": [
       "tensor([[0., 0., 0.],\n",
       "        [0., 0., 0.],\n",
       "        [0., 0., 0.],\n",
       "        [0., 0., 0.]])"
      ]
     },
     "execution_count": 33,
     "metadata": {},
     "output_type": "execute_result"
    }
   ],
   "source": [
    "one_hot=torch.zeros(4,3)\n",
    "one_hot"
   ]
  },
  {
   "cell_type": "code",
   "execution_count": 34,
   "id": "34b2d3d2-6b6b-4ab7-8031-77343a2a3d94",
   "metadata": {},
   "outputs": [
    {
     "data": {
      "text/plain": [
       "tensor([[1., 0., 0.],\n",
       "        [0., 1., 0.],\n",
       "        [0., 0., 1.],\n",
       "        [1., 0., 0.]])"
      ]
     },
     "execution_count": 34,
     "metadata": {},
     "output_type": "execute_result"
    }
   ],
   "source": [
    "one_hot.scatter(1,lt,1) # 第一维度上根据lt 设置值为1"
   ]
  },
  {
   "cell_type": "markdown",
   "id": "abaeba76-dd10-4669-a219-8859685f823d",
   "metadata": {},
   "source": [
    "### Casting"
   ]
  },
  {
   "cell_type": "code",
   "execution_count": 35,
   "id": "6a36619e-deaa-4c4f-ad48-5340c6e37232",
   "metadata": {},
   "outputs": [],
   "source": [
    "lt=torch.LongTensor([1,2,3,4])"
   ]
  },
  {
   "cell_type": "code",
   "execution_count": 36,
   "id": "1be67031-4e97-4845-a830-73d57c6a85ef",
   "metadata": {},
   "outputs": [
    {
     "data": {
      "text/plain": [
       "tensor([1, 2, 3, 4])"
      ]
     },
     "execution_count": 36,
     "metadata": {},
     "output_type": "execute_result"
    }
   ],
   "source": [
    "lt"
   ]
  },
  {
   "cell_type": "code",
   "execution_count": 37,
   "id": "3148591b-e28a-40a5-bf5c-a34578072fc2",
   "metadata": {},
   "outputs": [
    {
     "data": {
      "text/plain": [
       "tensor([1., 2., 3., 4.])"
      ]
     },
     "execution_count": 37,
     "metadata": {},
     "output_type": "execute_result"
    }
   ],
   "source": [
    "lt.float()"
   ]
  },
  {
   "cell_type": "code",
   "execution_count": 41,
   "id": "27957a6d-d8b7-42c6-87e7-aee47ade54e0",
   "metadata": {},
   "outputs": [],
   "source": [
    "bt=torch.ByteTensor([True,False,False,True])"
   ]
  },
  {
   "cell_type": "code",
   "execution_count": 42,
   "id": "da77a77f-a556-47c4-938b-54aa7710bb57",
   "metadata": {},
   "outputs": [
    {
     "data": {
      "text/plain": [
       "tensor([1, 0, 0, 1], dtype=torch.uint8)"
      ]
     },
     "execution_count": 42,
     "metadata": {},
     "output_type": "execute_result"
    }
   ],
   "source": [
    "bt"
   ]
  },
  {
   "cell_type": "code",
   "execution_count": 47,
   "id": "88c8ccc2-e428-48fd-9703-d6986e74fdc4",
   "metadata": {},
   "outputs": [
    {
     "data": {
      "text/plain": [
       "tensor([[1., 0., 0.],\n",
       "        [0., 1., 0.],\n",
       "        [0., 0., 1.],\n",
       "        [1., 0., 0.]])"
      ]
     },
     "execution_count": 47,
     "metadata": {},
     "output_type": "execute_result"
    }
   ],
   "source": [
    "lt=torch.LongTensor([[0],[1],[2],[0]])\n",
    "one_hot=torch.zeros(4,3)\n",
    "one_hot.scatter(1,lt,1)"
   ]
  },
  {
   "cell_type": "markdown",
   "id": "b2f4b963-e007-454b-9484-b8879944feed",
   "metadata": {},
   "source": [
    "### Concatenation"
   ]
  },
  {
   "cell_type": "code",
   "execution_count": 48,
   "id": "3af7028d-4296-475d-b981-34e84673a972",
   "metadata": {},
   "outputs": [],
   "source": [
    "x=torch.FloatTensor([[1,2],[3,4]])\n",
    "y=torch.FloatTensor([[5,6],[7,8]])"
   ]
  },
  {
   "cell_type": "code",
   "execution_count": 49,
   "id": "2fd282bf-5e79-4538-8653-0143f5e78fda",
   "metadata": {},
   "outputs": [
    {
     "data": {
      "text/plain": [
       "torch.Size([2, 2])"
      ]
     },
     "execution_count": 49,
     "metadata": {},
     "output_type": "execute_result"
    }
   ],
   "source": [
    "x.shape"
   ]
  },
  {
   "cell_type": "code",
   "execution_count": 52,
   "id": "a3bbbab3-08f2-4c07-8c8b-37ec2aeaf397",
   "metadata": {},
   "outputs": [
    {
     "data": {
      "text/plain": [
       "tensor([[1., 2.],\n",
       "        [3., 4.],\n",
       "        [5., 6.],\n",
       "        [7., 8.]])"
      ]
     },
     "execution_count": 52,
     "metadata": {},
     "output_type": "execute_result"
    }
   ],
   "source": [
    "torch.cat([x,y],dim=0)"
   ]
  },
  {
   "cell_type": "code",
   "execution_count": 53,
   "id": "65115a3a-ad9e-4dfe-9ab8-d0ed4c10ce3f",
   "metadata": {},
   "outputs": [
    {
     "data": {
      "text/plain": [
       "tensor([[1., 2., 5., 6.],\n",
       "        [3., 4., 7., 8.]])"
      ]
     },
     "execution_count": 53,
     "metadata": {},
     "output_type": "execute_result"
    }
   ],
   "source": [
    "torch.cat([x,y],dim=1) #2,4"
   ]
  },
  {
   "cell_type": "markdown",
   "id": "0efa7031-6ba6-45b5-9893-3781885f876d",
   "metadata": {},
   "source": [
    "### Stacking"
   ]
  },
  {
   "cell_type": "code",
   "execution_count": 54,
   "id": "0ac1f126-ff2d-49f8-92a1-352ca1ccf2fd",
   "metadata": {},
   "outputs": [],
   "source": [
    "x=torch.FloatTensor([1,4])\n",
    "y=torch.FloatTensor([2,5])\n",
    "z=torch.FloatTensor([3,6])"
   ]
  },
  {
   "cell_type": "code",
   "execution_count": 67,
   "id": "9928b085-4622-4ce3-a9a8-0e9dc0654843",
   "metadata": {},
   "outputs": [
    {
     "data": {
      "text/plain": [
       "tensor([1., 4.])"
      ]
     },
     "execution_count": 67,
     "metadata": {},
     "output_type": "execute_result"
    }
   ],
   "source": [
    "x"
   ]
  },
  {
   "cell_type": "code",
   "execution_count": 55,
   "id": "9f7316fe-ede5-48a1-9e40-a96bb196e9aa",
   "metadata": {},
   "outputs": [
    {
     "data": {
      "text/plain": [
       "tensor([1., 4., 2., 5.])"
      ]
     },
     "execution_count": 55,
     "metadata": {},
     "output_type": "execute_result"
    }
   ],
   "source": [
    "torch.cat([x,y],dim=0)"
   ]
  },
  {
   "cell_type": "code",
   "execution_count": 58,
   "id": "21a1fda8-aa60-444f-ba49-51d111eacd98",
   "metadata": {},
   "outputs": [
    {
     "data": {
      "text/plain": [
       "tensor([[1., 4.],\n",
       "        [2., 5.]])"
      ]
     },
     "execution_count": 58,
     "metadata": {},
     "output_type": "execute_result"
    }
   ],
   "source": [
    "torch.stack([x,y])"
   ]
  },
  {
   "cell_type": "code",
   "execution_count": 59,
   "id": "b65fe9bf-285f-40af-b8fc-0c7656e55893",
   "metadata": {},
   "outputs": [
    {
     "data": {
      "text/plain": [
       "tensor([[1., 4.],\n",
       "        [2., 5.],\n",
       "        [3., 6.]])"
      ]
     },
     "execution_count": 59,
     "metadata": {},
     "output_type": "execute_result"
    }
   ],
   "source": [
    "torch.stack([x,y,z])"
   ]
  },
  {
   "cell_type": "code",
   "execution_count": 60,
   "id": "c0ecb5e8-7f17-4ea6-8917-920d3e55500f",
   "metadata": {},
   "outputs": [
    {
     "data": {
      "text/plain": [
       "tensor([[1., 2., 3.],\n",
       "        [4., 5., 6.]])"
      ]
     },
     "execution_count": 60,
     "metadata": {},
     "output_type": "execute_result"
    }
   ],
   "source": [
    "torch.stack([x,y,z],dim=1)"
   ]
  },
  {
   "cell_type": "code",
   "execution_count": 61,
   "id": "d542a8bb-2152-4c93-986d-97bc6f41ce94",
   "metadata": {},
   "outputs": [
    {
     "data": {
      "text/plain": [
       "tensor([[1., 4.],\n",
       "        [2., 5.],\n",
       "        [3., 6.]])"
      ]
     },
     "execution_count": 61,
     "metadata": {},
     "output_type": "execute_result"
    }
   ],
   "source": [
    "torch.stack([x,y,z],dim=0)"
   ]
  },
  {
   "cell_type": "code",
   "execution_count": 62,
   "id": "623f0b28-43f6-4fd2-a2cd-f2f600f97c38",
   "metadata": {},
   "outputs": [
    {
     "data": {
      "text/plain": [
       "tensor([[1., 4.],\n",
       "        [2., 5.],\n",
       "        [3., 6.]])"
      ]
     },
     "execution_count": 62,
     "metadata": {},
     "output_type": "execute_result"
    }
   ],
   "source": [
    "torch.stack([x,y,z],dim=0)"
   ]
  },
  {
   "cell_type": "code",
   "execution_count": 63,
   "id": "ed2bb7db-47de-4465-bae2-8719a1bf0c04",
   "metadata": {},
   "outputs": [
    {
     "data": {
      "text/plain": [
       "tensor([1., 4., 2., 5., 3., 6.])"
      ]
     },
     "execution_count": 63,
     "metadata": {},
     "output_type": "execute_result"
    }
   ],
   "source": [
    "torch.cat([x,y,z],dim=0)"
   ]
  },
  {
   "cell_type": "code",
   "execution_count": 65,
   "id": "68049c61-bbe3-4bec-9fb2-8197d7a96780",
   "metadata": {},
   "outputs": [
    {
     "data": {
      "text/plain": [
       "torch.Size([2])"
      ]
     },
     "execution_count": 65,
     "metadata": {},
     "output_type": "execute_result"
    }
   ],
   "source": [
    "x.shape"
   ]
  },
  {
   "cell_type": "code",
   "execution_count": 66,
   "id": "fab1dcc3-1c30-48af-96be-5d13909f230d",
   "metadata": {},
   "outputs": [
    {
     "data": {
      "text/plain": [
       "tensor([[1., 4.]])"
      ]
     },
     "execution_count": 66,
     "metadata": {},
     "output_type": "execute_result"
    }
   ],
   "source": [
    "x.unsqueeze(0)"
   ]
  },
  {
   "cell_type": "code",
   "execution_count": 71,
   "id": "2e5833eb-fa1c-421a-9129-b73535f81605",
   "metadata": {},
   "outputs": [
    {
     "data": {
      "text/plain": [
       "tensor([[1., 4.],\n",
       "        [2., 5.],\n",
       "        [3., 6.]])"
      ]
     },
     "execution_count": 71,
     "metadata": {},
     "output_type": "execute_result"
    }
   ],
   "source": [
    "torch.cat([x.unsqueeze(0), y.unsqueeze(0), z.unsqueeze(0)], dim=0)"
   ]
  },
  {
   "cell_type": "code",
   "execution_count": 70,
   "id": "56db02e0-660a-48c8-9ee6-764ee83a4677",
   "metadata": {},
   "outputs": [
    {
     "data": {
      "text/plain": [
       "tensor([[1., 4., 2., 5., 3., 6.]])"
      ]
     },
     "execution_count": 70,
     "metadata": {},
     "output_type": "execute_result"
    }
   ],
   "source": [
    "torch.cat([x.unsqueeze(0),y.unsqueeze(0),z.unsqueeze(0)],dim=1)"
   ]
  },
  {
   "cell_type": "markdown",
   "id": "44984ed0-9b85-491c-ae39-cbfcf1034e68",
   "metadata": {},
   "source": [
    "总结来说，torch.cat() 用于在指定维度上拼接张量，输出的形状是原来维度上的叠加；而 torch.stack() 用于在新的维度上堆叠张量，输出的形状在原来的形状基础上增加了一个新的维度。"
   ]
  },
  {
   "cell_type": "markdown",
   "id": "9af45974-35e3-429e-8af0-a4debb574420",
   "metadata": {},
   "source": [
    "### Ones and Zeros Like"
   ]
  },
  {
   "cell_type": "code",
   "execution_count": 72,
   "id": "92950037-54ce-4cbd-9697-62e3fab398ff",
   "metadata": {},
   "outputs": [
    {
     "data": {
      "text/plain": [
       "tensor([[0., 1., 2.],\n",
       "        [3., 4., 5.]])"
      ]
     },
     "execution_count": 72,
     "metadata": {},
     "output_type": "execute_result"
    }
   ],
   "source": [
    "x=torch.FloatTensor([[0,1,2],[3,4,5]])\n",
    "x"
   ]
  },
  {
   "cell_type": "code",
   "execution_count": 73,
   "id": "94808fcb-e3c5-4b58-83ba-3a814a542768",
   "metadata": {},
   "outputs": [
    {
     "data": {
      "text/plain": [
       "tensor([[1., 1., 1.],\n",
       "        [1., 1., 1.]])"
      ]
     },
     "execution_count": 73,
     "metadata": {},
     "output_type": "execute_result"
    }
   ],
   "source": [
    "torch.ones_like(x)"
   ]
  },
  {
   "cell_type": "code",
   "execution_count": 74,
   "id": "cbc76b4d-dc40-4e27-a31d-9d860844772c",
   "metadata": {},
   "outputs": [
    {
     "data": {
      "text/plain": [
       "tensor([[0., 0., 0.],\n",
       "        [0., 0., 0.]])"
      ]
     },
     "execution_count": 74,
     "metadata": {},
     "output_type": "execute_result"
    }
   ],
   "source": [
    "torch.zeros_like(x)"
   ]
  },
  {
   "cell_type": "markdown",
   "id": "b8cea447-40e8-4e5d-8dd1-c52d5ada78b9",
   "metadata": {},
   "source": [
    "### In-place Operation"
   ]
  },
  {
   "cell_type": "code",
   "execution_count": 75,
   "id": "82c82d25-bab1-44ba-be92-7f53b1fc1e30",
   "metadata": {},
   "outputs": [],
   "source": [
    "x=torch.FloatTensor([[1,2],[3,4]])\n"
   ]
  },
  {
   "cell_type": "code",
   "execution_count": 76,
   "id": "4688b61f-7a54-4085-91c2-1abe5498ea52",
   "metadata": {},
   "outputs": [
    {
     "data": {
      "text/plain": [
       "tensor([[1., 2.],\n",
       "        [3., 4.]])"
      ]
     },
     "execution_count": 76,
     "metadata": {},
     "output_type": "execute_result"
    }
   ],
   "source": [
    "x"
   ]
  },
  {
   "cell_type": "code",
   "execution_count": 77,
   "id": "642a5007-1d2d-4986-abed-3d3c09dde5e4",
   "metadata": {},
   "outputs": [
    {
     "data": {
      "text/plain": [
       "tensor([[2., 4.],\n",
       "        [6., 8.]])"
      ]
     },
     "execution_count": 77,
     "metadata": {},
     "output_type": "execute_result"
    }
   ],
   "source": [
    "x.mul(2.) # x*2 生成新的"
   ]
  },
  {
   "cell_type": "code",
   "execution_count": 78,
   "id": "0ab08c99-bcf1-4d28-b598-a94eabb84e68",
   "metadata": {},
   "outputs": [
    {
     "data": {
      "text/plain": [
       "tensor([[1., 2.],\n",
       "        [3., 4.]])"
      ]
     },
     "execution_count": 78,
     "metadata": {},
     "output_type": "execute_result"
    }
   ],
   "source": [
    "x"
   ]
  },
  {
   "cell_type": "code",
   "execution_count": 79,
   "id": "a5ccdd0f-ad22-494f-88cd-bbc1f1dbe9cb",
   "metadata": {},
   "outputs": [
    {
     "data": {
      "text/plain": [
       "tensor([[2., 4.],\n",
       "        [6., 8.]])"
      ]
     },
     "execution_count": 79,
     "metadata": {},
     "output_type": "execute_result"
    }
   ],
   "source": [
    "x.mul_(2)"
   ]
  },
  {
   "cell_type": "code",
   "execution_count": 80,
   "id": "2fa87313-8dbe-475c-a265-b416d8e53d57",
   "metadata": {},
   "outputs": [
    {
     "data": {
      "text/plain": [
       "tensor([[2., 4.],\n",
       "        [6., 8.]])"
      ]
     },
     "execution_count": 80,
     "metadata": {},
     "output_type": "execute_result"
    }
   ],
   "source": [
    "x"
   ]
  },
  {
   "cell_type": "markdown",
   "id": "c2b96be2-23e2-450c-8ea0-e5d0f5a8e35c",
   "metadata": {},
   "source": [
    "### Miscellaneous"
   ]
  },
  {
   "cell_type": "code",
   "execution_count": 82,
   "id": "e5df346f-71ff-455e-94e0-4bfe963df56d",
   "metadata": {},
   "outputs": [
    {
     "data": {
      "text/plain": [
       "tensor([[2., 4.],\n",
       "        [6., 8.]])"
      ]
     },
     "execution_count": 82,
     "metadata": {},
     "output_type": "execute_result"
    }
   ],
   "source": [
    "x"
   ]
  },
  {
   "cell_type": "code",
   "execution_count": 83,
   "id": "b16bc7c9-eb6e-452c-8eb8-5d5f5945d5ef",
   "metadata": {},
   "outputs": [
    {
     "data": {
      "text/plain": [
       "tensor([2., 5.])"
      ]
     },
     "execution_count": 83,
     "metadata": {},
     "output_type": "execute_result"
    }
   ],
   "source": [
    "y"
   ]
  },
  {
   "cell_type": "code",
   "execution_count": 84,
   "id": "88cf5228-baa8-421c-8fbe-b8d5f1f14d52",
   "metadata": {},
   "outputs": [
    {
     "name": "stdout",
     "output_type": "stream",
     "text": [
      "1 4\n",
      "2 5\n",
      "3 6\n"
     ]
    }
   ],
   "source": [
    "for x,y in zip([1,2,3],[4,5,6]):\n",
    "    print(x,y)"
   ]
  },
  {
   "cell_type": "code",
   "execution_count": 85,
   "id": "bb9e56d2-11b0-43d4-a852-d654914e5703",
   "metadata": {},
   "outputs": [
    {
     "name": "stdout",
     "output_type": "stream",
     "text": [
      "1 4 7\n",
      "2 5 8\n",
      "3 6 9\n"
     ]
    }
   ],
   "source": [
    "for x, y, z in zip([1, 2, 3], [4, 5, 6], [7, 8, 9]):\n",
    "    print(x, y, z)"
   ]
  },
  {
   "cell_type": "markdown",
   "id": "29e74e40-71a3-471d-8afa-01f670751580",
   "metadata": {},
   "source": [
    "### Linear Regression"
   ]
  },
  {
   "cell_type": "markdown",
   "id": "020bf03e-eab5-4a95-b7b5-89d99330353b",
   "metadata": {},
   "source": [
    "$$ H(x) = Wx + b $$"
   ]
  },
  {
   "cell_type": "markdown",
   "id": "d9438ca3-4f60-4041-a2ba-17239b564817",
   "metadata": {},
   "source": [
    "$$ cost(W, b) = \\frac{1}{m} \\sum^m_{i=1} \\left( H(x^{(i)}) - y^{(i)} \\right)^2 $$"
   ]
  },
  {
   "cell_type": "markdown",
   "id": "3e5a705c-19fd-4d08-aa43-f5f1add3a335",
   "metadata": {},
   "source": [
    "H(x) 预测， y true  cost价值"
   ]
  },
  {
   "cell_type": "code",
   "execution_count": 1,
   "id": "2bc111c4-556e-439c-b084-60100fd2a771",
   "metadata": {},
   "outputs": [],
   "source": [
    "import torch \n",
    "import torch.nn as nn\n",
    "import torch.nn.functional as F\n",
    "import torch.optim as optim"
   ]
  },
  {
   "cell_type": "code",
   "execution_count": 2,
   "id": "7e4488f1-3cc7-40aa-8715-34be44acf0d5",
   "metadata": {},
   "outputs": [
    {
     "data": {
      "text/plain": [
       "<torch._C.Generator at 0x7f670420e950>"
      ]
     },
     "execution_count": 2,
     "metadata": {},
     "output_type": "execute_result"
    }
   ],
   "source": [
    "torch.manual_seed(1)"
   ]
  },
  {
   "cell_type": "code",
   "execution_count": 3,
   "id": "a3a9fc5a-ee46-46e5-b56d-5de3e0d01926",
   "metadata": {},
   "outputs": [],
   "source": [
    "x=torch.FloatTensor([[1,2],[3,4]])"
   ]
  },
  {
   "cell_type": "code",
   "execution_count": 4,
   "id": "3fe5f6b1-5d87-4995-9fdf-b95dbe9a220a",
   "metadata": {},
   "outputs": [
    {
     "data": {
      "text/plain": [
       "tensor([[ 7., 10.],\n",
       "        [15., 22.]])"
      ]
     },
     "execution_count": 4,
     "metadata": {},
     "output_type": "execute_result"
    }
   ],
   "source": [
    "x.matmul(x)"
   ]
  },
  {
   "cell_type": "code",
   "execution_count": 5,
   "id": "f9ab20fc-a571-4fed-b2b7-53e10fc3af49",
   "metadata": {},
   "outputs": [
    {
     "data": {
      "text/plain": [
       "tensor([[1., 2.],\n",
       "        [3., 4.]])"
      ]
     },
     "execution_count": 5,
     "metadata": {},
     "output_type": "execute_result"
    }
   ],
   "source": [
    "x"
   ]
  },
  {
   "cell_type": "markdown",
   "id": "74fb1d26-8cce-4f62-9757-61358b91b6b1",
   "metadata": {},
   "source": [
    "### Data"
   ]
  },
  {
   "cell_type": "code",
   "execution_count": 6,
   "id": "0cf838a4-411c-4f38-90cc-5b6fca07ebac",
   "metadata": {},
   "outputs": [],
   "source": [
    "x_train=torch.FloatTensor([[1],[2],[3]])\n",
    "y_train=torch.FloatTensor([[1],[2],[3]])"
   ]
  },
  {
   "cell_type": "code",
   "execution_count": 7,
   "id": "c4f1cfed-08ed-4b00-87ae-2d7194514fe8",
   "metadata": {},
   "outputs": [
    {
     "data": {
      "text/plain": [
       "tensor([[1.],\n",
       "        [2.],\n",
       "        [3.]])"
      ]
     },
     "execution_count": 7,
     "metadata": {},
     "output_type": "execute_result"
    }
   ],
   "source": [
    "x_train"
   ]
  },
  {
   "cell_type": "code",
   "execution_count": 8,
   "id": "b101b6e4-f285-44b3-a688-2e3adad884de",
   "metadata": {},
   "outputs": [
    {
     "data": {
      "text/plain": [
       "torch.Size([3, 1])"
      ]
     },
     "execution_count": 8,
     "metadata": {},
     "output_type": "execute_result"
    }
   ],
   "source": [
    "x_train.shape"
   ]
  },
  {
   "cell_type": "code",
   "execution_count": 9,
   "id": "766953fb-b308-4829-8df9-77f9e3ebd881",
   "metadata": {},
   "outputs": [
    {
     "name": "stdout",
     "output_type": "stream",
     "text": [
      "tensor([0.], requires_grad=True)\n"
     ]
    }
   ],
   "source": [
    "W = torch.zeros(1, requires_grad=True)\n",
    "print(W)"
   ]
  },
  {
   "cell_type": "code",
   "execution_count": 10,
   "id": "f8b075a7-d030-4fe1-9145-1a9096dab5b8",
   "metadata": {},
   "outputs": [
    {
     "name": "stdout",
     "output_type": "stream",
     "text": [
      "tensor([0.], requires_grad=True)\n"
     ]
    }
   ],
   "source": [
    "b = torch.zeros(1, requires_grad=True)\n",
    "print(b)"
   ]
  },
  {
   "cell_type": "code",
   "execution_count": 11,
   "id": "e38defdf-5b1f-4fe7-9a1f-3589b2bd51bc",
   "metadata": {},
   "outputs": [
    {
     "data": {
      "text/plain": [
       "torch.Size([3, 1])"
      ]
     },
     "execution_count": 11,
     "metadata": {},
     "output_type": "execute_result"
    }
   ],
   "source": [
    "x_train.shape"
   ]
  },
  {
   "cell_type": "code",
   "execution_count": 12,
   "id": "8a5dd165-6b40-49b9-b19d-789ae1ed38c9",
   "metadata": {},
   "outputs": [],
   "source": [
    "hypothesis = x_train * W + b # 3x1  1x1 + 1x1"
   ]
  },
  {
   "cell_type": "code",
   "execution_count": 13,
   "id": "444c9dfb-f0d1-41c9-8e31-0af1bb78c763",
   "metadata": {},
   "outputs": [
    {
     "name": "stdout",
     "output_type": "stream",
     "text": [
      "tensor([[0.],\n",
      "        [0.],\n",
      "        [0.]], grad_fn=<AddBackward0>)\n"
     ]
    }
   ],
   "source": [
    "print(hypothesis)"
   ]
  },
  {
   "cell_type": "raw",
   "id": "f9a26754-a083-42f4-94d0-14b889c64403",
   "metadata": {},
   "source": [
    "print(y_train)"
   ]
  },
  {
   "cell_type": "code",
   "execution_count": 14,
   "id": "e95c98dd-ca5b-459c-b229-70c6ba48dea2",
   "metadata": {},
   "outputs": [
    {
     "name": "stdout",
     "output_type": "stream",
     "text": [
      "tensor([[-1.],\n",
      "        [-2.],\n",
      "        [-3.]], grad_fn=<SubBackward0>)\n"
     ]
    }
   ],
   "source": [
    "print(hypothesis-y_train)"
   ]
  },
  {
   "cell_type": "code",
   "execution_count": 15,
   "id": "c7e6fba9-3741-4e27-bcd8-8da1f43785d5",
   "metadata": {},
   "outputs": [
    {
     "name": "stdout",
     "output_type": "stream",
     "text": [
      "tensor([[1.],\n",
      "        [4.],\n",
      "        [9.]], grad_fn=<PowBackward0>)\n"
     ]
    }
   ],
   "source": [
    "print((hypothesis - y_train) ** 2)"
   ]
  },
  {
   "cell_type": "code",
   "execution_count": 18,
   "id": "6e27b326-b3ca-4857-9a8d-8219711583ef",
   "metadata": {},
   "outputs": [
    {
     "name": "stdout",
     "output_type": "stream",
     "text": [
      "tensor(4.6667, grad_fn=<MeanBackward0>)\n"
     ]
    }
   ],
   "source": [
    "cost = torch.mean((hypothesis - y_train) ** 2) # loss mse\n",
    "print(cost)"
   ]
  },
  {
   "cell_type": "code",
   "execution_count": 21,
   "id": "697bb002-8ac7-48f7-b630-fbc5f00052a9",
   "metadata": {},
   "outputs": [
    {
     "data": {
      "text/plain": [
       "tensor(4.6667, grad_fn=<MseLossBackward>)"
      ]
     },
     "execution_count": 21,
     "metadata": {},
     "output_type": "execute_result"
    }
   ],
   "source": [
    "cost1=torch.nn.functional.mse_loss(hypothesis,y_train)\n",
    "cost1"
   ]
  },
  {
   "cell_type": "code",
   "execution_count": 108,
   "id": "0b45a88f-6df8-4e3d-903e-da809594d121",
   "metadata": {},
   "outputs": [
    {
     "data": {
      "text/plain": [
       "14"
      ]
     },
     "execution_count": 108,
     "metadata": {},
     "output_type": "execute_result"
    }
   ],
   "source": [
    "1+4+9"
   ]
  },
  {
   "cell_type": "code",
   "execution_count": 109,
   "id": "83272b73-0c20-4271-8a20-4a1cb613b251",
   "metadata": {},
   "outputs": [
    {
     "data": {
      "text/plain": [
       "4.666666666666667"
      ]
     },
     "execution_count": 109,
     "metadata": {},
     "output_type": "execute_result"
    }
   ],
   "source": [
    "14/3"
   ]
  },
  {
   "cell_type": "markdown",
   "id": "d32fd750-1f39-4caf-98b2-50f0b3884694",
   "metadata": {},
   "source": [
    "### Gradient Descent"
   ]
  },
  {
   "cell_type": "code",
   "execution_count": 22,
   "id": "36a513e4-63ca-4892-a480-4282ba6f46d1",
   "metadata": {},
   "outputs": [],
   "source": [
    "from scipy.misc import derivative"
   ]
  },
  {
   "cell_type": "markdown",
   "id": "c97f4603-9fca-44cd-b1bd-1062165c7340",
   "metadata": {},
   "source": [
    "w_new=w_old-n dL/dW"
   ]
  },
  {
   "cell_type": "code",
   "execution_count": null,
   "id": "b23d270b-6087-47f4-b1b2-fb51b63401b7",
   "metadata": {},
   "outputs": [],
   "source": []
  },
  {
   "cell_type": "code",
   "execution_count": 113,
   "id": "c0c153aa-87e6-467e-b5c8-368341469348",
   "metadata": {},
   "outputs": [
    {
     "data": {
      "text/plain": [
       "tensor([0.], requires_grad=True)"
      ]
     },
     "execution_count": 113,
     "metadata": {},
     "output_type": "execute_result"
    }
   ],
   "source": [
    "b"
   ]
  },
  {
   "cell_type": "code",
   "execution_count": 115,
   "id": "35c91d08-7268-4e63-9888-ddb23080de76",
   "metadata": {},
   "outputs": [],
   "source": [
    "\n",
    "optimizer=optim.SGD([W,b],lr=0.01) #使用反向传播算法计算梯度时，梯度值会累积在张量的 .grad 属性中。在进行参数更新之前，需要将梯度清零，以避免之前的梯度对新一轮的参数更新产生影响"
   ]
  },
  {
   "cell_type": "code",
   "execution_count": 116,
   "id": "695a93bd-e0c9-4fd5-adde-fc3004d9afcf",
   "metadata": {},
   "outputs": [],
   "source": [
    "optimizer.zero_grad()\n",
    "cost.backward()\n",
    "optimizer.step()"
   ]
  },
  {
   "cell_type": "code",
   "execution_count": 117,
   "id": "ed1b006c-8e76-4e75-a48b-4e1ac8d6591d",
   "metadata": {},
   "outputs": [
    {
     "name": "stdout",
     "output_type": "stream",
     "text": [
      "tensor([0.0933], requires_grad=True)\n",
      "tensor([0.0400], requires_grad=True)\n"
     ]
    }
   ],
   "source": [
    "print(W)\n",
    "print(b)"
   ]
  },
  {
   "cell_type": "code",
   "execution_count": 30,
   "id": "1b035a54-26c5-4ab2-9343-7c52b9f43b61",
   "metadata": {},
   "outputs": [],
   "source": [
    "def compute_loss(pred,target):\n",
    "    loss=target-pred\n",
    "    loss=torch.square(loss)\n",
    "    loss=loss.mean()\n",
    "    return loss"
   ]
  },
  {
   "cell_type": "code",
   "execution_count": 31,
   "id": "8bd420a7-8895-4bbe-bb39-24ee87de1813",
   "metadata": {},
   "outputs": [
    {
     "data": {
      "text/plain": [
       "tensor([[1.],\n",
       "        [2.],\n",
       "        [3.]])"
      ]
     },
     "execution_count": 31,
     "metadata": {},
     "output_type": "execute_result"
    }
   ],
   "source": [
    "y_train"
   ]
  },
  {
   "cell_type": "code",
   "execution_count": 32,
   "id": "fcd23172-6860-4235-84be-b6dec4307b35",
   "metadata": {},
   "outputs": [
    {
     "data": {
      "text/plain": [
       "tensor([[0.],\n",
       "        [0.],\n",
       "        [0.]], grad_fn=<AddBackward0>)"
      ]
     },
     "execution_count": 32,
     "metadata": {},
     "output_type": "execute_result"
    }
   ],
   "source": [
    "hypothesis"
   ]
  },
  {
   "cell_type": "code",
   "execution_count": 35,
   "id": "9203e74d-f504-4f90-8a98-e35714779c2a",
   "metadata": {},
   "outputs": [
    {
     "data": {
      "text/plain": [
       "tensor(4.6667, grad_fn=<MeanBackward0>)"
      ]
     },
     "execution_count": 35,
     "metadata": {},
     "output_type": "execute_result"
    }
   ],
   "source": [
    "loss=compute_loss(hypothesis,y_train)\n",
    "loss"
   ]
  },
  {
   "cell_type": "code",
   "execution_count": 36,
   "id": "ca464db4-08c0-40aa-8c5c-948cf7b75fa9",
   "metadata": {},
   "outputs": [
    {
     "data": {
      "text/plain": [
       "(tensor([0.], requires_grad=True), tensor([0.], requires_grad=True))"
      ]
     },
     "execution_count": 36,
     "metadata": {},
     "output_type": "execute_result"
    }
   ],
   "source": [
    "W,b"
   ]
  },
  {
   "cell_type": "code",
   "execution_count": null,
   "id": "89e28451-b078-43d4-9a35-57829dc56484",
   "metadata": {},
   "outputs": [],
   "source": [
    "lr=0.01"
   ]
  },
  {
   "cell_type": "code",
   "execution_count": 42,
   "id": "aa88eb52-af4d-4f42-886a-024f775183d1",
   "metadata": {},
   "outputs": [
    {
     "data": {
      "text/plain": [
       "tensor(4.6667, grad_fn=<MeanBackward0>)"
      ]
     },
     "execution_count": 42,
     "metadata": {},
     "output_type": "execute_result"
    }
   ],
   "source": [
    "loss"
   ]
  },
  {
   "cell_type": "code",
   "execution_count": 43,
   "id": "9a74a69d-b8c6-4481-8cdf-688a1a34c9f5",
   "metadata": {},
   "outputs": [
    {
     "name": "stdout",
     "output_type": "stream",
     "text": [
      "tensor(6.)\n"
     ]
    }
   ],
   "source": [
    " \n",
    "# 创建张量并设置 requires_grad=True\n",
    "x = torch.tensor(2.0, requires_grad=True)\n",
    "y = x**2 + 2*x + 1\n",
    "\n",
    "# 执行反向传播和计算梯度\n",
    "y.backward()\n",
    "\n",
    "# 访问梯度\n",
    "gradient = x.grad\n",
    "\n",
    "# 打印梯度\n",
    "print(gradient)\n"
   ]
  },
  {
   "cell_type": "code",
   "execution_count": 57,
   "id": "54806327-9a31-462f-955f-cc62afc96a29",
   "metadata": {},
   "outputs": [
    {
     "data": {
      "text/plain": [
       "tensor([0.7000, 1.2000, 1.7000], grad_fn=<AddBackward0>)"
      ]
     },
     "execution_count": 57,
     "metadata": {},
     "output_type": "execute_result"
    }
   ],
   "source": [
    "import torch\n",
    "\n",
    "# 定义损失函数\n",
    "loss_fn = torch.nn.MSELoss()\n",
    "\n",
    "# 定义输入和标签\n",
    "inputs = torch.tensor([1.0, 2.0, 3.0], requires_grad=True)\n",
    "labels = torch.tensor([2.0, 4.0, 6.0])\n",
    "\n",
    "# 定义模型参数\n",
    "w = torch.tensor(0.5, requires_grad=True)\n",
    "b = torch.tensor(0.2, requires_grad=True)\n",
    "\n",
    "# 前向传播\n",
    "outputs = w * inputs + b\n",
    "\n",
    "outputs\n"
   ]
  },
  {
   "cell_type": "code",
   "execution_count": 58,
   "id": "b8389064-eabe-484f-9921-d682ae7d499c",
   "metadata": {},
   "outputs": [
    {
     "data": {
      "text/plain": [
       "tensor(9.3400, grad_fn=<MseLossBackward>)"
      ]
     },
     "execution_count": 58,
     "metadata": {},
     "output_type": "execute_result"
    }
   ],
   "source": [
    "# 计算损失\n",
    "loss = loss_fn(outputs, labels)\n",
    "\n",
    "loss"
   ]
  },
  {
   "cell_type": "code",
   "execution_count": 56,
   "id": "67653a51-9aeb-4ff9-8d3e-f4b63ce8ffb1",
   "metadata": {},
   "outputs": [
    {
     "name": "stdout",
     "output_type": "stream",
     "text": [
      "tensor(-13.2000)\n",
      "tensor(-5.6000)\n"
     ]
    }
   ],
   "source": [
    "grad_w, grad_b = torch.autograd.grad(loss, (w, b) ) # 对谁求导就用谁(w, b)\n",
    "\n",
    "# 打印参数梯度\n",
    "print(grad_w)  # 输出参数 w 的梯度\n",
    "print(grad_b)  # 输出参数 b 的梯度 "
   ]
  },
  {
   "cell_type": "code",
   "execution_count": 59,
   "id": "becdf773-0128-4934-9a06-850bb4070e7d",
   "metadata": {},
   "outputs": [],
   "source": [
    "loss.backward()"
   ]
  },
  {
   "cell_type": "code",
   "execution_count": 62,
   "id": "4bee03ad-9fd6-4453-bca3-a0aaff1cf650",
   "metadata": {},
   "outputs": [
    {
     "data": {
      "text/plain": [
       "tensor(-13.2000)"
      ]
     },
     "execution_count": 62,
     "metadata": {},
     "output_type": "execute_result"
    }
   ],
   "source": [
    "w.grad"
   ]
  },
  {
   "cell_type": "code",
   "execution_count": 63,
   "id": "0ee1f7c5-8d77-4e6f-8904-deea0131efce",
   "metadata": {},
   "outputs": [
    {
     "data": {
      "text/plain": [
       "tensor(-5.6000)"
      ]
     },
     "execution_count": 63,
     "metadata": {},
     "output_type": "execute_result"
    }
   ],
   "source": [
    "b.grad"
   ]
  },
  {
   "cell_type": "markdown",
   "id": "915d811f-3e3b-4b1b-9660-14ffc819dcb3",
   "metadata": {},
   "source": [
    "### Linear regression"
   ]
  },
  {
   "cell_type": "code",
   "execution_count": 64,
   "id": "f6a811d7-8257-4e38-a4ec-feb1c8c854ab",
   "metadata": {},
   "outputs": [],
   "source": [
    "x_train=torch.FloatTensor([[1],[2],[3]])\n",
    "y_label=torch.FloatTensor([[1],[2],[3]])"
   ]
  },
  {
   "cell_type": "code",
   "execution_count": 65,
   "id": "40f02c17-01f7-4e54-a8b6-d90896723919",
   "metadata": {},
   "outputs": [
    {
     "data": {
      "text/plain": [
       "tensor([[1.],\n",
       "        [2.],\n",
       "        [3.]])"
      ]
     },
     "execution_count": 65,
     "metadata": {},
     "output_type": "execute_result"
    }
   ],
   "source": [
    "x_train"
   ]
  },
  {
   "cell_type": "code",
   "execution_count": 67,
   "id": "649af841-2696-4d5a-b1cc-2e13ff753208",
   "metadata": {},
   "outputs": [],
   "source": [
    "## 初始化参数\n",
    "w=torch.zeros(1,requires_grad=True)\n",
    "b=torch.zeros(1,requires_grad=True)"
   ]
  },
  {
   "cell_type": "code",
   "execution_count": 68,
   "id": "546dfa2d-18cb-4051-af16-03a23b639cde",
   "metadata": {},
   "outputs": [],
   "source": [
    "y_pred=x_train*w+b"
   ]
  },
  {
   "cell_type": "code",
   "execution_count": 69,
   "id": "c70c9109-4cc5-45bc-9141-3ad52de08993",
   "metadata": {},
   "outputs": [
    {
     "data": {
      "text/plain": [
       "tensor([[0.],\n",
       "        [0.],\n",
       "        [0.]], grad_fn=<AddBackward0>)"
      ]
     },
     "execution_count": 69,
     "metadata": {},
     "output_type": "execute_result"
    }
   ],
   "source": [
    "y_pred"
   ]
  },
  {
   "cell_type": "code",
   "execution_count": 71,
   "id": "8b8eb064-7c3c-4f96-89a1-b1e439c28539",
   "metadata": {},
   "outputs": [],
   "source": [
    "#loss\n",
    "loss=torch.nn.functional.mse_loss(y_pred,y_label)"
   ]
  },
  {
   "cell_type": "code",
   "execution_count": 73,
   "id": "fe78aab9-5b42-482f-89d5-1e023587b3ac",
   "metadata": {},
   "outputs": [],
   "source": [
    "## 最优化 参数更新\n",
    "optimzer=torch.optim.SGD([w,b],lr=0.01) # [w,b]-> model.parameters"
   ]
  },
  {
   "cell_type": "code",
   "execution_count": 74,
   "id": "88b8c411-525e-4a87-9aed-b7b85a76f84d",
   "metadata": {},
   "outputs": [],
   "source": [
    "optimzer.zero_grad()"
   ]
  },
  {
   "cell_type": "code",
   "execution_count": 75,
   "id": "a8770f59-fa44-4d18-9164-9095a89fef7e",
   "metadata": {},
   "outputs": [],
   "source": [
    "loss.backward()"
   ]
  },
  {
   "cell_type": "code",
   "execution_count": 76,
   "id": "5fcb2b51-3deb-4d27-b789-62d504773f65",
   "metadata": {},
   "outputs": [],
   "source": [
    "optimzer.step() # 参数更新"
   ]
  },
  {
   "cell_type": "code",
   "execution_count": 77,
   "id": "8b2d7bcf-8859-4396-8b23-4514121065dd",
   "metadata": {},
   "outputs": [
    {
     "data": {
      "text/plain": [
       "tensor([0.0933], requires_grad=True)"
      ]
     },
     "execution_count": 77,
     "metadata": {},
     "output_type": "execute_result"
    }
   ],
   "source": [
    "w"
   ]
  },
  {
   "cell_type": "code",
   "execution_count": 78,
   "id": "cace6cfa-8dfb-414c-8efb-c983bcc3f499",
   "metadata": {},
   "outputs": [
    {
     "data": {
      "text/plain": [
       "tensor([0.0400], requires_grad=True)"
      ]
     },
     "execution_count": 78,
     "metadata": {},
     "output_type": "execute_result"
    }
   ],
   "source": [
    "b"
   ]
  },
  {
   "cell_type": "code",
   "execution_count": 79,
   "id": "86ec0fc7-5b36-40dc-adde-9ee61461b571",
   "metadata": {},
   "outputs": [],
   "source": [
    "## Linear regression\n",
    "x_train=torch.FloatTensor([[1],[2],[3]])\n",
    "y_traget=torch.FloatTensor([[1],[2],[3]])\n"
   ]
  },
  {
   "cell_type": "code",
   "execution_count": 80,
   "id": "7b2d0deb-02a9-4fee-99bc-6f108911d97f",
   "metadata": {},
   "outputs": [],
   "source": [
    "## 参数\n",
    "w=torch.zeros(1,requires_grad=True)\n",
    "b=torch.zeros(1,requires_grad=True)"
   ]
  },
  {
   "cell_type": "code",
   "execution_count": 81,
   "id": "37675713-865f-4f94-a753-b4189fd13898",
   "metadata": {},
   "outputs": [],
   "source": [
    "y_pred=x_train*w+b"
   ]
  },
  {
   "cell_type": "code",
   "execution_count": 82,
   "id": "cf9f501c-9199-4014-9a65-ec51bbbe0c94",
   "metadata": {},
   "outputs": [],
   "source": [
    "loss=torch.nn.functional.mse_loss(y_pred,y_traget)"
   ]
  },
  {
   "cell_type": "code",
   "execution_count": 83,
   "id": "4a6a1f1f-62e9-433c-8c2d-2a3b9ad10377",
   "metadata": {},
   "outputs": [],
   "source": [
    "optimzer=torch.optim.SGD([w,b],lr=0.01)"
   ]
  },
  {
   "cell_type": "code",
   "execution_count": 84,
   "id": "ef5e2b9f-5fe5-435c-b862-efa818273634",
   "metadata": {},
   "outputs": [],
   "source": [
    "optimzer.zero_grad()\n",
    "loss.backward()\n",
    "optimzer.step()"
   ]
  },
  {
   "cell_type": "code",
   "execution_count": 85,
   "id": "40f493e5-a40d-47e6-b7c9-1d803652f107",
   "metadata": {},
   "outputs": [
    {
     "data": {
      "text/plain": [
       "(tensor([0.0933], requires_grad=True), tensor([0.0400], requires_grad=True))"
      ]
     },
     "execution_count": 85,
     "metadata": {},
     "output_type": "execute_result"
    }
   ],
   "source": [
    "w,b"
   ]
  },
  {
   "cell_type": "code",
   "execution_count": 86,
   "id": "1c82e984-ee02-4391-8bcc-ebe9c6475426",
   "metadata": {},
   "outputs": [],
   "source": [
    "y_pred=x_train*w+b"
   ]
  },
  {
   "cell_type": "code",
   "execution_count": 87,
   "id": "dcfa5d10-1b7d-4b88-b9b6-3c9aa29631b2",
   "metadata": {},
   "outputs": [
    {
     "data": {
      "text/plain": [
       "tensor([[0.1333],\n",
       "        [0.2267],\n",
       "        [0.3200]], grad_fn=<AddBackward0>)"
      ]
     },
     "execution_count": 87,
     "metadata": {},
     "output_type": "execute_result"
    }
   ],
   "source": [
    "y_pred"
   ]
  },
  {
   "cell_type": "code",
   "execution_count": 88,
   "id": "55e1a46f-0ade-4c66-a4c5-58abedbd8710",
   "metadata": {},
   "outputs": [],
   "source": [
    "loss=torch.nn.functional.mse_loss(y_pred,y_traget)"
   ]
  },
  {
   "cell_type": "code",
   "execution_count": 89,
   "id": "c7a9e91f-729a-4530-b73a-7c0656802f20",
   "metadata": {},
   "outputs": [
    {
     "data": {
      "text/plain": [
       "tensor(3.6927, grad_fn=<MseLossBackward>)"
      ]
     },
     "execution_count": 89,
     "metadata": {},
     "output_type": "execute_result"
    }
   ],
   "source": [
    "loss"
   ]
  },
  {
   "cell_type": "code",
   "execution_count": 93,
   "id": "b1fdc48e-3b80-4fc9-95dd-d411a84c9cb8",
   "metadata": {},
   "outputs": [],
   "source": [
    "### 更1000次\n",
    "from torch.nn.functional import mse_loss\n",
    "x_train=torch.FloatTensor([[1],[2],[3]])\n",
    "y_train=torch.FloatTensor([[1],[2],[3]])"
   ]
  },
  {
   "cell_type": "code",
   "execution_count": 94,
   "id": "ac18dc44-a0e8-4e7f-acb9-fa77976f1d1c",
   "metadata": {},
   "outputs": [
    {
     "name": "stdout",
     "output_type": "stream",
     "text": [
      "Epoch    0/1000 W: 0.093 b: 0.040  Cost: 4.666667\n",
      "Epoch  100/1000 W: 0.873 b: 0.289  Cost: 0.012043\n",
      "Epoch  200/1000 W: 0.900 b: 0.227  Cost: 0.007442\n",
      "Epoch  300/1000 W: 0.921 b: 0.179  Cost: 0.004598\n",
      "Epoch  400/1000 W: 0.938 b: 0.140  Cost: 0.002842\n",
      "Epoch  500/1000 W: 0.951 b: 0.110  Cost: 0.001756\n",
      "Epoch  600/1000 W: 0.962 b: 0.087  Cost: 0.001085\n",
      "Epoch  700/1000 W: 0.970 b: 0.068  Cost: 0.000670\n",
      "Epoch  800/1000 W: 0.976 b: 0.054  Cost: 0.000414\n",
      "Epoch  900/1000 W: 0.981 b: 0.042  Cost: 0.000256\n",
      "Epoch 1000/1000 W: 0.985 b: 0.033  Cost: 0.000158\n"
     ]
    }
   ],
   "source": [
    "W=torch.zeros(1,requires_grad=True)\n",
    "b=torch.zeros(1,requires_grad=True)\n",
    "optimzer=torch.optim.SGD([W,b],lr=0.01)\n",
    "epochs=1000\n",
    "for i in range(epochs+1):\n",
    "    y_pred=x_train*W+b\n",
    "    loss=mse_loss(y_pred,y_train)\n",
    "    optimzer.zero_grad()\n",
    "    loss.backward()\n",
    "    optimzer.step()\n",
    "    if i %100==0:\n",
    "        print('Epoch {:4d}/{} W: {:.3f} b:{: .3f}  Cost:{: .6f}'.format(i,epochs,W.item(),b.item(),loss.item()))"
   ]
  },
  {
   "cell_type": "code",
   "execution_count": 95,
   "id": "d69291b9-13fc-4677-9111-6dae4ed81209",
   "metadata": {},
   "outputs": [
    {
     "data": {
      "text/plain": [
       "tensor([0.9854], requires_grad=True)"
      ]
     },
     "execution_count": 95,
     "metadata": {},
     "output_type": "execute_result"
    }
   ],
   "source": [
    "W"
   ]
  },
  {
   "cell_type": "code",
   "execution_count": 96,
   "id": "10ebce87-16f1-48b9-a608-262eec900bb2",
   "metadata": {},
   "outputs": [
    {
     "data": {
      "text/plain": [
       "0.9854263663291931"
      ]
     },
     "execution_count": 96,
     "metadata": {},
     "output_type": "execute_result"
    }
   ],
   "source": [
    "W.item()"
   ]
  },
  {
   "cell_type": "code",
   "execution_count": 97,
   "id": "928bd6ca-ef00-4aca-a68d-eed76490e8ed",
   "metadata": {},
   "outputs": [],
   "source": [
    "## linear  regression whole "
   ]
  },
  {
   "cell_type": "code",
   "execution_count": 107,
   "id": "933216b9-7377-404b-ade7-077c59de1c65",
   "metadata": {},
   "outputs": [
    {
     "name": "stdout",
     "output_type": "stream",
     "text": [
      "epoch:    0/1000 W:0.093 b:0.040  loss：4.666667\n",
      "epoch:  100/1000 W:0.873 b:0.289  loss：0.012043\n",
      "epoch:  200/1000 W:0.900 b:0.227  loss：0.007442\n",
      "epoch:  300/1000 W:0.921 b:0.179  loss：0.004598\n",
      "epoch:  400/1000 W:0.938 b:0.140  loss：0.002842\n",
      "epoch:  500/1000 W:0.951 b:0.110  loss：0.001756\n",
      "epoch:  600/1000 W:0.962 b:0.087  loss：0.001085\n",
      "epoch:  700/1000 W:0.970 b:0.068  loss：0.000670\n",
      "epoch:  800/1000 W:0.976 b:0.054  loss：0.000414\n",
      "epoch:  900/1000 W:0.981 b:0.042  loss：0.000256\n",
      "epoch: 1000/1000 W:0.985 b:0.033  loss：0.000158\n"
     ]
    }
   ],
   "source": [
    "from torch.nn.functional import mse_loss\n",
    "x_train=torch.FloatTensor([[1],[2],[3]])\n",
    "y_train=torch.FloatTensor([[1],[2],[3]])\n",
    "W= torch.zeros(1,requires_grad=True)\n",
    "b=torch.zeros(1,requires_grad=True)\n",
    "optimzer=torch.optim.SGD([W,b],lr=0.01)\n",
    "epochs=1000\n",
    "for i in range(epochs+1):\n",
    "    y_pred=x_train*W+b\n",
    "    loss=mse_loss(y_pred,y_train)\n",
    "    optimzer.zero_grad()\n",
    "    loss.backward()\n",
    "    optimzer.step()\n",
    "    if i%100==0:\n",
    "        print(\"epoch: {:4d}/{} W:{:.3f} b:{:.3f}  loss：{:.6f}\".format(i,epochs,W.item(),b.item(),loss.item()))\n",
    "\n",
    "\n",
    "\n",
    "\n",
    "\n",
    "\n",
    "\n",
    "\n",
    "\n",
    "\n",
    "\n",
    "\n",
    "\n",
    "\n"
   ]
  },
  {
   "cell_type": "code",
   "execution_count": 108,
   "id": "9cdbd33d-7b97-44a9-b111-d278cc847057",
   "metadata": {},
   "outputs": [],
   "source": [
    "## nn.Module"
   ]
  },
  {
   "cell_type": "code",
   "execution_count": 127,
   "id": "23a2e33d-7add-48d3-a1f3-1c90d18eab4f",
   "metadata": {},
   "outputs": [],
   "source": [
    "x_train = torch.FloatTensor([[1], [2], [3]])\n",
    "y_train = torch.FloatTensor([[1], [2], [3]])"
   ]
  },
  {
   "cell_type": "code",
   "execution_count": 128,
   "id": "5f41f47c-648b-46ae-bb50-3895a11dd4ff",
   "metadata": {},
   "outputs": [
    {
     "data": {
      "text/plain": [
       "torch.Size([3, 1])"
      ]
     },
     "execution_count": 128,
     "metadata": {},
     "output_type": "execute_result"
    }
   ],
   "source": [
    "y_train.shape"
   ]
  },
  {
   "cell_type": "code",
   "execution_count": 129,
   "id": "d9461247-c1b0-4b81-b175-24bd7355773d",
   "metadata": {},
   "outputs": [],
   "source": [
    "class LinearRegression(nn.Module):\n",
    "    def __init__(self):\n",
    "        super().__init__()\n",
    "        self.linear=nn.Linear(1,1)\n",
    "    def forward(self,x):\n",
    "        return self.linear(x)"
   ]
  },
  {
   "cell_type": "code",
   "execution_count": 130,
   "id": "adc17744-0e3c-4c45-aa69-6b105a249f38",
   "metadata": {},
   "outputs": [],
   "source": [
    "model=LinearRegression()"
   ]
  },
  {
   "cell_type": "code",
   "execution_count": 131,
   "id": "7e92b435-5554-473b-8ab7-e1d2b9b0e91e",
   "metadata": {},
   "outputs": [
    {
     "data": {
      "text/plain": [
       "tensor([[ 0.3030],\n",
       "        [ 0.0973],\n",
       "        [-0.1084]], grad_fn=<AddmmBackward>)"
      ]
     },
     "execution_count": 131,
     "metadata": {},
     "output_type": "execute_result"
    }
   ],
   "source": [
    "model(x_train)"
   ]
  },
  {
   "cell_type": "code",
   "execution_count": 132,
   "id": "5e9928ca-7d22-45db-8aea-d12665e0f78e",
   "metadata": {},
   "outputs": [
    {
     "name": "stdout",
     "output_type": "stream",
     "text": [
      "epoch:    0/1000 W:0.000 b:0.000  loss：4.589475\n",
      "epoch:  100/1000 W:0.000 b:0.000  loss：4.589475\n",
      "epoch:  200/1000 W:0.000 b:0.000  loss：4.589475\n",
      "epoch:  300/1000 W:0.000 b:0.000  loss：4.589475\n",
      "epoch:  400/1000 W:0.000 b:0.000  loss：4.589475\n",
      "epoch:  500/1000 W:0.000 b:0.000  loss：4.589475\n",
      "epoch:  600/1000 W:0.000 b:0.000  loss：4.589475\n",
      "epoch:  700/1000 W:0.000 b:0.000  loss：4.589475\n",
      "epoch:  800/1000 W:0.000 b:0.000  loss：4.589475\n",
      "epoch:  900/1000 W:0.000 b:0.000  loss：4.589475\n",
      "epoch: 1000/1000 W:0.000 b:0.000  loss：4.589475\n"
     ]
    }
   ],
   "source": [
    "from torch.nn.functional import mse_loss\n",
    "x_train=torch.FloatTensor([[1],[2],[3]])\n",
    "y_train=torch.FloatTensor([[1],[2],[3]])\n",
    "W= torch.zeros(1,requires_grad=True)\n",
    "b=torch.zeros(1,requires_grad=True)\n",
    "optimzer=torch.optim.SGD([W,b],lr=0.01)\n",
    "epochs=1000\n",
    "for i in range(epochs+1):\n",
    "    y_pred=model(x_train)\n",
    "    loss=mse_loss(y_pred,y_train)\n",
    "    optimzer.zero_grad()\n",
    "    loss.backward()\n",
    "    optimzer.step()\n",
    "    if i%100==0:\n",
    "        print(\"epoch: {:4d}/{} W:{:.3f} b:{:.3f}  loss：{:.6f}\".format(i,epochs,W.item(),b.item(),loss.item()))\n"
   ]
  },
  {
   "cell_type": "code",
   "execution_count": 137,
   "id": "de36fa5e-2fbc-4c4a-b9c4-ebe8ad43e454",
   "metadata": {},
   "outputs": [
    {
     "name": "stdout",
     "output_type": "stream",
     "text": [
      "epoch:    0/1000 W:0.031 b:-0.045  loss：5.766424\n",
      "epoch:  100/1000 W:0.890 b:0.251  loss：0.009079\n",
      "epoch:  200/1000 W:0.913 b:0.197  loss：0.005610\n",
      "epoch:  300/1000 W:0.932 b:0.155  loss：0.003467\n",
      "epoch:  400/1000 W:0.946 b:0.122  loss：0.002142\n",
      "epoch:  500/1000 W:0.958 b:0.096  loss：0.001324\n",
      "epoch:  600/1000 W:0.967 b:0.075  loss：0.000818\n",
      "epoch:  700/1000 W:0.974 b:0.059  loss：0.000505\n",
      "epoch:  800/1000 W:0.980 b:0.047  loss：0.000312\n",
      "epoch:  900/1000 W:0.984 b:0.037  loss：0.000193\n",
      "epoch: 1000/1000 W:0.987 b:0.029  loss：0.000119\n"
     ]
    }
   ],
   "source": [
    "### 标准流程\n",
    "x_train=torch.FloatTensor([[1],[2],[3]])\n",
    "y_train=torch.FloatTensor([[1],[2],[3]])\n",
    " \n",
    "\n",
    "class LinearRegression(nn.Module):\n",
    "    def __init__(self):\n",
    "        super(). __init__()\n",
    "        self.linear=nn.Linear(1,1)\n",
    "    def forward(self,x):\n",
    "        return self.linear(x)\n",
    "    \n",
    "model=LinearRegression()\n",
    "optimzer=torch.optim.SGD(model.parameters(),lr=0.01)\n",
    "epochs=1000\n",
    "for i in range(epochs+1):\n",
    "    y_pred=model(x_train)\n",
    "    loss=mse_loss(y_pred,y_train)\n",
    "    optimzer.zero_grad()\n",
    "    loss.backward()\n",
    "    optimzer.step()\n",
    "    if i%100==0:\n",
    "        params = list(model.parameters())\n",
    "        W = params[0]\n",
    "        b = params[1]\n",
    "        print(\"epoch: {:4d}/{} W:{:.3f} b:{:.3f}  loss：{:.6f}\".format(i,epochs,W.item(),b.item(),loss.item()))\n",
    "\n",
    "\n",
    "\n",
    "\n",
    "\n",
    "\n",
    "\n",
    "\n",
    "\n",
    "\n",
    "\n",
    "\n",
    "\n",
    "\n",
    "\n",
    "\n",
    "\n",
    "\n",
    "\n",
    "\n",
    "\n"
   ]
  },
  {
   "cell_type": "code",
   "execution_count": 134,
   "id": "04b1df18-79c5-4604-a6c6-4d93f0c88cdd",
   "metadata": {},
   "outputs": [
    {
     "ename": "SyntaxError",
     "evalue": "invalid character in identifier (2711337827.py, line 8)",
     "output_type": "error",
     "traceback": [
      "\u001b[0;36m  File \u001b[0;32m\"/tmp/ipykernel_145/2711337827.py\"\u001b[0;36m, line \u001b[0;32m8\u001b[0m\n\u001b[0;31m    ​\u001b[0m\n\u001b[0m    ^\u001b[0m\n\u001b[0;31mSyntaxError\u001b[0m\u001b[0;31m:\u001b[0m invalid character in identifier\n"
     ]
    }
   ],
   "source": [
    "# 데이터\n",
    "x_train = torch.FloatTensor([[1], [2], [3]])\n",
    "y_train = torch.FloatTensor([[1], [2], [3]])\n",
    "# 모델 초기화\n",
    "model = LinearRegressionModel()\n",
    "# optimizer 설정\n",
    "optimizer = optim.SGD(model.parameters(), lr=0.01)\n",
    "​\n",
    "nb_epochs = 1000\n",
    "for epoch in range(nb_epochs + 1):\n",
    "    \n",
    "    # H(x) 계산\n",
    "    prediction = model(x_train)\n",
    "    \n",
    "    # cost 계산\n",
    "    cost = F.mse_loss(prediction, y_train)\n",
    "    \n",
    "    # cost로 H(x) 개선\n",
    "    optimizer.zero_grad()\n",
    "    cost.backward()\n",
    "    optimizer.step()\n",
    "    \n",
    "    # 100번마다 로그 출력\n",
    "    if epoch % 100 == 0:\n",
    "        params = list(model.parameters())\n",
    "        W = params[0].item()\n",
    "        b = params[1].item()\n",
    "        print('Epoch {:4d}/{} W: {:.3f}, b: {:.3f} Cost: {:.6f}'.format(\n",
    "            epoch, nb_epochs, W, b, cost.item()\n",
    "        ))"
   ]
  },
  {
   "cell_type": "code",
   "execution_count": 5,
   "id": "c48cc6f1-bb8e-47b1-af71-a1355132bf02",
   "metadata": {},
   "outputs": [
    {
     "name": "stdout",
     "output_type": "stream",
     "text": [
      "epoch:    0/1000 W:0.1513 b: -0.1929 loss:  5.127514\n",
      "epoch:  100/1000 W:0.9477 b: 0.1188 loss:  0.002036\n",
      "epoch:  200/1000 W:0.9589 b: 0.0934 loss:  0.001258\n",
      "epoch:  300/1000 W:0.9677 b: 0.0734 loss:  0.000777\n",
      "epoch:  400/1000 W:0.9746 b: 0.0577 loss:  0.000480\n",
      "epoch:  500/1000 W:0.9800 b: 0.0454 loss:  0.000297\n",
      "epoch:  600/1000 W:0.9843 b: 0.0357 loss:  0.000183\n",
      "epoch:  700/1000 W:0.9877 b: 0.0280 loss:  0.000113\n",
      "epoch:  800/1000 W:0.9903 b: 0.0220 loss:  0.000070\n",
      "epoch:  900/1000 W:0.9924 b: 0.0173 loss:  0.000043\n",
      "epoch: 1000/1000 W:0.9940 b: 0.0136 loss:  0.000027\n"
     ]
    }
   ],
   "source": [
    "import torch\n",
    "import torch.nn.functional  as F\n",
    "import torch.nn as nn\n",
    "x_train=torch.FloatTensor([[1],[2],[3]])\n",
    "y_train=torch.FloatTensor([[1],[2],[3]])\n",
    "class LinearRegression(nn.Module):\n",
    "    def __init__(self):\n",
    "        super(). __init__()\n",
    "        self.linear=nn.Linear(1,1)\n",
    "    def forward(self,x):\n",
    "        return self.linear(x)\n",
    "model=LinearRegression()\n",
    "optimzer=torch.optim.SGD(model.parameters(),lr=0.01)\n",
    "epochs=1000\n",
    "for i in range(epochs+1):\n",
    "    y_pred= model(x_train)\n",
    "    loss=F.mse_loss(y_pred,y_train)\n",
    "    optimzer.zero_grad()\n",
    "    loss.backward()\n",
    "    optimzer.step()\n",
    "    if i%100==0:\n",
    "        a=list(model.parameters())\n",
    "        W=a[0].item()\n",
    "        b=a[1].item()\n",
    "        print(\"epoch: {:4d}/{} W:{:.4f} b: {:.4f} loss: {: .6f}\".format(i,epochs,W,b,loss.item())  )\n",
    "\n",
    "\n",
    "\n"
   ]
  },
  {
   "cell_type": "code",
   "execution_count": null,
   "id": "098819e9-f3db-4755-b0d3-613b7ad28f39",
   "metadata": {},
   "outputs": [],
   "source": []
  }
 ],
 "metadata": {
  "kernelspec": {
   "display_name": "Python 3 (ipykernel)",
   "language": "python",
   "name": "python3"
  },
  "language_info": {
   "codemirror_mode": {
    "name": "ipython",
    "version": 3
   },
   "file_extension": ".py",
   "mimetype": "text/x-python",
   "name": "python",
   "nbconvert_exporter": "python",
   "pygments_lexer": "ipython3",
   "version": "3.8.10"
  }
 },
 "nbformat": 4,
 "nbformat_minor": 5
}
