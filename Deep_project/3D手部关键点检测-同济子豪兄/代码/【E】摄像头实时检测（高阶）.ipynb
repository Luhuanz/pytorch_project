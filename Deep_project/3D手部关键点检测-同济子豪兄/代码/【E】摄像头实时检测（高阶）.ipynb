{
 "cells": [
  {
   "cell_type": "markdown",
   "metadata": {},
   "source": [
    "B站：同济子豪兄（https://space.bilibili.com/1900783）\n",
    "\n",
    "微信公众号：人工智能小技巧\n",
    "\n",
    "张子豪 2021-07-12"
   ]
  },
  {
   "cell_type": "markdown",
   "metadata": {},
   "source": [
    "# 导入工具包"
   ]
  },
  {
   "cell_type": "code",
   "execution_count": 1,
   "metadata": {},
   "outputs": [],
   "source": [
    "# opencv-python\n",
    "import cv2\n",
    "# mediapipe人工智能工具包\n",
    "import mediapipe as mp\n",
    "# 进度条库\n",
    "from tqdm import tqdm\n",
    "# 时间库\n",
    "import time"
   ]
  },
  {
   "cell_type": "markdown",
   "metadata": {},
   "source": [
    "# 导入模型"
   ]
  },
  {
   "cell_type": "code",
   "execution_count": 2,
   "metadata": {},
   "outputs": [],
   "source": [
    "# 导入solution\n",
    "mp_hands = mp.solutions.hands\n",
    "# 导入模型\n",
    "hands = mp_hands.Hands(static_image_mode=False,        # 是静态图片还是连续视频帧\n",
    "                       max_num_hands=2,                # 最多检测几只手\n",
    "                       min_detection_confidence=0.7,   # 置信度阈值\n",
    "                       min_tracking_confidence=0.5)    # 追踪阈值\n",
    "# 导入绘图函数\n",
    "mpDraw = mp.solutions.drawing_utils "
   ]
  },
  {
   "cell_type": "markdown",
   "metadata": {},
   "source": [
    "# 处理单帧的函数"
   ]
  },
  {
   "cell_type": "code",
   "execution_count": 3,
   "metadata": {},
   "outputs": [],
   "source": [
    "def process_frame(img):\n",
    "    \n",
    "    '''\n",
    "    B站：同济子豪兄（https://space.bilibili.com/1900783）\n",
    "\n",
    "    微信公众号：人工智能小技巧\n",
    "    '''\n",
    "    \n",
    "    # 记录该帧开始处理的时间\n",
    "    start_time = time.time()\n",
    "    \n",
    "    # 获取图像宽高\n",
    "    h, w = img.shape[0], img.shape[1]\n",
    "\n",
    "    # 水平镜像翻转图像，使图中左右手与真实左右手对应\n",
    "    # 参数 1：水平翻转，0：竖直翻转，-1：水平和竖直都翻转\n",
    "    img = cv2.flip(img, 1)\n",
    "    # BGR转RGB\n",
    "    img_RGB = cv2.cvtColor(img, cv2.COLOR_BGR2RGB)\n",
    "    \n",
    "    # 将RGB图像输入模型，获取预测结果\n",
    "    results = hands.process(img_RGB)\n",
    "\n",
    "    if results.multi_hand_landmarks: # 如果有检测到手\n",
    "\n",
    "        handness_str = ''\n",
    "        index_finger_tip_str = ''\n",
    "        for hand_idx in range(len(results.multi_hand_landmarks)):\n",
    "\n",
    "            # 获取该手的21个关键点坐标\n",
    "            hand_21 = results.multi_hand_landmarks[hand_idx]\n",
    "\n",
    "            # 可视化关键点及骨架连线\n",
    "            mpDraw.draw_landmarks(img, hand_21, mp_hands.HAND_CONNECTIONS)\n",
    "\n",
    "            # 记录左右手信息\n",
    "            temp_handness = results.multi_handedness[hand_idx].classification[0].label\n",
    "            handness_str += '{}:{} '.format(hand_idx, temp_handness)\n",
    "\n",
    "            # 获取手腕根部深度坐标\n",
    "            cz0 = hand_21.landmark[0].z\n",
    "\n",
    "            for i in range(21): # 遍历该手的21个关键点\n",
    "\n",
    "                # 获取3D坐标\n",
    "                cx = int(hand_21.landmark[i].x * w)\n",
    "                cy = int(hand_21.landmark[i].y * h)\n",
    "                cz = hand_21.landmark[i].z\n",
    "                depth_z = cz0 - cz\n",
    "\n",
    "                # 用圆的半径反映深度大小\n",
    "                radius = max(int(6 * (1 + depth_z*5)), 0)\n",
    "\n",
    "                if i == 0: # 手腕\n",
    "                    img = cv2.circle(img,(cx,cy), radius, (0,0,255), -1)\n",
    "                if i == 8: # 食指指尖\n",
    "                    img = cv2.circle(img,(cx,cy), radius, (193,182,255), -1)\n",
    "                    # 将相对于手腕的深度距离显示在画面中\n",
    "                    index_finger_tip_str += '{}:{:.2f} '.format(hand_idx, depth_z)\n",
    "                if i in [1,5,9,13,17]: # 指根\n",
    "                    img = cv2.circle(img,(cx,cy), radius, (16,144,247), -1)\n",
    "                if i in [2,6,10,14,18]: # 第一指节\n",
    "                    img = cv2.circle(img,(cx,cy), radius, (1,240,255), -1)\n",
    "                if i in [3,7,11,15,19]: # 第二指节\n",
    "                    img = cv2.circle(img,(cx,cy), radius, (140,47,240), -1)\n",
    "                if i in [4,12,16,20]: # 指尖（除食指指尖）\n",
    "                    img = cv2.circle(img,(cx,cy), radius, (223,155,60), -1)\n",
    "\n",
    "        scaler = 1\n",
    "        img = cv2.putText(img, handness_str, (25 * scaler, 100 * scaler), cv2.FONT_HERSHEY_SIMPLEX, 1.25 * scaler, (255, 0, 255), 2 * scaler)\n",
    "        img = cv2.putText(img, index_finger_tip_str, (25 * scaler, 150 * scaler), cv2.FONT_HERSHEY_SIMPLEX, 1.25 * scaler, (255, 0, 255), 2 * scaler)\n",
    "        \n",
    "        # 记录该帧处理完毕的时间\n",
    "        end_time = time.time()\n",
    "        # 计算每秒处理图像帧数FPS\n",
    "        FPS = 1/(end_time - start_time)\n",
    "\n",
    "        # 在图像上写FPS数值，参数依次为：图片，添加的文字，左上角坐标，字体，字体大小，颜色，字体粗细\n",
    "        img = cv2.putText(img, 'FPS  '+str(int(FPS)), (25 * scaler, 50 * scaler), cv2.FONT_HERSHEY_SIMPLEX, 1.25 * scaler, (255, 0, 255), 2 * scaler)\n",
    "    return img"
   ]
  },
  {
   "cell_type": "markdown",
   "metadata": {},
   "source": [
    "# 调用摄像头获取每帧（模板）"
   ]
  },
  {
   "cell_type": "code",
   "execution_count": 4,
   "metadata": {},
   "outputs": [],
   "source": [
    "# 调用摄像头逐帧实时处理模板\n",
    "# 不需修改任何代码，只需定义process_frame函数即可\n",
    "# 同济子豪兄 2021-7-8\n",
    "\n",
    "# 导入opencv-python\n",
    "import cv2\n",
    "import time\n",
    "\n",
    "# 获取摄像头，传入0表示获取系统默认摄像头\n",
    "cap = cv2.VideoCapture(0)\n",
    "\n",
    "# 打开cap\n",
    "cap.open(0)\n",
    "\n",
    "# 无限循环，直到break被触发\n",
    "while cap.isOpened():\n",
    "    # 获取画面\n",
    "    success, frame = cap.read()\n",
    "    if not success:\n",
    "        break\n",
    "    \n",
    "    ## !!!处理帧函数\n",
    "    frame = process_frame(frame)\n",
    "    \n",
    "    # 展示处理后的三通道图像\n",
    "    cv2.imshow('my_window', frame)\n",
    "\n",
    "    if cv2.waitKey(1) in [ord('q'),27]: # 按键盘上的q或esc退出（在英文输入法下）\n",
    "        break\n",
    "    \n",
    "# 关闭摄像头\n",
    "cap.release()\n",
    "\n",
    "# 关闭图像窗口\n",
    "cv2.destroyAllWindows()"
   ]
  },
  {
   "cell_type": "code",
   "execution_count": null,
   "metadata": {},
   "outputs": [],
   "source": []
  }
 ],
 "metadata": {
  "kernelspec": {
   "display_name": "Python 3",
   "language": "python",
   "name": "python3"
  },
  "language_info": {
   "codemirror_mode": {
    "name": "ipython",
    "version": 3
   },
   "file_extension": ".py",
   "mimetype": "text/x-python",
   "name": "python",
   "nbconvert_exporter": "python",
   "pygments_lexer": "ipython3",
   "version": "3.8.3"
  },
  "latex_envs": {
   "LaTeX_envs_menu_present": true,
   "autoclose": false,
   "autocomplete": true,
   "bibliofile": "biblio.bib",
   "cite_by": "apalike",
   "current_citInitial": 1,
   "eqLabelWithNumbers": true,
   "eqNumInitial": 1,
   "hotkeys": {
    "equation": "Ctrl-E",
    "itemize": "Ctrl-I"
   },
   "labels_anchors": false,
   "latex_user_defs": false,
   "report_style_numbering": false,
   "user_envs_cfg": false
  },
  "toc": {
   "base_numbering": 1,
   "nav_menu": {},
   "number_sections": true,
   "sideBar": true,
   "skip_h1_title": false,
   "title_cell": "Table of Contents",
   "title_sidebar": "Contents",
   "toc_cell": false,
   "toc_position": {},
   "toc_section_display": true,
   "toc_window_display": false
  }
 },
 "nbformat": 4,
 "nbformat_minor": 5
}
