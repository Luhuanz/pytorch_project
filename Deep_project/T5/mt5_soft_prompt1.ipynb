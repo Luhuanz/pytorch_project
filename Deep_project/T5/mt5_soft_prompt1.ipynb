{
 "cells": [
  {
   "cell_type": "code",
   "execution_count": 1,
   "metadata": {
    "colab": {
     "base_uri": "https://localhost:8080/"
    },
    "id": "u8xBtDGlxvz4",
    "outputId": "a0837408-171a-4437-ff03-3d43b82c0730"
   },
   "outputs": [
    {
     "name": "stdout",
     "output_type": "stream",
     "text": [
      "Tue Mar  7 09:49:47 2023       \n",
      "+-----------------------------------------------------------------------------+\n",
      "| NVIDIA-SMI 525.89.02    Driver Version: 525.89.02    CUDA Version: 12.0     |\n",
      "|-------------------------------+----------------------+----------------------+\n",
      "| GPU  Name        Persistence-M| Bus-Id        Disp.A | Volatile Uncorr. ECC |\n",
      "| Fan  Temp  Perf  Pwr:Usage/Cap|         Memory-Usage | GPU-Util  Compute M. |\n",
      "|                               |                      |               MIG M. |\n",
      "|===============================+======================+======================|\n",
      "|   0  Tesla V100-PCIE...  On   | 00000000:67:03.0 Off |                  Off |\n",
      "| N/A   34C    P0    27W / 250W |      0MiB / 32768MiB |      0%      Default |\n",
      "|                               |                      |                  N/A |\n",
      "+-------------------------------+----------------------+----------------------+\n",
      "                                                                               \n",
      "+-----------------------------------------------------------------------------+\n",
      "| Processes:                                                                  |\n",
      "|  GPU   GI   CI        PID   Type   Process name                  GPU Memory |\n",
      "|        ID   ID                                                   Usage      |\n",
      "|=============================================================================|\n",
      "|  No running processes found                                                 |\n",
      "+-----------------------------------------------------------------------------+\n"
     ]
    }
   ],
   "source": [
    "!nvidia-smi"
   ]
  },
  {
   "cell_type": "code",
   "execution_count": 4,
   "metadata": {
    "colab": {
     "base_uri": "https://localhost:8080/"
    },
    "id": "rbpX3_9PxzVE",
    "outputId": "60193622-45ea-4e77-c7a1-e452637533f2"
   },
   "outputs": [
    {
     "name": "stdout",
     "output_type": "stream",
     "text": [
      "Looking in indexes: https://repo.huaweicloud.com/repository/pypi/simple\n",
      "Requirement already satisfied: transformers in ./miniconda3/lib/python3.8/site-packages (4.26.1)\n",
      "Requirement already satisfied: SentencePiece in ./miniconda3/lib/python3.8/site-packages (0.1.97)\n",
      "Requirement already satisfied: torch in ./miniconda3/lib/python3.8/site-packages (1.10.0+cu113)\n",
      "Requirement already satisfied: tqdm in ./miniconda3/lib/python3.8/site-packages (4.61.2)\n",
      "Requirement already satisfied: filelock in ./miniconda3/lib/python3.8/site-packages (from transformers) (3.9.0)\n",
      "Requirement already satisfied: requests in ./miniconda3/lib/python3.8/site-packages (from transformers) (2.25.1)\n",
      "Requirement already satisfied: tokenizers!=0.11.3,<0.14,>=0.11.1 in ./miniconda3/lib/python3.8/site-packages (from transformers) (0.13.2)\n",
      "Requirement already satisfied: pyyaml>=5.1 in ./miniconda3/lib/python3.8/site-packages (from transformers) (6.0)\n",
      "Requirement already satisfied: numpy>=1.17 in ./miniconda3/lib/python3.8/site-packages (from transformers) (1.21.4)\n",
      "Requirement already satisfied: regex!=2019.12.17 in ./miniconda3/lib/python3.8/site-packages (from transformers) (2022.10.31)\n",
      "Requirement already satisfied: packaging>=20.0 in ./miniconda3/lib/python3.8/site-packages (from transformers) (21.3)\n",
      "Requirement already satisfied: huggingface-hub<1.0,>=0.11.0 in ./miniconda3/lib/python3.8/site-packages (from transformers) (0.12.0)\n",
      "Requirement already satisfied: typing-extensions>=3.7.4.3 in ./miniconda3/lib/python3.8/site-packages (from huggingface-hub<1.0,>=0.11.0->transformers) (4.0.0)\n",
      "Requirement already satisfied: pyparsing!=3.0.5,>=2.0.2 in ./miniconda3/lib/python3.8/site-packages (from packaging>=20.0->transformers) (3.0.6)\n",
      "Requirement already satisfied: certifi>=2017.4.17 in ./miniconda3/lib/python3.8/site-packages (from requests->transformers) (2021.5.30)\n",
      "Requirement already satisfied: idna<3,>=2.5 in ./miniconda3/lib/python3.8/site-packages (from requests->transformers) (2.10)\n",
      "Requirement already satisfied: urllib3<1.27,>=1.21.1 in ./miniconda3/lib/python3.8/site-packages (from requests->transformers) (1.26.6)\n",
      "Requirement already satisfied: chardet<5,>=3.0.2 in ./miniconda3/lib/python3.8/site-packages (from requests->transformers) (4.0.0)\n",
      "\u001b[33mWARNING: Running pip as the 'root' user can result in broken permissions and conflicting behaviour with the system package manager. It is recommended to use a virtual environment instead: https://pip.pypa.io/warnings/venv\u001b[0m\n"
     ]
    }
   ],
   "source": [
    "!pip install transformers SentencePiece torch tqdm\n"
   ]
  },
  {
   "cell_type": "code",
   "execution_count": 5,
   "metadata": {},
   "outputs": [
    {
     "name": "stdout",
     "output_type": "stream",
     "text": [
      "Looking in indexes: https://repo.huaweicloud.com/repository/pypi/simple\n",
      "Collecting scikit-learn\n",
      "  Downloading https://repo.huaweicloud.com/repository/pypi/packages/f0/95/0ea0a2412e33080a47ec02802210c008a7a540471581c95145f030d304b4/scikit_learn-1.2.1-cp38-cp38-manylinux_2_17_x86_64.manylinux2014_x86_64.whl (9.8 MB)\n",
      "\u001b[K     |████████████████████████████████| 9.8 MB 22.2 MB/s eta 0:00:01\n",
      "\u001b[?25hRequirement already satisfied: numpy>=1.17.3 in ./miniconda3/lib/python3.8/site-packages (from scikit-learn) (1.21.4)\n",
      "Collecting threadpoolctl>=2.0.0\n",
      "  Downloading https://repo.huaweicloud.com/repository/pypi/packages/61/cf/6e354304bcb9c6413c4e02a747b600061c21d38ba51e7e544ac7bc66aecc/threadpoolctl-3.1.0-py3-none-any.whl (14 kB)\n",
      "Collecting scipy>=1.3.2\n",
      "  Downloading https://repo.huaweicloud.com/repository/pypi/packages/56/af/6a2b90fe280e89466d84747054667f74b84a8304f75931a173090919991f/scipy-1.9.3-cp38-cp38-manylinux_2_17_x86_64.manylinux2014_x86_64.whl (33.8 MB)\n",
      "\u001b[K     |████████████████████████████████| 33.8 MB 54.7 MB/s eta 0:00:01\n",
      "\u001b[?25hCollecting scikit-learn\n",
      "  Downloading https://repo.huaweicloud.com/repository/pypi/packages/92/03/02d3123d9462c6325e67731e7582f96904f514ede5b0666524c1bc25c053/scikit_learn-1.2.0-cp38-cp38-manylinux_2_17_x86_64.manylinux2014_x86_64.whl (9.7 MB)\n",
      "\u001b[K     |████████████████████████████████| 9.7 MB 50.0 MB/s eta 0:00:01\n",
      "\u001b[?25h  Downloading https://repo.huaweicloud.com/repository/pypi/packages/f9/90/b76a42bb6e97d3296787c8926e7610b0485918a2efa219a9614eb1a068b2/scikit_learn-1.1.3-cp38-cp38-manylinux_2_17_x86_64.manylinux2014_x86_64.whl (31.2 MB)\n",
      "\u001b[K     |████████████████████████████████| 31.2 MB 62.8 MB/s eta 0:00:01     |███████████████████████████████ | 30.2 MB 62.8 MB/s eta 0:00:01\n",
      "\u001b[?25hCollecting joblib>=1.0.0\n",
      "  Downloading https://repo.huaweicloud.com/repository/pypi/packages/3e/d5/0163eb0cfa0b673aa4fe1cd3ea9d8a81ea0f32e50807b0c295871e4aab2e/joblib-1.1.0-py2.py3-none-any.whl (306 kB)\n",
      "\u001b[K     |████████████████████████████████| 306 kB 32.1 MB/s eta 0:00:01\n",
      "\u001b[?25hInstalling collected packages: threadpoolctl, scipy, joblib, scikit-learn\n",
      "Successfully installed joblib-1.1.0 scikit-learn-1.1.3 scipy-1.9.3 threadpoolctl-3.1.0\n",
      "\u001b[33mWARNING: Running pip as the 'root' user can result in broken permissions and conflicting behaviour with the system package manager. It is recommended to use a virtual environment instead: https://pip.pypa.io/warnings/venv\u001b[0m\n"
     ]
    }
   ],
   "source": [
    "!pip install -U scikit-learn"
   ]
  },
  {
   "cell_type": "code",
   "execution_count": 6,
   "metadata": {
    "id": "sqiBMWGHx3Yx"
   },
   "outputs": [],
   "source": [
    "import math\n",
    "from tqdm import tqdm\n",
    "import numpy as np\n",
    "from transformers import MT5ForConditionalGeneration, T5Tokenizer\n",
    "import torch\n",
    "import torch.nn as nn\n",
    "from sklearn.metrics import accuracy_score"
   ]
  },
  {
   "cell_type": "code",
   "execution_count": 7,
   "metadata": {
    "id": "w9dorhOHyydQ"
   },
   "outputs": [],
   "source": [
    "class SoftEmbedding(nn.Module):\n",
    "    def __init__(self, \n",
    "                wte: nn.Embedding,\n",
    "                n_tokens: int = 10, \n",
    "                random_range: float = 0.5,\n",
    "                initialize_from_vocab: bool = True):\n",
    "        #它的构造函数需要传入一个原始的transformer word embedding（wte），\n",
    "        #n_tokens表示任务需要的标记数量，默认为10\n",
    "        #random_range表示初始化embedding时使用的随机范围，默认为0.5，\n",
    "        #initialize_from_vocab表示是否从默认的vocab中初始化embedding，默认为True\n",
    "        #    这个类用来给模型附加一个用于学习的embedding\n",
    "        super(SoftEmbedding, self).__init__()\n",
    "        self.wte = wte\n",
    "        self.n_tokens = n_tokens\n",
    "        #这行代码的作用是将 initialize_embedding 方法返回的 tensor 转化为 nn.Parameter，并将其赋值给 self.learned_embedding。\n",
    "        #nn.parameter.Parameter 是 nn.Parameter 的别名，用于将一个 tensor 转化为一个可优化的参数。在 PyTorch 中，需要优化的参数都需要被包装为 nn.Parameter 类型。\n",
    "      #nn.parameter.Parameter 的输入可以是任意 shape 的 tensor，它会被包装为一个 nn.Parameter 对象，并保存在一个 module 中。\n",
    "    #在这个 module 中，这个 nn.Parameter 对象可以像其他 PyTorch 的 tensor 一样使用，但它还可以被注册到 optimizer 中，从而被优化器更新它的值。\n",
    "    #通常情况下，nn.Embedding 的嵌入向量是随机初始化的，并不是根据特定的预先训练好的词向量来初始化的。但是，也可以将预训练好的词向量加载到 nn.Embedding 中，以便更好地初始化嵌入向量。\n",
    "        self.learned_embedding = nn.parameter.Parameter(self.initialize_embedding(wte,\n",
    "                                                                                  n_tokens, \n",
    "                                                                                  random_range, \n",
    "                                                                                initialize_from_vocab))\n",
    " #(n_tokens, embedding_size)，其中 embedding_size 是原始 Transformer word embedding 的维度（通常是 768 或 1024 等）。\n",
    "#该 tensor 的每一行表示一个 token 的 embedding。           \n",
    "    def initialize_embedding(self, \n",
    "                             wte: nn.Embedding,\n",
    "                             n_tokens: int = 10, \n",
    "                             random_range: float = 0.5, \n",
    "                             initialize_from_vocab: bool = True):\n",
    "        \"\"\"initializes learned embedding\n",
    "        Args:\n",
    "            same as __init__\n",
    "        Returns:\n",
    "            torch.float: initialized using original schemes\n",
    "        \"\"\"\n",
    "         # 有两种初始化方式，一种是从预训练模型copy一部分token，进行训练\n",
    "        # 另一种是随机生成一部分训练\n",
    "        # 结果上来说区别不大\n",
    " #如果 initialize_from_vocab 为 True，则会从原始的 Transformer word embedding 中复制前 n_tokens 个 token 对应的 embedding 作为 self.learned_embedding 的初始值。\n",
    "        #这里使用 .clone().detach() 的原因是为了避免共享原始 embedding 的权重，从而使得 self.learned_embedding 的值独立于原始 embedding 的值\n",
    "        if initialize_from_vocab:\n",
    "            return self.wte.weight[:n_tokens].clone().detach()\n",
    "#如果 initialize_from_vocab 为 False，则会随机生成一个形状为 (n_tokens, embedding_size) 的 tensor 作为 self.learned_embedding 的初始值，\n",
    "#其中 tensor 中每个元素的值都在 [-random_range, random_range] 的范围内随机生成。\n",
    "#这种初始化方式通常用于在没有预训练模型的情况下训练自定义任务。\n",
    "        return torch.FloatTensor(n_tokens, wte.weight.size(1)).uniform_(-random_range, random_range)\n",
    "            \n",
    "    def forward(self, tokens):\n",
    "        \"\"\"run forward pass\n",
    "        Args:\n",
    "            tokens (torch.long): input tokens before encoding\n",
    "        Returns:\n",
    "            torch.float: encoding of text concatenated with learned task specifc embedding\n",
    "        \"\"\"\n",
    "#self.wte 是一个 nn.Embedding 类的实例，它接收一个大小为 (batch_size, sequence_length) 的张量作为输入，其中每个元素都是一个代表单词在词表中索引的整数。\n",
    "#tokens 张量的形状为 (batch_size, sequence_length)        \n",
    "        input_embedding = self.wte(tokens[:, self.n_tokens:])\n",
    "        learned_embedding = self.learned_embedding.repeat(input_embedding.size(0), 1, 1)\n",
    "         # 把我们新加入的固定长度的，用于代表任务的prompt embedding，和实际的embedding合并\n",
    "        return torch.cat([learned_embedding, input_embedding], 1)"
   ]
  },
  {
   "cell_type": "code",
   "execution_count": 8,
   "metadata": {
    "colab": {
     "base_uri": "https://localhost:8080/"
    },
    "id": "We6vNt5ukkBJ",
    "outputId": "929c1d31-dd37-4cd1-d4d5-3a9667eea948"
   },
   "outputs": [
    {
     "name": "stdout",
     "output_type": "stream",
     "text": [
      "Looking in indexes: https://repo.huaweicloud.com/repository/pypi/simple\n",
      "Collecting zh-dataset-inews\n",
      "  Downloading https://repo.huaweicloud.com/repository/pypi/packages/94/fc/ff3c59f09108ee6a8884cce9e1bd54ea6dda2af1b1de35cf3a11363f19b6/zh_dataset_inews-0.0.2-py3-none-any.whl (11.3 MB)\n",
      "\u001b[K     |████████████████████████████████| 11.3 MB 69 kB/s eta 0:00:01     |█████████                       | 3.2 MB 1.6 MB/s eta 0:00:06\n",
      "\u001b[?25hInstalling collected packages: zh-dataset-inews\n",
      "Successfully installed zh-dataset-inews-0.0.2\n",
      "\u001b[33mWARNING: Running pip as the 'root' user can result in broken permissions and conflicting behaviour with the system package manager. It is recommended to use a virtual environment instead: https://pip.pypa.io/warnings/venv\u001b[0m\n"
     ]
    }
   ],
   "source": [
    "#zh-dataset-inews 是一个用于中文文本分类任务的数据集，包含了10个类别的新闻文本，每个类别有大约3000条数据。这个数据集在国内的一些NLP竞赛中被广泛使用。\n",
    "!pip install zh-dataset-inews"
   ]
  },
  {
   "cell_type": "code",
   "execution_count": 9,
   "metadata": {
    "id": "biQD2_aB6v8s"
   },
   "outputs": [],
   "source": [
    "#这行代码引入了 zh_dataset_inews 数据集中的训练集、验证集和测试集数据。\n",
    "#title_train 是一个列表，包含了训练集中所有新闻的标题，label_train 是一个列表，包含了训练集中所有新闻的标签。\n",
    "#title_dev 和 label_dev 分别是验证集中的新闻标题和标签，title_test 和 label_test 分别是测试集中的新闻标题和标签。\n",
    "from zh_dataset_inews import title_train, label_train, title_dev, label_dev, title_test, label_test"
   ]
  },
  {
   "cell_type": "code",
   "execution_count": 10,
   "metadata": {
    "id": "LfF_Z4qu0z3a"
   },
   "outputs": [],
   "source": [
    "def generate_data(batch_size, n_tokens, title_data, label_data):\n",
    "#定义了一个labels列表，其中存储了三个Tensor，用于将标签转换为模型所需的形式。\n",
    "    labels = [\n",
    "        torch.tensor([[3]]),  # \\x00\n",
    "        torch.tensor([[4]]),  # \\x01\n",
    "        torch.tensor([[5]]),  # \\x02\n",
    "    ]\n",
    "\n",
    "    def yield_data(x_batch, y_batch, l_batch):\n",
    "# 对 x_batch 进行 padding 操作，将不同长度的文本填充到相同长度。\n",
    "#x_batch 中的每个元素都是一个 token id 列表，通过 padding 后，这些列表会组成一个形状为 (batch_size, max_len) 的张量 x，\n",
    "#其中 max_len 是 x_batch 中最长的 token id 列表的长度。 如果 batch_first=True，则 x 的第一个维度是 batch size，否则 x 的第二个维度是 batch size。\n",
    "        x = torch.nn.utils.rnn.pad_sequence(x_batch, batch_first=True)\n",
    "    #y_batch 是一个列表，包含了当前 batch 中所有数据的标签，dim=0 意味着沿着第 0 维进行拼接，也就是将每个标签数据按照行的方向拼接在一起。\n",
    "        y = torch.cat(y_batch, dim=0)\n",
    "#这一行代码是创建一个 mask tensor，这个 tensor 的维度和输入的 x tensor 是相同的，但是它的元素都是 0 或 1。对于 x tensor 中的每个元素，\n",
    "#如果它是一个 padding token，那么它对应的 mask tensor 中的元素就是 0，否则就是 1\n",
    "        m = (x > 0).to(torch.float32) \n",
    "#这行代码是创建一个形状为 (batch_size, n_tokens) 的张量，其中所有的元素都被填充为数字 1。这个张量会被作为解码器的输入，用于生成模型的输出\n",
    "        decoder_input_ids = torch.full((x.size(0), n_tokens), 1)\n",
    "        if torch.cuda.is_available():\n",
    "            x = x.cuda()\n",
    "            y = y.cuda()\n",
    "            m = m.cuda()\n",
    "            decoder_input_ids = decoder_input_ids.cuda()\n",
    "        return x, y, m, decoder_input_ids, l_batch\n",
    "\n",
    "    x_batch, y_batch, l_batch = [], [], []\n",
    "    for x, y in zip(title_data, label_data):\n",
    "        context = x\n",
    "#首先将其文本内容 context 传递给 tokenizer 进行分词和编码，得到一个 PyTorch 张量 inputs。其中 return_tensors=\"pt\" 表示 tokenizer 函数会返回一个 PyTorch 张量。\n",
    "        inputs = tokenizer(context, return_tensors=\"pt\")\n",
    "#这行代码将一个值为1的张量拼接在每个样本的输入标记之前，即在输入标记的最前面添加一个初始标记（start token）\n",
    "#这个 start token 可以被看做是一个类似于语言模型中的起始标记，用于指示生成序列的起点。\n",
    "        inputs['input_ids'] = torch.cat([torch.full((1, n_tokens), 1), inputs['input_ids']], 1)\n",
    "        l_batch.append(y)\n",
    "        y = labels[y]\n",
    "        y = torch.cat([torch.full((1, n_tokens - 1), -100), y], 1)\n",
    "        x_batch.append(inputs['input_ids'][0])\n",
    "        y_batch.append(y)\n",
    "#这段代码是为了生成一个batch的数据。如果当前数据集中的数据量达到了指定的batch size，就返回一个batch的数据，然后将 x_batch、y_batch 和 l_batch 清空，\n",
    "#以便下一个batch的数据填充。如果当前数据集中的数据量不足一个batch size，那么就不返回任何数据。\n",
    "        if len(x_batch) >= batch_size:\n",
    "            yield yield_data(x_batch, y_batch, l_batch) #label_batch\n",
    "            x_batch, y_batch, l_batch = [], [], []\n",
    "\n",
    "    if len(x_batch) > 0:\n",
    "        yield yield_data(x_batch, y_batch, l_batch)\n",
    "        x_batch, y_batch, l_batch = [], [], []"
   ]
  },
  {
   "cell_type": "code",
   "execution_count": 31,
   "metadata": {},
   "outputs": [
    {
     "data": {
      "text/plain": [
       "torch.Size([1, 99])"
      ]
     },
     "execution_count": 31,
     "metadata": {},
     "output_type": "execute_result"
    }
   ],
   "source": [
    "torch.full((1, n_tokens - 1), -100).shape # -100"
   ]
  },
  {
   "cell_type": "code",
   "execution_count": 38,
   "metadata": {},
   "outputs": [
    {
     "data": {
      "text/plain": [
       "tensor([[2, 2]])"
      ]
     },
     "execution_count": 38,
     "metadata": {},
     "output_type": "execute_result"
    }
   ],
   "source": [
    "torch.tensor([2, 2]).unsqueeze(0)"
   ]
  },
  {
   "cell_type": "code",
   "execution_count": 37,
   "metadata": {},
   "outputs": [
    {
     "data": {
      "text/plain": [
       "tensor([[-100, -100, -100, -100, -100, -100, -100, -100, -100, -100, -100, -100,\n",
       "         -100, -100, -100, -100, -100, -100, -100, -100, -100, -100, -100, -100,\n",
       "         -100, -100, -100, -100, -100, -100, -100, -100, -100, -100, -100, -100,\n",
       "         -100, -100, -100, -100, -100, -100, -100, -100, -100, -100, -100, -100,\n",
       "         -100, -100, -100, -100, -100, -100, -100, -100, -100, -100, -100, -100,\n",
       "         -100, -100, -100, -100, -100, -100, -100, -100, -100, -100, -100, -100,\n",
       "         -100, -100, -100, -100, -100, -100, -100, -100, -100, -100, -100, -100,\n",
       "         -100, -100, -100, -100, -100, -100, -100, -100, -100, -100, -100, -100,\n",
       "         -100, -100, -100,    2,    2]])"
      ]
     },
     "execution_count": 37,
     "metadata": {},
     "output_type": "execute_result"
    }
   ],
   "source": [
    "torch.cat([torch.full((1, n_tokens - 1), -100), torch.tensor([2, 2]).unsqueeze(0)], 1)"
   ]
  },
  {
   "cell_type": "code",
   "execution_count": 11,
   "metadata": {
    "colab": {
     "base_uri": "https://localhost:8080/",
     "height": 177,
     "referenced_widgets": [
      "88c88a80fe4244dc8519ed9a9d4a7fad",
      "012192e864f6471e9336264b77f9d047",
      "b71062f17e064547b91634af273e6d40",
      "8ce567f99b614fdc99ef7053ce718b23",
      "05fab04f6d6f46f6bccc8cbfa22a88a2",
      "caa18d30298b4ad7be2e9ceda2f395b8",
      "0f7b84c5523b48fabd4f79d8b8d80fa9",
      "f982a7f0aad440fbb5c4497c3fd1d15e",
      "1ebe5477942940abaf722f6963f9b0e8",
      "60d985a36d434ee996f616952a7c7612",
      "bde84bfa5da2408ca9eda7c9b39291ad",
      "ac7114b8298b45bda89d9e822d0f0ffd",
      "e6ae18a1e8144dada46879db37e8cdef",
      "702c7b9308b646c1bdd0ca2387776c25",
      "686aca97abba439e81e430f1c33224dc",
      "61ee6d1f21bf41c89488dbcfb99f4d5d",
      "abd066dddd434d63ae737bb56c67de79",
      "9269f66db7d24a6da268fa98c33d6f02",
      "81d5b9f593dd4f36894e32a5d0360d1d",
      "f15396c431f34835bbe2eeb65dfd16a4",
      "0ce264acdaa8432b9715bdc42344b0aa",
      "5a46f6fdc4784422b652653b05d1c691",
      "268502a8a7204b5cbbae12de9c63ed1c",
      "71118489f6ff49a989d91f5325359b77",
      "542cfc0efdeb436da7d4c789ae3a722d",
      "f77f512b44bf481cb8846404350b9ab2",
      "2d4e4125f1ed417bb2cfe878468b2966",
      "354e1cdb54874df192f9f4f190035efa",
      "3e2b5c8ec31149838dcacfcc78f2087a",
      "562e3a57010c4ca5af045c3c33500a28",
      "53b33d44e6354bb6af52775f1ed6b9dd",
      "e26e613b94f94d539d027c3ceb496903",
      "65b77629789f45b6ab5105f893c7b1cc",
      "c95d9ed3d1ed43bebf121392906414fa",
      "f258c1cc75474d1392a9368c51550c45",
      "2c9e861a76054c738afefb8620500773",
      "e6af025bf3744cb2a3017199a8dc185c",
      "d3371fb6455440d48684cfe9d4829eff",
      "33dab107c44d407689a375e420f8710d",
      "3649756bf03e40698c7dc32941daada0",
      "1a6214d3c8984950a0a86fb5fcdf0e6d",
      "e2a23791a7a5484fb3e3b08931555a3f",
      "5f7b4216db414a2a8c024b814049d1c1",
      "9e6dc5881f1a446d915fa00ef1f778ce",
      "f4cfe43af5c2497aaefef587324c861e",
      "b67d7a6803da4ece97c3ab69aa7547e8",
      "2237a78e60eb437d8562d9b74bd98360",
      "f5c1da4f42d54e5ba9d4f7782a7554b0",
      "41517d0e2fd74aa08b04a5b9a4ac665d",
      "d2b1ed49e9d946c289b9db7fadf94992",
      "72d55badd64a441eb02e9d547281c82e",
      "3fd60e410f434de0bcb061a7fca394ba",
      "7ebab85482134e1db1a62d584dd1f1e6",
      "62345a490f2c48129bc3e29b42638439",
      "7af5f84e9e21429d993d06062b50209a"
     ]
    },
    "id": "5NKTnNidXnzS",
    "outputId": "a522bba1-2370-4cae-88e1-a0583a84f046"
   },
   "outputs": [
    {
     "data": {
      "application/vnd.jupyter.widget-view+json": {
       "model_id": "db0eeb52984047d09bc1e62488bb3f60",
       "version_major": 2,
       "version_minor": 0
      },
      "text/plain": [
       "Downloading (…)lve/main/config.json:   0%|          | 0.00/702 [00:00<?, ?B/s]"
      ]
     },
     "metadata": {},
     "output_type": "display_data"
    },
    {
     "data": {
      "application/vnd.jupyter.widget-view+json": {
       "model_id": "823fe9030a93478590b40323ea1c6d0a",
       "version_major": 2,
       "version_minor": 0
      },
      "text/plain": [
       "Downloading (…)\"pytorch_model.bin\";:   0%|          | 0.00/2.33G [00:00<?, ?B/s]"
      ]
     },
     "metadata": {},
     "output_type": "display_data"
    },
    {
     "data": {
      "application/vnd.jupyter.widget-view+json": {
       "model_id": "3c4daf3376dc4e78b4502031443d10e3",
       "version_major": 2,
       "version_minor": 0
      },
      "text/plain": [
       "Downloading (…)neration_config.json:   0%|          | 0.00/147 [00:00<?, ?B/s]"
      ]
     },
     "metadata": {},
     "output_type": "display_data"
    },
    {
     "data": {
      "application/vnd.jupyter.widget-view+json": {
       "model_id": "ac5d83cebeb4431fb819a4d59153b39a",
       "version_major": 2,
       "version_minor": 0
      },
      "text/plain": [
       "Downloading (…)ve/main/spiece.model:   0%|          | 0.00/4.31M [00:00<?, ?B/s]"
      ]
     },
     "metadata": {},
     "output_type": "display_data"
    },
    {
     "data": {
      "application/vnd.jupyter.widget-view+json": {
       "model_id": "9426cb2a1b0745669f7aa3c389b07a6b",
       "version_major": 2,
       "version_minor": 0
      },
      "text/plain": [
       "Downloading (…)cial_tokens_map.json:   0%|          | 0.00/65.0 [00:00<?, ?B/s]"
      ]
     },
     "metadata": {},
     "output_type": "display_data"
    },
    {
     "data": {
      "application/vnd.jupyter.widget-view+json": {
       "model_id": "b79cf7de07b04332a1da2dd07e3a9810",
       "version_major": 2,
       "version_minor": 0
      },
      "text/plain": [
       "Downloading (…)okenizer_config.json:   0%|          | 0.00/376 [00:00<?, ?B/s]"
      ]
     },
     "metadata": {},
     "output_type": "display_data"
    }
   ],
   "source": [
    "model = MT5ForConditionalGeneration.from_pretrained(\"google/mt5-base\")\n",
    "tokenizer = T5Tokenizer.from_pretrained(\"google/mt5-base\")\n",
    "n_tokens = 100\n",
    "s_wte = SoftEmbedding(model.get_input_embeddings(), \n",
    "                      n_tokens=n_tokens, \n",
    "                      initialize_from_vocab=True)\n",
    "#model.set_input_embeddings 是一个 PyTorch 函数，用于设置模型的输入嵌入。\n",
    "#在这个函数中，我们将输入嵌入替换为我们自己的 SoftEmbedding 类，以便能够根据模型的需要动态地生成嵌入向量。\n",
    "model.set_input_embeddings(s_wte)\n",
    "if torch.cuda.is_available():\n",
    "    model = model.cuda()"
   ]
  },
  {
   "cell_type": "code",
   "execution_count": 14,
   "metadata": {
    "id": "eaKnkA8M4Am4"
   },
   "outputs": [],
   "source": [
    "parameters = list(model.parameters())\n",
    "for x in parameters[1:]:  # frozen\n",
    "    x.requires_grad = False"
   ]
  },
  {
   "cell_type": "code",
   "execution_count": 15,
   "metadata": {
    "colab": {
     "base_uri": "https://localhost:8080/"
    },
    "id": "YR1cPDym4LYi",
    "outputId": "ff52fc7b-6408-4675-b6be-ed59b6fa83e5"
   },
   "outputs": [
    {
     "data": {
      "text/plain": [
       "Parameter containing:\n",
       "tensor([[ 1.7500e+00, -1.6719e+00,  2.4062e+00,  ...,  6.9580e-03,\n",
       "         -9.8828e-01, -4.6875e-01],\n",
       "        [ 8.5625e+00,  5.5625e+00, -1.7109e+00,  ...,  7.7812e+00,\n",
       "         -5.2812e+00, -3.2188e+00],\n",
       "        [ 6.8750e-01, -4.5312e-01,  5.7812e-01,  ...,  7.3828e-01,\n",
       "         -3.0078e-01,  2.0312e-01],\n",
       "        ...,\n",
       "        [-4.9219e-01,  1.9141e-01, -4.3555e-01,  ..., -8.0469e-01,\n",
       "         -4.3359e-01,  5.8594e-01],\n",
       "        [ 4.9609e-01,  1.1797e+00,  3.7109e-01,  ...,  1.7090e-01,\n",
       "         -2.5195e-01, -3.3789e-01],\n",
       "        [ 1.6328e+00,  3.4961e-01,  3.9062e-01,  ...,  1.9336e-01,\n",
       "         -7.4219e-01,  3.1836e-01]], device='cuda:0', requires_grad=True)"
      ]
     },
     "execution_count": 15,
     "metadata": {},
     "output_type": "execute_result"
    }
   ],
   "source": [
    "parameters[0]"
   ]
  },
  {
   "cell_type": "code",
   "execution_count": 16,
   "metadata": {
    "colab": {
     "base_uri": "https://localhost:8080/"
    },
    "id": "b20PaXQA4L4n",
    "outputId": "3420515b-5aca-4309-faae-0934a06e3f1d"
   },
   "outputs": [
    {
     "data": {
      "text/plain": [
       "Parameter containing:\n",
       "tensor([[-1.3977e-02,  3.8818e-02,  5.7129e-02,  ...,  4.9316e-02,\n",
       "         -8.1177e-03, -3.8147e-03],\n",
       "        [ 6.3965e-02, -1.0193e-02, -2.0020e-02,  ..., -8.3618e-03,\n",
       "         -1.1902e-02, -2.6978e-02],\n",
       "        [-1.6357e-02, -4.4922e-02,  4.8584e-02,  ..., -1.6479e-02,\n",
       "         -4.0039e-02,  6.3782e-03],\n",
       "        ...,\n",
       "        [ 7.7820e-03, -6.5918e-03, -3.9062e-03,  ...,  1.9165e-02,\n",
       "          7.4863e-05, -2.6001e-02],\n",
       "        [-1.4587e-02,  1.8433e-02, -2.6489e-02,  ..., -3.9062e-02,\n",
       "         -4.0527e-02,  4.1992e-02],\n",
       "        [ 7.8125e-02,  1.6602e-02,  6.4941e-02,  ...,  4.2152e-04,\n",
       "          4.5166e-02, -1.1780e-02]], device='cuda:0')"
      ]
     },
     "execution_count": 16,
     "metadata": {},
     "output_type": "execute_result"
    }
   ],
   "source": [
    "parameters[2]"
   ]
  },
  {
   "cell_type": "code",
   "execution_count": 11,
   "metadata": {
    "id": "c07hoCo44MP-"
   },
   "outputs": [],
   "source": []
  },
  {
   "cell_type": "code",
   "execution_count": 43,
   "metadata": {
    "id": "uXKtiZOPkKwZ"
   },
   "outputs": [
    {
     "name": "stdout",
     "output_type": "stream",
     "text": [
      "torch.Size([8, 125])\n",
      "-----------------------------------------------------------------------\n",
      "torch.Size([8, 125])\n",
      "-----------------------------------------------------------------------\n",
      "torch.Size([8, 100])\n",
      "-----------------------------------------------------------------------\n",
      "[1, 1, 0, 2, 2, 2, 1, 2]\n",
      "-----------------------------------------------------------------------\n",
      "torch.Size([8, 100])\n"
     ]
    }
   ],
   "source": [
    "for x, y, m, dii, true_labels in generate_data(8, n_tokens, title_train, label_train):\n",
    "    assert dii.shape == y.shape\n",
    "    print(x.shape)\n",
    "    print(\"-----------------------------------------------------------------------\")\n",
    "    print(m.shape)\n",
    "    print(\"-----------------------------------------------------------------------\")\n",
    "    print(dii.shape)\n",
    "    print(\"-----------------------------------------------------------------------\")\n",
    "    print(true_labels)\n",
    "    print(\"-----------------------------------------------------------------------\")\n",
    "    print(y.shape)\n",
    "    outputs = model(input_ids=x, labels=y, attention_mask=m, decoder_input_ids=dii)\n",
    "    assert outputs['logits'].shape[:2] == y.shape\n",
    "#这行代码的作用是从模型的输出 outputs 中取出最后一个时刻的输出结果 logits，然后从中选择第3到第5个元素（即3,4,5）作为标签预测的结果，再使用 .argmax(-1) 取出每个样本中最大的概率对应的下标，\n",
    "#然后使用 .detach().cpu().numpy().tolist() 将结果转化为 Python 的列表并返回。\n",
    "    pred_labels = outputs['logits'][:, -1, 3:6].argmax(-1).detach().cpu().numpy().tolist()\n",
    "    break"
   ]
  },
  {
   "cell_type": "code",
   "execution_count": 44,
   "metadata": {
    "colab": {
     "base_uri": "https://localhost:8080/"
    },
    "id": "RdZ3dTfK3-ob",
    "outputId": "cb4f3c57-1b7f-42da-fa77-faca0d5da318"
   },
   "outputs": [
    {
     "name": "stdout",
     "output_type": "stream",
     "text": [
      "epoch 0\n"
     ]
    },
    {
     "name": "stderr",
     "output_type": "stream",
     "text": [
      "train: loss=0.0679, acc=0.4835: 100%|██████████| 335/335 [01:46<00:00,  3.14it/s]\n",
      "dev: loss=0.8667, acc=0.4925: 100%|██████████| 63/63 [00:09<00:00,  6.63it/s]\n"
     ]
    },
    {
     "name": "stdout",
     "output_type": "stream",
     "text": [
      "epoch 1\n"
     ]
    },
    {
     "name": "stderr",
     "output_type": "stream",
     "text": [
      "train: loss=0.0601, acc=0.4986:  94%|█████████▍| 315/335 [01:40<00:06,  3.14it/s]\n"
     ]
    },
    {
     "ename": "KeyboardInterrupt",
     "evalue": "",
     "output_type": "error",
     "traceback": [
      "\u001b[0;31m---------------------------------------------------------------------------\u001b[0m",
      "\u001b[0;31mKeyboardInterrupt\u001b[0m                         Traceback (most recent call last)",
      "\u001b[0;32m/tmp/ipykernel_135/3726781070.py\u001b[0m in \u001b[0;36m<module>\u001b[0;34m\u001b[0m\n\u001b[1;32m     30\u001b[0m         \u001b[0;32melse\u001b[0m\u001b[0;34m:\u001b[0m\u001b[0;34m\u001b[0m\u001b[0;34m\u001b[0m\u001b[0m\n\u001b[1;32m     31\u001b[0m             \u001b[0mloss\u001b[0m \u001b[0;34m=\u001b[0m \u001b[0moutputs\u001b[0m\u001b[0;34m.\u001b[0m\u001b[0mloss\u001b[0m\u001b[0;34m\u001b[0m\u001b[0;34m\u001b[0m\u001b[0m\n\u001b[0;32m---> 32\u001b[0;31m         \u001b[0mloss\u001b[0m\u001b[0;34m.\u001b[0m\u001b[0mbackward\u001b[0m\u001b[0;34m(\u001b[0m\u001b[0;34m)\u001b[0m\u001b[0;34m\u001b[0m\u001b[0;34m\u001b[0m\u001b[0m\n\u001b[0m\u001b[1;32m     33\u001b[0m         \u001b[0moptimizer\u001b[0m\u001b[0;34m.\u001b[0m\u001b[0mstep\u001b[0m\u001b[0;34m(\u001b[0m\u001b[0;34m)\u001b[0m\u001b[0;34m\u001b[0m\u001b[0;34m\u001b[0m\u001b[0m\n\u001b[1;32m     34\u001b[0m         \u001b[0mloss_value\u001b[0m \u001b[0;34m=\u001b[0m \u001b[0mfloat\u001b[0m\u001b[0;34m(\u001b[0m\u001b[0mloss\u001b[0m\u001b[0;34m.\u001b[0m\u001b[0mdetach\u001b[0m\u001b[0;34m(\u001b[0m\u001b[0;34m)\u001b[0m\u001b[0;34m.\u001b[0m\u001b[0mcpu\u001b[0m\u001b[0;34m(\u001b[0m\u001b[0;34m)\u001b[0m\u001b[0;34m.\u001b[0m\u001b[0mnumpy\u001b[0m\u001b[0;34m(\u001b[0m\u001b[0;34m)\u001b[0m\u001b[0;34m.\u001b[0m\u001b[0mtolist\u001b[0m\u001b[0;34m(\u001b[0m\u001b[0;34m)\u001b[0m\u001b[0;34m)\u001b[0m \u001b[0;34m/\u001b[0m \u001b[0mbatch_size\u001b[0m\u001b[0;34m\u001b[0m\u001b[0;34m\u001b[0m\u001b[0m\n",
      "\u001b[0;32m~/miniconda3/lib/python3.8/site-packages/torch/_tensor.py\u001b[0m in \u001b[0;36mbackward\u001b[0;34m(self, gradient, retain_graph, create_graph, inputs)\u001b[0m\n\u001b[1;32m    305\u001b[0m                 \u001b[0mcreate_graph\u001b[0m\u001b[0;34m=\u001b[0m\u001b[0mcreate_graph\u001b[0m\u001b[0;34m,\u001b[0m\u001b[0;34m\u001b[0m\u001b[0;34m\u001b[0m\u001b[0m\n\u001b[1;32m    306\u001b[0m                 inputs=inputs)\n\u001b[0;32m--> 307\u001b[0;31m         \u001b[0mtorch\u001b[0m\u001b[0;34m.\u001b[0m\u001b[0mautograd\u001b[0m\u001b[0;34m.\u001b[0m\u001b[0mbackward\u001b[0m\u001b[0;34m(\u001b[0m\u001b[0mself\u001b[0m\u001b[0;34m,\u001b[0m \u001b[0mgradient\u001b[0m\u001b[0;34m,\u001b[0m \u001b[0mretain_graph\u001b[0m\u001b[0;34m,\u001b[0m \u001b[0mcreate_graph\u001b[0m\u001b[0;34m,\u001b[0m \u001b[0minputs\u001b[0m\u001b[0;34m=\u001b[0m\u001b[0minputs\u001b[0m\u001b[0;34m)\u001b[0m\u001b[0;34m\u001b[0m\u001b[0;34m\u001b[0m\u001b[0m\n\u001b[0m\u001b[1;32m    308\u001b[0m \u001b[0;34m\u001b[0m\u001b[0m\n\u001b[1;32m    309\u001b[0m     \u001b[0;32mdef\u001b[0m \u001b[0mregister_hook\u001b[0m\u001b[0;34m(\u001b[0m\u001b[0mself\u001b[0m\u001b[0;34m,\u001b[0m \u001b[0mhook\u001b[0m\u001b[0;34m)\u001b[0m\u001b[0;34m:\u001b[0m\u001b[0;34m\u001b[0m\u001b[0;34m\u001b[0m\u001b[0m\n",
      "\u001b[0;32m~/miniconda3/lib/python3.8/site-packages/torch/autograd/__init__.py\u001b[0m in \u001b[0;36mbackward\u001b[0;34m(tensors, grad_tensors, retain_graph, create_graph, grad_variables, inputs)\u001b[0m\n\u001b[1;32m    152\u001b[0m         \u001b[0mretain_graph\u001b[0m \u001b[0;34m=\u001b[0m \u001b[0mcreate_graph\u001b[0m\u001b[0;34m\u001b[0m\u001b[0;34m\u001b[0m\u001b[0m\n\u001b[1;32m    153\u001b[0m \u001b[0;34m\u001b[0m\u001b[0m\n\u001b[0;32m--> 154\u001b[0;31m     Variable._execution_engine.run_backward(\n\u001b[0m\u001b[1;32m    155\u001b[0m         \u001b[0mtensors\u001b[0m\u001b[0;34m,\u001b[0m \u001b[0mgrad_tensors_\u001b[0m\u001b[0;34m,\u001b[0m \u001b[0mretain_graph\u001b[0m\u001b[0;34m,\u001b[0m \u001b[0mcreate_graph\u001b[0m\u001b[0;34m,\u001b[0m \u001b[0minputs\u001b[0m\u001b[0;34m,\u001b[0m\u001b[0;34m\u001b[0m\u001b[0;34m\u001b[0m\u001b[0m\n\u001b[1;32m    156\u001b[0m         allow_unreachable=True, accumulate_grad=True)  # allow_unreachable flag\n",
      "\u001b[0;31mKeyboardInterrupt\u001b[0m: "
     ]
    }
   ],
   "source": [
    "batch_size = 16\n",
    "n_epoch = 50\n",
    "total_batch = math.ceil(len(title_train) / batch_size)\n",
    "dev_total_batch = math.ceil(len(title_dev) / batch_size)\n",
    "use_ce_loss = True\n",
    "ce_loss = nn.CrossEntropyLoss()\n",
    "optimizer = torch.optim.Adam(s_wte.parameters(), lr=0.5)\n",
    "\n",
    "for epoch in range(n_epoch):\n",
    "    print('epoch', epoch)\n",
    "\n",
    "    all_true_labels = []\n",
    "    all_pred_labels = []\n",
    "    losses = []\n",
    "    pbar = tqdm(enumerate(generate_data(batch_size, n_tokens, title_train, label_train)), total=total_batch)\n",
    "    for i, (x, y, m, dii, true_labels) in pbar:\n",
    "        all_true_labels += true_labels\n",
    "        \n",
    "        optimizer.zero_grad()\n",
    "#decoder_input_ids 在 T5 模型中是作为解码器输入的 token id 序列，是一个形状为 (batch_size, sequence_length) 的张量，其中 batch_size 表示输入数据的批大小\n",
    "#，sequence_length 表示 token 序列的长度。在该张量中，每个位置上的值代表着该位置对应的 token 的 id。\n",
    "        outputs = model(input_ids=x, labels=y, attention_mask=m, decoder_input_ids=dii)\n",
    "        pred_labels = outputs['logits'][:, -1, 3:6].argmax(-1).detach().cpu().numpy().tolist()\n",
    "        all_pred_labels += pred_labels\n",
    "\n",
    "        if use_ce_loss:\n",
    "            logits = outputs['logits'][:, -1, 3:6]\n",
    "            true_labels_tensor = torch.tensor(true_labels, dtype=torch.long).cuda()\n",
    "            loss = ce_loss(logits, true_labels_tensor)\n",
    "        else:\n",
    "            loss = outputs.loss\n",
    "        loss.backward()\n",
    "        optimizer.step()\n",
    "        loss_value = float(loss.detach().cpu().numpy().tolist()) / batch_size\n",
    "        losses.append(loss_value)\n",
    "\n",
    "        acc = accuracy_score(all_true_labels, all_pred_labels)\n",
    "        pbar.set_description(f'train: loss={np.mean(losses):.4f}, acc={acc:.4f}')\n",
    "\n",
    "    all_true_labels = []\n",
    "    all_pred_labels = []\n",
    "    losses = []\n",
    "    with torch.no_grad():\n",
    "        pbar = tqdm(enumerate(generate_data(batch_size, n_tokens, title_dev, label_dev)), total=dev_total_batch)\n",
    "        for i, (x, y, m, dii, true_labels) in pbar:\n",
    "            all_true_labels += true_labels\n",
    "            outputs = model(input_ids=x, labels=y, attention_mask=m, decoder_input_ids=dii)\n",
    "            loss = outputs.loss\n",
    "            loss_value = float(loss.detach().cpu().numpy().tolist()) / batch_size\n",
    "            losses.append(loss_value)\n",
    "            pred_labels = outputs['logits'][:, -1, 3:6].argmax(-1).detach().cpu().numpy().tolist()\n",
    "            all_pred_labels += pred_labels\n",
    "            acc = accuracy_score(all_true_labels, all_pred_labels)\n",
    "            pbar.set_description(f'dev: loss={np.mean(losses):.4f}, acc={acc:.4f}')"
   ]
  },
  {
   "cell_type": "code",
   "execution_count": 20,
   "metadata": {
    "id": "Zrxp8Im04beQ"
   },
   "outputs": [],
   "source": [
    "parameters2 = list(model.parameters())"
   ]
  },
  {
   "cell_type": "code",
   "execution_count": 21,
   "metadata": {},
   "outputs": [
    {
     "name": "stdout",
     "output_type": "stream",
     "text": [
      "Tue Mar  7 12:28:36 2023       \n",
      "+-----------------------------------------------------------------------------+\n",
      "| NVIDIA-SMI 525.89.02    Driver Version: 525.89.02    CUDA Version: 12.0     |\n",
      "|-------------------------------+----------------------+----------------------+\n",
      "| GPU  Name        Persistence-M| Bus-Id        Disp.A | Volatile Uncorr. ECC |\n",
      "| Fan  Temp  Perf  Pwr:Usage/Cap|         Memory-Usage | GPU-Util  Compute M. |\n",
      "|                               |                      |               MIG M. |\n",
      "|===============================+======================+======================|\n",
      "|   0  Tesla V100-PCIE...  On   | 00000000:67:03.0 Off |                  Off |\n",
      "| N/A   37C    P0    37W / 250W |  18130MiB / 32768MiB |      0%      Default |\n",
      "|                               |                      |                  N/A |\n",
      "+-------------------------------+----------------------+----------------------+\n",
      "                                                                               \n",
      "+-----------------------------------------------------------------------------+\n",
      "| Processes:                                                                  |\n",
      "|  GPU   GI   CI        PID   Type   Process name                  GPU Memory |\n",
      "|        ID   ID                                                   Usage      |\n",
      "|=============================================================================|\n",
      "+-----------------------------------------------------------------------------+\n"
     ]
    }
   ],
   "source": [
    "!nvidia-smi"
   ]
  },
  {
   "cell_type": "code",
   "execution_count": 22,
   "metadata": {
    "colab": {
     "base_uri": "https://localhost:8080/"
    },
    "id": "rRBcvIbY4s-R",
    "outputId": "c673dd60-889b-44fd-ea8c-27ad15bdf3b7"
   },
   "outputs": [
    {
     "data": {
      "text/plain": [
       "Parameter containing:\n",
       "tensor([[-12.1830, -30.1978, -20.4185,  ..., -27.8833,  15.5076,   8.6759],\n",
       "        [-18.3980,  27.7653, -24.2388,  ...,  10.0886,  15.9386,  -1.8228],\n",
       "        [-15.5309,   1.9090,   4.1854,  ..., -15.4622,   7.6856,   9.5103],\n",
       "        ...,\n",
       "        [ 32.2267,  -8.5860, -27.1125,  ..., -16.3302, -17.3018,  -6.5299],\n",
       "        [ 10.1303,   1.3383, -12.2403,  ...,  16.5293,  -9.3344,  -0.4445],\n",
       "        [  7.7325,  32.6109,  -3.6557,  ...,  22.8400,   9.9415,   9.7184]],\n",
       "       device='cuda:0', requires_grad=True)"
      ]
     },
     "execution_count": 22,
     "metadata": {},
     "output_type": "execute_result"
    }
   ],
   "source": [
    "parameters2[0]"
   ]
  },
  {
   "cell_type": "code",
   "execution_count": 23,
   "metadata": {
    "colab": {
     "base_uri": "https://localhost:8080/"
    },
    "id": "Mp_0DmKr4tZA",
    "outputId": "94c051ef-5656-43cb-face-8792e64816af"
   },
   "outputs": [
    {
     "data": {
      "text/plain": [
       "Parameter containing:\n",
       "tensor([[-1.3977e-02,  3.8818e-02,  5.7129e-02,  ...,  4.9316e-02,\n",
       "         -8.1177e-03, -3.8147e-03],\n",
       "        [ 6.3965e-02, -1.0193e-02, -2.0020e-02,  ..., -8.3618e-03,\n",
       "         -1.1902e-02, -2.6978e-02],\n",
       "        [-1.6357e-02, -4.4922e-02,  4.8584e-02,  ..., -1.6479e-02,\n",
       "         -4.0039e-02,  6.3782e-03],\n",
       "        ...,\n",
       "        [ 7.7820e-03, -6.5918e-03, -3.9062e-03,  ...,  1.9165e-02,\n",
       "          7.4863e-05, -2.6001e-02],\n",
       "        [-1.4587e-02,  1.8433e-02, -2.6489e-02,  ..., -3.9062e-02,\n",
       "         -4.0527e-02,  4.1992e-02],\n",
       "        [ 7.8125e-02,  1.6602e-02,  6.4941e-02,  ...,  4.2152e-04,\n",
       "          4.5166e-02, -1.1780e-02]], device='cuda:0')"
      ]
     },
     "execution_count": 23,
     "metadata": {},
     "output_type": "execute_result"
    }
   ],
   "source": [
    "parameters2[2]"
   ]
  },
  {
   "cell_type": "code",
   "execution_count": 24,
   "metadata": {
    "id": "Oqdi4A7tFnxM"
   },
   "outputs": [],
   "source": [
    "def predict(text):\n",
    "    inputs = tokenizer(text, return_tensors='pt')\n",
    "    inputs['input_ids'] = torch.cat([torch.full((1, n_tokens), 1), inputs['input_ids']], 1)\n",
    "\n",
    "    decoder_input_ids = torch.full((1, n_tokens), 1)\n",
    "    with torch.no_grad():\n",
    "        outputs = model(input_ids=inputs['input_ids'].cuda(), decoder_input_ids=decoder_input_ids.cuda())\n",
    "    logits = outputs['logits'][:, -1, 3:6]\n",
    "    pred = logits.argmax(-1).detach().cpu().numpy()[0]\n",
    "    # print(logits)\n",
    "    return pred"
   ]
  },
  {
   "cell_type": "code",
   "execution_count": 25,
   "metadata": {
    "colab": {
     "base_uri": "https://localhost:8080/"
    },
    "id": "ohlT29oGueUD",
    "outputId": "e49fb584-3d58-4c0e-a77c-7b43fcf21ed6"
   },
   "outputs": [
    {
     "name": "stderr",
     "output_type": "stream",
     "text": [
      "100%|██████████| 5355/5355 [04:49<00:00, 18.48it/s]\n"
     ]
    }
   ],
   "source": [
    "train_rets = []\n",
    "for i in tqdm(range(len(title_train))):\n",
    "    pred = predict(title_train[i])\n",
    "    train_rets.append((label_train[i], pred, title_train[i]))"
   ]
  },
  {
   "cell_type": "code",
   "execution_count": 26,
   "metadata": {
    "colab": {
     "base_uri": "https://localhost:8080/"
    },
    "id": "NE84AeC9BC8U",
    "outputId": "3defc99e-746f-4a2f-c5b4-a20fe940c48b"
   },
   "outputs": [
    {
     "name": "stderr",
     "output_type": "stream",
     "text": [
      "100%|██████████| 999/999 [00:52<00:00, 19.07it/s]\n"
     ]
    }
   ],
   "source": [
    "rets = []\n",
    "for i in tqdm(range(len(title_test))):\n",
    "    pred = predict(title_test[i])\n",
    "    rets.append((label_test[i], pred, title_test[i]))"
   ]
  },
  {
   "cell_type": "code",
   "execution_count": 27,
   "metadata": {
    "colab": {
     "base_uri": "https://localhost:8080/"
    },
    "id": "DZOnkUtKuiwa",
    "outputId": "2cec4a1b-75b7-47c7-bc4b-b495a7b408d2"
   },
   "outputs": [
    {
     "name": "stdout",
     "output_type": "stream",
     "text": [
      "0.5017740429505135\n"
     ]
    }
   ],
   "source": [
    "print(\n",
    "    accuracy_score(\n",
    "        [x[0] for x in train_rets],\n",
    "        [x[1] for x in train_rets],\n",
    "    )\n",
    ")"
   ]
  },
  {
   "cell_type": "code",
   "execution_count": 28,
   "metadata": {
    "colab": {
     "base_uri": "https://localhost:8080/"
    },
    "id": "74CWYzXXuW-W",
    "outputId": "8991f0cb-3540-491c-841b-88fbbe60a2a6"
   },
   "outputs": [
    {
     "name": "stdout",
     "output_type": "stream",
     "text": [
      "0.4994994994994995\n"
     ]
    }
   ],
   "source": [
    "print(\n",
    "    accuracy_score(\n",
    "        [x[0] for x in rets],\n",
    "        [x[1] for x in rets],\n",
    "    )\n",
    ")"
   ]
  },
  {
   "cell_type": "code",
   "execution_count": 29,
   "metadata": {
    "colab": {
     "base_uri": "https://localhost:8080/"
    },
    "id": "D8vIKsvAuCpX",
    "outputId": "2274271d-d14e-4a8f-918c-247d1fe2e3da"
   },
   "outputs": [
    {
     "name": "stdout",
     "output_type": "stream",
     "text": [
      "0.0990990990990991 0.4944944944944945 0.4064064064064064\n"
     ]
    }
   ],
   "source": [
    "print(\n",
    "    accuracy_score(\n",
    "        [x[0] for x in rets],\n",
    "        [0] * len(rets),\n",
    "    ),\n",
    "    accuracy_score(\n",
    "        [x[0] for x in rets],\n",
    "        [1] * len(rets),\n",
    "    ),\n",
    "    accuracy_score(\n",
    "        [x[0] for x in rets],\n",
    "        [2] * len(rets),\n",
    "    )\n",
    ")"
   ]
  },
  {
   "cell_type": "code",
   "execution_count": 22,
   "metadata": {
    "id": "1O1uwg8irIdc"
   },
   "outputs": [],
   "source": []
  }
 ],
 "metadata": {
  "accelerator": "GPU",
  "colab": {
   "collapsed_sections": [],
   "machine_shape": "hm",
   "name": "mt5-soft-prompt-tuning.ipynb",
   "provenance": []
  },
  "kernelspec": {
   "display_name": "Python 3 (ipykernel)",
   "language": "python",
   "name": "python3"
  },
  "language_info": {
   "codemirror_mode": {
    "name": "ipython",
    "version": 3
   },
   "file_extension": ".py",
   "mimetype": "text/x-python",
   "name": "python",
   "nbconvert_exporter": "python",
   "pygments_lexer": "ipython3",
   "version": "3.8.10"
  },
  "widgets": {
   "application/vnd.jupyter.widget-state+json": {
    "012192e864f6471e9336264b77f9d047": {
     "model_module": "@jupyter-widgets/base",
     "model_module_version": "1.2.0",
     "model_name": "LayoutModel",
     "state": {
      "_model_module": "@jupyter-widgets/base",
      "_model_module_version": "1.2.0",
      "_model_name": "LayoutModel",
      "_view_count": null,
      "_view_module": "@jupyter-widgets/base",
      "_view_module_version": "1.2.0",
      "_view_name": "LayoutView",
      "align_content": null,
      "align_items": null,
      "align_self": null,
      "border": null,
      "bottom": null,
      "display": null,
      "flex": null,
      "flex_flow": null,
      "grid_area": null,
      "grid_auto_columns": null,
      "grid_auto_flow": null,
      "grid_auto_rows": null,
      "grid_column": null,
      "grid_gap": null,
      "grid_row": null,
      "grid_template_areas": null,
      "grid_template_columns": null,
      "grid_template_rows": null,
      "height": null,
      "justify_content": null,
      "justify_items": null,
      "left": null,
      "margin": null,
      "max_height": null,
      "max_width": null,
      "min_height": null,
      "min_width": null,
      "object_fit": null,
      "object_position": null,
      "order": null,
      "overflow": null,
      "overflow_x": null,
      "overflow_y": null,
      "padding": null,
      "right": null,
      "top": null,
      "visibility": null,
      "width": null
     }
    },
    "05fab04f6d6f46f6bccc8cbfa22a88a2": {
     "model_module": "@jupyter-widgets/controls",
     "model_module_version": "1.5.0",
     "model_name": "HTMLModel",
     "state": {
      "_dom_classes": [],
      "_model_module": "@jupyter-widgets/controls",
      "_model_module_version": "1.5.0",
      "_model_name": "HTMLModel",
      "_view_count": null,
      "_view_module": "@jupyter-widgets/controls",
      "_view_module_version": "1.5.0",
      "_view_name": "HTMLView",
      "description": "",
      "description_tooltip": null,
      "layout": "IPY_MODEL_bde84bfa5da2408ca9eda7c9b39291ad",
      "placeholder": "​",
      "style": "IPY_MODEL_60d985a36d434ee996f616952a7c7612",
      "value": " 702/702 [00:00&lt;00:00, 21.8kB/s]"
     }
    },
    "0ce264acdaa8432b9715bdc42344b0aa": {
     "model_module": "@jupyter-widgets/controls",
     "model_module_version": "1.5.0",
     "model_name": "DescriptionStyleModel",
     "state": {
      "_model_module": "@jupyter-widgets/controls",
      "_model_module_version": "1.5.0",
      "_model_name": "DescriptionStyleModel",
      "_view_count": null,
      "_view_module": "@jupyter-widgets/base",
      "_view_module_version": "1.2.0",
      "_view_name": "StyleView",
      "description_width": ""
     }
    },
    "0f7b84c5523b48fabd4f79d8b8d80fa9": {
     "model_module": "@jupyter-widgets/base",
     "model_module_version": "1.2.0",
     "model_name": "LayoutModel",
     "state": {
      "_model_module": "@jupyter-widgets/base",
      "_model_module_version": "1.2.0",
      "_model_name": "LayoutModel",
      "_view_count": null,
      "_view_module": "@jupyter-widgets/base",
      "_view_module_version": "1.2.0",
      "_view_name": "LayoutView",
      "align_content": null,
      "align_items": null,
      "align_self": null,
      "border": null,
      "bottom": null,
      "display": null,
      "flex": null,
      "flex_flow": null,
      "grid_area": null,
      "grid_auto_columns": null,
      "grid_auto_flow": null,
      "grid_auto_rows": null,
      "grid_column": null,
      "grid_gap": null,
      "grid_row": null,
      "grid_template_areas": null,
      "grid_template_columns": null,
      "grid_template_rows": null,
      "height": null,
      "justify_content": null,
      "justify_items": null,
      "left": null,
      "margin": null,
      "max_height": null,
      "max_width": null,
      "min_height": null,
      "min_width": null,
      "object_fit": null,
      "object_position": null,
      "order": null,
      "overflow": null,
      "overflow_x": null,
      "overflow_y": null,
      "padding": null,
      "right": null,
      "top": null,
      "visibility": null,
      "width": null
     }
    },
    "1a6214d3c8984950a0a86fb5fcdf0e6d": {
     "model_module": "@jupyter-widgets/controls",
     "model_module_version": "1.5.0",
     "model_name": "ProgressStyleModel",
     "state": {
      "_model_module": "@jupyter-widgets/controls",
      "_model_module_version": "1.5.0",
      "_model_name": "ProgressStyleModel",
      "_view_count": null,
      "_view_module": "@jupyter-widgets/base",
      "_view_module_version": "1.2.0",
      "_view_name": "StyleView",
      "bar_color": null,
      "description_width": ""
     }
    },
    "1ebe5477942940abaf722f6963f9b0e8": {
     "model_module": "@jupyter-widgets/base",
     "model_module_version": "1.2.0",
     "model_name": "LayoutModel",
     "state": {
      "_model_module": "@jupyter-widgets/base",
      "_model_module_version": "1.2.0",
      "_model_name": "LayoutModel",
      "_view_count": null,
      "_view_module": "@jupyter-widgets/base",
      "_view_module_version": "1.2.0",
      "_view_name": "LayoutView",
      "align_content": null,
      "align_items": null,
      "align_self": null,
      "border": null,
      "bottom": null,
      "display": null,
      "flex": null,
      "flex_flow": null,
      "grid_area": null,
      "grid_auto_columns": null,
      "grid_auto_flow": null,
      "grid_auto_rows": null,
      "grid_column": null,
      "grid_gap": null,
      "grid_row": null,
      "grid_template_areas": null,
      "grid_template_columns": null,
      "grid_template_rows": null,
      "height": null,
      "justify_content": null,
      "justify_items": null,
      "left": null,
      "margin": null,
      "max_height": null,
      "max_width": null,
      "min_height": null,
      "min_width": null,
      "object_fit": null,
      "object_position": null,
      "order": null,
      "overflow": null,
      "overflow_x": null,
      "overflow_y": null,
      "padding": null,
      "right": null,
      "top": null,
      "visibility": null,
      "width": null
     }
    },
    "2237a78e60eb437d8562d9b74bd98360": {
     "model_module": "@jupyter-widgets/controls",
     "model_module_version": "1.5.0",
     "model_name": "HTMLModel",
     "state": {
      "_dom_classes": [],
      "_model_module": "@jupyter-widgets/controls",
      "_model_module_version": "1.5.0",
      "_model_name": "HTMLModel",
      "_view_count": null,
      "_view_module": "@jupyter-widgets/controls",
      "_view_module_version": "1.5.0",
      "_view_name": "HTMLView",
      "description": "",
      "description_tooltip": null,
      "layout": "IPY_MODEL_72d55badd64a441eb02e9d547281c82e",
      "placeholder": "​",
      "style": "IPY_MODEL_d2b1ed49e9d946c289b9db7fadf94992",
      "value": "Downloading: 100%"
     }
    },
    "268502a8a7204b5cbbae12de9c63ed1c": {
     "model_module": "@jupyter-widgets/controls",
     "model_module_version": "1.5.0",
     "model_name": "HBoxModel",
     "state": {
      "_dom_classes": [],
      "_model_module": "@jupyter-widgets/controls",
      "_model_module_version": "1.5.0",
      "_model_name": "HBoxModel",
      "_view_count": null,
      "_view_module": "@jupyter-widgets/controls",
      "_view_module_version": "1.5.0",
      "_view_name": "HBoxView",
      "box_style": "",
      "children": [
       "IPY_MODEL_542cfc0efdeb436da7d4c789ae3a722d",
       "IPY_MODEL_f77f512b44bf481cb8846404350b9ab2",
       "IPY_MODEL_2d4e4125f1ed417bb2cfe878468b2966"
      ],
      "layout": "IPY_MODEL_71118489f6ff49a989d91f5325359b77"
     }
    },
    "2c9e861a76054c738afefb8620500773": {
     "model_module": "@jupyter-widgets/controls",
     "model_module_version": "1.5.0",
     "model_name": "HTMLModel",
     "state": {
      "_dom_classes": [],
      "_model_module": "@jupyter-widgets/controls",
      "_model_module_version": "1.5.0",
      "_model_name": "HTMLModel",
      "_view_count": null,
      "_view_module": "@jupyter-widgets/controls",
      "_view_module_version": "1.5.0",
      "_view_name": "HTMLView",
      "description": "",
      "description_tooltip": null,
      "layout": "IPY_MODEL_3649756bf03e40698c7dc32941daada0",
      "placeholder": "​",
      "style": "IPY_MODEL_33dab107c44d407689a375e420f8710d",
      "value": "Downloading: 100%"
     }
    },
    "2d4e4125f1ed417bb2cfe878468b2966": {
     "model_module": "@jupyter-widgets/controls",
     "model_module_version": "1.5.0",
     "model_name": "HTMLModel",
     "state": {
      "_dom_classes": [],
      "_model_module": "@jupyter-widgets/controls",
      "_model_module_version": "1.5.0",
      "_model_name": "HTMLModel",
      "_view_count": null,
      "_view_module": "@jupyter-widgets/controls",
      "_view_module_version": "1.5.0",
      "_view_name": "HTMLView",
      "description": "",
      "description_tooltip": null,
      "layout": "IPY_MODEL_65b77629789f45b6ab5105f893c7b1cc",
      "placeholder": "​",
      "style": "IPY_MODEL_e26e613b94f94d539d027c3ceb496903",
      "value": " 4.31M/4.31M [00:00&lt;00:00, 6.60MB/s]"
     }
    },
    "33dab107c44d407689a375e420f8710d": {
     "model_module": "@jupyter-widgets/controls",
     "model_module_version": "1.5.0",
     "model_name": "DescriptionStyleModel",
     "state": {
      "_model_module": "@jupyter-widgets/controls",
      "_model_module_version": "1.5.0",
      "_model_name": "DescriptionStyleModel",
      "_view_count": null,
      "_view_module": "@jupyter-widgets/base",
      "_view_module_version": "1.2.0",
      "_view_name": "StyleView",
      "description_width": ""
     }
    },
    "354e1cdb54874df192f9f4f190035efa": {
     "model_module": "@jupyter-widgets/controls",
     "model_module_version": "1.5.0",
     "model_name": "DescriptionStyleModel",
     "state": {
      "_model_module": "@jupyter-widgets/controls",
      "_model_module_version": "1.5.0",
      "_model_name": "DescriptionStyleModel",
      "_view_count": null,
      "_view_module": "@jupyter-widgets/base",
      "_view_module_version": "1.2.0",
      "_view_name": "StyleView",
      "description_width": ""
     }
    },
    "3649756bf03e40698c7dc32941daada0": {
     "model_module": "@jupyter-widgets/base",
     "model_module_version": "1.2.0",
     "model_name": "LayoutModel",
     "state": {
      "_model_module": "@jupyter-widgets/base",
      "_model_module_version": "1.2.0",
      "_model_name": "LayoutModel",
      "_view_count": null,
      "_view_module": "@jupyter-widgets/base",
      "_view_module_version": "1.2.0",
      "_view_name": "LayoutView",
      "align_content": null,
      "align_items": null,
      "align_self": null,
      "border": null,
      "bottom": null,
      "display": null,
      "flex": null,
      "flex_flow": null,
      "grid_area": null,
      "grid_auto_columns": null,
      "grid_auto_flow": null,
      "grid_auto_rows": null,
      "grid_column": null,
      "grid_gap": null,
      "grid_row": null,
      "grid_template_areas": null,
      "grid_template_columns": null,
      "grid_template_rows": null,
      "height": null,
      "justify_content": null,
      "justify_items": null,
      "left": null,
      "margin": null,
      "max_height": null,
      "max_width": null,
      "min_height": null,
      "min_width": null,
      "object_fit": null,
      "object_position": null,
      "order": null,
      "overflow": null,
      "overflow_x": null,
      "overflow_y": null,
      "padding": null,
      "right": null,
      "top": null,
      "visibility": null,
      "width": null
     }
    },
    "3e2b5c8ec31149838dcacfcc78f2087a": {
     "model_module": "@jupyter-widgets/base",
     "model_module_version": "1.2.0",
     "model_name": "LayoutModel",
     "state": {
      "_model_module": "@jupyter-widgets/base",
      "_model_module_version": "1.2.0",
      "_model_name": "LayoutModel",
      "_view_count": null,
      "_view_module": "@jupyter-widgets/base",
      "_view_module_version": "1.2.0",
      "_view_name": "LayoutView",
      "align_content": null,
      "align_items": null,
      "align_self": null,
      "border": null,
      "bottom": null,
      "display": null,
      "flex": null,
      "flex_flow": null,
      "grid_area": null,
      "grid_auto_columns": null,
      "grid_auto_flow": null,
      "grid_auto_rows": null,
      "grid_column": null,
      "grid_gap": null,
      "grid_row": null,
      "grid_template_areas": null,
      "grid_template_columns": null,
      "grid_template_rows": null,
      "height": null,
      "justify_content": null,
      "justify_items": null,
      "left": null,
      "margin": null,
      "max_height": null,
      "max_width": null,
      "min_height": null,
      "min_width": null,
      "object_fit": null,
      "object_position": null,
      "order": null,
      "overflow": null,
      "overflow_x": null,
      "overflow_y": null,
      "padding": null,
      "right": null,
      "top": null,
      "visibility": null,
      "width": null
     }
    },
    "3fd60e410f434de0bcb061a7fca394ba": {
     "model_module": "@jupyter-widgets/controls",
     "model_module_version": "1.5.0",
     "model_name": "ProgressStyleModel",
     "state": {
      "_model_module": "@jupyter-widgets/controls",
      "_model_module_version": "1.5.0",
      "_model_name": "ProgressStyleModel",
      "_view_count": null,
      "_view_module": "@jupyter-widgets/base",
      "_view_module_version": "1.2.0",
      "_view_name": "StyleView",
      "bar_color": null,
      "description_width": ""
     }
    },
    "41517d0e2fd74aa08b04a5b9a4ac665d": {
     "model_module": "@jupyter-widgets/controls",
     "model_module_version": "1.5.0",
     "model_name": "HTMLModel",
     "state": {
      "_dom_classes": [],
      "_model_module": "@jupyter-widgets/controls",
      "_model_module_version": "1.5.0",
      "_model_name": "HTMLModel",
      "_view_count": null,
      "_view_module": "@jupyter-widgets/controls",
      "_view_module_version": "1.5.0",
      "_view_name": "HTMLView",
      "description": "",
      "description_tooltip": null,
      "layout": "IPY_MODEL_7af5f84e9e21429d993d06062b50209a",
      "placeholder": "​",
      "style": "IPY_MODEL_62345a490f2c48129bc3e29b42638439",
      "value": " 376/376 [00:00&lt;00:00, 12.6kB/s]"
     }
    },
    "53b33d44e6354bb6af52775f1ed6b9dd": {
     "model_module": "@jupyter-widgets/base",
     "model_module_version": "1.2.0",
     "model_name": "LayoutModel",
     "state": {
      "_model_module": "@jupyter-widgets/base",
      "_model_module_version": "1.2.0",
      "_model_name": "LayoutModel",
      "_view_count": null,
      "_view_module": "@jupyter-widgets/base",
      "_view_module_version": "1.2.0",
      "_view_name": "LayoutView",
      "align_content": null,
      "align_items": null,
      "align_self": null,
      "border": null,
      "bottom": null,
      "display": null,
      "flex": null,
      "flex_flow": null,
      "grid_area": null,
      "grid_auto_columns": null,
      "grid_auto_flow": null,
      "grid_auto_rows": null,
      "grid_column": null,
      "grid_gap": null,
      "grid_row": null,
      "grid_template_areas": null,
      "grid_template_columns": null,
      "grid_template_rows": null,
      "height": null,
      "justify_content": null,
      "justify_items": null,
      "left": null,
      "margin": null,
      "max_height": null,
      "max_width": null,
      "min_height": null,
      "min_width": null,
      "object_fit": null,
      "object_position": null,
      "order": null,
      "overflow": null,
      "overflow_x": null,
      "overflow_y": null,
      "padding": null,
      "right": null,
      "top": null,
      "visibility": null,
      "width": null
     }
    },
    "542cfc0efdeb436da7d4c789ae3a722d": {
     "model_module": "@jupyter-widgets/controls",
     "model_module_version": "1.5.0",
     "model_name": "HTMLModel",
     "state": {
      "_dom_classes": [],
      "_model_module": "@jupyter-widgets/controls",
      "_model_module_version": "1.5.0",
      "_model_name": "HTMLModel",
      "_view_count": null,
      "_view_module": "@jupyter-widgets/controls",
      "_view_module_version": "1.5.0",
      "_view_name": "HTMLView",
      "description": "",
      "description_tooltip": null,
      "layout": "IPY_MODEL_3e2b5c8ec31149838dcacfcc78f2087a",
      "placeholder": "​",
      "style": "IPY_MODEL_354e1cdb54874df192f9f4f190035efa",
      "value": "Downloading: 100%"
     }
    },
    "562e3a57010c4ca5af045c3c33500a28": {
     "model_module": "@jupyter-widgets/controls",
     "model_module_version": "1.5.0",
     "model_name": "ProgressStyleModel",
     "state": {
      "_model_module": "@jupyter-widgets/controls",
      "_model_module_version": "1.5.0",
      "_model_name": "ProgressStyleModel",
      "_view_count": null,
      "_view_module": "@jupyter-widgets/base",
      "_view_module_version": "1.2.0",
      "_view_name": "StyleView",
      "bar_color": null,
      "description_width": ""
     }
    },
    "5a46f6fdc4784422b652653b05d1c691": {
     "model_module": "@jupyter-widgets/base",
     "model_module_version": "1.2.0",
     "model_name": "LayoutModel",
     "state": {
      "_model_module": "@jupyter-widgets/base",
      "_model_module_version": "1.2.0",
      "_model_name": "LayoutModel",
      "_view_count": null,
      "_view_module": "@jupyter-widgets/base",
      "_view_module_version": "1.2.0",
      "_view_name": "LayoutView",
      "align_content": null,
      "align_items": null,
      "align_self": null,
      "border": null,
      "bottom": null,
      "display": null,
      "flex": null,
      "flex_flow": null,
      "grid_area": null,
      "grid_auto_columns": null,
      "grid_auto_flow": null,
      "grid_auto_rows": null,
      "grid_column": null,
      "grid_gap": null,
      "grid_row": null,
      "grid_template_areas": null,
      "grid_template_columns": null,
      "grid_template_rows": null,
      "height": null,
      "justify_content": null,
      "justify_items": null,
      "left": null,
      "margin": null,
      "max_height": null,
      "max_width": null,
      "min_height": null,
      "min_width": null,
      "object_fit": null,
      "object_position": null,
      "order": null,
      "overflow": null,
      "overflow_x": null,
      "overflow_y": null,
      "padding": null,
      "right": null,
      "top": null,
      "visibility": null,
      "width": null
     }
    },
    "5f7b4216db414a2a8c024b814049d1c1": {
     "model_module": "@jupyter-widgets/controls",
     "model_module_version": "1.5.0",
     "model_name": "DescriptionStyleModel",
     "state": {
      "_model_module": "@jupyter-widgets/controls",
      "_model_module_version": "1.5.0",
      "_model_name": "DescriptionStyleModel",
      "_view_count": null,
      "_view_module": "@jupyter-widgets/base",
      "_view_module_version": "1.2.0",
      "_view_name": "StyleView",
      "description_width": ""
     }
    },
    "60d985a36d434ee996f616952a7c7612": {
     "model_module": "@jupyter-widgets/controls",
     "model_module_version": "1.5.0",
     "model_name": "DescriptionStyleModel",
     "state": {
      "_model_module": "@jupyter-widgets/controls",
      "_model_module_version": "1.5.0",
      "_model_name": "DescriptionStyleModel",
      "_view_count": null,
      "_view_module": "@jupyter-widgets/base",
      "_view_module_version": "1.2.0",
      "_view_name": "StyleView",
      "description_width": ""
     }
    },
    "61ee6d1f21bf41c89488dbcfb99f4d5d": {
     "model_module": "@jupyter-widgets/controls",
     "model_module_version": "1.5.0",
     "model_name": "HTMLModel",
     "state": {
      "_dom_classes": [],
      "_model_module": "@jupyter-widgets/controls",
      "_model_module_version": "1.5.0",
      "_model_name": "HTMLModel",
      "_view_count": null,
      "_view_module": "@jupyter-widgets/controls",
      "_view_module_version": "1.5.0",
      "_view_name": "HTMLView",
      "description": "",
      "description_tooltip": null,
      "layout": "IPY_MODEL_5a46f6fdc4784422b652653b05d1c691",
      "placeholder": "​",
      "style": "IPY_MODEL_0ce264acdaa8432b9715bdc42344b0aa",
      "value": " 2.33G/2.33G [00:57&lt;00:00, 29.6MB/s]"
     }
    },
    "62345a490f2c48129bc3e29b42638439": {
     "model_module": "@jupyter-widgets/controls",
     "model_module_version": "1.5.0",
     "model_name": "DescriptionStyleModel",
     "state": {
      "_model_module": "@jupyter-widgets/controls",
      "_model_module_version": "1.5.0",
      "_model_name": "DescriptionStyleModel",
      "_view_count": null,
      "_view_module": "@jupyter-widgets/base",
      "_view_module_version": "1.2.0",
      "_view_name": "StyleView",
      "description_width": ""
     }
    },
    "65b77629789f45b6ab5105f893c7b1cc": {
     "model_module": "@jupyter-widgets/base",
     "model_module_version": "1.2.0",
     "model_name": "LayoutModel",
     "state": {
      "_model_module": "@jupyter-widgets/base",
      "_model_module_version": "1.2.0",
      "_model_name": "LayoutModel",
      "_view_count": null,
      "_view_module": "@jupyter-widgets/base",
      "_view_module_version": "1.2.0",
      "_view_name": "LayoutView",
      "align_content": null,
      "align_items": null,
      "align_self": null,
      "border": null,
      "bottom": null,
      "display": null,
      "flex": null,
      "flex_flow": null,
      "grid_area": null,
      "grid_auto_columns": null,
      "grid_auto_flow": null,
      "grid_auto_rows": null,
      "grid_column": null,
      "grid_gap": null,
      "grid_row": null,
      "grid_template_areas": null,
      "grid_template_columns": null,
      "grid_template_rows": null,
      "height": null,
      "justify_content": null,
      "justify_items": null,
      "left": null,
      "margin": null,
      "max_height": null,
      "max_width": null,
      "min_height": null,
      "min_width": null,
      "object_fit": null,
      "object_position": null,
      "order": null,
      "overflow": null,
      "overflow_x": null,
      "overflow_y": null,
      "padding": null,
      "right": null,
      "top": null,
      "visibility": null,
      "width": null
     }
    },
    "686aca97abba439e81e430f1c33224dc": {
     "model_module": "@jupyter-widgets/controls",
     "model_module_version": "1.5.0",
     "model_name": "FloatProgressModel",
     "state": {
      "_dom_classes": [],
      "_model_module": "@jupyter-widgets/controls",
      "_model_module_version": "1.5.0",
      "_model_name": "FloatProgressModel",
      "_view_count": null,
      "_view_module": "@jupyter-widgets/controls",
      "_view_module_version": "1.5.0",
      "_view_name": "ProgressView",
      "bar_style": "success",
      "description": "",
      "description_tooltip": null,
      "layout": "IPY_MODEL_f15396c431f34835bbe2eeb65dfd16a4",
      "max": 2329735129,
      "min": 0,
      "orientation": "horizontal",
      "style": "IPY_MODEL_81d5b9f593dd4f36894e32a5d0360d1d",
      "value": 2329735129
     }
    },
    "702c7b9308b646c1bdd0ca2387776c25": {
     "model_module": "@jupyter-widgets/controls",
     "model_module_version": "1.5.0",
     "model_name": "HTMLModel",
     "state": {
      "_dom_classes": [],
      "_model_module": "@jupyter-widgets/controls",
      "_model_module_version": "1.5.0",
      "_model_name": "HTMLModel",
      "_view_count": null,
      "_view_module": "@jupyter-widgets/controls",
      "_view_module_version": "1.5.0",
      "_view_name": "HTMLView",
      "description": "",
      "description_tooltip": null,
      "layout": "IPY_MODEL_9269f66db7d24a6da268fa98c33d6f02",
      "placeholder": "​",
      "style": "IPY_MODEL_abd066dddd434d63ae737bb56c67de79",
      "value": "Downloading: 100%"
     }
    },
    "71118489f6ff49a989d91f5325359b77": {
     "model_module": "@jupyter-widgets/base",
     "model_module_version": "1.2.0",
     "model_name": "LayoutModel",
     "state": {
      "_model_module": "@jupyter-widgets/base",
      "_model_module_version": "1.2.0",
      "_model_name": "LayoutModel",
      "_view_count": null,
      "_view_module": "@jupyter-widgets/base",
      "_view_module_version": "1.2.0",
      "_view_name": "LayoutView",
      "align_content": null,
      "align_items": null,
      "align_self": null,
      "border": null,
      "bottom": null,
      "display": null,
      "flex": null,
      "flex_flow": null,
      "grid_area": null,
      "grid_auto_columns": null,
      "grid_auto_flow": null,
      "grid_auto_rows": null,
      "grid_column": null,
      "grid_gap": null,
      "grid_row": null,
      "grid_template_areas": null,
      "grid_template_columns": null,
      "grid_template_rows": null,
      "height": null,
      "justify_content": null,
      "justify_items": null,
      "left": null,
      "margin": null,
      "max_height": null,
      "max_width": null,
      "min_height": null,
      "min_width": null,
      "object_fit": null,
      "object_position": null,
      "order": null,
      "overflow": null,
      "overflow_x": null,
      "overflow_y": null,
      "padding": null,
      "right": null,
      "top": null,
      "visibility": null,
      "width": null
     }
    },
    "72d55badd64a441eb02e9d547281c82e": {
     "model_module": "@jupyter-widgets/base",
     "model_module_version": "1.2.0",
     "model_name": "LayoutModel",
     "state": {
      "_model_module": "@jupyter-widgets/base",
      "_model_module_version": "1.2.0",
      "_model_name": "LayoutModel",
      "_view_count": null,
      "_view_module": "@jupyter-widgets/base",
      "_view_module_version": "1.2.0",
      "_view_name": "LayoutView",
      "align_content": null,
      "align_items": null,
      "align_self": null,
      "border": null,
      "bottom": null,
      "display": null,
      "flex": null,
      "flex_flow": null,
      "grid_area": null,
      "grid_auto_columns": null,
      "grid_auto_flow": null,
      "grid_auto_rows": null,
      "grid_column": null,
      "grid_gap": null,
      "grid_row": null,
      "grid_template_areas": null,
      "grid_template_columns": null,
      "grid_template_rows": null,
      "height": null,
      "justify_content": null,
      "justify_items": null,
      "left": null,
      "margin": null,
      "max_height": null,
      "max_width": null,
      "min_height": null,
      "min_width": null,
      "object_fit": null,
      "object_position": null,
      "order": null,
      "overflow": null,
      "overflow_x": null,
      "overflow_y": null,
      "padding": null,
      "right": null,
      "top": null,
      "visibility": null,
      "width": null
     }
    },
    "7af5f84e9e21429d993d06062b50209a": {
     "model_module": "@jupyter-widgets/base",
     "model_module_version": "1.2.0",
     "model_name": "LayoutModel",
     "state": {
      "_model_module": "@jupyter-widgets/base",
      "_model_module_version": "1.2.0",
      "_model_name": "LayoutModel",
      "_view_count": null,
      "_view_module": "@jupyter-widgets/base",
      "_view_module_version": "1.2.0",
      "_view_name": "LayoutView",
      "align_content": null,
      "align_items": null,
      "align_self": null,
      "border": null,
      "bottom": null,
      "display": null,
      "flex": null,
      "flex_flow": null,
      "grid_area": null,
      "grid_auto_columns": null,
      "grid_auto_flow": null,
      "grid_auto_rows": null,
      "grid_column": null,
      "grid_gap": null,
      "grid_row": null,
      "grid_template_areas": null,
      "grid_template_columns": null,
      "grid_template_rows": null,
      "height": null,
      "justify_content": null,
      "justify_items": null,
      "left": null,
      "margin": null,
      "max_height": null,
      "max_width": null,
      "min_height": null,
      "min_width": null,
      "object_fit": null,
      "object_position": null,
      "order": null,
      "overflow": null,
      "overflow_x": null,
      "overflow_y": null,
      "padding": null,
      "right": null,
      "top": null,
      "visibility": null,
      "width": null
     }
    },
    "7ebab85482134e1db1a62d584dd1f1e6": {
     "model_module": "@jupyter-widgets/base",
     "model_module_version": "1.2.0",
     "model_name": "LayoutModel",
     "state": {
      "_model_module": "@jupyter-widgets/base",
      "_model_module_version": "1.2.0",
      "_model_name": "LayoutModel",
      "_view_count": null,
      "_view_module": "@jupyter-widgets/base",
      "_view_module_version": "1.2.0",
      "_view_name": "LayoutView",
      "align_content": null,
      "align_items": null,
      "align_self": null,
      "border": null,
      "bottom": null,
      "display": null,
      "flex": null,
      "flex_flow": null,
      "grid_area": null,
      "grid_auto_columns": null,
      "grid_auto_flow": null,
      "grid_auto_rows": null,
      "grid_column": null,
      "grid_gap": null,
      "grid_row": null,
      "grid_template_areas": null,
      "grid_template_columns": null,
      "grid_template_rows": null,
      "height": null,
      "justify_content": null,
      "justify_items": null,
      "left": null,
      "margin": null,
      "max_height": null,
      "max_width": null,
      "min_height": null,
      "min_width": null,
      "object_fit": null,
      "object_position": null,
      "order": null,
      "overflow": null,
      "overflow_x": null,
      "overflow_y": null,
      "padding": null,
      "right": null,
      "top": null,
      "visibility": null,
      "width": null
     }
    },
    "81d5b9f593dd4f36894e32a5d0360d1d": {
     "model_module": "@jupyter-widgets/controls",
     "model_module_version": "1.5.0",
     "model_name": "ProgressStyleModel",
     "state": {
      "_model_module": "@jupyter-widgets/controls",
      "_model_module_version": "1.5.0",
      "_model_name": "ProgressStyleModel",
      "_view_count": null,
      "_view_module": "@jupyter-widgets/base",
      "_view_module_version": "1.2.0",
      "_view_name": "StyleView",
      "bar_color": null,
      "description_width": ""
     }
    },
    "88c88a80fe4244dc8519ed9a9d4a7fad": {
     "model_module": "@jupyter-widgets/controls",
     "model_module_version": "1.5.0",
     "model_name": "HBoxModel",
     "state": {
      "_dom_classes": [],
      "_model_module": "@jupyter-widgets/controls",
      "_model_module_version": "1.5.0",
      "_model_name": "HBoxModel",
      "_view_count": null,
      "_view_module": "@jupyter-widgets/controls",
      "_view_module_version": "1.5.0",
      "_view_name": "HBoxView",
      "box_style": "",
      "children": [
       "IPY_MODEL_b71062f17e064547b91634af273e6d40",
       "IPY_MODEL_8ce567f99b614fdc99ef7053ce718b23",
       "IPY_MODEL_05fab04f6d6f46f6bccc8cbfa22a88a2"
      ],
      "layout": "IPY_MODEL_012192e864f6471e9336264b77f9d047"
     }
    },
    "8ce567f99b614fdc99ef7053ce718b23": {
     "model_module": "@jupyter-widgets/controls",
     "model_module_version": "1.5.0",
     "model_name": "FloatProgressModel",
     "state": {
      "_dom_classes": [],
      "_model_module": "@jupyter-widgets/controls",
      "_model_module_version": "1.5.0",
      "_model_name": "FloatProgressModel",
      "_view_count": null,
      "_view_module": "@jupyter-widgets/controls",
      "_view_module_version": "1.5.0",
      "_view_name": "ProgressView",
      "bar_style": "success",
      "description": "",
      "description_tooltip": null,
      "layout": "IPY_MODEL_1ebe5477942940abaf722f6963f9b0e8",
      "max": 702,
      "min": 0,
      "orientation": "horizontal",
      "style": "IPY_MODEL_f982a7f0aad440fbb5c4497c3fd1d15e",
      "value": 702
     }
    },
    "9269f66db7d24a6da268fa98c33d6f02": {
     "model_module": "@jupyter-widgets/base",
     "model_module_version": "1.2.0",
     "model_name": "LayoutModel",
     "state": {
      "_model_module": "@jupyter-widgets/base",
      "_model_module_version": "1.2.0",
      "_model_name": "LayoutModel",
      "_view_count": null,
      "_view_module": "@jupyter-widgets/base",
      "_view_module_version": "1.2.0",
      "_view_name": "LayoutView",
      "align_content": null,
      "align_items": null,
      "align_self": null,
      "border": null,
      "bottom": null,
      "display": null,
      "flex": null,
      "flex_flow": null,
      "grid_area": null,
      "grid_auto_columns": null,
      "grid_auto_flow": null,
      "grid_auto_rows": null,
      "grid_column": null,
      "grid_gap": null,
      "grid_row": null,
      "grid_template_areas": null,
      "grid_template_columns": null,
      "grid_template_rows": null,
      "height": null,
      "justify_content": null,
      "justify_items": null,
      "left": null,
      "margin": null,
      "max_height": null,
      "max_width": null,
      "min_height": null,
      "min_width": null,
      "object_fit": null,
      "object_position": null,
      "order": null,
      "overflow": null,
      "overflow_x": null,
      "overflow_y": null,
      "padding": null,
      "right": null,
      "top": null,
      "visibility": null,
      "width": null
     }
    },
    "9e6dc5881f1a446d915fa00ef1f778ce": {
     "model_module": "@jupyter-widgets/base",
     "model_module_version": "1.2.0",
     "model_name": "LayoutModel",
     "state": {
      "_model_module": "@jupyter-widgets/base",
      "_model_module_version": "1.2.0",
      "_model_name": "LayoutModel",
      "_view_count": null,
      "_view_module": "@jupyter-widgets/base",
      "_view_module_version": "1.2.0",
      "_view_name": "LayoutView",
      "align_content": null,
      "align_items": null,
      "align_self": null,
      "border": null,
      "bottom": null,
      "display": null,
      "flex": null,
      "flex_flow": null,
      "grid_area": null,
      "grid_auto_columns": null,
      "grid_auto_flow": null,
      "grid_auto_rows": null,
      "grid_column": null,
      "grid_gap": null,
      "grid_row": null,
      "grid_template_areas": null,
      "grid_template_columns": null,
      "grid_template_rows": null,
      "height": null,
      "justify_content": null,
      "justify_items": null,
      "left": null,
      "margin": null,
      "max_height": null,
      "max_width": null,
      "min_height": null,
      "min_width": null,
      "object_fit": null,
      "object_position": null,
      "order": null,
      "overflow": null,
      "overflow_x": null,
      "overflow_y": null,
      "padding": null,
      "right": null,
      "top": null,
      "visibility": null,
      "width": null
     }
    },
    "abd066dddd434d63ae737bb56c67de79": {
     "model_module": "@jupyter-widgets/controls",
     "model_module_version": "1.5.0",
     "model_name": "DescriptionStyleModel",
     "state": {
      "_model_module": "@jupyter-widgets/controls",
      "_model_module_version": "1.5.0",
      "_model_name": "DescriptionStyleModel",
      "_view_count": null,
      "_view_module": "@jupyter-widgets/base",
      "_view_module_version": "1.2.0",
      "_view_name": "StyleView",
      "description_width": ""
     }
    },
    "ac7114b8298b45bda89d9e822d0f0ffd": {
     "model_module": "@jupyter-widgets/controls",
     "model_module_version": "1.5.0",
     "model_name": "HBoxModel",
     "state": {
      "_dom_classes": [],
      "_model_module": "@jupyter-widgets/controls",
      "_model_module_version": "1.5.0",
      "_model_name": "HBoxModel",
      "_view_count": null,
      "_view_module": "@jupyter-widgets/controls",
      "_view_module_version": "1.5.0",
      "_view_name": "HBoxView",
      "box_style": "",
      "children": [
       "IPY_MODEL_702c7b9308b646c1bdd0ca2387776c25",
       "IPY_MODEL_686aca97abba439e81e430f1c33224dc",
       "IPY_MODEL_61ee6d1f21bf41c89488dbcfb99f4d5d"
      ],
      "layout": "IPY_MODEL_e6ae18a1e8144dada46879db37e8cdef"
     }
    },
    "b67d7a6803da4ece97c3ab69aa7547e8": {
     "model_module": "@jupyter-widgets/base",
     "model_module_version": "1.2.0",
     "model_name": "LayoutModel",
     "state": {
      "_model_module": "@jupyter-widgets/base",
      "_model_module_version": "1.2.0",
      "_model_name": "LayoutModel",
      "_view_count": null,
      "_view_module": "@jupyter-widgets/base",
      "_view_module_version": "1.2.0",
      "_view_name": "LayoutView",
      "align_content": null,
      "align_items": null,
      "align_self": null,
      "border": null,
      "bottom": null,
      "display": null,
      "flex": null,
      "flex_flow": null,
      "grid_area": null,
      "grid_auto_columns": null,
      "grid_auto_flow": null,
      "grid_auto_rows": null,
      "grid_column": null,
      "grid_gap": null,
      "grid_row": null,
      "grid_template_areas": null,
      "grid_template_columns": null,
      "grid_template_rows": null,
      "height": null,
      "justify_content": null,
      "justify_items": null,
      "left": null,
      "margin": null,
      "max_height": null,
      "max_width": null,
      "min_height": null,
      "min_width": null,
      "object_fit": null,
      "object_position": null,
      "order": null,
      "overflow": null,
      "overflow_x": null,
      "overflow_y": null,
      "padding": null,
      "right": null,
      "top": null,
      "visibility": null,
      "width": null
     }
    },
    "b71062f17e064547b91634af273e6d40": {
     "model_module": "@jupyter-widgets/controls",
     "model_module_version": "1.5.0",
     "model_name": "HTMLModel",
     "state": {
      "_dom_classes": [],
      "_model_module": "@jupyter-widgets/controls",
      "_model_module_version": "1.5.0",
      "_model_name": "HTMLModel",
      "_view_count": null,
      "_view_module": "@jupyter-widgets/controls",
      "_view_module_version": "1.5.0",
      "_view_name": "HTMLView",
      "description": "",
      "description_tooltip": null,
      "layout": "IPY_MODEL_0f7b84c5523b48fabd4f79d8b8d80fa9",
      "placeholder": "​",
      "style": "IPY_MODEL_caa18d30298b4ad7be2e9ceda2f395b8",
      "value": "Downloading: 100%"
     }
    },
    "bde84bfa5da2408ca9eda7c9b39291ad": {
     "model_module": "@jupyter-widgets/base",
     "model_module_version": "1.2.0",
     "model_name": "LayoutModel",
     "state": {
      "_model_module": "@jupyter-widgets/base",
      "_model_module_version": "1.2.0",
      "_model_name": "LayoutModel",
      "_view_count": null,
      "_view_module": "@jupyter-widgets/base",
      "_view_module_version": "1.2.0",
      "_view_name": "LayoutView",
      "align_content": null,
      "align_items": null,
      "align_self": null,
      "border": null,
      "bottom": null,
      "display": null,
      "flex": null,
      "flex_flow": null,
      "grid_area": null,
      "grid_auto_columns": null,
      "grid_auto_flow": null,
      "grid_auto_rows": null,
      "grid_column": null,
      "grid_gap": null,
      "grid_row": null,
      "grid_template_areas": null,
      "grid_template_columns": null,
      "grid_template_rows": null,
      "height": null,
      "justify_content": null,
      "justify_items": null,
      "left": null,
      "margin": null,
      "max_height": null,
      "max_width": null,
      "min_height": null,
      "min_width": null,
      "object_fit": null,
      "object_position": null,
      "order": null,
      "overflow": null,
      "overflow_x": null,
      "overflow_y": null,
      "padding": null,
      "right": null,
      "top": null,
      "visibility": null,
      "width": null
     }
    },
    "c95d9ed3d1ed43bebf121392906414fa": {
     "model_module": "@jupyter-widgets/controls",
     "model_module_version": "1.5.0",
     "model_name": "HBoxModel",
     "state": {
      "_dom_classes": [],
      "_model_module": "@jupyter-widgets/controls",
      "_model_module_version": "1.5.0",
      "_model_name": "HBoxModel",
      "_view_count": null,
      "_view_module": "@jupyter-widgets/controls",
      "_view_module_version": "1.5.0",
      "_view_name": "HBoxView",
      "box_style": "",
      "children": [
       "IPY_MODEL_2c9e861a76054c738afefb8620500773",
       "IPY_MODEL_e6af025bf3744cb2a3017199a8dc185c",
       "IPY_MODEL_d3371fb6455440d48684cfe9d4829eff"
      ],
      "layout": "IPY_MODEL_f258c1cc75474d1392a9368c51550c45"
     }
    },
    "caa18d30298b4ad7be2e9ceda2f395b8": {
     "model_module": "@jupyter-widgets/controls",
     "model_module_version": "1.5.0",
     "model_name": "DescriptionStyleModel",
     "state": {
      "_model_module": "@jupyter-widgets/controls",
      "_model_module_version": "1.5.0",
      "_model_name": "DescriptionStyleModel",
      "_view_count": null,
      "_view_module": "@jupyter-widgets/base",
      "_view_module_version": "1.2.0",
      "_view_name": "StyleView",
      "description_width": ""
     }
    },
    "d2b1ed49e9d946c289b9db7fadf94992": {
     "model_module": "@jupyter-widgets/controls",
     "model_module_version": "1.5.0",
     "model_name": "DescriptionStyleModel",
     "state": {
      "_model_module": "@jupyter-widgets/controls",
      "_model_module_version": "1.5.0",
      "_model_name": "DescriptionStyleModel",
      "_view_count": null,
      "_view_module": "@jupyter-widgets/base",
      "_view_module_version": "1.2.0",
      "_view_name": "StyleView",
      "description_width": ""
     }
    },
    "d3371fb6455440d48684cfe9d4829eff": {
     "model_module": "@jupyter-widgets/controls",
     "model_module_version": "1.5.0",
     "model_name": "HTMLModel",
     "state": {
      "_dom_classes": [],
      "_model_module": "@jupyter-widgets/controls",
      "_model_module_version": "1.5.0",
      "_model_name": "HTMLModel",
      "_view_count": null,
      "_view_module": "@jupyter-widgets/controls",
      "_view_module_version": "1.5.0",
      "_view_name": "HTMLView",
      "description": "",
      "description_tooltip": null,
      "layout": "IPY_MODEL_9e6dc5881f1a446d915fa00ef1f778ce",
      "placeholder": "​",
      "style": "IPY_MODEL_5f7b4216db414a2a8c024b814049d1c1",
      "value": " 65.0/65.0 [00:00&lt;00:00, 2.42kB/s]"
     }
    },
    "e26e613b94f94d539d027c3ceb496903": {
     "model_module": "@jupyter-widgets/controls",
     "model_module_version": "1.5.0",
     "model_name": "DescriptionStyleModel",
     "state": {
      "_model_module": "@jupyter-widgets/controls",
      "_model_module_version": "1.5.0",
      "_model_name": "DescriptionStyleModel",
      "_view_count": null,
      "_view_module": "@jupyter-widgets/base",
      "_view_module_version": "1.2.0",
      "_view_name": "StyleView",
      "description_width": ""
     }
    },
    "e2a23791a7a5484fb3e3b08931555a3f": {
     "model_module": "@jupyter-widgets/base",
     "model_module_version": "1.2.0",
     "model_name": "LayoutModel",
     "state": {
      "_model_module": "@jupyter-widgets/base",
      "_model_module_version": "1.2.0",
      "_model_name": "LayoutModel",
      "_view_count": null,
      "_view_module": "@jupyter-widgets/base",
      "_view_module_version": "1.2.0",
      "_view_name": "LayoutView",
      "align_content": null,
      "align_items": null,
      "align_self": null,
      "border": null,
      "bottom": null,
      "display": null,
      "flex": null,
      "flex_flow": null,
      "grid_area": null,
      "grid_auto_columns": null,
      "grid_auto_flow": null,
      "grid_auto_rows": null,
      "grid_column": null,
      "grid_gap": null,
      "grid_row": null,
      "grid_template_areas": null,
      "grid_template_columns": null,
      "grid_template_rows": null,
      "height": null,
      "justify_content": null,
      "justify_items": null,
      "left": null,
      "margin": null,
      "max_height": null,
      "max_width": null,
      "min_height": null,
      "min_width": null,
      "object_fit": null,
      "object_position": null,
      "order": null,
      "overflow": null,
      "overflow_x": null,
      "overflow_y": null,
      "padding": null,
      "right": null,
      "top": null,
      "visibility": null,
      "width": null
     }
    },
    "e6ae18a1e8144dada46879db37e8cdef": {
     "model_module": "@jupyter-widgets/base",
     "model_module_version": "1.2.0",
     "model_name": "LayoutModel",
     "state": {
      "_model_module": "@jupyter-widgets/base",
      "_model_module_version": "1.2.0",
      "_model_name": "LayoutModel",
      "_view_count": null,
      "_view_module": "@jupyter-widgets/base",
      "_view_module_version": "1.2.0",
      "_view_name": "LayoutView",
      "align_content": null,
      "align_items": null,
      "align_self": null,
      "border": null,
      "bottom": null,
      "display": null,
      "flex": null,
      "flex_flow": null,
      "grid_area": null,
      "grid_auto_columns": null,
      "grid_auto_flow": null,
      "grid_auto_rows": null,
      "grid_column": null,
      "grid_gap": null,
      "grid_row": null,
      "grid_template_areas": null,
      "grid_template_columns": null,
      "grid_template_rows": null,
      "height": null,
      "justify_content": null,
      "justify_items": null,
      "left": null,
      "margin": null,
      "max_height": null,
      "max_width": null,
      "min_height": null,
      "min_width": null,
      "object_fit": null,
      "object_position": null,
      "order": null,
      "overflow": null,
      "overflow_x": null,
      "overflow_y": null,
      "padding": null,
      "right": null,
      "top": null,
      "visibility": null,
      "width": null
     }
    },
    "e6af025bf3744cb2a3017199a8dc185c": {
     "model_module": "@jupyter-widgets/controls",
     "model_module_version": "1.5.0",
     "model_name": "FloatProgressModel",
     "state": {
      "_dom_classes": [],
      "_model_module": "@jupyter-widgets/controls",
      "_model_module_version": "1.5.0",
      "_model_name": "FloatProgressModel",
      "_view_count": null,
      "_view_module": "@jupyter-widgets/controls",
      "_view_module_version": "1.5.0",
      "_view_name": "ProgressView",
      "bar_style": "success",
      "description": "",
      "description_tooltip": null,
      "layout": "IPY_MODEL_e2a23791a7a5484fb3e3b08931555a3f",
      "max": 65,
      "min": 0,
      "orientation": "horizontal",
      "style": "IPY_MODEL_1a6214d3c8984950a0a86fb5fcdf0e6d",
      "value": 65
     }
    },
    "f15396c431f34835bbe2eeb65dfd16a4": {
     "model_module": "@jupyter-widgets/base",
     "model_module_version": "1.2.0",
     "model_name": "LayoutModel",
     "state": {
      "_model_module": "@jupyter-widgets/base",
      "_model_module_version": "1.2.0",
      "_model_name": "LayoutModel",
      "_view_count": null,
      "_view_module": "@jupyter-widgets/base",
      "_view_module_version": "1.2.0",
      "_view_name": "LayoutView",
      "align_content": null,
      "align_items": null,
      "align_self": null,
      "border": null,
      "bottom": null,
      "display": null,
      "flex": null,
      "flex_flow": null,
      "grid_area": null,
      "grid_auto_columns": null,
      "grid_auto_flow": null,
      "grid_auto_rows": null,
      "grid_column": null,
      "grid_gap": null,
      "grid_row": null,
      "grid_template_areas": null,
      "grid_template_columns": null,
      "grid_template_rows": null,
      "height": null,
      "justify_content": null,
      "justify_items": null,
      "left": null,
      "margin": null,
      "max_height": null,
      "max_width": null,
      "min_height": null,
      "min_width": null,
      "object_fit": null,
      "object_position": null,
      "order": null,
      "overflow": null,
      "overflow_x": null,
      "overflow_y": null,
      "padding": null,
      "right": null,
      "top": null,
      "visibility": null,
      "width": null
     }
    },
    "f258c1cc75474d1392a9368c51550c45": {
     "model_module": "@jupyter-widgets/base",
     "model_module_version": "1.2.0",
     "model_name": "LayoutModel",
     "state": {
      "_model_module": "@jupyter-widgets/base",
      "_model_module_version": "1.2.0",
      "_model_name": "LayoutModel",
      "_view_count": null,
      "_view_module": "@jupyter-widgets/base",
      "_view_module_version": "1.2.0",
      "_view_name": "LayoutView",
      "align_content": null,
      "align_items": null,
      "align_self": null,
      "border": null,
      "bottom": null,
      "display": null,
      "flex": null,
      "flex_flow": null,
      "grid_area": null,
      "grid_auto_columns": null,
      "grid_auto_flow": null,
      "grid_auto_rows": null,
      "grid_column": null,
      "grid_gap": null,
      "grid_row": null,
      "grid_template_areas": null,
      "grid_template_columns": null,
      "grid_template_rows": null,
      "height": null,
      "justify_content": null,
      "justify_items": null,
      "left": null,
      "margin": null,
      "max_height": null,
      "max_width": null,
      "min_height": null,
      "min_width": null,
      "object_fit": null,
      "object_position": null,
      "order": null,
      "overflow": null,
      "overflow_x": null,
      "overflow_y": null,
      "padding": null,
      "right": null,
      "top": null,
      "visibility": null,
      "width": null
     }
    },
    "f4cfe43af5c2497aaefef587324c861e": {
     "model_module": "@jupyter-widgets/controls",
     "model_module_version": "1.5.0",
     "model_name": "HBoxModel",
     "state": {
      "_dom_classes": [],
      "_model_module": "@jupyter-widgets/controls",
      "_model_module_version": "1.5.0",
      "_model_name": "HBoxModel",
      "_view_count": null,
      "_view_module": "@jupyter-widgets/controls",
      "_view_module_version": "1.5.0",
      "_view_name": "HBoxView",
      "box_style": "",
      "children": [
       "IPY_MODEL_2237a78e60eb437d8562d9b74bd98360",
       "IPY_MODEL_f5c1da4f42d54e5ba9d4f7782a7554b0",
       "IPY_MODEL_41517d0e2fd74aa08b04a5b9a4ac665d"
      ],
      "layout": "IPY_MODEL_b67d7a6803da4ece97c3ab69aa7547e8"
     }
    },
    "f5c1da4f42d54e5ba9d4f7782a7554b0": {
     "model_module": "@jupyter-widgets/controls",
     "model_module_version": "1.5.0",
     "model_name": "FloatProgressModel",
     "state": {
      "_dom_classes": [],
      "_model_module": "@jupyter-widgets/controls",
      "_model_module_version": "1.5.0",
      "_model_name": "FloatProgressModel",
      "_view_count": null,
      "_view_module": "@jupyter-widgets/controls",
      "_view_module_version": "1.5.0",
      "_view_name": "ProgressView",
      "bar_style": "success",
      "description": "",
      "description_tooltip": null,
      "layout": "IPY_MODEL_7ebab85482134e1db1a62d584dd1f1e6",
      "max": 376,
      "min": 0,
      "orientation": "horizontal",
      "style": "IPY_MODEL_3fd60e410f434de0bcb061a7fca394ba",
      "value": 376
     }
    },
    "f77f512b44bf481cb8846404350b9ab2": {
     "model_module": "@jupyter-widgets/controls",
     "model_module_version": "1.5.0",
     "model_name": "FloatProgressModel",
     "state": {
      "_dom_classes": [],
      "_model_module": "@jupyter-widgets/controls",
      "_model_module_version": "1.5.0",
      "_model_name": "FloatProgressModel",
      "_view_count": null,
      "_view_module": "@jupyter-widgets/controls",
      "_view_module_version": "1.5.0",
      "_view_name": "ProgressView",
      "bar_style": "success",
      "description": "",
      "description_tooltip": null,
      "layout": "IPY_MODEL_53b33d44e6354bb6af52775f1ed6b9dd",
      "max": 4309802,
      "min": 0,
      "orientation": "horizontal",
      "style": "IPY_MODEL_562e3a57010c4ca5af045c3c33500a28",
      "value": 4309802
     }
    },
    "f982a7f0aad440fbb5c4497c3fd1d15e": {
     "model_module": "@jupyter-widgets/controls",
     "model_module_version": "1.5.0",
     "model_name": "ProgressStyleModel",
     "state": {
      "_model_module": "@jupyter-widgets/controls",
      "_model_module_version": "1.5.0",
      "_model_name": "ProgressStyleModel",
      "_view_count": null,
      "_view_module": "@jupyter-widgets/base",
      "_view_module_version": "1.2.0",
      "_view_name": "StyleView",
      "bar_color": null,
      "description_width": ""
     }
    }
   }
  }
 },
 "nbformat": 4,
 "nbformat_minor": 4
}
