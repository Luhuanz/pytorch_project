{
 "cells": [
  {
   "cell_type": "code",
   "execution_count": 2,
   "metadata": {},
   "outputs": [],
   "source": [
    "import torch\n",
    "import torch.nn as nn\n",
    "import torch.nn.functional as F"
   ]
  },
  {
   "cell_type": "code",
   "execution_count": 3,
   "metadata": {},
   "outputs": [],
   "source": [
    "class Line(nn.Module):\n",
    "    def __init__(self, size, embed_dim=128, order=1):\n",
    "        super(Line, self).__init__()\n",
    "\n",
    "        assert order in [1, 2], print(\"Order should either be int(1) or int(2)\")\n",
    "        # 设置embedding的维度\n",
    "        self.embed_dim = embed_dim\n",
    "        # 论文中的1st order, 2nd order\n",
    "        self.order = order\n",
    "        # nodes数*embedding维度\n",
    "        self.nodes_embeddings = nn.Embedding(size, embed_dim)\n",
    "        \n",
    "        # 初始化模型参数\n",
    "        # 只有1st order时每个node只需要一个embedding\n",
    "        # 当有2nd order时每个node还需要一个context embedding，共计两个\n",
    "        if order == 2:\n",
    "            self.contextnodes_embeddings = nn.Embedding(size, embed_dim)\n",
    "            # Initialization\n",
    "            self.contextnodes_embeddings.weight.data = self.contextnodes_embeddings.weight.data.uniform_(\n",
    "                -.5, .5) / embed_dim\n",
    "\n",
    "        # Initialization\n",
    "        self.nodes_embeddings.weight.data = self.nodes_embeddings.weight.data.uniform_(\n",
    "            -.5, .5) / embed_dim\n",
    "\n",
    "    def forward(self, v_i, v_j, negsamples, device):\n",
    "\n",
    "        v_i = self.nodes_embeddings(v_i).to(device)\n",
    "\n",
    "        if self.order == 2:\n",
    "            v_j = self.contextnodes_embeddings(v_j).to(device)\n",
    "            negativenodes = -self.contextnodes_embeddings(negsamples).to(device)\n",
    "\n",
    "        else:\n",
    "            v_j = self.nodes_embeddings(v_j).to(device)\n",
    "            negativenodes = -self.nodes_embeddings(negsamples).to(device)\n",
    "        # 公式（7）中的第一项\n",
    "        mulpositivebatch = torch.mul(v_i, v_j)\n",
    "        positivebatch = F.logsigmoid(torch.sum(mulpositivebatch, dim=1))\n",
    "        # 公式（7）中的第二项，负样本部分\n",
    "        mulnegativebatch = torch.mul(v_i.view(len(v_i), 1, self.embed_dim), negativenodes)\n",
    "        negativebatch = torch.sum(\n",
    "            F.logsigmoid(\n",
    "                torch.sum(mulnegativebatch, dim=2)\n",
    "            ),\n",
    "            dim=1)\n",
    "        # 公式（7）\n",
    "        loss = positivebatch + negativebatch\n",
    "        return -torch.mean(loss)"
   ]
  },
  {
   "cell_type": "code",
   "execution_count": null,
   "metadata": {},
   "outputs": [],
   "source": []
  }
 ],
 "metadata": {
  "kernelspec": {
   "display_name": "Python 3 (ipykernel)",
   "language": "python",
   "name": "python3"
  },
  "language_info": {
   "codemirror_mode": {
    "name": "ipython",
    "version": 3
   },
   "file_extension": ".py",
   "mimetype": "text/x-python",
   "name": "python",
   "nbconvert_exporter": "python",
   "pygments_lexer": "ipython3",
   "version": "3.7.13"
  }
 },
 "nbformat": 4,
 "nbformat_minor": 4
}
