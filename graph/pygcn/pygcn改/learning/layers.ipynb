{
 "cells": [
  {
   "cell_type": "code",
   "execution_count": null,
   "metadata": {},
   "outputs": [],
   "source": [
    "import math\n",
    "\n",
    "import torch\n",
    "\n",
    "from torch.nn.parameter import Parameter\n",
    "from torch.nn.modules.module import Module"
   ]
  },
  {
   "cell_type": "code",
   "execution_count": null,
   "metadata": {},
   "outputs": [],
   "source": [
    "class GraphConvolution(Module):\n",
    "    \"\"\"\n",
    "    Simple GCN layer, similar to https://arxiv.org/abs/1609.02907\n",
    "    \"\"\"\n",
    "\n",
    "    def __init__(self, in_features, out_features, bias=True):\n",
    "        super(GraphConvolution, self).__init__()\n",
    "        # 输入特征，每个输入样本的大小\n",
    "        self.in_features = in_features\n",
    "\n",
    "        # 输出特征，每个输出样本的大小\n",
    "        self.out_features = out_features\n",
    "\n",
    "        # 形状模块的可学习权重, in_features x out_features\n",
    "        self.weight = Parameter(torch.FloatTensor(in_features, out_features))\n",
    "\n",
    "        # 偏置，如果设置为False，则层将不会学习加法偏差; 默认值：True\n",
    "        if bias:\n",
    "            self.bias = Parameter(torch.FloatTensor(out_features))\n",
    "        else:\n",
    "            self.register_parameter('bias', None)\n",
    "\n",
    "        # 参数随机初始化函数\n",
    "        self.reset_parameters()\n",
    "\n",
    "    def reset_parameters(self):\n",
    "        # weight = [in_features, out_features]\n",
    "        #  size(1)是指out_features, stdv=1/根号(out_features)\n",
    "        stdv = 1. / math.sqrt(self.weight.size(1))\n",
    "\n",
    "        # weight在区间(-stdv, stdv)之间均匀分布随机初始化\n",
    "        self.weight.data.uniform_(-stdv, stdv)\n",
    "\n",
    "        # bias均匀分布随机初始化\n",
    "        if self.bias is not None:\n",
    "            self.bias.data.uniform_(-stdv, stdv)\n",
    "\n",
    "    def forward(self, input, adj):\n",
    "        # 前向传播函数\n",
    "        # AXW\n",
    "\n",
    "        # input和self.weight矩阵相乘\n",
    "        # XW\n",
    "        support = torch.mm(input, self.weight)\n",
    "\n",
    "        # spmm()是稀疏矩阵乘法，减小运算复杂度\n",
    "        # AXW\n",
    "        output = torch.spmm(adj, support)\n",
    "\n",
    "        if self.bias is not None:\n",
    "            # 返回: 系数*输入*权重 + 偏置\n",
    "            return output + self.bias\n",
    "        else:\n",
    "            # 返回: 系数*输入*权重, 无偏置\n",
    "            return output\n",
    "\n",
    "    def __repr__(self):\n",
    "        # 打印形式是：GraphConvolution (输入特征 -> 输出特征)\n",
    "        return self.__class__.__name__ + ' (' \\\n",
    "               + str(self.in_features) + ' -> ' \\\n",
    "               + str(self.out_features) + ')'"
   ]
  },
  {
   "cell_type": "code",
   "execution_count": null,
   "metadata": {},
   "outputs": [],
   "source": []
  }
 ],
 "metadata": {
  "kernelspec": {
   "display_name": "Python 3 (ipykernel)",
   "language": "python",
   "name": "python3"
  },
  "language_info": {
   "codemirror_mode": {
    "name": "ipython",
    "version": 3
   },
   "file_extension": ".py",
   "mimetype": "text/x-python",
   "name": "python",
   "nbconvert_exporter": "python",
   "pygments_lexer": "ipython3",
   "version": "3.7.13"
  }
 },
 "nbformat": 4,
 "nbformat_minor": 4
}
