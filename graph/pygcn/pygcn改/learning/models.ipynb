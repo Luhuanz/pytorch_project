{
 "cells": [
  {
   "cell_type": "code",
   "execution_count": null,
   "metadata": {},
   "outputs": [],
   "source": [
    "import torch.nn as nn\n",
    "import torch.nn.functional as F\n",
    "from pygcn.layers import GraphConvolution"
   ]
  },
  {
   "cell_type": "code",
   "execution_count": null,
   "metadata": {},
   "outputs": [],
   "source": [
    "class GCN(nn.Module):\n",
    "    def __init__(self, nfeat, nhid, nclass, dropout):\n",
    "        \"\"\"\n",
    "\n",
    "        :param nfeat: 底层节点的参数，feature的个数\n",
    "        :param nhid: 隐层节点个数\n",
    "        :param nclass: 最终的分类数\n",
    "        :param dropout: dropout参数\n",
    "        \"\"\"\n",
    "        super(GCN, self).__init__()\n",
    "\n",
    "        # self.gc1代表GraphConvolution()，gc1输入尺寸nfeat，输出尺寸nhid\n",
    "        self.gc1 = GraphConvolution(nfeat, nhid)\n",
    "      \n",
    "        # self.gc2代表GraphConvolution()，gc2输入尺寸nhid，输出尺寸ncalss\n",
    "        self.gc2 = GraphConvolution(nhid, nclass)\n",
    "\n",
    "        # dropout参数\n",
    "        self.dropout = dropout\n",
    "\n",
    "    def forward(self, x, adj):\n",
    "        # 前向传播\n",
    "\n",
    "        # x是输入特征，adj是邻接矩阵\n",
    "        # self.gc1(x, adj)执行GraphConvolution中forward函数\n",
    "        x = F.relu(self.gc1(x, adj))\n",
    "\n",
    "        # 输入x，dropout参数是self.dropout\n",
    "        # training=self.training表示将模型整体的training状态参数传入dropout函数，没有此参数无法进行dropout\n",
    "        x = F.dropout(x, self.dropout, training=self.training)\n",
    "\n",
    "        # gc2层\n",
    "        x = self.gc2(x, adj)\n",
    "\n",
    "        # 输出为输出层做log_softmax变换的结果，dim表示log_softmax将计算的维度\n",
    "        return F.log_softmax(x, dim=1)"
   ]
  },
  {
   "cell_type": "code",
   "execution_count": null,
   "metadata": {},
   "outputs": [],
   "source": []
  }
 ],
 "metadata": {
  "kernelspec": {
   "display_name": "Python 3 (ipykernel)",
   "language": "python",
   "name": "python3"
  },
  "language_info": {
   "codemirror_mode": {
    "name": "ipython",
    "version": 3
   },
   "file_extension": ".py",
   "mimetype": "text/x-python",
   "name": "python",
   "nbconvert_exporter": "python",
   "pygments_lexer": "ipython3",
   "version": "3.7.13"
  }
 },
 "nbformat": 4,
 "nbformat_minor": 4
}
