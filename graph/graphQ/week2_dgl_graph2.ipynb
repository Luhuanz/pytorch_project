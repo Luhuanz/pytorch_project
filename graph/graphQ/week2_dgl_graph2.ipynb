{
 "cells": [
  {
   "cell_type": "code",
   "execution_count": 2,
   "id": "4e873175",
   "metadata": {},
   "outputs": [],
   "source": [
    "%matplotlib inline"
   ]
  },
  {
   "cell_type": "code",
   "execution_count": 3,
   "id": "fa4a6f74",
   "metadata": {},
   "outputs": [],
   "source": [
    "import dgl\n",
    "import torch\n",
    "import torch.nn as nn\n",
    "import torch.nn.functional as F"
   ]
  },
  {
   "cell_type": "markdown",
   "id": "8989a426",
   "metadata": {},
   "source": [
    "\\begin{align}m_{u\\to v}^{(l)} = M^{(l)}\\left(h_v^{(l-1)}, h_u^{(l-1)}, e_{u\\to v}^{(l-1)}\\right)\\end{align}\n",
    "#---1\n",
    "\\begin{align}m_{v}^{(l)} = \\sum_{u\\in\\mathcal{N}(v)}m_{u\\to v}^{(l)}\\end{align}\n",
    "\n",
    "\\begin{align}h_v^{(l)} = U^{(l)}\\left(h_v^{(l-1)}, m_v^{(l)}\\right)\\end{align}"
   ]
  },
  {
   "cell_type": "markdown",
   "id": "37d26239",
   "metadata": {},
   "source": [
    "<!-- \\begin{align}m_{u\\to v}^{(l)} = M^{(l)}\\left(h_v^{(l-1)}, h_u^{(l-1)}, e_{u\\to v}^{(l-1)}\\right)\\end{align}\n",
    "\n",
    "\\begin{align}m_{v}^{(l)} = \\sum_{u\\in\\mathcal{N}(v)}m_{u\\to v}^{(l)}\\end{align}\n",
    "\n",
    "\\begin{align}h_v^{(l)} = U^{(l)}\\left(h_v^{(l-1)}, m_v^{(l)}\\right)\\end{align} -->"
   ]
  },
  {
   "cell_type": "markdown",
   "id": "49238616",
   "metadata": {},
   "source": [
    "\\begin{align}h_{\\mathcal{N}(v)}^k\\leftarrow \\text{Average}\\{h_u^{k-1},\\forall u\\in\\mathcal{\n",
    "N}(v)\\}\\end{align}\n",
    "\n",
    "\\begin{align}h_v^k\\leftarrow \\text{ReLU}\\left(W^k\\cdot \\text{CONCAT}(h_v^{k-1}, h_{\\mathcal{N}(v)}^k) \\right)\\end{align}\n"
   ]
  },
  {
   "cell_type": "code",
   "execution_count": 4,
   "id": "6dd81585",
   "metadata": {},
   "outputs": [],
   "source": [
    "import dgl.function as fn"
   ]
  },
  {
   "cell_type": "code",
   "execution_count": 25,
   "id": "30c7ba87",
   "metadata": {},
   "outputs": [],
   "source": [
    "class SAGEConv(nn.Module):\n",
    "    def __init__(self,in_feat,out_feat):\n",
    "        super(SAGEConv,self).__init__()\n",
    "        self.linear=nn.Linear(in_feat*2,out_feat)\n",
    "    def forward(self,g,h):\n",
    "        with g.local_scope():\n",
    "            g.ndata['h']=h\n",
    "            g.update_all(message_func=fn.copy_u('h','m'),reduce_func=fn.mean('m','h_N'))\n",
    "            h_N = g.ndata['h_N']\n",
    "            h_total=torch.cat([h,h_N],dim=1)\n",
    "            return self.linear(h_total)"
   ]
  },
  {
   "cell_type": "markdown",
   "id": "1c563cb6",
   "metadata": {},
   "source": [
    "* Message function ``fn.copy_u('h', 'm')`` that\n",
    "  copies the node feature under name ``'h'`` as *messages* sent to\n",
    "  neighbors.\n",
    "\n",
    "* Reduce function ``fn.mean('m', 'h_N')`` that averages\n",
    "  all the received messages under name ``'m'`` and saves the result as a\n",
    "  new node feature ``'h_N'``.\n",
    "\n",
    "* ``update_all`` tells DGL to trigger the\n",
    "  message and reduce functions for all the nodes and edges."
   ]
  },
  {
   "cell_type": "code",
   "execution_count": 32,
   "id": "2c1bb179",
   "metadata": {},
   "outputs": [],
   "source": [
    "class Model(nn.Module):\n",
    "    def __init__(self,in_feat,h_feat,num_classes):\n",
    "        super(Model,self).__init__()\n",
    "        self.conv1=SAGEConv(in_feat,h_feat)\n",
    "        self.conv2=SAGEConv(h_feat,num_classes)\n",
    "    def forward(self,g,in_feats):\n",
    "        h=self.conv1(g,in_feats)\n",
    "        h=F.relu(h)\n",
    "        out=self.conv2(g,h)\n",
    "        return out"
   ]
  },
  {
   "cell_type": "code",
   "execution_count": 33,
   "id": "d43c10d7",
   "metadata": {},
   "outputs": [],
   "source": [
    "import dgl.data"
   ]
  },
  {
   "cell_type": "code",
   "execution_count": 34,
   "id": "de52afe4",
   "metadata": {},
   "outputs": [
    {
     "name": "stdout",
     "output_type": "stream",
     "text": [
      "  NumNodes: 2708\n",
      "  NumEdges: 10556\n",
      "  NumFeats: 1433\n",
      "  NumClasses: 7\n",
      "  NumTrainingSamples: 140\n",
      "  NumValidationSamples: 500\n",
      "  NumTestSamples: 1000\n",
      "Done loading data from cached files.\n"
     ]
    }
   ],
   "source": [
    "dataset=dgl.data.CoraGraphDataset()\n",
    "g=dataset[0]"
   ]
  },
  {
   "cell_type": "code",
   "execution_count": 56,
   "id": "c8f51605",
   "metadata": {},
   "outputs": [],
   "source": [
    "def train(g,model):\n",
    "    optimizer=torch.optim.Adam(model.parameters(),lr=0.01)\n",
    "    all_logits=[]\n",
    "    best_val_acc=0\n",
    "    best_test_acc=0\n",
    "    features=g.ndata['feat'] # forward\n",
    "    labels=g.ndata['label']\n",
    "    train_mask=g.ndata['train_mask']\n",
    "    val_mask=g.ndata['val_mask']\n",
    "    test_mask=g.ndata['test_mask']\n",
    "    for i in range(200):\n",
    "        logits=model(g,features)\n",
    "        pred=logits.argmax(1)\n",
    "        loss=F.cross_entropy(logits[train_mask],labels[train_mask])\n",
    "        #compute acc\n",
    "        train_acc=(pred[train_mask]==labels[train_mask]).float().mean()\n",
    "        val_acc=(pred[val_mask]==labels[val_mask]).float().mean()\n",
    "        test_acc=(pred[test_mask]==labels[test_mask]).float().mean()\n",
    "        #save\n",
    "        if best_val_acc<val_acc:\n",
    "            best_val_acc=val_acc\n",
    "            best_test_acc=test_acc\n",
    "        #backward\n",
    "        optimizer.zero_grad()\n",
    "        loss.backward()\n",
    "        optimizer.step()\n",
    "        all_logits.append(logits.detach())\n",
    "        if i % 5 == 0:\n",
    "            print('In epoch {}, loss: {:.3f}, val acc: {:.3f} (best {:.3f}), test acc: {:.3f} (best {:.3f})'.format(\n",
    "                i, loss, val_acc, best_val_acc, test_acc, best_test_acc))\n",
    "        \n",
    "        "
   ]
  },
  {
   "cell_type": "code",
   "execution_count": 57,
   "id": "78f80ca4",
   "metadata": {},
   "outputs": [],
   "source": [
    "model1=Model(g.ndata['feat'].shape[1],16,dataset.num_classes)\n"
   ]
  },
  {
   "cell_type": "code",
   "execution_count": 58,
   "id": "01d24ca0",
   "metadata": {},
   "outputs": [
    {
     "name": "stdout",
     "output_type": "stream",
     "text": [
      "In epoch 0, loss: 1.949, val acc: 0.122 (best 0.122), test acc: 0.130 (best 0.130)\n",
      "In epoch 5, loss: 1.871, val acc: 0.472 (best 0.472), test acc: 0.465 (best 0.465)\n",
      "In epoch 10, loss: 1.729, val acc: 0.576 (best 0.588), test acc: 0.531 (best 0.554)\n",
      "In epoch 15, loss: 1.515, val acc: 0.598 (best 0.598), test acc: 0.566 (best 0.566)\n",
      "In epoch 20, loss: 1.238, val acc: 0.602 (best 0.602), test acc: 0.585 (best 0.585)\n",
      "In epoch 25, loss: 0.931, val acc: 0.626 (best 0.626), test acc: 0.605 (best 0.605)\n",
      "In epoch 30, loss: 0.642, val acc: 0.660 (best 0.660), test acc: 0.639 (best 0.626)\n",
      "In epoch 35, loss: 0.410, val acc: 0.714 (best 0.714), test acc: 0.692 (best 0.692)\n",
      "In epoch 40, loss: 0.249, val acc: 0.732 (best 0.732), test acc: 0.731 (best 0.731)\n",
      "In epoch 45, loss: 0.150, val acc: 0.744 (best 0.744), test acc: 0.741 (best 0.740)\n",
      "In epoch 50, loss: 0.092, val acc: 0.748 (best 0.748), test acc: 0.744 (best 0.747)\n",
      "In epoch 55, loss: 0.059, val acc: 0.746 (best 0.750), test acc: 0.746 (best 0.746)\n",
      "In epoch 60, loss: 0.040, val acc: 0.746 (best 0.750), test acc: 0.743 (best 0.746)\n",
      "In epoch 65, loss: 0.029, val acc: 0.748 (best 0.750), test acc: 0.740 (best 0.746)\n",
      "In epoch 70, loss: 0.023, val acc: 0.752 (best 0.752), test acc: 0.741 (best 0.740)\n",
      "In epoch 75, loss: 0.018, val acc: 0.752 (best 0.752), test acc: 0.745 (best 0.740)\n",
      "In epoch 80, loss: 0.015, val acc: 0.754 (best 0.754), test acc: 0.745 (best 0.745)\n",
      "In epoch 85, loss: 0.013, val acc: 0.754 (best 0.754), test acc: 0.745 (best 0.745)\n",
      "In epoch 90, loss: 0.012, val acc: 0.756 (best 0.756), test acc: 0.745 (best 0.745)\n",
      "In epoch 95, loss: 0.010, val acc: 0.752 (best 0.756), test acc: 0.744 (best 0.745)\n",
      "In epoch 100, loss: 0.009, val acc: 0.752 (best 0.756), test acc: 0.744 (best 0.745)\n",
      "In epoch 105, loss: 0.009, val acc: 0.752 (best 0.756), test acc: 0.744 (best 0.745)\n",
      "In epoch 110, loss: 0.008, val acc: 0.752 (best 0.756), test acc: 0.743 (best 0.745)\n",
      "In epoch 115, loss: 0.007, val acc: 0.752 (best 0.756), test acc: 0.744 (best 0.745)\n",
      "In epoch 120, loss: 0.007, val acc: 0.752 (best 0.756), test acc: 0.746 (best 0.745)\n",
      "In epoch 125, loss: 0.006, val acc: 0.750 (best 0.756), test acc: 0.745 (best 0.745)\n",
      "In epoch 130, loss: 0.006, val acc: 0.750 (best 0.756), test acc: 0.744 (best 0.745)\n",
      "In epoch 135, loss: 0.006, val acc: 0.750 (best 0.756), test acc: 0.744 (best 0.745)\n",
      "In epoch 140, loss: 0.005, val acc: 0.750 (best 0.756), test acc: 0.744 (best 0.745)\n",
      "In epoch 145, loss: 0.005, val acc: 0.750 (best 0.756), test acc: 0.744 (best 0.745)\n",
      "In epoch 150, loss: 0.005, val acc: 0.750 (best 0.756), test acc: 0.744 (best 0.745)\n",
      "In epoch 155, loss: 0.004, val acc: 0.750 (best 0.756), test acc: 0.743 (best 0.745)\n",
      "In epoch 160, loss: 0.004, val acc: 0.744 (best 0.756), test acc: 0.743 (best 0.745)\n",
      "In epoch 165, loss: 0.004, val acc: 0.744 (best 0.756), test acc: 0.742 (best 0.745)\n",
      "In epoch 170, loss: 0.004, val acc: 0.744 (best 0.756), test acc: 0.741 (best 0.745)\n",
      "In epoch 175, loss: 0.004, val acc: 0.744 (best 0.756), test acc: 0.741 (best 0.745)\n",
      "In epoch 180, loss: 0.004, val acc: 0.744 (best 0.756), test acc: 0.741 (best 0.745)\n",
      "In epoch 185, loss: 0.003, val acc: 0.744 (best 0.756), test acc: 0.741 (best 0.745)\n",
      "In epoch 190, loss: 0.003, val acc: 0.746 (best 0.756), test acc: 0.742 (best 0.745)\n",
      "In epoch 195, loss: 0.003, val acc: 0.746 (best 0.756), test acc: 0.741 (best 0.745)\n"
     ]
    }
   ],
   "source": [
    "train(g,model1)"
   ]
  },
  {
   "cell_type": "markdown",
   "id": "bbc5d1ac",
   "metadata": {},
   "source": [
    "# customization 定制化"
   ]
  },
  {
   "cell_type": "code",
   "execution_count": 59,
   "id": "6928d2ef",
   "metadata": {},
   "outputs": [],
   "source": [
    "class WeightedSAGEConv(nn.Module):\n",
    " \n",
    "    def __init__(self, in_feat, out_feat):\n",
    "        super(WeightedSAGEConv, self).__init__()\n",
    "        self.linear = nn.Linear(in_feat * 2, out_feat)\n",
    "    \n",
    "    def forward(self, g, h, w): # w表示边权重\n",
    "        with g.local_scope():\n",
    "            g.ndata['h'] = h\n",
    "            g.edata['w'] = w\n",
    "            g.update_all(message_func=fn.u_mul_e('h', 'w', 'm'), reduce_func=fn.mean('m', 'h_N'))\n",
    "            h_N = g.ndata['h_N']\n",
    "            h_total = torch.cat([h, h_N], dim=1)\n",
    "            return self.linear(h_total)"
   ]
  },
  {
   "cell_type": "code",
   "execution_count": 62,
   "id": "ba41c6c1",
   "metadata": {},
   "outputs": [],
   "source": [
    "def u_mul_e_udf(edges):\n",
    "    return {'m' : edges.src['h'] * edges.data['w']}\n",
    "\n",
    "def sum_udf(nodes):\n",
    "    return {'h': nodes.mailbox['m'].sum(1)}"
   ]
  },
  {
   "cell_type": "code",
   "execution_count": 60,
   "id": "cea53b88",
   "metadata": {},
   "outputs": [
    {
     "name": "stdout",
     "output_type": "stream",
     "text": [
      "In epoch 0, loss: 1.952, val acc: 0.114 (best 0.114), test acc: 0.103 (best 0.103)\n",
      "In epoch 5, loss: 1.872, val acc: 0.090 (best 0.132), test acc: 0.098 (best 0.127)\n",
      "In epoch 10, loss: 1.721, val acc: 0.356 (best 0.356), test acc: 0.359 (best 0.359)\n",
      "In epoch 15, loss: 1.492, val acc: 0.562 (best 0.562), test acc: 0.574 (best 0.574)\n",
      "In epoch 20, loss: 1.191, val acc: 0.646 (best 0.646), test acc: 0.658 (best 0.658)\n",
      "In epoch 25, loss: 0.858, val acc: 0.686 (best 0.686), test acc: 0.706 (best 0.706)\n",
      "In epoch 30, loss: 0.551, val acc: 0.742 (best 0.742), test acc: 0.737 (best 0.737)\n",
      "In epoch 35, loss: 0.320, val acc: 0.758 (best 0.762), test acc: 0.753 (best 0.747)\n",
      "In epoch 40, loss: 0.175, val acc: 0.756 (best 0.762), test acc: 0.754 (best 0.747)\n",
      "In epoch 45, loss: 0.096, val acc: 0.758 (best 0.762), test acc: 0.764 (best 0.747)\n",
      "In epoch 50, loss: 0.056, val acc: 0.756 (best 0.762), test acc: 0.762 (best 0.747)\n",
      "In epoch 55, loss: 0.035, val acc: 0.758 (best 0.762), test acc: 0.762 (best 0.747)\n",
      "In epoch 60, loss: 0.024, val acc: 0.764 (best 0.764), test acc: 0.766 (best 0.766)\n",
      "In epoch 65, loss: 0.018, val acc: 0.762 (best 0.764), test acc: 0.767 (best 0.766)\n",
      "In epoch 70, loss: 0.014, val acc: 0.762 (best 0.764), test acc: 0.766 (best 0.766)\n",
      "In epoch 75, loss: 0.011, val acc: 0.760 (best 0.764), test acc: 0.764 (best 0.766)\n",
      "In epoch 80, loss: 0.010, val acc: 0.760 (best 0.764), test acc: 0.764 (best 0.766)\n",
      "In epoch 85, loss: 0.009, val acc: 0.760 (best 0.764), test acc: 0.764 (best 0.766)\n",
      "In epoch 90, loss: 0.008, val acc: 0.760 (best 0.764), test acc: 0.763 (best 0.766)\n",
      "In epoch 95, loss: 0.007, val acc: 0.762 (best 0.764), test acc: 0.762 (best 0.766)\n",
      "In epoch 100, loss: 0.006, val acc: 0.762 (best 0.764), test acc: 0.762 (best 0.766)\n",
      "In epoch 105, loss: 0.006, val acc: 0.762 (best 0.764), test acc: 0.763 (best 0.766)\n",
      "In epoch 110, loss: 0.006, val acc: 0.762 (best 0.764), test acc: 0.763 (best 0.766)\n",
      "In epoch 115, loss: 0.005, val acc: 0.762 (best 0.764), test acc: 0.763 (best 0.766)\n",
      "In epoch 120, loss: 0.005, val acc: 0.764 (best 0.764), test acc: 0.763 (best 0.766)\n",
      "In epoch 125, loss: 0.005, val acc: 0.764 (best 0.764), test acc: 0.763 (best 0.766)\n",
      "In epoch 130, loss: 0.004, val acc: 0.762 (best 0.764), test acc: 0.762 (best 0.766)\n",
      "In epoch 135, loss: 0.004, val acc: 0.762 (best 0.764), test acc: 0.762 (best 0.766)\n",
      "In epoch 140, loss: 0.004, val acc: 0.762 (best 0.764), test acc: 0.761 (best 0.766)\n",
      "In epoch 145, loss: 0.004, val acc: 0.762 (best 0.764), test acc: 0.762 (best 0.766)\n",
      "In epoch 150, loss: 0.003, val acc: 0.762 (best 0.764), test acc: 0.761 (best 0.766)\n",
      "In epoch 155, loss: 0.003, val acc: 0.762 (best 0.764), test acc: 0.763 (best 0.766)\n",
      "In epoch 160, loss: 0.003, val acc: 0.762 (best 0.764), test acc: 0.762 (best 0.766)\n",
      "In epoch 165, loss: 0.003, val acc: 0.762 (best 0.764), test acc: 0.761 (best 0.766)\n",
      "In epoch 170, loss: 0.003, val acc: 0.762 (best 0.764), test acc: 0.762 (best 0.766)\n",
      "In epoch 175, loss: 0.003, val acc: 0.762 (best 0.764), test acc: 0.762 (best 0.766)\n",
      "In epoch 180, loss: 0.003, val acc: 0.762 (best 0.764), test acc: 0.762 (best 0.766)\n",
      "In epoch 185, loss: 0.002, val acc: 0.762 (best 0.764), test acc: 0.762 (best 0.766)\n",
      "In epoch 190, loss: 0.002, val acc: 0.762 (best 0.764), test acc: 0.763 (best 0.766)\n",
      "In epoch 195, loss: 0.002, val acc: 0.762 (best 0.764), test acc: 0.763 (best 0.766)\n"
     ]
    }
   ],
   "source": [
    "class Model(nn.Module):\n",
    "    def __init__(self, in_feats, h_feats, num_classes):\n",
    "        super(Model, self).__init__()\n",
    "        self.conv1 = WeightedSAGEConv(in_feats, h_feats)\n",
    "        self.conv2 = WeightedSAGEConv(h_feats, num_classes)\n",
    "    \n",
    "    def forward(self, g, in_feat):\n",
    "        h = self.conv1(g, in_feat, torch.ones(g.num_edges()).to(g.device))\n",
    "        h = F.relu(h)\n",
    "        h = self.conv2(g, h, torch.ones(g.num_edges()).to(g.device))\n",
    "        return h\n",
    "    \n",
    "model = Model(g.ndata['feat'].shape[1], 16, dataset.num_classes)\n",
    "train(g, model)"
   ]
  },
  {
   "cell_type": "code",
   "execution_count": null,
   "id": "1ac7cc3d",
   "metadata": {},
   "outputs": [],
   "source": []
  }
 ],
 "metadata": {
  "kernelspec": {
   "display_name": "Python [conda env:pytorch1.0_gpu] *",
   "language": "python",
   "name": "conda-env-pytorch1.0_gpu-py"
  },
  "language_info": {
   "codemirror_mode": {
    "name": "ipython",
    "version": 3
   },
   "file_extension": ".py",
   "mimetype": "text/x-python",
   "name": "python",
   "nbconvert_exporter": "python",
   "pygments_lexer": "ipython3",
   "version": "3.7.13"
  }
 },
 "nbformat": 4,
 "nbformat_minor": 5
}
