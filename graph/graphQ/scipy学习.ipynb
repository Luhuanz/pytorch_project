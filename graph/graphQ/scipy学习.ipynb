{
 "cells": [
  {
   "cell_type": "markdown",
   "metadata": {},
   "source": [
    "scipy常用语法\n",
    "---\n",
    "\n",
    "<table border=\"1\" class=\"docutils\">\n",
    "<colgroup>\n",
    "<col width=\"36%\">\n",
    "<col width=\"64%\">\n",
    "</colgroup>\n",
    "<tbody valign=\"top\">\n",
    "<tr class=\"row-odd\"><td><a class=\"reference external\" href=\"http://docs.scipy.org/doc/scipy/reference/cluster.html#module-scipy.cluster\" title=\"(in SciPy v0.19.0)\"><tt class=\"xref py py-mod docutils literal\"><span class=\"pre\">scipy.cluster</span></tt></a></td>\n",
    "<td>向量计算 / Kmeans</td>\n",
    "</tr>\n",
    "<tr class=\"row-even\"><td><a class=\"reference external\" href=\"http://docs.scipy.org/doc/scipy/reference/constants.html#module-scipy.constants\" title=\"(in SciPy v0.19.0)\"><tt class=\"xref py py-mod docutils literal\"><span class=\"pre\">scipy.constants</span></tt></a></td>\n",
    "<td>物理和数学常量</td>\n",
    "</tr>\n",
    "<tr class=\"row-odd\"><td><a class=\"reference external\" href=\"http://docs.scipy.org/doc/scipy/reference/fftpack.html#module-scipy.fftpack\" title=\"(in SciPy v0.19.0)\"><tt class=\"xref py py-mod docutils literal\"><span class=\"pre\">scipy.fftpack</span></tt></a></td>\n",
    "<td>傅里叶变换</td>\n",
    "</tr>\n",
    "<tr class=\"row-even\"><td><a class=\"reference external\" href=\"http://docs.scipy.org/doc/scipy/reference/integrate.html#module-scipy.integrate\" title=\"(in SciPy v0.19.0)\"><tt class=\"xref py py-mod docutils literal\"><span class=\"pre\">scipy.integrate</span></tt></a></td>\n",
    "<td>积分程序</td>\n",
    "</tr>\n",
    "<tr class=\"row-odd\"><td><a class=\"reference external\" href=\"http://docs.scipy.org/doc/scipy/reference/interpolate.html#module-scipy.interpolate\" title=\"(in SciPy v0.19.0)\"><tt class=\"xref py py-mod docutils literal\"><span class=\"pre\">scipy.interpolate</span></tt></a></td>\n",
    "<td>插值</td>\n",
    "</tr>\n",
    "<tr class=\"row-even\"><td><a class=\"reference external\" href=\"http://docs.scipy.org/doc/scipy/reference/io.html#module-scipy.io\" title=\"(in SciPy v0.19.0)\"><tt class=\"xref py py-mod docutils literal\"><span class=\"pre\">scipy.io</span></tt></a></td>\n",
    "<td>数据输入和输出</td>\n",
    "</tr>\n",
    "<tr class=\"row-odd\"><td><a class=\"reference external\" href=\"http://docs.scipy.org/doc/scipy/reference/linalg.html#module-scipy.linalg\" title=\"(in SciPy v0.19.0)\"><tt class=\"xref py py-mod docutils literal\"><span class=\"pre\">scipy.linalg</span></tt></a></td>\n",
    "<td>线性代数程序</td>\n",
    "</tr>\n",
    "<tr class=\"row-even\"><td><a class=\"reference external\" href=\"http://docs.scipy.org/doc/scipy/reference/ndimage.html#module-scipy.ndimage\" title=\"(in SciPy v0.19.0)\"><tt class=\"xref py py-mod docutils literal\"><span class=\"pre\">scipy.ndimage</span></tt></a></td>\n",
    "<td>n-维图像包</td>\n",
    "</tr>\n",
    "<tr class=\"row-odd\"><td><a class=\"reference external\" href=\"http://docs.scipy.org/doc/scipy/reference/odr.html#module-scipy.odr\" title=\"(in SciPy v0.19.0)\"><tt class=\"xref py py-mod docutils literal\"><span class=\"pre\">scipy.odr</span></tt></a></td>\n",
    "<td>正交距离回归</td>\n",
    "</tr>\n",
    "<tr class=\"row-even\"><td><a class=\"reference external\" href=\"http://docs.scipy.org/doc/scipy/reference/optimize.html#module-scipy.optimize\" title=\"(in SciPy v0.19.0)\"><tt class=\"xref py py-mod docutils literal\"><span class=\"pre\">scipy.optimize</span></tt></a></td>\n",
    "<td>优化</td>\n",
    "</tr>\n",
    "<tr class=\"row-odd\"><td><a class=\"reference external\" href=\"http://docs.scipy.org/doc/scipy/reference/signal.html#module-scipy.signal\" title=\"(in SciPy v0.19.0)\"><tt class=\"xref py py-mod docutils literal\"><span class=\"pre\">scipy.signal</span></tt></a></td>\n",
    "<td>信号处理</td>\n",
    "</tr>\n",
    "<tr class=\"row-even\"><td><a class=\"reference external\" href=\"http://docs.scipy.org/doc/scipy/reference/sparse.html#module-scipy.sparse\" title=\"(in SciPy v0.19.0)\"><tt class=\"xref py py-mod docutils literal\"><span class=\"pre\">scipy.sparse</span></tt></a></td>\n",
    "<td>稀疏矩阵</td>\n",
    "</tr>\n",
    "<tr class=\"row-odd\"><td><a class=\"reference external\" href=\"http://docs.scipy.org/doc/scipy/reference/spatial.html#module-scipy.spatial\" title=\"(in SciPy v0.19.0)\"><tt class=\"xref py py-mod docutils literal\"><span class=\"pre\">scipy.spatial</span></tt></a></td>\n",
    "<td>空间数据结构和算法</td>\n",
    "</tr>\n",
    "<tr class=\"row-even\"><td><a class=\"reference external\" href=\"http://docs.scipy.org/doc/scipy/reference/special.html#module-scipy.special\" title=\"(in SciPy v0.19.0)\"><tt class=\"xref py py-mod docutils literal\"><span class=\"pre\">scipy.special</span></tt></a></td>\n",
    "<td>一些特殊数学函数</td>\n",
    "</tr>\n",
    "<tr class=\"row-odd\"><td><a class=\"reference external\" href=\"http://docs.scipy.org/doc/scipy/reference/stats.html#module-scipy.stats\" title=\"(in SciPy v0.19.0)\"><tt class=\"xref py py-mod docutils literal\"><span class=\"pre\">scipy.stats</span></tt></a></td>\n",
    "<td>统计</td>\n",
    "</tr>\n",
    "</tbody>\n",
    "</table>\n",
    "\n",
    "\n",
    "\n",
    "他们全都依赖于[numpy](http://docs.scipy.org/doc/numpy/reference/index.html#numpy), 但是大多数是彼此独立的。导入Numpy和Scipy的标准方式："
   ]
  },
  {
   "cell_type": "markdown",
   "metadata": {},
   "source": [
    "###  文件输入 / 输出：scipy.io"
   ]
  },
  {
   "cell_type": "code",
   "execution_count": 3,
   "metadata": {
    "ExecuteTime": {
     "end_time": "2022-11-26T05:44:30.258938Z",
     "start_time": "2022-11-26T05:44:30.249398Z"
    }
   },
   "outputs": [],
   "source": [
    "import numpy as np\n",
    "from scipy import io as spio\n",
    "a=np.ones((3,3))"
   ]
  },
  {
   "cell_type": "code",
   "execution_count": 4,
   "metadata": {
    "ExecuteTime": {
     "end_time": "2022-11-26T05:45:56.022226Z",
     "start_time": "2022-11-26T05:45:56.004531Z"
    }
   },
   "outputs": [],
   "source": [
    "spio.savemat('file1.mat',{'a':a}) #savemat epxpects"
   ]
  },
  {
   "cell_type": "code",
   "execution_count": 5,
   "metadata": {
    "ExecuteTime": {
     "end_time": "2022-11-26T05:46:01.609236Z",
     "start_time": "2022-11-26T05:46:01.603720Z"
    }
   },
   "outputs": [],
   "source": [
    "data = spio.loadmat('file.mat', struct_as_record=True)"
   ]
  },
  {
   "cell_type": "code",
   "execution_count": 6,
   "metadata": {
    "ExecuteTime": {
     "end_time": "2022-11-26T05:46:03.957197Z",
     "start_time": "2022-11-26T05:46:03.944355Z"
    }
   },
   "outputs": [
    {
     "data": {
      "text/plain": [
       "{'__header__': b'MATLAB 5.0 MAT-file Platform: posix, Created on: Mon Feb  2 19:00:39 2015',\n",
       " '__version__': '1.0',\n",
       " '__globals__': [],\n",
       " 'a': array([[1., 1., 1.],\n",
       "        [1., 1., 1.],\n",
       "        [1., 1., 1.]])}"
      ]
     },
     "execution_count": 6,
     "metadata": {},
     "output_type": "execute_result"
    }
   ],
   "source": [
    "data"
   ]
  },
  {
   "cell_type": "code",
   "execution_count": 7,
   "metadata": {
    "ExecuteTime": {
     "end_time": "2022-11-26T05:46:10.220059Z",
     "start_time": "2022-11-26T05:46:10.209523Z"
    }
   },
   "outputs": [
    {
     "data": {
      "text/plain": [
       "array([[1., 1., 1.],\n",
       "       [1., 1., 1.],\n",
       "       [1., 1., 1.]])"
      ]
     },
     "execution_count": 7,
     "metadata": {},
     "output_type": "execute_result"
    }
   ],
   "source": [
    "data['a']"
   ]
  },
  {
   "cell_type": "code",
   "execution_count": 10,
   "metadata": {
    "ExecuteTime": {
     "end_time": "2022-11-26T05:49:33.151582Z",
     "start_time": "2022-11-26T05:49:33.133825Z"
    }
   },
   "outputs": [
    {
     "data": {
      "text/plain": [
       "-2.0"
      ]
     },
     "execution_count": 10,
     "metadata": {},
     "output_type": "execute_result"
    }
   ],
   "source": [
    "from scipy import linalg\n",
    "import warnings\n",
    "warnings.filterwarnings(\"ignore\")\n",
    "arr = np.array([[1, 2],\n",
    "              [3, 4]])\n",
    "linalg.det(arr)\n"
   ]
  },
  {
   "cell_type": "code",
   "execution_count": 11,
   "metadata": {
    "ExecuteTime": {
     "end_time": "2022-11-26T05:49:50.191089Z",
     "start_time": "2022-11-26T05:49:50.182024Z"
    }
   },
   "outputs": [
    {
     "data": {
      "text/plain": [
       "array([[1, 2],\n",
       "       [3, 4]])"
      ]
     },
     "execution_count": 11,
     "metadata": {},
     "output_type": "execute_result"
    }
   ],
   "source": [
    "arr"
   ]
  },
  {
   "cell_type": "code",
   "execution_count": 12,
   "metadata": {
    "ExecuteTime": {
     "end_time": "2022-11-26T05:50:36.259304Z",
     "start_time": "2022-11-26T05:50:36.256267Z"
    }
   },
   "outputs": [],
   "source": [
    "iarr=linalg.inv(arr) #计算逆方阵"
   ]
  },
  {
   "cell_type": "code",
   "execution_count": 13,
   "metadata": {
    "ExecuteTime": {
     "end_time": "2022-11-26T05:50:38.874158Z",
     "start_time": "2022-11-26T05:50:38.866120Z"
    }
   },
   "outputs": [
    {
     "data": {
      "text/plain": [
       "array([[-2. ,  1. ],\n",
       "       [ 1.5, -0.5]])"
      ]
     },
     "execution_count": 13,
     "metadata": {},
     "output_type": "execute_result"
    }
   ],
   "source": [
    "iarr"
   ]
  },
  {
   "cell_type": "code",
   "execution_count": 14,
   "metadata": {
    "ExecuteTime": {
     "end_time": "2022-11-26T06:01:34.554327Z",
     "start_time": "2022-11-26T06:01:34.535190Z"
    }
   },
   "outputs": [],
   "source": [
    "arr = np.arange(9).reshape((3, 3)) + np.diag([1, 0, 1])"
   ]
  },
  {
   "cell_type": "code",
   "execution_count": 15,
   "metadata": {
    "ExecuteTime": {
     "end_time": "2022-11-26T06:01:36.424408Z",
     "start_time": "2022-11-26T06:01:36.406743Z"
    }
   },
   "outputs": [
    {
     "data": {
      "text/plain": [
       "array([[1, 1, 2],\n",
       "       [3, 4, 5],\n",
       "       [6, 7, 9]])"
      ]
     },
     "execution_count": 15,
     "metadata": {},
     "output_type": "execute_result"
    }
   ],
   "source": [
    "arr"
   ]
  },
  {
   "cell_type": "code",
   "execution_count": 16,
   "metadata": {
    "ExecuteTime": {
     "end_time": "2022-11-26T06:02:03.388332Z",
     "start_time": "2022-11-26T06:02:03.333077Z"
    }
   },
   "outputs": [],
   "source": [
    "uarr, spec, vharr = linalg.svd(arr) #奇异值分解（SVD）"
   ]
  },
  {
   "cell_type": "code",
   "execution_count": 17,
   "metadata": {
    "ExecuteTime": {
     "end_time": "2022-11-26T06:02:06.474902Z",
     "start_time": "2022-11-26T06:02:06.454805Z"
    }
   },
   "outputs": [
    {
     "data": {
      "text/plain": [
       "array([[-0.1617463 , -0.98659196,  0.02178164],\n",
       "       [-0.47456365,  0.09711667,  0.87484724],\n",
       "       [-0.86523261,  0.13116653, -0.48390895]])"
      ]
     },
     "execution_count": 17,
     "metadata": {},
     "output_type": "execute_result"
    }
   ],
   "source": [
    "uarr"
   ]
  },
  {
   "cell_type": "code",
   "execution_count": 18,
   "metadata": {
    "ExecuteTime": {
     "end_time": "2022-11-26T06:02:10.356466Z",
     "start_time": "2022-11-26T06:02:10.336884Z"
    }
   },
   "outputs": [
    {
     "data": {
      "text/plain": [
       "array([14.88982544,  0.45294236,  0.29654967])"
      ]
     },
     "execution_count": 18,
     "metadata": {},
     "output_type": "execute_result"
    }
   ],
   "source": [
    "spec"
   ]
  },
  {
   "cell_type": "code",
   "execution_count": 19,
   "metadata": {
    "ExecuteTime": {
     "end_time": "2022-11-26T06:02:15.839222Z",
     "start_time": "2022-11-26T06:02:15.833223Z"
    }
   },
   "outputs": [
    {
     "data": {
      "text/plain": [
       "array([[-0.45513179, -0.54511245, -0.70406496],\n",
       "       [ 0.20258033,  0.70658087, -0.67801525],\n",
       "       [-0.86707339,  0.45121601,  0.21115836]])"
      ]
     },
     "execution_count": 19,
     "metadata": {},
     "output_type": "execute_result"
    }
   ],
   "source": [
    "vharr"
   ]
  },
  {
   "cell_type": "code",
   "execution_count": 20,
   "metadata": {
    "ExecuteTime": {
     "end_time": "2022-11-26T08:27:06.201820Z",
     "start_time": "2022-11-26T08:27:06.190275Z"
    }
   },
   "outputs": [],
   "source": [
    "time_step = 0.02\n",
    "period = 5.\n",
    "time_vec = np.arange(0, 20, time_step)"
   ]
  },
  {
   "cell_type": "code",
   "execution_count": 22,
   "metadata": {
    "ExecuteTime": {
     "end_time": "2022-11-26T08:27:17.236750Z",
     "start_time": "2022-11-26T08:27:17.224228Z"
    }
   },
   "outputs": [
    {
     "data": {
      "text/plain": [
       "(1000,)"
      ]
     },
     "execution_count": 22,
     "metadata": {},
     "output_type": "execute_result"
    }
   ],
   "source": [
    "time_vec.shape"
   ]
  },
  {
   "cell_type": "code",
   "execution_count": 23,
   "metadata": {
    "ExecuteTime": {
     "end_time": "2022-11-26T08:27:24.486711Z",
     "start_time": "2022-11-26T08:27:24.465020Z"
    }
   },
   "outputs": [],
   "source": [
    "sig = np.sin(2 * np.pi / period * time_vec) + \\\n",
    "       0.5 * np.random.randn(time_vec.size)"
   ]
  },
  {
   "cell_type": "code",
   "execution_count": 25,
   "metadata": {
    "ExecuteTime": {
     "end_time": "2022-11-26T08:27:30.982753Z",
     "start_time": "2022-11-26T08:27:30.975684Z"
    }
   },
   "outputs": [
    {
     "data": {
      "text/plain": [
       "(1000,)"
      ]
     },
     "execution_count": 25,
     "metadata": {},
     "output_type": "execute_result"
    }
   ],
   "source": [
    "sig.shape"
   ]
  },
  {
   "cell_type": "code",
   "execution_count": 26,
   "metadata": {
    "ExecuteTime": {
     "end_time": "2022-11-26T08:27:42.450580Z",
     "start_time": "2022-11-26T08:27:42.412449Z"
    }
   },
   "outputs": [],
   "source": [
    "from scipy import fftpack\n",
    "sample_freq = fftpack.fftfreq(sig.size, d=time_step)\n",
    "sig_fft = fftpack.fft(sig)"
   ]
  },
  {
   "cell_type": "code",
   "execution_count": null,
   "metadata": {},
   "outputs": [],
   "source": []
  }
 ],
 "metadata": {
  "kernelspec": {
   "display_name": "Python [conda env:root] *",
   "language": "python",
   "name": "conda-root-py"
  },
  "language_info": {
   "codemirror_mode": {
    "name": "ipython",
    "version": 3
   },
   "file_extension": ".py",
   "mimetype": "text/x-python",
   "name": "python",
   "nbconvert_exporter": "python",
   "pygments_lexer": "ipython3",
   "version": "3.8.3"
  },
  "latex_envs": {
   "LaTeX_envs_menu_present": true,
   "autoclose": false,
   "autocomplete": true,
   "bibliofile": "biblio.bib",
   "cite_by": "apalike",
   "current_citInitial": 1,
   "eqLabelWithNumbers": true,
   "eqNumInitial": 1,
   "hotkeys": {
    "equation": "Ctrl-E",
    "itemize": "Ctrl-I"
   },
   "labels_anchors": false,
   "latex_user_defs": false,
   "report_style_numbering": false,
   "user_envs_cfg": false
  },
  "toc": {
   "base_numbering": 1,
   "nav_menu": {},
   "number_sections": true,
   "sideBar": true,
   "skip_h1_title": false,
   "title_cell": "Table of Contents",
   "title_sidebar": "Contents",
   "toc_cell": false,
   "toc_position": {},
   "toc_section_display": true,
   "toc_window_display": false
  }
 },
 "nbformat": 4,
 "nbformat_minor": 4
}
