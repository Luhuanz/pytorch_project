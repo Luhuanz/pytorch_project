{
 "cells": [
  {
   "cell_type": "code",
   "execution_count": 3,
   "id": "c3ee1e7b",
   "metadata": {},
   "outputs": [],
   "source": [
    "import warnings\n",
    "warnings.filterwarnings('ignore')"
   ]
  },
  {
   "cell_type": "code",
   "execution_count": 4,
   "id": "54561f9b",
   "metadata": {},
   "outputs": [],
   "source": [
    "%matplotlib inline"
   ]
  },
  {
   "cell_type": "code",
   "execution_count": 5,
   "id": "c67a6ea2",
   "metadata": {},
   "outputs": [],
   "source": [
    "import dgl\n",
    "import numpy as np#"
   ]
  },
  {
   "cell_type": "code",
   "execution_count": 6,
   "id": "51066e90",
   "metadata": {},
   "outputs": [],
   "source": [
    "def build_karate_club_graph():\n",
    "    # All 78 edges are stored in two numpy arrays. One for source endpoints\n",
    "    # while the other for destination endpoints.\n",
    "    src = np.array([1, 2, 2, 3, 3, 3, 4, 5, 6, 6, 6, 7, 7, 7, 7, 8, 8, 9, 10, 10,\n",
    "        10, 11, 12, 12, 13, 13, 13, 13, 16, 16, 17, 17, 19, 19, 21, 21,\n",
    "        25, 25, 27, 27, 27, 28, 29, 29, 30, 30, 31, 31, 31, 31, 32, 32,\n",
    "        32, 32, 32, 32, 32, 32, 32, 32, 32, 33, 33, 33, 33, 33, 33, 33,\n",
    "        33, 33, 33, 33, 33, 33, 33, 33, 33, 33])\n",
    "    dst = np.array([0, 0, 1, 0, 1, 2, 0, 0, 0, 4, 5, 0, 1, 2, 3, 0, 2, 2, 0, 4,\n",
    "        5, 0, 0, 3, 0, 1, 2, 3, 5, 6, 0, 1, 0, 1, 0, 1, 23, 24, 2, 23,\n",
    "        24, 2, 23, 26, 1, 8, 0, 24, 25, 28, 2, 8, 14, 15, 18, 20, 22, 23,\n",
    "        29, 30, 31, 8, 9, 13, 14, 15, 18, 19, 20, 22, 23, 26, 27, 28, 29, 30,\n",
    "        31, 32])\n",
    "    # Edges are directional in DGL; Make them bi-directional.\n",
    "    u = np.concatenate([src, dst])\n",
    "    v = np.concatenate([dst, src])\n",
    "    # Construct a DGLGraph\n",
    "    return dgl.DGLGraph((u, v)) # 无向图"
   ]
  },
  {
   "cell_type": "code",
   "execution_count": 7,
   "id": "08a27c64",
   "metadata": {},
   "outputs": [
    {
     "name": "stdout",
     "output_type": "stream",
     "text": [
      "We have 34 nodes.\n",
      "We have 156 edges.\n"
     ]
    }
   ],
   "source": [
    "G = build_karate_club_graph()\n",
    "print('We have %d nodes.' % G.number_of_nodes())\n",
    "print('We have %d edges.' % G.number_of_edges())"
   ]
  },
  {
   "cell_type": "code",
   "execution_count": null,
   "id": "7a62de8d",
   "metadata": {},
   "outputs": [],
   "source": [
    "import networkx as nx\n",
    "nx_G=G.to_networkx().to_undirected()\n",
    "pos=nx.kamada_kawai_layout(nx_G)\n",
    "nx.draw(nx_G,pos,with_labels=True,node_color=[[.7,.7,.7]])"
   ]
  },
  {
   "cell_type": "code",
   "execution_count": 2,
   "id": "933b048d",
   "metadata": {},
   "outputs": [
    {
     "ename": "NameError",
     "evalue": "name 'G' is not defined",
     "output_type": "error",
     "traceback": [
      "\u001b[1;31m---------------------------------------------------------------------------\u001b[0m",
      "\u001b[1;31mNameError\u001b[0m                                 Traceback (most recent call last)",
      "\u001b[1;32mC:\\Users\\ASUS\\AppData\\Local\\Temp\\ipykernel_18348\\945184937.py\u001b[0m in \u001b[0;36m<module>\u001b[1;34m\u001b[0m\n\u001b[0;32m      3\u001b[0m \u001b[1;32mimport\u001b[0m \u001b[0mtorch\u001b[0m\u001b[1;33m.\u001b[0m\u001b[0mnn\u001b[0m\u001b[1;33m.\u001b[0m\u001b[0mfunctional\u001b[0m \u001b[1;32mas\u001b[0m \u001b[0mF\u001b[0m\u001b[1;33m\u001b[0m\u001b[1;33m\u001b[0m\u001b[0m\n\u001b[0;32m      4\u001b[0m \u001b[0membed\u001b[0m \u001b[1;33m=\u001b[0m \u001b[0mnn\u001b[0m\u001b[1;33m.\u001b[0m\u001b[0mEmbedding\u001b[0m\u001b[1;33m(\u001b[0m\u001b[1;36m34\u001b[0m\u001b[1;33m,\u001b[0m \u001b[1;36m5\u001b[0m\u001b[1;33m)\u001b[0m  \u001b[1;31m# 34 nodes with embedding dim equal to 5\u001b[0m\u001b[1;33m\u001b[0m\u001b[1;33m\u001b[0m\u001b[0m\n\u001b[1;32m----> 5\u001b[1;33m \u001b[0mG\u001b[0m\u001b[1;33m.\u001b[0m\u001b[0mndata\u001b[0m\u001b[1;33m[\u001b[0m\u001b[1;34m'feat'\u001b[0m\u001b[1;33m]\u001b[0m \u001b[1;33m=\u001b[0m \u001b[0membed\u001b[0m\u001b[1;33m.\u001b[0m\u001b[0mweight\u001b[0m\u001b[1;33m\u001b[0m\u001b[1;33m\u001b[0m\u001b[0m\n\u001b[0m",
      "\u001b[1;31mNameError\u001b[0m: name 'G' is not defined"
     ]
    }
   ],
   "source": [
    "import torch\n",
    "import torch.nn as nn\n",
    "import torch.nn.functional as F\n",
    "embed = nn.Embedding(34, 5)   \n",
    "G.ndata['feat'] = embed.weight"
   ]
  },
  {
   "cell_type": "code",
   "execution_count": null,
   "id": "077e3212",
   "metadata": {},
   "outputs": [],
   "source": []
  }
 ],
 "metadata": {
  "kernelspec": {
   "display_name": "Python [conda env:pytorch1.0_gpu] *",
   "language": "python",
   "name": "conda-env-pytorch1.0_gpu-py"
  },
  "language_info": {
   "codemirror_mode": {
    "name": "ipython",
    "version": 3
   },
   "file_extension": ".py",
   "mimetype": "text/x-python",
   "name": "python",
   "nbconvert_exporter": "python",
   "pygments_lexer": "ipython3",
   "version": "3.7.13"
  }
 },
 "nbformat": 4,
 "nbformat_minor": 5
}
