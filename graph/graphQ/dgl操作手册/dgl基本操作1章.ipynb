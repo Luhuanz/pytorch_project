{
 "cells": [
  {
   "cell_type": "markdown",
   "id": "832c8b52",
   "metadata": {},
   "source": [
    "# 第一章 图"
   ]
  },
  {
   "cell_type": "markdown",
   "id": "a0d99882",
   "metadata": {},
   "source": [
    "## 1.2 图、节点和边 "
   ]
  },
  {
   "cell_type": "markdown",
   "id": "204c3851",
   "metadata": {},
   "source": [
    "- 创建一个 DGLGraph 对象的一种方法是使用 dgl.graph() 函数。"
   ]
  },
  {
   "attachments": {
    "image.png": {
     "image/png": "[encoded data removed]"
    }
   },
   "cell_type": "markdown",
   "id": "90a0110f",
   "metadata": {},
   "source": [
    "![image.png](attachment:image.png)"
   ]
  },
  {
   "cell_type": "code",
   "execution_count": 1,
   "id": "49133248",
   "metadata": {},
   "outputs": [],
   "source": [
    "import dgl\n",
    "import torch"
   ]
  },
  {
   "cell_type": "code",
   "execution_count": 2,
   "id": "30f4b10a",
   "metadata": {},
   "outputs": [],
   "source": [
    "# 边 0->1, 0->2, 0->3, 1->3\n",
    "u,v=torch.tensor([0,0,0,1]),torch.tensor([1,2,3,3]) # 边的点"
   ]
  },
  {
   "cell_type": "code",
   "execution_count": 3,
   "id": "9243d17e",
   "metadata": {},
   "outputs": [
    {
     "data": {
      "text/plain": [
       "(tensor([0, 0, 0, 1]), tensor([1, 2, 3, 3]))"
      ]
     },
     "execution_count": 3,
     "metadata": {},
     "output_type": "execute_result"
    }
   ],
   "source": [
    "u,v"
   ]
  },
  {
   "cell_type": "code",
   "execution_count": 4,
   "id": "90510350",
   "metadata": {},
   "outputs": [],
   "source": [
    "g=dgl.graph((u,v))"
   ]
  },
  {
   "cell_type": "code",
   "execution_count": 5,
   "id": "c0d9eaab",
   "metadata": {},
   "outputs": [
    {
     "data": {
      "text/plain": [
       "Graph(num_nodes=4, num_edges=4,\n",
       "      ndata_schemes={}\n",
       "      edata_schemes={})"
      ]
     },
     "execution_count": 5,
     "metadata": {},
     "output_type": "execute_result"
    }
   ],
   "source": [
    "g# 图中节点的数量是DGL通过给定的图的边列表中最大的点ID推断所得出的  有向图"
   ]
  },
  {
   "cell_type": "code",
   "execution_count": 6,
   "id": "25dd9c91",
   "metadata": {},
   "outputs": [
    {
     "data": {
      "text/plain": [
       "tensor([0, 1, 2, 3])"
      ]
     },
     "execution_count": 6,
     "metadata": {},
     "output_type": "execute_result"
    }
   ],
   "source": [
    "g.nodes() # 获取节点的ID 节点"
   ]
  },
  {
   "cell_type": "code",
   "execution_count": 7,
   "id": "13ef4fa9",
   "metadata": {},
   "outputs": [
    {
     "data": {
      "text/plain": [
       "(tensor([0, 0, 0, 1]), tensor([1, 2, 3, 3]))"
      ]
     },
     "execution_count": 7,
     "metadata": {},
     "output_type": "execute_result"
    }
   ],
   "source": [
    "g.edges() # 获取边的对应端点 边"
   ]
  },
  {
   "cell_type": "code",
   "execution_count": 8,
   "id": "6bdfe448",
   "metadata": {},
   "outputs": [
    {
     "data": {
      "text/plain": [
       "(tensor([0, 0, 0, 1]), tensor([1, 2, 3, 3]), tensor([0, 1, 2, 3]))"
      ]
     },
     "execution_count": 8,
     "metadata": {},
     "output_type": "execute_result"
    }
   ],
   "source": [
    "g.edges(form='all')"
   ]
  },
  {
   "cell_type": "code",
   "execution_count": 9,
   "id": "d6be9725",
   "metadata": {},
   "outputs": [],
   "source": [
    "g1= dgl.graph((u, v), num_nodes=8) #如果给了num_nodes有那么多点，但是边的关系不会增加"
   ]
  },
  {
   "cell_type": "code",
   "execution_count": 10,
   "id": "c3aacbb3",
   "metadata": {},
   "outputs": [
    {
     "data": {
      "text/plain": [
       "Graph(num_nodes=8, num_edges=4,\n",
       "      ndata_schemes={}\n",
       "      edata_schemes={})"
      ]
     },
     "execution_count": 10,
     "metadata": {},
     "output_type": "execute_result"
    }
   ],
   "source": [
    "g1"
   ]
  },
  {
   "cell_type": "code",
   "execution_count": 11,
   "id": "5b779861",
   "metadata": {},
   "outputs": [
    {
     "data": {
      "text/plain": [
       "tensor([0, 1, 2, 3, 4, 5, 6, 7])"
      ]
     },
     "execution_count": 11,
     "metadata": {},
     "output_type": "execute_result"
    }
   ],
   "source": [
    "g1.nodes() "
   ]
  },
  {
   "cell_type": "code",
   "execution_count": 12,
   "id": "60be1909",
   "metadata": {},
   "outputs": [
    {
     "data": {
      "text/plain": [
       "(tensor([0, 0, 0, 1]), tensor([1, 2, 3, 3]))"
      ]
     },
     "execution_count": 12,
     "metadata": {},
     "output_type": "execute_result"
    }
   ],
   "source": [
    "g1.edges()"
   ]
  },
  {
   "cell_type": "markdown",
   "id": "c8e53d9b",
   "metadata": {},
   "source": [
    "- 无向图 可以使用 dgl.to_bidirected()"
   ]
  },
  {
   "cell_type": "code",
   "execution_count": 13,
   "id": "c3ab16f0",
   "metadata": {},
   "outputs": [],
   "source": [
    "bi_g=dgl.to_bidirected(g)\n"
   ]
  },
  {
   "cell_type": "code",
   "execution_count": 14,
   "id": "5dbe31d1",
   "metadata": {},
   "outputs": [
    {
     "data": {
      "text/plain": [
       "Graph(num_nodes=4, num_edges=8,\n",
       "      ndata_schemes={}\n",
       "      edata_schemes={})"
      ]
     },
     "execution_count": 14,
     "metadata": {},
     "output_type": "execute_result"
    }
   ],
   "source": [
    "bi_g #num_edges=8,"
   ]
  },
  {
   "cell_type": "code",
   "execution_count": 15,
   "id": "28b45484",
   "metadata": {},
   "outputs": [
    {
     "data": {
      "text/plain": [
       "(tensor([0, 0, 0, 1, 1, 2, 3, 3]), tensor([1, 2, 3, 0, 3, 0, 0, 1]))"
      ]
     },
     "execution_count": 15,
     "metadata": {},
     "output_type": "execute_result"
    }
   ],
   "source": [
    "bi_g.edges()"
   ]
  },
  {
   "cell_type": "markdown",
   "id": "6ec1e017",
   "metadata": {},
   "source": [
    "- 推荐写法"
   ]
  },
  {
   "cell_type": "code",
   "execution_count": 16,
   "id": "0513780b",
   "metadata": {},
   "outputs": [],
   "source": [
    "edges=torch.tensor([2,5,3]),torch.tensor([3,5,0])"
   ]
  },
  {
   "cell_type": "code",
   "execution_count": 17,
   "id": "7bde4c86",
   "metadata": {},
   "outputs": [
    {
     "data": {
      "text/plain": [
       "(tensor([2, 5, 3]), tensor([3, 5, 0]))"
      ]
     },
     "execution_count": 17,
     "metadata": {},
     "output_type": "execute_result"
    }
   ],
   "source": [
    "edges"
   ]
  },
  {
   "cell_type": "code",
   "execution_count": 18,
   "id": "103d9aea",
   "metadata": {},
   "outputs": [],
   "source": [
    "g64=dgl.graph(edges)"
   ]
  },
  {
   "cell_type": "code",
   "execution_count": 19,
   "id": "90e9ee9d",
   "metadata": {},
   "outputs": [
    {
     "data": {
      "text/plain": [
       "Graph(num_nodes=6, num_edges=3,\n",
       "      ndata_schemes={}\n",
       "      edata_schemes={})"
      ]
     },
     "execution_count": 19,
     "metadata": {},
     "output_type": "execute_result"
    }
   ],
   "source": [
    "g64"
   ]
  },
  {
   "cell_type": "code",
   "execution_count": 21,
   "id": "255c06a9",
   "metadata": {},
   "outputs": [
    {
     "data": {
      "text/plain": [
       "torch.int64"
      ]
     },
     "execution_count": 21,
     "metadata": {},
     "output_type": "execute_result"
    }
   ],
   "source": [
    "g64.idtype"
   ]
  },
  {
   "cell_type": "code",
   "execution_count": 23,
   "id": "7ac351f8",
   "metadata": {},
   "outputs": [],
   "source": [
    "g32 = dgl.graph(edges, idtype=torch.int32)  # 使用int32构建图"
   ]
  },
  {
   "cell_type": "code",
   "execution_count": 24,
   "id": "348deb50",
   "metadata": {},
   "outputs": [
    {
     "data": {
      "text/plain": [
       "torch.int32"
      ]
     },
     "execution_count": 24,
     "metadata": {},
     "output_type": "execute_result"
    }
   ],
   "source": [
    "g32.idtype"
   ]
  },
  {
   "cell_type": "code",
   "execution_count": 26,
   "id": "a49bcf40",
   "metadata": {},
   "outputs": [
    {
     "data": {
      "text/plain": [
       "torch.int64"
      ]
     },
     "execution_count": 26,
     "metadata": {},
     "output_type": "execute_result"
    }
   ],
   "source": [
    "g64_2=g32.long()\n",
    "g64_2.idtypetype"
   ]
  },
  {
   "cell_type": "code",
   "execution_count": 27,
   "id": "ba46fbfa",
   "metadata": {},
   "outputs": [
    {
     "data": {
      "text/plain": [
       "torch.int32"
      ]
     },
     "execution_count": 27,
     "metadata": {},
     "output_type": "execute_result"
    }
   ],
   "source": [
    "g__=g64.int()\n",
    "g__.idtype\n"
   ]
  },
  {
   "cell_type": "markdown",
   "id": "2fee89ef",
   "metadata": {},
   "source": [
    "## 1.3 节点和边的特征 "
   ]
  },
  {
   "cell_type": "markdown",
   "id": "b2287081",
   "metadata": {},
   "source": [
    "- ndata和edata"
   ]
  },
  {
   "cell_type": "code",
   "execution_count": 29,
   "id": "8dff0315",
   "metadata": {},
   "outputs": [],
   "source": [
    "import dgl\n",
    "import torch "
   ]
  },
  {
   "cell_type": "code",
   "execution_count": 30,
   "id": "f0287a46",
   "metadata": {},
   "outputs": [],
   "source": [
    "edges=torch.tensor([0,0,1,5]),torch.tensor([1,2,2,0]) #6个节点，4条边\n",
    "g=dgl.graph(edges)"
   ]
  },
  {
   "cell_type": "code",
   "execution_count": 31,
   "id": "d35d23e9",
   "metadata": {},
   "outputs": [
    {
     "data": {
      "text/plain": [
       "Graph(num_nodes=6, num_edges=4,\n",
       "      ndata_schemes={}\n",
       "      edata_schemes={})"
      ]
     },
     "execution_count": 31,
     "metadata": {},
     "output_type": "execute_result"
    }
   ],
   "source": [
    "g"
   ]
  },
  {
   "cell_type": "code",
   "execution_count": 32,
   "id": "16e54bf8",
   "metadata": {},
   "outputs": [],
   "source": [
    "g.ndata['x']=torch.ones(g.num_nodes(),3) #长度为3的节点特征"
   ]
  },
  {
   "cell_type": "code",
   "execution_count": 33,
   "id": "55d4b019",
   "metadata": {},
   "outputs": [
    {
     "data": {
      "text/plain": [
       "tensor([[1., 1., 1.],\n",
       "        [1., 1., 1.],\n",
       "        [1., 1., 1.],\n",
       "        [1., 1., 1.],\n",
       "        [1., 1., 1.],\n",
       "        [1., 1., 1.]])"
      ]
     },
     "execution_count": 33,
     "metadata": {},
     "output_type": "execute_result"
    }
   ],
   "source": [
    "g.ndata['x']"
   ]
  },
  {
   "cell_type": "code",
   "execution_count": 34,
   "id": "9aed8471",
   "metadata": {},
   "outputs": [
    {
     "data": {
      "text/plain": [
       "Graph(num_nodes=6, num_edges=4,\n",
       "      ndata_schemes={'x': Scheme(shape=(3,), dtype=torch.float32)}\n",
       "      edata_schemes={})"
      ]
     },
     "execution_count": 34,
     "metadata": {},
     "output_type": "execute_result"
    }
   ],
   "source": [
    "g"
   ]
  },
  {
   "cell_type": "code",
   "execution_count": 37,
   "id": "bca20995",
   "metadata": {},
   "outputs": [],
   "source": [
    "g.edata['x']=torch.ones(g.num_edges(),dtype=torch.int32)"
   ]
  },
  {
   "cell_type": "code",
   "execution_count": 38,
   "id": "eeae18e0",
   "metadata": {},
   "outputs": [
    {
     "data": {
      "text/plain": [
       "tensor([1, 1, 1, 1], dtype=torch.int32)"
      ]
     },
     "execution_count": 38,
     "metadata": {},
     "output_type": "execute_result"
    }
   ],
   "source": [
    "g.edata['x']"
   ]
  },
  {
   "cell_type": "code",
   "execution_count": 39,
   "id": "606fc73b",
   "metadata": {},
   "outputs": [
    {
     "data": {
      "text/plain": [
       "Graph(num_nodes=6, num_edges=4,\n",
       "      ndata_schemes={'x': Scheme(shape=(3,), dtype=torch.float32)}\n",
       "      edata_schemes={'x': Scheme(shape=(), dtype=torch.int32)})"
      ]
     },
     "execution_count": 39,
     "metadata": {},
     "output_type": "execute_result"
    }
   ],
   "source": [
    "g# 不同名称的特征可以具有不同形状"
   ]
  },
  {
   "cell_type": "code",
   "execution_count": 42,
   "id": "a22b1c24",
   "metadata": {},
   "outputs": [],
   "source": [
    "g.ndata['y'] = torch.randn(g.num_nodes(), 5)"
   ]
  },
  {
   "cell_type": "code",
   "execution_count": 44,
   "id": "ff7fbc2c",
   "metadata": {},
   "outputs": [
    {
     "data": {
      "text/plain": [
       "Graph(num_nodes=6, num_edges=4,\n",
       "      ndata_schemes={'x': Scheme(shape=(3,), dtype=torch.float32), 'y': Scheme(shape=(5,), dtype=torch.float32)}\n",
       "      edata_schemes={'x': Scheme(shape=(), dtype=torch.int32)})"
      ]
     },
     "execution_count": 44,
     "metadata": {},
     "output_type": "execute_result"
    }
   ],
   "source": [
    "g #同一张图不同时刻或者meta path设计不同 所以dim不同"
   ]
  },
  {
   "cell_type": "code",
   "execution_count": 45,
   "id": "70b12fab",
   "metadata": {},
   "outputs": [
    {
     "data": {
      "text/plain": [
       "{'x': tensor([[1., 1., 1.],\n",
       "        [1., 1., 1.],\n",
       "        [1., 1., 1.],\n",
       "        [1., 1., 1.],\n",
       "        [1., 1., 1.],\n",
       "        [1., 1., 1.]]), 'y': tensor([[-0.9794, -0.1015,  0.9579,  1.1710, -0.5652],\n",
       "        [-3.3187, -1.1832, -1.0614, -2.1423,  0.2522],\n",
       "        [-0.4542, -1.6443, -0.9261,  1.2409,  0.5249],\n",
       "        [-0.6752, -0.0887,  0.5596,  0.3206,  0.6131],\n",
       "        [ 0.8088, -0.6671,  0.7134,  1.8698, -0.6104],\n",
       "        [-0.0274,  0.6350,  0.0571, -0.8970,  1.3091]])}"
      ]
     },
     "execution_count": 45,
     "metadata": {},
     "output_type": "execute_result"
    }
   ],
   "source": [
    "g.ndata"
   ]
  },
  {
   "cell_type": "code",
   "execution_count": 48,
   "id": "9391e27c",
   "metadata": {},
   "outputs": [
    {
     "data": {
      "text/plain": [
       "tensor([1., 1., 1.])"
      ]
     },
     "execution_count": 48,
     "metadata": {},
     "output_type": "execute_result"
    }
   ],
   "source": [
    "g.ndata['x'][1] #节点1的特征"
   ]
  },
  {
   "cell_type": "code",
   "execution_count": 49,
   "id": "eddefff1",
   "metadata": {},
   "outputs": [
    {
     "data": {
      "text/plain": [
       "tensor([-3.3187, -1.1832, -1.0614, -2.1423,  0.2522])"
      ]
     },
     "execution_count": 49,
     "metadata": {},
     "output_type": "execute_result"
    }
   ],
   "source": [
    "g.ndata['y'][1]"
   ]
  },
  {
   "cell_type": "code",
   "execution_count": 50,
   "id": "d5a40633",
   "metadata": {},
   "outputs": [
    {
     "data": {
      "text/plain": [
       "Graph(num_nodes=6, num_edges=4,\n",
       "      ndata_schemes={'x': Scheme(shape=(3,), dtype=torch.float32), 'y': Scheme(shape=(5,), dtype=torch.float32)}\n",
       "      edata_schemes={'x': Scheme(shape=(), dtype=torch.int32)})"
      ]
     },
     "execution_count": 50,
     "metadata": {},
     "output_type": "execute_result"
    }
   ],
   "source": [
    "g"
   ]
  },
  {
   "cell_type": "code",
   "execution_count": 51,
   "id": "2435e5cb",
   "metadata": {},
   "outputs": [
    {
     "data": {
      "text/plain": [
       "{'x': tensor([1, 1, 1, 1], dtype=torch.int32)}"
      ]
     },
     "execution_count": 51,
     "metadata": {},
     "output_type": "execute_result"
    }
   ],
   "source": [
    "g.edata"
   ]
  },
  {
   "cell_type": "code",
   "execution_count": 52,
   "id": "9f137ef1",
   "metadata": {},
   "outputs": [
    {
     "data": {
      "text/plain": [
       "tensor([1, 1], dtype=torch.int32)"
      ]
     },
     "execution_count": 52,
     "metadata": {},
     "output_type": "execute_result"
    }
   ],
   "source": [
    "g.edata['x'][torch.tensor([0, 3])]"
   ]
  },
  {
   "cell_type": "code",
   "execution_count": 57,
   "id": "4b1eec49",
   "metadata": {},
   "outputs": [],
   "source": [
    "# 加权图\n",
    "edges=torch.tensor([0,0,0,1]),torch.tensor([1,2,3,3])\n",
    "weights=torch.tensor([0.1,0.6,0.9,0.7]) #每条边的权重"
   ]
  },
  {
   "cell_type": "code",
   "execution_count": 58,
   "id": "42deabeb",
   "metadata": {},
   "outputs": [],
   "source": [
    "g=dgl.graph(edges)"
   ]
  },
  {
   "cell_type": "code",
   "execution_count": 59,
   "id": "59ecc31e",
   "metadata": {},
   "outputs": [
    {
     "data": {
      "text/plain": [
       "Graph(num_nodes=4, num_edges=4,\n",
       "      ndata_schemes={}\n",
       "      edata_schemes={})"
      ]
     },
     "execution_count": 59,
     "metadata": {},
     "output_type": "execute_result"
    }
   ],
   "source": [
    "g"
   ]
  },
  {
   "cell_type": "code",
   "execution_count": 60,
   "id": "c25e8ecb",
   "metadata": {},
   "outputs": [],
   "source": [
    "g.edata['w']=weights"
   ]
  },
  {
   "cell_type": "code",
   "execution_count": 61,
   "id": "21c7ec1c",
   "metadata": {},
   "outputs": [
    {
     "data": {
      "text/plain": [
       "Graph(num_nodes=4, num_edges=4,\n",
       "      ndata_schemes={}\n",
       "      edata_schemes={'w': Scheme(shape=(), dtype=torch.float32)})"
      ]
     },
     "execution_count": 61,
     "metadata": {},
     "output_type": "execute_result"
    }
   ],
   "source": [
    "g"
   ]
  },
  {
   "cell_type": "markdown",
   "id": "381fe43f",
   "metadata": {},
   "source": [
    "- 节点和边的特征可以具有相同的名称（如上述示例代码中的 'x' ）\n",
    "- 创建了 2 个节点特征（'x' 、 'y' ）和 1 个边特征"
   ]
  },
  {
   "cell_type": "markdown",
   "id": "0a892c00",
   "metadata": {},
   "source": [
    "## 1.4 从外部源创建图 "
   ]
  },
  {
   "cell_type": "markdown",
   "id": "fa3d4804",
   "metadata": {},
   "source": [
    "- 从用于图和稀疏矩阵的外部 Python 库（NetworkX 和 SciPy）创建而来。\n",
    "\n",
    "- 从磁盘加载图数据。"
   ]
  },
  {
   "cell_type": "code",
   "execution_count": 63,
   "id": "25fe1cb0",
   "metadata": {},
   "outputs": [],
   "source": [
    "#从 SciPy 稀疏矩阵和 NetworkX 图创建 DGL 图的示例。\n",
    "import dgl\n",
    "import torch \n",
    "import scipy.sparse as sp"
   ]
  },
  {
   "cell_type": "code",
   "execution_count": 65,
   "id": "d0c4d7e1",
   "metadata": {},
   "outputs": [],
   "source": [
    "spmat=sp.rand(100,100,density=0.05)#5% 非零项 "
   ]
  },
  {
   "cell_type": "code",
   "execution_count": 68,
   "id": "60a1d58d",
   "metadata": {},
   "outputs": [
    {
     "data": {
      "text/plain": [
       "<100x100 sparse matrix of type '<class 'numpy.float64'>'\n",
       "\twith 500 stored elements in COOrdinate format>"
      ]
     },
     "execution_count": 68,
     "metadata": {},
     "output_type": "execute_result"
    }
   ],
   "source": [
    "spmat"
   ]
  },
  {
   "cell_type": "code",
   "execution_count": 69,
   "id": "64c1f664",
   "metadata": {},
   "outputs": [],
   "source": [
    "g=dgl.from_scipy(spmat)"
   ]
  },
  {
   "cell_type": "code",
   "execution_count": 70,
   "id": "61469ca9",
   "metadata": {},
   "outputs": [
    {
     "data": {
      "text/plain": [
       "Graph(num_nodes=100, num_edges=500,\n",
       "      ndata_schemes={}\n",
       "      edata_schemes={})"
      ]
     },
     "execution_count": 70,
     "metadata": {},
     "output_type": "execute_result"
    }
   ],
   "source": [
    "g"
   ]
  },
  {
   "cell_type": "code",
   "execution_count": 71,
   "id": "2ebfa79d",
   "metadata": {},
   "outputs": [],
   "source": [
    "import networkx as nx"
   ]
  },
  {
   "cell_type": "code",
   "execution_count": 72,
   "id": "2c93a285",
   "metadata": {},
   "outputs": [],
   "source": [
    "nx_g=nx.path_graph(5) # 一条路 0-1-2-3-4 # 双向"
   ]
  },
  {
   "cell_type": "code",
   "execution_count": 73,
   "id": "577590b3",
   "metadata": {},
   "outputs": [
    {
     "data": {
      "text/plain": [
       "<networkx.classes.graph.Graph at 0x1e0b51aea88>"
      ]
     },
     "execution_count": 73,
     "metadata": {},
     "output_type": "execute_result"
    }
   ],
   "source": [
    "nx_g"
   ]
  },
  {
   "cell_type": "code",
   "execution_count": 74,
   "id": "58543365",
   "metadata": {},
   "outputs": [
    {
     "data": {
      "text/plain": [
       "Graph(num_nodes=5, num_edges=8,\n",
       "      ndata_schemes={}\n",
       "      edata_schemes={})"
      ]
     },
     "execution_count": 74,
     "metadata": {},
     "output_type": "execute_result"
    }
   ],
   "source": [
    "dgl.from_networkx(nx_g) "
   ]
  },
  {
   "cell_type": "markdown",
   "id": "4e33e22e",
   "metadata": {},
   "source": [
    "- 当使用 nx.path_graph(5) 进行创建时， DGLGraph 对象有 8 条边，而非 4 条。\n",
    "- 这是由于 nx.path_graph(5) 构建了一个无向的 NetworkX 图 networkx.Graph ，而 DGLGraph 的边总是有向的。 \n",
    "- 使用有向的 NetworkX 图 networkx.DiGraph 可避免该行为。 \n"
   ]
  },
  {
   "cell_type": "code",
   "execution_count": 76,
   "id": "e9817374",
   "metadata": {},
   "outputs": [],
   "source": [
    "nxg=nx.DiGraph([(2,1),(1,2),(2,3),(0,0)])"
   ]
  },
  {
   "cell_type": "code",
   "execution_count": 77,
   "id": "0f2af709",
   "metadata": {},
   "outputs": [
    {
     "data": {
      "text/plain": [
       "Graph(num_nodes=4, num_edges=4,\n",
       "      ndata_schemes={}\n",
       "      edata_schemes={})"
      ]
     },
     "execution_count": 77,
     "metadata": {},
     "output_type": "execute_result"
    }
   ],
   "source": [
    "dgl.from_networkx(nxg)"
   ]
  },
  {
   "cell_type": "markdown",
   "id": "573bf62c",
   "metadata": {},
   "source": [
    "### dgl导入csv文件"
   ]
  },
  {
   "cell_type": "markdown",
   "id": "fae02607",
   "metadata": {},
   "source": [
    "- The nodes.csv stores every club members and their attributes.\n",
    "- The edges.csv stores the pair-wise interactions between two club members."
   ]
  },
  {
   "cell_type": "markdown",
   "id": "8f8174f2",
   "metadata": {},
   "source": [
    "使用data中 gen_data.py生成csv文件"
   ]
  },
  {
   "cell_type": "code",
   "execution_count": 1,
   "id": "e3df318e",
   "metadata": {},
   "outputs": [],
   "source": [
    "import pandas as pd\n",
    "nodes_data = pd.read_csv('data/nodes.csv')"
   ]
  },
  {
   "cell_type": "code",
   "execution_count": 2,
   "id": "9f6b6690",
   "metadata": {},
   "outputs": [
    {
     "data": {
      "text/html": [
       "<div>\n",
       "<style scoped>\n",
       "    .dataframe tbody tr th:only-of-type {\n",
       "        vertical-align: middle;\n",
       "    }\n",
       "\n",
       "    .dataframe tbody tr th {\n",
       "        vertical-align: top;\n",
       "    }\n",
       "\n",
       "    .dataframe thead th {\n",
       "        text-align: right;\n",
       "    }\n",
       "</style>\n",
       "<table border=\"1\" class=\"dataframe\">\n",
       "  <thead>\n",
       "    <tr style=\"text-align: right;\">\n",
       "      <th></th>\n",
       "      <th>Id</th>\n",
       "      <th>Club</th>\n",
       "      <th>Age</th>\n",
       "    </tr>\n",
       "  </thead>\n",
       "  <tbody>\n",
       "    <tr>\n",
       "      <th>0</th>\n",
       "      <td>0</td>\n",
       "      <td>Mr. Hi</td>\n",
       "      <td>45</td>\n",
       "    </tr>\n",
       "    <tr>\n",
       "      <th>1</th>\n",
       "      <td>1</td>\n",
       "      <td>Mr. Hi</td>\n",
       "      <td>33</td>\n",
       "    </tr>\n",
       "    <tr>\n",
       "      <th>2</th>\n",
       "      <td>2</td>\n",
       "      <td>Mr. Hi</td>\n",
       "      <td>36</td>\n",
       "    </tr>\n",
       "    <tr>\n",
       "      <th>3</th>\n",
       "      <td>3</td>\n",
       "      <td>Mr. Hi</td>\n",
       "      <td>31</td>\n",
       "    </tr>\n",
       "    <tr>\n",
       "      <th>4</th>\n",
       "      <td>4</td>\n",
       "      <td>Mr. Hi</td>\n",
       "      <td>41</td>\n",
       "    </tr>\n",
       "  </tbody>\n",
       "</table>\n",
       "</div>"
      ],
      "text/plain": [
       "   Id    Club  Age\n",
       "0   0  Mr. Hi   45\n",
       "1   1  Mr. Hi   33\n",
       "2   2  Mr. Hi   36\n",
       "3   3  Mr. Hi   31\n",
       "4   4  Mr. Hi   41"
      ]
     },
     "execution_count": 2,
     "metadata": {},
     "output_type": "execute_result"
    }
   ],
   "source": [
    "nodes_data.head()"
   ]
  },
  {
   "cell_type": "code",
   "execution_count": 3,
   "id": "72e99dc8",
   "metadata": {},
   "outputs": [
    {
     "data": {
      "text/html": [
       "<div>\n",
       "<style scoped>\n",
       "    .dataframe tbody tr th:only-of-type {\n",
       "        vertical-align: middle;\n",
       "    }\n",
       "\n",
       "    .dataframe tbody tr th {\n",
       "        vertical-align: top;\n",
       "    }\n",
       "\n",
       "    .dataframe thead th {\n",
       "        text-align: right;\n",
       "    }\n",
       "</style>\n",
       "<table border=\"1\" class=\"dataframe\">\n",
       "  <thead>\n",
       "    <tr style=\"text-align: right;\">\n",
       "      <th></th>\n",
       "      <th>Src</th>\n",
       "      <th>Dst</th>\n",
       "      <th>Weight</th>\n",
       "    </tr>\n",
       "  </thead>\n",
       "  <tbody>\n",
       "    <tr>\n",
       "      <th>0</th>\n",
       "      <td>0</td>\n",
       "      <td>1</td>\n",
       "      <td>0.318451</td>\n",
       "    </tr>\n",
       "    <tr>\n",
       "      <th>1</th>\n",
       "      <td>0</td>\n",
       "      <td>2</td>\n",
       "      <td>0.551215</td>\n",
       "    </tr>\n",
       "    <tr>\n",
       "      <th>2</th>\n",
       "      <td>0</td>\n",
       "      <td>3</td>\n",
       "      <td>0.227416</td>\n",
       "    </tr>\n",
       "    <tr>\n",
       "      <th>3</th>\n",
       "      <td>0</td>\n",
       "      <td>4</td>\n",
       "      <td>0.266919</td>\n",
       "    </tr>\n",
       "    <tr>\n",
       "      <th>4</th>\n",
       "      <td>0</td>\n",
       "      <td>5</td>\n",
       "      <td>0.475449</td>\n",
       "    </tr>\n",
       "  </tbody>\n",
       "</table>\n",
       "</div>"
      ],
      "text/plain": [
       "   Src  Dst    Weight\n",
       "0    0    1  0.318451\n",
       "1    0    2  0.551215\n",
       "2    0    3  0.227416\n",
       "3    0    4  0.266919\n",
       "4    0    5  0.475449"
      ]
     },
     "execution_count": 3,
     "metadata": {},
     "output_type": "execute_result"
    }
   ],
   "source": [
    "edges_data = pd.read_csv('data/edges.csv')\n",
    "edges_data.head()\n",
    "# 0 ->1  w权重"
   ]
  },
  {
   "cell_type": "code",
   "execution_count": 4,
   "id": "2c9e7a23",
   "metadata": {},
   "outputs": [
    {
     "name": "stdout",
     "output_type": "stream",
     "text": [
      "<class 'pandas.core.frame.DataFrame'>\n",
      "RangeIndex: 156 entries, 0 to 155\n",
      "Data columns (total 3 columns):\n",
      " #   Column  Non-Null Count  Dtype  \n",
      "---  ------  --------------  -----  \n",
      " 0   Src     156 non-null    int64  \n",
      " 1   Dst     156 non-null    int64  \n",
      " 2   Weight  156 non-null    float64\n",
      "dtypes: float64(1), int64(2)\n",
      "memory usage: 3.8 KB\n"
     ]
    }
   ],
   "source": [
    "edges_data.info()"
   ]
  },
  {
   "cell_type": "code",
   "execution_count": 5,
   "id": "a6355e1c",
   "metadata": {},
   "outputs": [],
   "source": [
    "import dgl"
   ]
  },
  {
   "cell_type": "code",
   "execution_count": 6,
   "id": "ecd2e182",
   "metadata": {},
   "outputs": [],
   "source": [
    "src=edges_data['Src'].to_numpy()\n",
    "dst=edges_data['Dst'].to_numpy()"
   ]
  },
  {
   "cell_type": "code",
   "execution_count": 7,
   "id": "a1e8b16d",
   "metadata": {},
   "outputs": [],
   "source": [
    "g=dgl.graph((src,dst))"
   ]
  },
  {
   "cell_type": "code",
   "execution_count": 8,
   "id": "108f1d1d",
   "metadata": {},
   "outputs": [
    {
     "data": {
      "text/plain": [
       "Graph(num_nodes=34, num_edges=156,\n",
       "      ndata_schemes={}\n",
       "      edata_schemes={})"
      ]
     },
     "execution_count": 8,
     "metadata": {},
     "output_type": "execute_result"
    }
   ],
   "source": [
    "g"
   ]
  },
  {
   "cell_type": "code",
   "execution_count": 9,
   "id": "49253c93",
   "metadata": {},
   "outputs": [],
   "source": [
    "import networkx as nx\n",
    "nx_g=g.to_networkx().to_undirected()"
   ]
  },
  {
   "cell_type": "code",
   "execution_count": 10,
   "id": "64d7fcb8",
   "metadata": {},
   "outputs": [
    {
     "data": {
      "text/plain": [
       "<networkx.classes.multigraph.MultiGraph at 0x232e3d478c8>"
      ]
     },
     "execution_count": 10,
     "metadata": {},
     "output_type": "execute_result"
    }
   ],
   "source": [
    "nx_g"
   ]
  },
  {
   "cell_type": "markdown",
   "id": "b09fbef2",
   "metadata": {},
   "source": [
    "## 异构图"
   ]
  },
  {
   "cell_type": "markdown",
   "id": "340129da",
   "metadata": {},
   "source": [
    "相比同构图，异构图里可以有不同类型的节点和边。这些不同类型的节点和边具有独立的 ID 空间和特征。 例如在下图中，” 用户” 和” 游戏” 节点的 ID 都是从 0 开始的，而且两种节点具有不同的特征。"
   ]
  },
  {
   "attachments": {
    "image.png": {
     "image/png": "[encoded data removed]"
    }
   },
   "cell_type": "markdown",
   "id": "9f54d46e",
   "metadata": {},
   "source": [
    "![image.png](attachment:image.png)"
   ]
  },
  {
   "cell_type": "markdown",
   "id": "b7f26586",
   "metadata": {},
   "source": [
    "该图具有两种类型的节点 (“用户” 和” 游戏”) 和两种类型的边 (“关注” 和” 玩”)。"
   ]
  },
  {
   "cell_type": "markdown",
   "id": "d57b8bd2",
   "metadata": {},
   "source": [
    "- 个异构图由一系列子图构成\n",
    "- 一个子图对应一种关系。\n",
    "- 每个关系由一个字符串三元组 定义 (源节点类型, 边类型, 目标节点类型)"
   ]
  },
  {
   "cell_type": "code",
   "execution_count": 4,
   "id": "69a511a8",
   "metadata": {},
   "outputs": [],
   "source": [
    "import dgl\n",
    "import torch "
   ]
  },
  {
   "cell_type": "code",
   "execution_count": 5,
   "id": "62d0a838",
   "metadata": {},
   "outputs": [],
   "source": [
    "graph_data={('drug', 'interacts', 'drug'): (torch.tensor([0, 1]), torch.tensor([1, 2])),\n",
    "              ('drug', 'interacts', 'gene'): (torch.tensor([0, 1]), torch.tensor([2, 3])),\n",
    "            ('drug', 'treats', 'disease'): (torch.tensor([1]), torch.tensor([2]))\n",
    "           }"
   ]
  },
  {
   "cell_type": "code",
   "execution_count": 6,
   "id": "52c02baf",
   "metadata": {},
   "outputs": [],
   "source": [
    "g=dgl.heterograph(graph_data)"
   ]
  },
  {
   "cell_type": "code",
   "execution_count": 7,
   "id": "f319b68b",
   "metadata": {},
   "outputs": [
    {
     "data": {
      "text/plain": [
       "Graph(num_nodes={'disease': 3, 'drug': 3, 'gene': 4},\n",
       "      num_edges={('drug', 'interacts', 'drug'): 2, ('drug', 'interacts', 'gene'): 2, ('drug', 'treats', 'disease'): 1},\n",
       "      metagraph=[('drug', 'drug', 'interacts'), ('drug', 'gene', 'interacts'), ('drug', 'disease', 'treats')])"
      ]
     },
     "execution_count": 7,
     "metadata": {},
     "output_type": "execute_result"
    }
   ],
   "source": [
    "g"
   ]
  },
  {
   "cell_type": "code",
   "execution_count": 8,
   "id": "43e0728c",
   "metadata": {},
   "outputs": [
    {
     "data": {
      "text/plain": [
       "['disease', 'drug', 'gene']"
      ]
     },
     "execution_count": 8,
     "metadata": {},
     "output_type": "execute_result"
    }
   ],
   "source": [
    "g.ntypes"
   ]
  },
  {
   "cell_type": "code",
   "execution_count": 9,
   "id": "e5925a78",
   "metadata": {},
   "outputs": [
    {
     "data": {
      "text/plain": [
       "['interacts', 'interacts', 'treats']"
      ]
     },
     "execution_count": 9,
     "metadata": {},
     "output_type": "execute_result"
    }
   ],
   "source": [
    "g.etypes"
   ]
  },
  {
   "cell_type": "code",
   "execution_count": 10,
   "id": "37b2f6c3",
   "metadata": {},
   "outputs": [
    {
     "data": {
      "text/plain": [
       "[('drug', 'interacts', 'drug'),\n",
       " ('drug', 'interacts', 'gene'),\n",
       " ('drug', 'treats', 'disease')]"
      ]
     },
     "execution_count": 10,
     "metadata": {},
     "output_type": "execute_result"
    }
   ],
   "source": [
    "g.canonical_etypes"
   ]
  },
  {
   "cell_type": "code",
   "execution_count": 11,
   "id": "80678dcc",
   "metadata": {},
   "outputs": [
    {
     "data": {
      "text/plain": [
       "10"
      ]
     },
     "execution_count": 11,
     "metadata": {},
     "output_type": "execute_result"
    }
   ],
   "source": [
    "g.num_nodes()# 获取图中所有节点的数量"
   ]
  },
  {
   "cell_type": "code",
   "execution_count": 12,
   "id": "5dfe6fde",
   "metadata": {},
   "outputs": [
    {
     "data": {
      "text/plain": [
       "3"
      ]
     },
     "execution_count": 12,
     "metadata": {},
     "output_type": "execute_result"
    }
   ],
   "source": [
    "g.num_nodes('drug')# 获取drug节点的数量"
   ]
  },
  {
   "cell_type": "markdown",
   "id": "51b2e9ab",
   "metadata": {},
   "source": [
    "## 1.6在 GPU 上使用 DGLGraph"
   ]
  },
  {
   "cell_type": "markdown",
   "id": "82dd8b62",
   "metadata": {},
   "source": [
    "- 1. 在构造过程中传入两个 GPU 张量来创建 GPU 上的 DGLGraph \n",
    "- 2. to() API 将 DGLGraph 复制到 GPU"
   ]
  },
  {
   "cell_type": "markdown",
   "id": "345f81d0",
   "metadata": {},
   "source": [
    "法二"
   ]
  },
  {
   "cell_type": "code",
   "execution_count": 13,
   "id": "7627993f",
   "metadata": {},
   "outputs": [],
   "source": [
    "import dgl\n",
    "import torch as th\n",
    "u, v = th.tensor([0, 1, 2]), th.tensor([2, 3, 4])\n",
    "g = dgl.graph((u, v))\n",
    "g.ndata['x'] = th.randn(5, 3)   # 原始特征在CPU上"
   ]
  },
  {
   "cell_type": "code",
   "execution_count": 14,
   "id": "4e203db9",
   "metadata": {},
   "outputs": [
    {
     "data": {
      "text/plain": [
       "device(type='cpu')"
      ]
     },
     "execution_count": 14,
     "metadata": {},
     "output_type": "execute_result"
    }
   ],
   "source": [
    "g.device"
   ]
  },
  {
   "cell_type": "code",
   "execution_count": 15,
   "id": "ef535230",
   "metadata": {},
   "outputs": [
    {
     "data": {
      "text/plain": [
       "device(type='cuda', index=0)"
      ]
     },
     "execution_count": 15,
     "metadata": {},
     "output_type": "execute_result"
    }
   ],
   "source": [
    "cuda_g = g.to('cuda:0')         # 接受来自后端框架的任何设备对象\n",
    "cuda_g.device"
   ]
  },
  {
   "cell_type": "code",
   "execution_count": 16,
   "id": "2a3ff8bc",
   "metadata": {},
   "outputs": [
    {
     "data": {
      "text/plain": [
       "device(type='cuda', index=0)"
      ]
     },
     "execution_count": 16,
     "metadata": {},
     "output_type": "execute_result"
    }
   ],
   "source": [
    "cuda_g.ndata['x'].device "
   ]
  },
  {
   "cell_type": "markdown",
   "id": "4ed43ea1",
   "metadata": {},
   "source": [
    "法一"
   ]
  },
  {
   "cell_type": "code",
   "execution_count": 17,
   "id": "82aeb270",
   "metadata": {},
   "outputs": [
    {
     "data": {
      "text/plain": [
       "device(type='cuda', index=0)"
      ]
     },
     "execution_count": 17,
     "metadata": {},
     "output_type": "execute_result"
    }
   ],
   "source": [
    "# 由GPU张量构造的图也在GPU上\n",
    "u, v = u.to('cuda:0'), v.to('cuda:0')\n",
    "g = dgl.graph((u, v))\n",
    "g.device"
   ]
  },
  {
   "cell_type": "code",
   "execution_count": 18,
   "id": "4cbfdf53",
   "metadata": {},
   "outputs": [
    {
     "data": {
      "text/plain": [
       "tensor([0, 0, 1, 1, 1], device='cuda:0')"
      ]
     },
     "execution_count": 18,
     "metadata": {},
     "output_type": "execute_result"
    }
   ],
   "source": [
    "cuda_g.in_degrees()"
   ]
  },
  {
   "cell_type": "code",
   "execution_count": 19,
   "id": "bbde6fe9",
   "metadata": {},
   "outputs": [
    {
     "data": {
      "text/plain": [
       "(tensor([0, 1, 2], device='cuda:0'), tensor([2, 3, 4], device='cuda:0'))"
      ]
     },
     "execution_count": 19,
     "metadata": {},
     "output_type": "execute_result"
    }
   ],
   "source": [
    "cuda_g.in_edges([2, 3, 4])                          # 可以接受非张量类型的参数"
   ]
  }
 ],
 "metadata": {
  "kernelspec": {
   "display_name": "Python [conda env:pytorch1.0_gpu] *",
   "language": "python",
   "name": "conda-env-pytorch1.0_gpu-py"
  },
  "language_info": {
   "codemirror_mode": {
    "name": "ipython",
    "version": 3
   },
   "file_extension": ".py",
   "mimetype": "text/x-python",
   "name": "python",
   "nbconvert_exporter": "python",
   "pygments_lexer": "ipython3",
   "version": "3.7.13"
  }
 },
 "nbformat": 4,
 "nbformat_minor": 5
}
