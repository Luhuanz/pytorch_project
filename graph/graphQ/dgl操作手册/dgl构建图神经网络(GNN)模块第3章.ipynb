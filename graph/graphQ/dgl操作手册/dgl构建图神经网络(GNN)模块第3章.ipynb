{
 "cells": [
  {
   "cell_type": "markdown",
   "id": "8d8895e3",
   "metadata": {},
   "source": [
    "- DGL NN 模块是用户构建 GNN 模型的基本模块。\n",
    "- NN 模块的父类取决于后端所使用的深度神经网络框架。(对于 PyTorch 后端， 它应该继承 PyTorch 的 NN 模块)"
   ]
  },
  {
   "cell_type": "markdown",
   "id": "338f76a5",
   "metadata": {},
   "source": [
    "## DGL NN模块的构造函数"
   ]
  },
  {
   "cell_type": "markdown",
   "id": "65437d21",
   "metadata": {},
   "source": [
    "构造函数完成以下几个任务：\n",
    "\n",
    "1. 设置选项。\n",
    "\n",
    "2. 注册可学习的参数或者子模块。\n",
    "\n",
    "3. 初始化参数。"
   ]
  },
  {
   "cell_type": "code",
   "execution_count": 1,
   "id": "db9da627",
   "metadata": {},
   "outputs": [],
   "source": [
    "import torch.nn as nn\n",
    "\n",
    "from dgl.utils import expand_as_pair\n",
    "\n",
    "class SAGEConv(nn.Module):\n",
    "    def __init__(self,\n",
    "                 in_feats,\n",
    "                 out_feats,\n",
    "                 aggregator_type,\n",
    "                 bias=True,\n",
    "                 norm=None,\n",
    "                 activation=None):\n",
    "        super(SAGEConv, self).__init__()\n",
    "\n",
    "        self._in_src_feats, self._in_dst_feats = expand_as_pair(in_feats)\n",
    "        self._out_feats = out_feats\n",
    "        self._aggre_type = aggregator_type\n",
    "        self.norm = norm\n",
    "        self.activation = activation"
   ]
  },
  {
   "cell_type": "markdown",
   "id": "b3f0d6e7",
   "metadata": {},
   "source": [
    "- 对于图神经网络，输入维度可被分为源节点特征维度和目标节点特征维度。\n",
    "- 聚合类型 (self._aggre_type)。对于特定目标节点，聚合类型决定了如何聚合不同边上的信息。(mean ,sum ,max,min ,lstm)\n",
    "- norm 是用于特征归一化的可调用函数。在 SAGEConv 论文里，归一化可以是 L2 归一化: $hv=hv/∥hv∥_2$。"
   ]
  },
  {
   "cell_type": "code",
   "execution_count": null,
   "id": "f731d050",
   "metadata": {},
   "outputs": [],
   "source": [
    "# 聚合类型：mean、pool、lstm、gcn\n",
    "if aggregator_type not in ['mean', 'pool', 'lstm', 'gcn']:\n",
    "    raise KeyError('Aggregator type {} not supported.'.format(aggregator_type))\n",
    "if aggregator_type == 'pool':\n",
    "    self.fc_pool = nn.Linear(self._in_src_feats, self._in_src_feats)\n",
    "if aggregator_type == 'lstm':\n",
    "    self.lstm = nn.LSTM(self._in_src_feats, self._in_src_feats, batch_first=True)\n",
    "if aggregator_type in ['mean', 'pool', 'lstm']:\n",
    "    self.fc_self = nn.Linear(self._in_dst_feats, out_feats, bias=bias)\n",
    "self.fc_neigh = nn.Linear(self._in_src_feats, out_feats, bias=bias)\n",
    "self.reset_parameters()\n",
    "\n",
    "def reset_parameters(self):\n",
    "    \"\"\"重新初始化可学习的参数\"\"\"\n",
    "    gain = nn.init.calculate_gain('relu')\n",
    "    if self._aggre_type == 'pool':\n",
    "        nn.init.xavier_uniform_(self.fc_pool.weight, gain=gain)\n",
    "    if self._aggre_type == 'lstm':\n",
    "        self.lstm.reset_parameters()\n",
    "    if self._aggre_type != 'gcn':\n",
    "        nn.init.xavier_uniform_(self.fc_self.weight, gain=gain)\n",
    "    nn.init.xavier_uniform_(self.fc_neigh.weight, gain=gain)"
   ]
  },
  {
   "cell_type": "markdown",
   "id": "0046bfc6",
   "metadata": {},
   "source": [
    "## 3.2 编写 DGL NN 模块的 forward 函数"
   ]
  },
  {
   "cell_type": "markdown",
   "id": "bfaf4543",
   "metadata": {},
   "source": [
    "- forward() 函数执行了实际的消息传递和计算。\n",
    "- 与通常以张量为参数的 PyTorch NN 模块相比,DGL NN 模块额外增加了 1 个参数 dgl.DGLGraph\n",
    "- forward()函数一般操作\n",
    "  1. 检测输入图对象是否符合规范。\n",
    "  2. 消息传递和聚合。\n",
    "  3. 聚合后，更新特征作为输出"
   ]
  },
  {
   "cell_type": "markdown",
   "id": "ca7ac765",
   "metadata": {},
   "source": [
    "### 输入图对象的规范检测\n"
   ]
  },
  {
   "cell_type": "code",
   "execution_count": 2,
   "id": "42737484",
   "metadata": {},
   "outputs": [],
   "source": [
    "def forward(self, graph, feat):\n",
    "    with graph.local_scope():\n",
    "        # 指定图类型，然后根据图类型扩展输入特征\n",
    "        feat_src, feat_dst = expand_as_pair(feat, graph)"
   ]
  },
  {
   "cell_type": "markdown",
   "id": "c3aa9f92",
   "metadata": {},
   "source": [
    "SAGEConv数学公式"
   ]
  },
  {
   "cell_type": "markdown",
   "id": "f3dcd644",
   "metadata": {},
   "source": [
    "$$\n",
    "\\begin{gathered}\n",
    "h_{\\mathcal{N}(d s t)}^{(l+1)}=\\operatorname{aggregate}\\left(\\left\\{h_{s r c}^l, \\forall s r c \\in \\mathcal{N}(d s t)\\right\\}\\right) \\\\\n",
    "h_{d s t}^{(l+1)}=\\sigma\\left(W \\cdot \\operatorname{concat}\\left(h_{d s t}^l, h_{\\mathcal{N}(d s t)}^{l+1}\\right)+b\\right) \\\\\n",
    "h_{d s t}^{(l+1)}=\\operatorname{norm}\\left(h_{d s t}^{l+1}\\right)\n",
    "\\end{gathered}\n",
    "$$"
   ]
  },
  {
   "cell_type": "markdown",
   "id": "a8657d52",
   "metadata": {},
   "source": [
    "- 源节点特征 feat_src 和目标节点特征 feat_dst 需要根据图类型被指定。 \n",
    "-  feat 扩展为 feat_src 和 feat_dst 的函数是 expand_as_pair()。"
   ]
  },
  {
   "cell_type": "code",
   "execution_count": 3,
   "id": "fb118181",
   "metadata": {},
   "outputs": [],
   "source": [
    "def expand_as_pair(input_, g=None):\n",
    "    if isinstance(input_, tuple):\n",
    "        # 二分图的情况\n",
    "        return input_\n",
    "    elif g is not None and g.is_block:\n",
    "        # 子图块的情况\n",
    "        if isinstance(input_, Mapping):\n",
    "            input_dst = {\n",
    "                k: F.narrow_row(v, 0, g.number_of_dst_nodes(k))\n",
    "                for k, v in input_.items()}\n",
    "        else:\n",
    "            input_dst = F.narrow_row(input_, 0, g.number_of_dst_nodes())\n",
    "        return input_, input_dst\n",
    "    else:\n",
    "        # 同构图的情况\n",
    "        return input_, input_"
   ]
  },
  {
   "cell_type": "markdown",
   "id": "d885a2ea",
   "metadata": {},
   "source": [
    "### 消息传递和聚合"
   ]
  },
  {
   "cell_type": "code",
   "execution_count": null,
   "id": "4b33a4cd",
   "metadata": {},
   "outputs": [],
   "source": [
    "import dgl.function as fn\n",
    "import torch.nn.functional as F\n",
    "from dgl.utils import check_eq_shape\n",
    "\n",
    "if self._aggre_type == 'mean':\n",
    "    graph.srcdata['h'] = feat_src\n",
    "    graph.update_all(fn.copy_u('h', 'm'), fn.mean('m', 'neigh'))\n",
    "    h_neigh = graph.dstdata['neigh']\n",
    "elif self._aggre_type == 'gcn':\n",
    "    check_eq_shape(feat)\n",
    "    graph.srcdata['h'] = feat_src\n",
    "    graph.dstdata['h'] = feat_dst\n",
    "    graph.update_all(fn.copy_u('h', 'm'), fn.sum('m', 'neigh'))\n",
    "    # 除以入度\n",
    "    degs = graph.in_degrees().to(feat_dst)\n",
    "    h_neigh = (graph.dstdata['neigh'] + graph.dstdata['h']) / (degs.unsqueeze(-1) + 1)\n",
    "elif self._aggre_type == 'pool':\n",
    "    graph.srcdata['h'] = F.relu(self.fc_pool(feat_src))\n",
    "    graph.update_all(fn.copy_u('h', 'm'), fn.max('m', 'neigh'))\n",
    "    h_neigh = graph.dstdata['neigh']\n",
    "else:\n",
    "    raise KeyError('Aggregator type {} not recognized.'.format(self._aggre_type))\n",
    "\n",
    "# GraphSAGE中gcn聚合不需要fc_self\n",
    "if self._aggre_type == 'gcn':\n",
    "    rst = self.fc_neigh(h_neigh)\n",
    "else:\n",
    "    rst = self.fc_self(h_self) + self.fc_neigh(h_neigh)"
   ]
  },
  {
   "cell_type": "markdown",
   "id": "1eacbbfb",
   "metadata": {},
   "source": [
    "### 聚合后，更新特征作为输出"
   ]
  },
  {
   "cell_type": "code",
   "execution_count": null,
   "id": "42c03d7c",
   "metadata": {},
   "outputs": [],
   "source": [
    "# 激活函数\n",
    "if self.activation is not None:\n",
    "    rst = self.activation(rst)\n",
    "# 归一化\n",
    "if self.norm is not None:\n",
    "    rst = self.norm(rst)\n",
    "return rst"
   ]
  },
  {
   "cell_type": "markdown",
   "id": "eee33762",
   "metadata": {},
   "source": [
    "## 3.3 异构图上的 GraphConv 模块"
   ]
  },
  {
   "cell_type": "markdown",
   "id": "17e423bf",
   "metadata": {},
   "source": [
    "HeteroGraphConv，用于定义异构图上 GNN 模块。 实现逻辑与消息传递级别的 API multi_update_all() 相同"
   ]
  },
  {
   "cell_type": "markdown",
   "id": "afc0a6d2",
   "metadata": {},
   "source": [
    "- 每个关系上的 DGL NN 模块。\n",
    "\n",
    "- 聚合来自**不同关系**上的结果。"
   ]
  },
  {
   "cell_type": "markdown",
   "id": "d0d07469",
   "metadata": {},
   "source": [
    "$$\n",
    "h_{d s t}^{(l+1)}=\\underset{r \\in \\mathcal{R}, r_{d s F} t d s t}{A G G}\\left(f_r\\left(g_r, h_{r s r c}^l, h_{r d s t}^l\\right)\\right)\n",
    "$$"
   ]
  },
  {
   "cell_type": "markdown",
   "id": "4d0368a2",
   "metadata": {},
   "source": [
    "其中 $f_r$ 是对应每个关系 $r$ 的 NN 模块，AGG 是聚合函数。"
   ]
  },
  {
   "cell_type": "code",
   "execution_count": null,
   "id": "be968ff8",
   "metadata": {},
   "outputs": [],
   "source": [
    "import torch.nn as nn\n",
    "\n",
    "class HeteroGraphConv(nn.Module):\n",
    "    def __init__(self, mods, aggregate='sum'): #mod关系名，值为作用在该关系上 NN 模块对象。\n",
    "        super(HeteroGraphConv, self).__init__()\n",
    "        self.mods = nn.ModuleDict(mods)\n",
    "        if isinstance(aggregate, str):\n",
    "            # 获取聚合函数的内部函数\n",
    "            self.agg_fn = get_aggregate_fn(aggregate)\n",
    "        else:\n",
    "            self.agg_fn = aggregate\n",
    "    def forward(self, g, inputs, mod_args=None, mod_kwargs=None):#mod_args 和 mod_kwargs。 这 2 个字典与 self.mods 具有相同的键，值则为对应 NN 模块的自定义参数。\n",
    "    if mod_args is None:\n",
    "        mod_args = {}\n",
    "    if mod_kwargs is None:\n",
    "        mod_kwargs = {}\n",
    "    outputs = {nty : [] for nty in g.dsttypes}"
   ]
  }
 ],
 "metadata": {
  "kernelspec": {
   "display_name": "Python [conda env:pytorch1.0_gpu] *",
   "language": "python",
   "name": "conda-env-pytorch1.0_gpu-py"
  },
  "language_info": {
   "codemirror_mode": {
    "name": "ipython",
    "version": 3
   },
   "file_extension": ".py",
   "mimetype": "text/x-python",
   "name": "python",
   "nbconvert_exporter": "python",
   "pygments_lexer": "ipython3",
   "version": "3.7.13"
  }
 },
 "nbformat": 4,
 "nbformat_minor": 5
}
