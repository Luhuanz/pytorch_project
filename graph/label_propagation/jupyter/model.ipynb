{
 "cells": [
  {
   "cell_type": "code",
   "execution_count": 1,
   "id": "5de7ae74",
   "metadata": {},
   "outputs": [
    {
     "name": "stderr",
     "output_type": "stream",
     "text": [
      "Using backend: pytorch\n"
     ]
    }
   ],
   "source": [
    "import torch\n",
    "import torch.nn as nn\n",
    "import torch.nn.functional as F\n",
    "import dgl.function as fn"
   ]
  },
  {
   "cell_type": "code",
   "execution_count": 2,
   "id": "eb120fc4",
   "metadata": {},
   "outputs": [],
   "source": [
    "class LabelPropagation(nn.Module):\n",
    "    r\"\"\"\n",
    "\n",
    "    Description\n",
    "    -----------\n",
    "    Introduced in `Learning from Labeled and Unlabeled Data with Label Propagation <https://citeseerx.ist.psu.edu/viewdoc/download?doi=10.1.1.14.3864&rep=rep1&type=pdf>`_\n",
    "\n",
    "    .. math::\n",
    "        \\mathbf{Y}^{\\prime} = \\alpha \\cdot \\mathbf{D}^{-1/2} \\mathbf{A}\n",
    "        \\mathbf{D}^{-1/2} \\mathbf{Y} + (1 - \\alpha) \\mathbf{Y},\n",
    "\n",
    "    where unlabeled data is inferred by labeled data via propagation.\n",
    "\n",
    "    Parameters\n",
    "    ----------\n",
    "        num_layers: int\n",
    "            The number of propagations.\n",
    "        alpha: float\n",
    "            The :math:`\\alpha` coefficient.\n",
    "    \"\"\"\n",
    "    def __init__(self, num_layers, alpha):\n",
    "        super(LabelPropagation, self).__init__()\n",
    "\n",
    "        self.num_layers = num_layers\n",
    "        self.alpha = alpha\n",
    "    \n",
    "    # 计算公式: Y' = a D^{-0.5} A D^{-0.5} Y + (1-a) Y\n",
    "    @torch.no_grad()\n",
    "    def forward(self, g, labels, mask=None, post_step=lambda y: y.clamp_(0., 1.)):\n",
    "        with g.local_scope():\n",
    "            # one-hot化\n",
    "            if labels.dtype == torch.long:\n",
    "                labels = F.one_hot(labels.view(-1)).to(torch.float32)\n",
    "            \n",
    "            # 这里面mask是train_idx，只保留这些标签，其余要做test的标签全部置0\n",
    "            y = labels\n",
    "            if mask is not None:\n",
    "                y = torch.zeros_like(labels)\n",
    "                y[mask] = labels[mask]\n",
    "            \n",
    "            # 计算公式: Y' = a D^{-0.5} A D^{-0.5} Y + (1-a) Y\n",
    "            \n",
    "            # (1-a) Y\n",
    "            last = (1 - self.alpha) * y\n",
    "            # degs = D \n",
    "            degs = g.in_degrees().float().clamp(min=1)\n",
    "            # norm = D^{-0.5}\n",
    "            norm = torch.pow(degs, -0.5).to(labels.device).unsqueeze(1)\n",
    "\n",
    "            for _ in range(self.num_layers):\n",
    "                # Assume the graphs to be undirected\n",
    "                # D^{-0.5} Y\n",
    "                g.ndata['h'] = y * norm\n",
    "                # A D^{-0.5} Y\n",
    "                g.update_all(fn.copy_u('h', 'm'), fn.sum('m', 'h'))\n",
    "                # last = (1-a) Y\n",
    "                # g.ndata.pop('h') = A D^{-0.5} Y\n",
    "                # g.ndata.pop('h') * norm = D^{-0.5} A D^{-0.5} Y\n",
    "                y = last + self.alpha * g.ndata.pop('h') * norm\n",
    "                # post_step=lambda y: y.clamp_(0., 1.)\n",
    "                # [min, max] => 取值范围[0, 1]\n",
    "                y = post_step(y)\n",
    "                last = (1 - self.alpha) * y\n",
    "            \n",
    "            return y"
   ]
  },
  {
   "cell_type": "code",
   "execution_count": null,
   "id": "3431a100",
   "metadata": {},
   "outputs": [],
   "source": []
  },
  {
   "cell_type": "code",
   "execution_count": null,
   "id": "91e6bcdd",
   "metadata": {},
   "outputs": [],
   "source": []
  },
  {
   "cell_type": "code",
   "execution_count": null,
   "id": "b1e3e95a",
   "metadata": {},
   "outputs": [],
   "source": []
  }
 ],
 "metadata": {
  "kernelspec": {
   "display_name": "Python 3",
   "language": "python",
   "name": "python3"
  },
  "language_info": {
   "codemirror_mode": {
    "name": "ipython",
    "version": 3
   },
   "file_extension": ".py",
   "mimetype": "text/x-python",
   "name": "python",
   "nbconvert_exporter": "python",
   "pygments_lexer": "ipython3",
   "version": "3.7.6"
  }
 },
 "nbformat": 4,
 "nbformat_minor": 5
}
