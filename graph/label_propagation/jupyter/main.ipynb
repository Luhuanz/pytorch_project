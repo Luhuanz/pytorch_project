{
 "cells": [
  {
   "cell_type": "code",
   "execution_count": 1,
   "id": "9181c5aa",
   "metadata": {},
   "outputs": [
    {
     "name": "stderr",
     "output_type": "stream",
     "text": [
      "Using backend: pytorch\n"
     ]
    }
   ],
   "source": [
    "import argparse\n",
    "import torch\n",
    "import dgl\n",
    "from dgl.data import CoraGraphDataset, CiteseerGraphDataset, PubmedGraphDataset\n",
    "from model import LabelPropagation"
   ]
  },
  {
   "cell_type": "code",
   "execution_count": 2,
   "id": "871a3ca0",
   "metadata": {},
   "outputs": [],
   "source": [
    "def main():\n",
    "    # check cuda\n",
    "    device = f'cuda:{args.gpu}' if torch.cuda.is_available() and args.gpu >= 0 else 'cpu'\n",
    "\n",
    "    # load data\n",
    "    if args.dataset == 'Cora':\n",
    "        dataset = CoraGraphDataset()\n",
    "    elif args.dataset == 'Citeseer':\n",
    "        dataset = CiteseerGraphDataset()\n",
    "    elif args.dataset == 'Pubmed':\n",
    "        dataset = PubmedGraphDataset()\n",
    "    else:\n",
    "        raise ValueError('Dataset {} is invalid.'.format(args.dataset))\n",
    "    \n",
    "    g = dataset[0]\n",
    "    # A + I 操作 \n",
    "    g = dgl.add_self_loop(g)\n",
    "\n",
    "    labels = g.ndata.pop('label').to(device).long()\n",
    "\n",
    "    # load masks for train / test, valid is not used.\n",
    "    train_mask = g.ndata.pop('train_mask')\n",
    "    test_mask = g.ndata.pop('test_mask')\n",
    "    \n",
    "    # 得到非0的索引(index)\n",
    "    train_idx = torch.nonzero(train_mask, as_tuple=False).squeeze().to(device)\n",
    "    test_idx = torch.nonzero(test_mask, as_tuple=False).squeeze().to(device)\n",
    "\n",
    "    g = g.to(device)\n",
    "    \n",
    "    # label propagation\n",
    "    # 定义模型 \n",
    "    lp = LabelPropagation(args.num_layers, args.alpha)\n",
    "    # 调用模型\n",
    "    logits = lp(g, labels, mask=train_idx)\n",
    "\n",
    "    # 计算准确率\n",
    "    test_acc = torch.sum(logits[test_idx].argmax(dim=1) == labels[test_idx]).item() / len(test_idx)\n",
    "    print(\"Test Acc {:.4f}\".format(test_acc))"
   ]
  },
  {
   "cell_type": "code",
   "execution_count": 3,
   "id": "42a73c5f",
   "metadata": {},
   "outputs": [
    {
     "name": "stdout",
     "output_type": "stream",
     "text": [
      "Namespace(alpha=0.5, dataset='Cora', gpu=0, num_layers=10)\n",
      "  NumNodes: 2708\n",
      "  NumEdges: 10556\n",
      "  NumFeats: 1433\n",
      "  NumClasses: 7\n",
      "  NumTrainingSamples: 140\n",
      "  NumValidationSamples: 500\n",
      "  NumTestSamples: 1000\n",
      "Done loading data from cached files.\n",
      "Test Acc 0.6920\n"
     ]
    }
   ],
   "source": [
    "#if __name__ == '__main__':\n",
    "\"\"\"\n",
    "Label Propagation Hyperparameters\n",
    "\"\"\"\n",
    "parser = argparse.ArgumentParser(description='LP')\n",
    "parser.add_argument('--gpu', type=int, default=0)\n",
    "parser.add_argument('--dataset', type=str, default='Cora')\n",
    "parser.add_argument('--num-layers', type=int, default=10)\n",
    "parser.add_argument('--alpha', type=float, default=0.5)\n",
    "\n",
    "#args = parser.parse_args()\n",
    "args = parser.parse_args(args=[])\n",
    "print(args)\n",
    "\n",
    "main()"
   ]
  },
  {
   "cell_type": "code",
   "execution_count": null,
   "id": "80c7b67b",
   "metadata": {},
   "outputs": [],
   "source": []
  },
  {
   "cell_type": "code",
   "execution_count": null,
   "id": "3f48aee3",
   "metadata": {},
   "outputs": [],
   "source": []
  },
  {
   "cell_type": "code",
   "execution_count": null,
   "id": "8b60513b",
   "metadata": {},
   "outputs": [],
   "source": []
  },
  {
   "cell_type": "code",
   "execution_count": null,
   "id": "732903f8",
   "metadata": {},
   "outputs": [],
   "source": []
  }
 ],
 "metadata": {
  "kernelspec": {
   "display_name": "Python 3",
   "language": "python",
   "name": "python3"
  },
  "language_info": {
   "codemirror_mode": {
    "name": "ipython",
    "version": 3
   },
   "file_extension": ".py",
   "mimetype": "text/x-python",
   "name": "python",
   "nbconvert_exporter": "python",
   "pygments_lexer": "ipython3",
   "version": "3.7.6"
  }
 },
 "nbformat": 4,
 "nbformat_minor": 5
}
